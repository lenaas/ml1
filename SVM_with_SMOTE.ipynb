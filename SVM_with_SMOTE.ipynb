{
 "cells": [
  {
   "cell_type": "code",
   "execution_count": 41,
   "id": "f0c5c50d-ad8b-43a5-9df1-ac450ea237d3",
   "metadata": {},
   "outputs": [],
   "source": [
    "import pandas as pd\n",
    "import numpy as np\n",
    "import matplotlib\n",
    "import matplotlib.pyplot as plt\n",
    "import seaborn as sns \n",
    "import plotly.express as px\n",
    "from sklearn.preprocessing import MinMaxScaler\n",
    "from sklearn.svm import SVC\n",
    "from sklearn import metrics\n",
    "from sklearn.metrics import accuracy_score, recall_score, precision_score, confusion_matrix\n",
    "from sklearn.model_selection import cross_val_score, train_test_split, GridSearchCV, cross_validate\n",
    "import statistics\n",
    "from imblearn.over_sampling import SMOTE\n",
    "from collections import Counter\n",
    "from sklearn.metrics import classification_report, RocCurveDisplay\n",
    "from joblib import dump, load"
   ]
  },
  {
   "cell_type": "code",
   "execution_count": 2,
   "id": "fbfcc06a-180a-4f39-918a-25d47c219312",
   "metadata": {},
   "outputs": [],
   "source": [
    "# Einlesen der Daten\n",
    "df = pd.read_csv(\"train.csv\")\n",
    "\n",
    "# Spalte Index nicht aussagekräftig --> Wird gelöscht\n",
    "df = df.drop(columns=\"index\")\n",
    "\n",
    "# Skalierung von CO2, da rechtsschiefe Verteilung + von allen anderen, da SVM sensitiv auf Skalierung reagiert\n",
    "scaler= MinMaxScaler()\n",
    "df[[\"Temperatur\",\"Luftfeuchtigkeit\",\"CO2\",\"Wassergehalt\"]]=scaler.fit_transform(df[[\"Temperatur\",\"Luftfeuchtigkeit\",\"CO2\",\"Wassergehalt\"]])\n",
    "\n",
    "# Auffüllen NaN-Werte\n",
    "df.fillna(method=\"ffill\", inplace= True)\n",
    "\n",
    "# Operationen auf Datumsspalte:\n",
    "# Anlegen der Spalte Tag und Uhrzeit und Löschen von \"Datum\", da es nicht sinnführend bei Operationen ist\n",
    "df[\"Datum\"]=pd.to_datetime(df[\"Datum\"])\n",
    "df[\"Tag\"]=df[\"Datum\"].dt.day.astype(str)\n",
    "df[\"Uhrzeit\"]=df[\"Datum\"].dt.hour.astype(str)\n",
    "df_modified = df.drop(columns=\"Datum\",axis=1)\n",
    "\n",
    "# Teile Daten in Features und Label auf\n",
    "X = df_modified.drop(columns=[\"Anwesenheit\"])\n",
    "y = df_modified[[\"Anwesenheit\"]]\n",
    "\n",
    "# Wird benötigt, um richtige Shape zu haben für späteres Vorgehen\n",
    "y = np.ravel(y)\n"
   ]
  },
  {
   "cell_type": "code",
   "execution_count": 3,
   "id": "9001bc09-3801-4f25-9d9c-f6b654ea2105",
   "metadata": {},
   "outputs": [
    {
     "data": {
      "text/plain": [
       "(14241,)"
      ]
     },
     "execution_count": 3,
     "metadata": {},
     "output_type": "execute_result"
    }
   ],
   "source": [
    "y.shape"
   ]
  },
  {
   "cell_type": "markdown",
   "id": "071d4f78-8d04-49a9-beaf-144202d6ce8c",
   "metadata": {},
   "source": [
    "# Training auf Ausschnitt des Datensatzes, da lange Laufzeit"
   ]
  },
  {
   "cell_type": "code",
   "execution_count": 4,
   "id": "e2340708-eb11-40e5-a300-e897ed07455f",
   "metadata": {},
   "outputs": [],
   "source": [
    "# Training auf 10 % des Datensatzes, da Laufzeit sonst zu lange\n",
    "df_sampled = df_modified.sample(frac=0.1)\n",
    "\n",
    "# Teile Daten in Features und Label auf\n",
    "X_sampled = df_sampled.drop(columns=[\"Anwesenheit\"],axis=1)\n",
    "y_sampled = df_sampled[[\"Anwesenheit\"]]\n",
    "\n",
    "# Wieder in richtige Shape für später bringen\n",
    "y_sampled = np.ravel(y_sampled)"
   ]
  },
  {
   "cell_type": "code",
   "execution_count": 5,
   "id": "569b8ec5-7701-456d-9418-0e5feda71527",
   "metadata": {},
   "outputs": [],
   "source": [
    "# Training und Testset der sampled data \n",
    "# Auf Trainingsset wird CV und Training angewandt, auf Testset wird dann überprüft\n",
    "X_s_train, X_s_test, y_s_train, y_s_test = train_test_split(X_sampled, y_sampled, test_size=0.2, random_state=42)"
   ]
  },
  {
   "cell_type": "code",
   "execution_count": 6,
   "id": "77a11e93-b32f-4812-afe7-d237f769a6f7",
   "metadata": {},
   "outputs": [
    {
     "name": "stdout",
     "output_type": "stream",
     "text": [
      "{'C': 10, 'gamma': 0.1, 'kernel': 'rbf'}\n",
      "0.946271186440678\n",
      "              precision    recall  f1-score   support\n",
      "\n",
      "           0       0.97      0.95      0.96       209\n",
      "           1       0.88      0.92      0.90        76\n",
      "\n",
      "    accuracy                           0.94       285\n",
      "   macro avg       0.92      0.94      0.93       285\n",
      "weighted avg       0.95      0.94      0.94       285\n",
      "\n"
     ]
    }
   ],
   "source": [
    "# GridSearch ohne SMOTE zur Bestimmung der Parameter, welche den höchsten Recall vorbringen\n",
    "\n",
    "# Auswahlmöglichkeit an möglichen Kombinationen der Parameter, blinde Auswahl\n",
    "tuned_parameters = [\n",
    "    {\"kernel\": [\"rbf\"], \"gamma\": [0.1, 1], \"C\": [1, 10]},\n",
    "    {\"kernel\": [\"linear\"], \"C\": [1, 10]},\n",
    "    {\"kernel\": [\"poly\"],\"C\": [1, 10]}\n",
    "]\n",
    "\n",
    "# Nun: GridSearchCV, sucht mittels CV und eben GridSearch die Kombination der Parameter, welche den höchsten Recall vorbringt\n",
    "# Gehe hauptsächlich auf Recall, da keine MA frieren sollen\n",
    "clf_sampled = GridSearchCV(SVC(), tuned_parameters, scoring=\"recall\")\n",
    "\n",
    "# Fitten der SVC auf den Trainingsdaten der sampled data\n",
    "clf_sampled.fit(X_s_train, y_s_train)\n",
    "\n",
    "# Ausgabe der Parameter, welche den höchsten Recall erzeugen\n",
    "best_parameters_sampled = clf_sampled.best_params_\n",
    "print(best_parameters_sampled)\n",
    "\n",
    "# Ausgabe des besten Recall-Ergebnisses\n",
    "best_result = clf_sampled.best_score_\n",
    "print(best_result)\n",
    "\n",
    "# Vorhersage auf Testset\n",
    "y_s_true, y_s_pred = y_s_test, clf_sampled.predict(X_s_test)\n",
    "\n",
    "# Ausgabe eines Classification Reports, zeigt Performance auf Testset\n",
    "print(classification_report(y_s_true, y_s_pred))"
   ]
  },
  {
   "cell_type": "code",
   "execution_count": 7,
   "id": "6a99ddae-3779-4aea-8943-c17649900fe8",
   "metadata": {},
   "outputs": [
    {
     "name": "stdout",
     "output_type": "stream",
     "text": [
      "{'C': 1, 'gamma': 0.1, 'kernel': 'rbf'}\n",
      "0.9894736842105264\n",
      "              precision    recall  f1-score   support\n",
      "\n",
      "           0       0.98      0.92      0.95       222\n",
      "           1       0.78      0.94      0.85        63\n",
      "\n",
      "    accuracy                           0.93       285\n",
      "   macro avg       0.88      0.93      0.90       285\n",
      "weighted avg       0.94      0.93      0.93       285\n",
      "\n"
     ]
    }
   ],
   "source": [
    "# GridSearch mit vorherigem SMOTE\n",
    "# SMOTE wird angewandt, da eine ungleich große Verteilung der Daten vorliegt\n",
    "# Habe dreimal so viele Datenpunkte, in welchen Anwesenheit = 0 ist, als Anwesenheit =1\n",
    "# Deswegen: Auswahl einer Oversampling-Strategie, hierbei Entscheidung für SMOTE anstatt für Verdreifachen der Datenpunkte mit Anwesenheit = 1\n",
    "\n",
    "# Geht irgendwie nicht, wenn es explizit definiert wird, also Definition im Nachfolgenden\n",
    "# SMOTE = SMOTE()\n",
    "\n",
    "# Transformation wird auf Sampled Data angewandt\n",
    "X_s_train_SMOTE, y_s_train_SMOTE = SMOTE().fit_resample(X_s_train, y_s_train)\n",
    "\n",
    "# Willkürliche Auswahl an möglichen Kombinationen, wie oben\n",
    "tuned_parameters = [\n",
    "    {\"kernel\": [\"rbf\"], \"gamma\": [0.1, 1], \"C\": [1, 10]},\n",
    "    {\"kernel\": [\"linear\"], \"C\": [1, 10]},\n",
    "    {\"kernel\": [\"poly\"],\"C\": [1, 10]}\n",
    "]\n",
    "\n",
    "\n",
    "# Gehe hauptsächlich auf Recall, da keine MA frieren sollen\n",
    "# GridSearchCV, um die besten Hyperparameter zu finden, wodurch Recall maximal ist\n",
    "clf_SMOTE_sampled = GridSearchCV(SVC(), tuned_parameters, scoring=\"recall\")\n",
    "\n",
    "# Trainiere SVM\n",
    "clf_SMOTE_sampled.fit(X_s_train_SMOTE, y_s_train_SMOTE)\n",
    "\n",
    "# Ausgabe der Parameter, mit denen Recall am höchsten ist\n",
    "best_parameters_sampled_SMOTE = clf_SMOTE_sampled.best_params_\n",
    "print(best_parameters_sampled_SMOTE)\n",
    "\n",
    "best_result_SMOTE = clf_SMOTE_sampled.best_score_\n",
    "print(best_result_SMOTE)\n",
    "\n",
    "y_s_true_SMOTE, y_s_pred_SMOTE = y_s_test, clf_SMOTE_sampled.predict(X_s_test)\n",
    "print(classification_report(y_s_true_SMOTE, y_s_pred_SMOTE))\n",
    "\n",
    "# Mit SMOTE: Bekomme besseres Ergebnis als ohne!\n",
    "# Resultat: SMOTE muss auf ganzem Datensatz angewandt werden."
   ]
  },
  {
   "cell_type": "markdown",
   "id": "40b6f04d-51bb-4aff-9467-27b7d0ad0b2e",
   "metadata": {},
   "source": [
    "# Training auf ganzem Datensatz"
   ]
  },
  {
   "cell_type": "code",
   "execution_count": 6,
   "id": "571d49ab-d0d6-4593-b1f1-96f8375b19bf",
   "metadata": {},
   "outputs": [],
   "source": [
    "# Split in Trainings- und Testset\n",
    "X_train, X_test, y_train, y_test = train_test_split(X, y, test_size=0.2, random_state=42)"
   ]
  },
  {
   "cell_type": "code",
   "execution_count": 31,
   "id": "08c5294d-de36-48ba-8f8d-ed3132d0fbcd",
   "metadata": {},
   "outputs": [
    {
     "data": {
      "text/plain": [
       "(2849, 6)"
      ]
     },
     "execution_count": 31,
     "metadata": {},
     "output_type": "execute_result"
    }
   ],
   "source": [
    "X_test.shape"
   ]
  },
  {
   "cell_type": "markdown",
   "id": "58b0c24f-97d6-4de7-b446-aa276a2db1e4",
   "metadata": {},
   "source": [
    "## Oversampling mit SMOTE"
   ]
  },
  {
   "cell_type": "code",
   "execution_count": 11,
   "id": "7a7a2eeb-4706-4e43-b0f6-8e173dea38f4",
   "metadata": {},
   "outputs": [
    {
     "name": "stdout",
     "output_type": "stream",
     "text": [
      "After oversampling:  Counter({1: 8472, 0: 8472})\n"
     ]
    }
   ],
   "source": [
    "# SMOTE, um ungleiche Verteilung der Datenpunkte auszugleichen\n",
    "SMOTE = SMOTE()\n",
    "\n",
    "# Transformieren der Trainingsdaten mit SMOTE\n",
    "X_train_SMOTE, y_train_SMOTE = SMOTE.fit_resample(X_train, y_train)\n",
    "\n",
    "# Sehen, was Ergebnis ist\n",
    "print(\"After oversampling: \",Counter(y_train_SMOTE))"
   ]
  },
  {
   "cell_type": "markdown",
   "id": "70a17140-6c23-4f61-81ff-811659075df1",
   "metadata": {},
   "source": [
    "## Hyperparameter Suche mit exhaustive GridSearchCV - rein auf recall fokussiert"
   ]
  },
  {
   "cell_type": "code",
   "execution_count": 11,
   "id": "36af344c-14cf-457c-a674-226908ae3188",
   "metadata": {},
   "outputs": [
    {
     "name": "stdout",
     "output_type": "stream",
     "text": [
      "{'C': 1000, 'gamma': 1, 'kernel': 'rbf'}\n",
      "0.9924460093406191\n",
      "              precision    recall  f1-score   support\n",
      "\n",
      "           0       1.00      0.99      0.99      2116\n",
      "           1       0.97      0.99      0.98       733\n",
      "\n",
      "    accuracy                           0.99      2849\n",
      "   macro avg       0.98      0.99      0.99      2849\n",
      "weighted avg       0.99      0.99      0.99      2849\n",
      "\n"
     ]
    }
   ],
   "source": [
    "# Nun: Hyperparametersuche, beeinflusst durch obrige Ergebnisse und intensivere Betrachtung von Kernel rbf\n",
    "tuned_parameters = [\n",
    "    {\"kernel\": [\"rbf\"], \"gamma\": [0.1,0.5, 1], \"C\": [1, 10,100,1000]},\n",
    "    #{\"kernel\": [\"linear\"], \"C\": [1, 10]},\n",
    "    #{\"kernel\": [\"poly\"],\"C\": [1, 10]}\n",
    "]\n",
    "\n",
    "\n",
    "# Suchen der Parameter, mit denen Recall maximal wird\n",
    "clf_SMOTE = GridSearchCV(SVC(), tuned_parameters, scoring=\"recall\")\n",
    "\n",
    "# Anwenden auf Modell\n",
    "clf_SMOTE.fit(X_train_SMOTE, y_train_SMOTE)\n",
    "\n",
    "# Ausgabe der Parameter, mit denen Recall maximal wird\n",
    "best_parameters = clf_SMOTE.best_params_\n",
    "print(best_parameters)\n",
    "\n",
    "# Recall Wert für die ausgesuchte Parameterkombination ausgeben\n",
    "best_result = clf_SMOTE.best_score_\n",
    "print(best_result)\n",
    "\n",
    "# Predictions\n",
    "y_true, y_pred = y_test, clf_SMOTE.predict(X_test)\n",
    "\n",
    "# Performance auf Testset\n",
    "print(classification_report(y_true, y_pred))"
   ]
  },
  {
   "cell_type": "markdown",
   "id": "bfa584a9-b661-4263-995a-7dc0faef8f7d",
   "metadata": {},
   "source": [
    "## ROC Kurve für beste Parameter "
   ]
  },
  {
   "cell_type": "code",
   "execution_count": 12,
   "id": "37a9b6e5-af94-4ea2-be4b-b105b40accaf",
   "metadata": {},
   "outputs": [
    {
     "data": {
      "text/plain": [
       "['svm.joblib']"
      ]
     },
     "execution_count": 12,
     "metadata": {},
     "output_type": "execute_result"
    }
   ],
   "source": [
    "# Speichern des Modells, da es sehr lange geladen hat\n",
    "dump(clf_SMOTE, 'svm.joblib') "
   ]
  },
  {
   "cell_type": "code",
   "execution_count": 13,
   "id": "25c12f1d-bdac-4ff7-9186-a646aa4f99cc",
   "metadata": {},
   "outputs": [],
   "source": [
    "# Nutzen des Modells\n",
    "clf_SMOTE = load('svm.joblib') "
   ]
  },
  {
   "cell_type": "code",
   "execution_count": 53,
   "id": "62e55894-8a64-4a45-9248-cf4d49f83d26",
   "metadata": {},
   "outputs": [],
   "source": [
    "# Training des Modells mit den herausgefundenen Parametern\n",
    "# probability = True, da sonst später predict_proba() nicht funktioniert\n",
    "\n",
    "clf_best = SVC(C=1000, gamma=1,kernel=\"rbf\", probability=True)\n",
    "clf_best.fit(X_train_SMOTE, y_train_SMOTE)\n",
    "y_pred_best = clf_best.predict(X_test)"
   ]
  },
  {
   "cell_type": "code",
   "execution_count": 15,
   "id": "3ddda91e-df6a-4843-befc-e6ffe5843ebf",
   "metadata": {},
   "outputs": [
    {
     "data": {
      "text/plain": [
       "['final_svc.joblib']"
      ]
     },
     "execution_count": 15,
     "metadata": {},
     "output_type": "execute_result"
    }
   ],
   "source": [
    "dump(clf_best,'final_svc.joblib')"
   ]
  },
  {
   "cell_type": "code",
   "execution_count": 16,
   "id": "6537e952-1410-403b-9141-a56c8e182266",
   "metadata": {},
   "outputs": [],
   "source": [
    "clf_best = load('final_svc.joblib')"
   ]
  },
  {
   "cell_type": "code",
   "execution_count": 17,
   "id": "fe7b8880-8c89-45b3-bafd-422477050c87",
   "metadata": {},
   "outputs": [
    {
     "data": {
      "image/png": "[encoded data removed]",
      "text/plain": [
       "<Figure size 432x288 with 1 Axes>"
      ]
     },
     "metadata": {
      "needs_background": "light"
     },
     "output_type": "display_data"
    }
   ],
   "source": [
    "# ROC-Kurve plotten\n",
    "svc_disp = RocCurveDisplay.from_estimator(clf_best, X_test, y_test)\n",
    "plt.show()\n"
   ]
  },
  {
   "cell_type": "markdown",
   "id": "c303de9c-52ef-40e3-8c51-6179be0b20a8",
   "metadata": {},
   "source": [
    "# Vorhersage auf test.csv"
   ]
  },
  {
   "cell_type": "markdown",
   "id": "f18a4b7c-ce38-4a3f-8893-d8bf7843c6d2",
   "metadata": {
    "tags": []
   },
   "source": [
    "## Reproduktion aller Schritte zum Vorbereiten der Daten"
   ]
  },
  {
   "cell_type": "code",
   "execution_count": 7,
   "id": "b262e06e-82fc-4957-9fb5-ede82ff53751",
   "metadata": {},
   "outputs": [
    {
     "data": {
      "text/html": [
       "<div>\n",
       "<style scoped>\n",
       "    .dataframe tbody tr th:only-of-type {\n",
       "        vertical-align: middle;\n",
       "    }\n",
       "\n",
       "    .dataframe tbody tr th {\n",
       "        vertical-align: top;\n",
       "    }\n",
       "\n",
       "    .dataframe thead th {\n",
       "        text-align: right;\n",
       "    }\n",
       "</style>\n",
       "<table border=\"1\" class=\"dataframe\">\n",
       "  <thead>\n",
       "    <tr style=\"text-align: right;\">\n",
       "      <th></th>\n",
       "      <th>Temperatur</th>\n",
       "      <th>Luftfeuchtigkeit</th>\n",
       "      <th>CO2</th>\n",
       "      <th>Wassergehalt</th>\n",
       "      <th>Tag</th>\n",
       "      <th>Uhrzeit</th>\n",
       "    </tr>\n",
       "  </thead>\n",
       "  <tbody>\n",
       "    <tr>\n",
       "      <th>0</th>\n",
       "      <td>0.145119</td>\n",
       "      <td>0.608481</td>\n",
       "      <td>0.008998</td>\n",
       "      <td>0.586332</td>\n",
       "      <td>4</td>\n",
       "      <td>0</td>\n",
       "    </tr>\n",
       "    <tr>\n",
       "      <th>1</th>\n",
       "      <td>0.140721</td>\n",
       "      <td>0.613851</td>\n",
       "      <td>0.007945</td>\n",
       "      <td>0.589491</td>\n",
       "      <td>4</td>\n",
       "      <td>0</td>\n",
       "    </tr>\n",
       "    <tr>\n",
       "      <th>2</th>\n",
       "      <td>0.131926</td>\n",
       "      <td>0.611440</td>\n",
       "      <td>0.008051</td>\n",
       "      <td>0.582376</td>\n",
       "      <td>4</td>\n",
       "      <td>0</td>\n",
       "    </tr>\n",
       "    <tr>\n",
       "      <th>3</th>\n",
       "      <td>0.131926</td>\n",
       "      <td>0.615056</td>\n",
       "      <td>0.007419</td>\n",
       "      <td>0.586062</td>\n",
       "      <td>4</td>\n",
       "      <td>0</td>\n",
       "    </tr>\n",
       "    <tr>\n",
       "      <th>4</th>\n",
       "      <td>0.131926</td>\n",
       "      <td>0.613851</td>\n",
       "      <td>0.007524</td>\n",
       "      <td>0.584833</td>\n",
       "      <td>4</td>\n",
       "      <td>0</td>\n",
       "    </tr>\n",
       "    <tr>\n",
       "      <th>...</th>\n",
       "      <td>...</td>\n",
       "      <td>...</td>\n",
       "      <td>...</td>\n",
       "      <td>...</td>\n",
       "      <td>...</td>\n",
       "      <td>...</td>\n",
       "    </tr>\n",
       "    <tr>\n",
       "      <th>6314</th>\n",
       "      <td>0.346966</td>\n",
       "      <td>0.225345</td>\n",
       "      <td>0.639305</td>\n",
       "      <td>0.284980</td>\n",
       "      <td>8</td>\n",
       "      <td>9</td>\n",
       "    </tr>\n",
       "    <tr>\n",
       "      <th>6315</th>\n",
       "      <td>0.360158</td>\n",
       "      <td>0.227153</td>\n",
       "      <td>0.645146</td>\n",
       "      <td>0.292929</td>\n",
       "      <td>8</td>\n",
       "      <td>9</td>\n",
       "    </tr>\n",
       "    <tr>\n",
       "      <th>6316</th>\n",
       "      <td>0.366755</td>\n",
       "      <td>0.227153</td>\n",
       "      <td>0.649566</td>\n",
       "      <td>0.295942</td>\n",
       "      <td>8</td>\n",
       "      <td>9</td>\n",
       "    </tr>\n",
       "    <tr>\n",
       "      <th>6317</th>\n",
       "      <td>0.366755</td>\n",
       "      <td>0.245398</td>\n",
       "      <td>0.719337</td>\n",
       "      <td>0.315553</td>\n",
       "      <td>8</td>\n",
       "      <td>9</td>\n",
       "    </tr>\n",
       "    <tr>\n",
       "      <th>6318</th>\n",
       "      <td>0.395778</td>\n",
       "      <td>0.250493</td>\n",
       "      <td>0.865825</td>\n",
       "      <td>0.334511</td>\n",
       "      <td>8</td>\n",
       "      <td>9</td>\n",
       "    </tr>\n",
       "  </tbody>\n",
       "</table>\n",
       "<p>6319 rows × 6 columns</p>\n",
       "</div>"
      ],
      "text/plain": [
       "      Temperatur  Luftfeuchtigkeit       CO2  Wassergehalt Tag Uhrzeit\n",
       "0       0.145119          0.608481  0.008998      0.586332   4       0\n",
       "1       0.140721          0.613851  0.007945      0.589491   4       0\n",
       "2       0.131926          0.611440  0.008051      0.582376   4       0\n",
       "3       0.131926          0.615056  0.007419      0.586062   4       0\n",
       "4       0.131926          0.613851  0.007524      0.584833   4       0\n",
       "...          ...               ...       ...           ...  ..     ...\n",
       "6314    0.346966          0.225345  0.639305      0.284980   8       9\n",
       "6315    0.360158          0.227153  0.645146      0.292929   8       9\n",
       "6316    0.366755          0.227153  0.649566      0.295942   8       9\n",
       "6317    0.366755          0.245398  0.719337      0.315553   8       9\n",
       "6318    0.395778          0.250493  0.865825      0.334511   8       9\n",
       "\n",
       "[6319 rows x 6 columns]"
      ]
     },
     "execution_count": 7,
     "metadata": {},
     "output_type": "execute_result"
    }
   ],
   "source": [
    "df_test = pd.read_csv(\"test.csv\")\n",
    "df_test = df_test.drop(columns=\"index\")\n",
    "    \n",
    "scaler= MinMaxScaler()\n",
    "df_test[[\"Temperatur\",\"Luftfeuchtigkeit\",\"CO2\",\"Wassergehalt\"]]=scaler.fit_transform(df_test[[\"Temperatur\",\"Luftfeuchtigkeit\",\"CO2\",\"Wassergehalt\"]])\n",
    "df_test.fillna(method=\"ffill\", inplace= True)\n",
    "    \n",
    "df_test[\"Datum\"]=pd.to_datetime(df_test[\"Datum\"])\n",
    "df_test[\"Tag\"]=df_test[\"Datum\"].dt.day.astype(str)\n",
    "df_test[\"Uhrzeit\"]=df_test[\"Datum\"].dt.hour.astype(str)\n",
    "df_test = df_test.drop(columns=\"Datum\",axis=1)\n",
    "df_test"
   ]
  },
  {
   "cell_type": "code",
   "execution_count": 48,
   "id": "b478d9b9-af0b-406d-ba5b-6aeac376b4ec",
   "metadata": {},
   "outputs": [
    {
     "data": {
      "text/html": [
       "<div>\n",
       "<style scoped>\n",
       "    .dataframe tbody tr th:only-of-type {\n",
       "        vertical-align: middle;\n",
       "    }\n",
       "\n",
       "    .dataframe tbody tr th {\n",
       "        vertical-align: top;\n",
       "    }\n",
       "\n",
       "    .dataframe thead th {\n",
       "        text-align: right;\n",
       "    }\n",
       "</style>\n",
       "<table border=\"1\" class=\"dataframe\">\n",
       "  <thead>\n",
       "    <tr style=\"text-align: right;\">\n",
       "      <th></th>\n",
       "      <th>Vorhergesagte_Anwesenheit</th>\n",
       "    </tr>\n",
       "  </thead>\n",
       "  <tbody>\n",
       "    <tr>\n",
       "      <th>0</th>\n",
       "      <td>0</td>\n",
       "    </tr>\n",
       "    <tr>\n",
       "      <th>1</th>\n",
       "      <td>0</td>\n",
       "    </tr>\n",
       "    <tr>\n",
       "      <th>2</th>\n",
       "      <td>0</td>\n",
       "    </tr>\n",
       "    <tr>\n",
       "      <th>3</th>\n",
       "      <td>0</td>\n",
       "    </tr>\n",
       "    <tr>\n",
       "      <th>4</th>\n",
       "      <td>0</td>\n",
       "    </tr>\n",
       "    <tr>\n",
       "      <th>...</th>\n",
       "      <td>...</td>\n",
       "    </tr>\n",
       "    <tr>\n",
       "      <th>6314</th>\n",
       "      <td>0</td>\n",
       "    </tr>\n",
       "    <tr>\n",
       "      <th>6315</th>\n",
       "      <td>0</td>\n",
       "    </tr>\n",
       "    <tr>\n",
       "      <th>6316</th>\n",
       "      <td>0</td>\n",
       "    </tr>\n",
       "    <tr>\n",
       "      <th>6317</th>\n",
       "      <td>0</td>\n",
       "    </tr>\n",
       "    <tr>\n",
       "      <th>6318</th>\n",
       "      <td>0</td>\n",
       "    </tr>\n",
       "  </tbody>\n",
       "</table>\n",
       "<p>6319 rows × 1 columns</p>\n",
       "</div>"
      ],
      "text/plain": [
       "      Vorhergesagte_Anwesenheit\n",
       "0                             0\n",
       "1                             0\n",
       "2                             0\n",
       "3                             0\n",
       "4                             0\n",
       "...                         ...\n",
       "6314                          0\n",
       "6315                          0\n",
       "6316                          0\n",
       "6317                          0\n",
       "6318                          0\n",
       "\n",
       "[6319 rows x 1 columns]"
      ]
     },
     "execution_count": 48,
     "metadata": {},
     "output_type": "execute_result"
    }
   ],
   "source": [
    "# Prediction\n",
    "test_pred = clf_SMOTE.predict(df_test)\n",
    "df_pred = pd.DataFrame(test_pred)\n",
    "df_pred = df_pred.rename(columns={0:\"Vorhergesagte_Anwesenheit\"})\n",
    "df_pred"
   ]
  },
  {
   "cell_type": "markdown",
   "id": "2af44e10-e582-4467-8ebb-15a894318245",
   "metadata": {},
   "source": [
    "# Vorhersagen auf Test-Set des ganzen Datensatzes zum späteren Zusammenführen in einer ROC-Kurve mit Random Forests und LogisticRegression"
   ]
  },
  {
   "cell_type": "code",
   "execution_count": 17,
   "id": "18e60e2a-68a0-4c8f-8266-6e61a03050b1",
   "metadata": {},
   "outputs": [],
   "source": [
    "probs = clf_best.predict_proba(X_test)\n",
    "preds = []\n",
    "for threshold in np.arange(0, 1, 0.01):\n",
    "    preds.append(probs > threshold)"
   ]
  },
  {
   "cell_type": "code",
   "execution_count": 32,
   "id": "be08c73c-ebf2-467e-a85f-14034bcfa580",
   "metadata": {},
   "outputs": [
    {
     "data": {
      "text/plain": [
       "(2849, 6)"
      ]
     },
     "execution_count": 32,
     "metadata": {},
     "output_type": "execute_result"
    }
   ],
   "source": [
    "X_test.shape"
   ]
  },
  {
   "cell_type": "code",
   "execution_count": 33,
   "id": "8b3d8b22-5f25-4d33-b2c4-5719806fd3b5",
   "metadata": {},
   "outputs": [
    {
     "data": {
      "text/plain": [
       "(2849,)"
      ]
     },
     "execution_count": 33,
     "metadata": {},
     "output_type": "execute_result"
    }
   ],
   "source": [
    "y_test.shape"
   ]
  },
  {
   "cell_type": "code",
   "execution_count": 48,
   "id": "4465681b-13bf-499f-b9f0-4b3f8ced25ba",
   "metadata": {},
   "outputs": [
    {
     "name": "stderr",
     "output_type": "stream",
     "text": [
      "/var/folders/0y/smycr6594jxd0n8scvb22wph0000gn/T/ipykernel_30960/214487222.py:6: PerformanceWarning: DataFrame is highly fragmented.  This is usually the result of calling `frame.insert` many times, which has poor performance.  Consider joining all columns at once using pd.concat(axis=1) instead.  To get a de-fragmented frame, use `newframe = frame.copy()`\n",
      "  calc['Anwesenheit'] = y_test\n"
     ]
    }
   ],
   "source": [
    "calc = pd.DataFrame(index=np.arange(0,2849,1))\n",
    "\n",
    "for index, element in enumerate(preds):\n",
    "    calc[index] = pd.DataFrame(element).drop(0, axis=1).astype(int)\n",
    "\n",
    "calc['Anwesenheit'] = y_test\n",
    "calc = calc.astype(bool)"
   ]
  },
  {
   "cell_type": "code",
   "execution_count": 49,
   "id": "596ee533-0724-410a-ad55-ea9519b11a91",
   "metadata": {},
   "outputs": [
    {
     "data": {
      "text/html": [
       "<div>\n",
       "<style scoped>\n",
       "    .dataframe tbody tr th:only-of-type {\n",
       "        vertical-align: middle;\n",
       "    }\n",
       "\n",
       "    .dataframe tbody tr th {\n",
       "        vertical-align: top;\n",
       "    }\n",
       "\n",
       "    .dataframe thead th {\n",
       "        text-align: right;\n",
       "    }\n",
       "</style>\n",
       "<table border=\"1\" class=\"dataframe\">\n",
       "  <thead>\n",
       "    <tr style=\"text-align: right;\">\n",
       "      <th></th>\n",
       "      <th>0</th>\n",
       "      <th>1</th>\n",
       "      <th>2</th>\n",
       "      <th>3</th>\n",
       "      <th>4</th>\n",
       "      <th>5</th>\n",
       "      <th>6</th>\n",
       "      <th>7</th>\n",
       "      <th>8</th>\n",
       "      <th>9</th>\n",
       "      <th>...</th>\n",
       "      <th>91</th>\n",
       "      <th>92</th>\n",
       "      <th>93</th>\n",
       "      <th>94</th>\n",
       "      <th>95</th>\n",
       "      <th>96</th>\n",
       "      <th>97</th>\n",
       "      <th>98</th>\n",
       "      <th>99</th>\n",
       "      <th>Anwesenheit</th>\n",
       "    </tr>\n",
       "  </thead>\n",
       "  <tbody>\n",
       "    <tr>\n",
       "      <th>0</th>\n",
       "      <td>True</td>\n",
       "      <td>True</td>\n",
       "      <td>False</td>\n",
       "      <td>False</td>\n",
       "      <td>False</td>\n",
       "      <td>False</td>\n",
       "      <td>False</td>\n",
       "      <td>False</td>\n",
       "      <td>False</td>\n",
       "      <td>False</td>\n",
       "      <td>...</td>\n",
       "      <td>False</td>\n",
       "      <td>False</td>\n",
       "      <td>False</td>\n",
       "      <td>False</td>\n",
       "      <td>False</td>\n",
       "      <td>False</td>\n",
       "      <td>False</td>\n",
       "      <td>False</td>\n",
       "      <td>False</td>\n",
       "      <td>False</td>\n",
       "    </tr>\n",
       "    <tr>\n",
       "      <th>1</th>\n",
       "      <td>True</td>\n",
       "      <td>True</td>\n",
       "      <td>False</td>\n",
       "      <td>False</td>\n",
       "      <td>False</td>\n",
       "      <td>False</td>\n",
       "      <td>False</td>\n",
       "      <td>False</td>\n",
       "      <td>False</td>\n",
       "      <td>False</td>\n",
       "      <td>...</td>\n",
       "      <td>False</td>\n",
       "      <td>False</td>\n",
       "      <td>False</td>\n",
       "      <td>False</td>\n",
       "      <td>False</td>\n",
       "      <td>False</td>\n",
       "      <td>False</td>\n",
       "      <td>False</td>\n",
       "      <td>False</td>\n",
       "      <td>False</td>\n",
       "    </tr>\n",
       "    <tr>\n",
       "      <th>2</th>\n",
       "      <td>True</td>\n",
       "      <td>True</td>\n",
       "      <td>False</td>\n",
       "      <td>False</td>\n",
       "      <td>False</td>\n",
       "      <td>False</td>\n",
       "      <td>False</td>\n",
       "      <td>False</td>\n",
       "      <td>False</td>\n",
       "      <td>False</td>\n",
       "      <td>...</td>\n",
       "      <td>False</td>\n",
       "      <td>False</td>\n",
       "      <td>False</td>\n",
       "      <td>False</td>\n",
       "      <td>False</td>\n",
       "      <td>False</td>\n",
       "      <td>False</td>\n",
       "      <td>False</td>\n",
       "      <td>False</td>\n",
       "      <td>False</td>\n",
       "    </tr>\n",
       "    <tr>\n",
       "      <th>3</th>\n",
       "      <td>True</td>\n",
       "      <td>True</td>\n",
       "      <td>False</td>\n",
       "      <td>False</td>\n",
       "      <td>False</td>\n",
       "      <td>False</td>\n",
       "      <td>False</td>\n",
       "      <td>False</td>\n",
       "      <td>False</td>\n",
       "      <td>False</td>\n",
       "      <td>...</td>\n",
       "      <td>False</td>\n",
       "      <td>False</td>\n",
       "      <td>False</td>\n",
       "      <td>False</td>\n",
       "      <td>False</td>\n",
       "      <td>False</td>\n",
       "      <td>False</td>\n",
       "      <td>False</td>\n",
       "      <td>False</td>\n",
       "      <td>False</td>\n",
       "    </tr>\n",
       "    <tr>\n",
       "      <th>4</th>\n",
       "      <td>True</td>\n",
       "      <td>False</td>\n",
       "      <td>False</td>\n",
       "      <td>False</td>\n",
       "      <td>False</td>\n",
       "      <td>False</td>\n",
       "      <td>False</td>\n",
       "      <td>False</td>\n",
       "      <td>False</td>\n",
       "      <td>False</td>\n",
       "      <td>...</td>\n",
       "      <td>False</td>\n",
       "      <td>False</td>\n",
       "      <td>False</td>\n",
       "      <td>False</td>\n",
       "      <td>False</td>\n",
       "      <td>False</td>\n",
       "      <td>False</td>\n",
       "      <td>False</td>\n",
       "      <td>False</td>\n",
       "      <td>False</td>\n",
       "    </tr>\n",
       "    <tr>\n",
       "      <th>...</th>\n",
       "      <td>...</td>\n",
       "      <td>...</td>\n",
       "      <td>...</td>\n",
       "      <td>...</td>\n",
       "      <td>...</td>\n",
       "      <td>...</td>\n",
       "      <td>...</td>\n",
       "      <td>...</td>\n",
       "      <td>...</td>\n",
       "      <td>...</td>\n",
       "      <td>...</td>\n",
       "      <td>...</td>\n",
       "      <td>...</td>\n",
       "      <td>...</td>\n",
       "      <td>...</td>\n",
       "      <td>...</td>\n",
       "      <td>...</td>\n",
       "      <td>...</td>\n",
       "      <td>...</td>\n",
       "      <td>...</td>\n",
       "      <td>...</td>\n",
       "    </tr>\n",
       "    <tr>\n",
       "      <th>2844</th>\n",
       "      <td>True</td>\n",
       "      <td>True</td>\n",
       "      <td>False</td>\n",
       "      <td>False</td>\n",
       "      <td>False</td>\n",
       "      <td>False</td>\n",
       "      <td>False</td>\n",
       "      <td>False</td>\n",
       "      <td>False</td>\n",
       "      <td>False</td>\n",
       "      <td>...</td>\n",
       "      <td>False</td>\n",
       "      <td>False</td>\n",
       "      <td>False</td>\n",
       "      <td>False</td>\n",
       "      <td>False</td>\n",
       "      <td>False</td>\n",
       "      <td>False</td>\n",
       "      <td>False</td>\n",
       "      <td>False</td>\n",
       "      <td>False</td>\n",
       "    </tr>\n",
       "    <tr>\n",
       "      <th>2845</th>\n",
       "      <td>True</td>\n",
       "      <td>True</td>\n",
       "      <td>False</td>\n",
       "      <td>False</td>\n",
       "      <td>False</td>\n",
       "      <td>False</td>\n",
       "      <td>False</td>\n",
       "      <td>False</td>\n",
       "      <td>False</td>\n",
       "      <td>False</td>\n",
       "      <td>...</td>\n",
       "      <td>False</td>\n",
       "      <td>False</td>\n",
       "      <td>False</td>\n",
       "      <td>False</td>\n",
       "      <td>False</td>\n",
       "      <td>False</td>\n",
       "      <td>False</td>\n",
       "      <td>False</td>\n",
       "      <td>False</td>\n",
       "      <td>False</td>\n",
       "    </tr>\n",
       "    <tr>\n",
       "      <th>2846</th>\n",
       "      <td>True</td>\n",
       "      <td>True</td>\n",
       "      <td>False</td>\n",
       "      <td>False</td>\n",
       "      <td>False</td>\n",
       "      <td>False</td>\n",
       "      <td>False</td>\n",
       "      <td>False</td>\n",
       "      <td>False</td>\n",
       "      <td>False</td>\n",
       "      <td>...</td>\n",
       "      <td>False</td>\n",
       "      <td>False</td>\n",
       "      <td>False</td>\n",
       "      <td>False</td>\n",
       "      <td>False</td>\n",
       "      <td>False</td>\n",
       "      <td>False</td>\n",
       "      <td>False</td>\n",
       "      <td>False</td>\n",
       "      <td>False</td>\n",
       "    </tr>\n",
       "    <tr>\n",
       "      <th>2847</th>\n",
       "      <td>True</td>\n",
       "      <td>True</td>\n",
       "      <td>True</td>\n",
       "      <td>True</td>\n",
       "      <td>True</td>\n",
       "      <td>True</td>\n",
       "      <td>True</td>\n",
       "      <td>True</td>\n",
       "      <td>True</td>\n",
       "      <td>True</td>\n",
       "      <td>...</td>\n",
       "      <td>True</td>\n",
       "      <td>True</td>\n",
       "      <td>True</td>\n",
       "      <td>True</td>\n",
       "      <td>True</td>\n",
       "      <td>True</td>\n",
       "      <td>True</td>\n",
       "      <td>True</td>\n",
       "      <td>True</td>\n",
       "      <td>True</td>\n",
       "    </tr>\n",
       "    <tr>\n",
       "      <th>2848</th>\n",
       "      <td>True</td>\n",
       "      <td>False</td>\n",
       "      <td>False</td>\n",
       "      <td>False</td>\n",
       "      <td>False</td>\n",
       "      <td>False</td>\n",
       "      <td>False</td>\n",
       "      <td>False</td>\n",
       "      <td>False</td>\n",
       "      <td>False</td>\n",
       "      <td>...</td>\n",
       "      <td>False</td>\n",
       "      <td>False</td>\n",
       "      <td>False</td>\n",
       "      <td>False</td>\n",
       "      <td>False</td>\n",
       "      <td>False</td>\n",
       "      <td>False</td>\n",
       "      <td>False</td>\n",
       "      <td>False</td>\n",
       "      <td>False</td>\n",
       "    </tr>\n",
       "  </tbody>\n",
       "</table>\n",
       "<p>2849 rows × 101 columns</p>\n",
       "</div>"
      ],
      "text/plain": [
       "         0      1      2      3      4      5      6      7      8      9  \\\n",
       "0     True   True  False  False  False  False  False  False  False  False   \n",
       "1     True   True  False  False  False  False  False  False  False  False   \n",
       "2     True   True  False  False  False  False  False  False  False  False   \n",
       "3     True   True  False  False  False  False  False  False  False  False   \n",
       "4     True  False  False  False  False  False  False  False  False  False   \n",
       "...    ...    ...    ...    ...    ...    ...    ...    ...    ...    ...   \n",
       "2844  True   True  False  False  False  False  False  False  False  False   \n",
       "2845  True   True  False  False  False  False  False  False  False  False   \n",
       "2846  True   True  False  False  False  False  False  False  False  False   \n",
       "2847  True   True   True   True   True   True   True   True   True   True   \n",
       "2848  True  False  False  False  False  False  False  False  False  False   \n",
       "\n",
       "      ...     91     92     93     94     95     96     97     98     99  \\\n",
       "0     ...  False  False  False  False  False  False  False  False  False   \n",
       "1     ...  False  False  False  False  False  False  False  False  False   \n",
       "2     ...  False  False  False  False  False  False  False  False  False   \n",
       "3     ...  False  False  False  False  False  False  False  False  False   \n",
       "4     ...  False  False  False  False  False  False  False  False  False   \n",
       "...   ...    ...    ...    ...    ...    ...    ...    ...    ...    ...   \n",
       "2844  ...  False  False  False  False  False  False  False  False  False   \n",
       "2845  ...  False  False  False  False  False  False  False  False  False   \n",
       "2846  ...  False  False  False  False  False  False  False  False  False   \n",
       "2847  ...   True   True   True   True   True   True   True   True   True   \n",
       "2848  ...  False  False  False  False  False  False  False  False  False   \n",
       "\n",
       "      Anwesenheit  \n",
       "0           False  \n",
       "1           False  \n",
       "2           False  \n",
       "3           False  \n",
       "4           False  \n",
       "...           ...  \n",
       "2844        False  \n",
       "2845        False  \n",
       "2846        False  \n",
       "2847         True  \n",
       "2848        False  \n",
       "\n",
       "[2849 rows x 101 columns]"
      ]
     },
     "execution_count": 49,
     "metadata": {},
     "output_type": "execute_result"
    }
   ],
   "source": [
    "calc"
   ]
  },
  {
   "cell_type": "code",
   "execution_count": 54,
   "id": "e2c07964-63ef-49d3-83f5-7745f7eeff8c",
   "metadata": {},
   "outputs": [
    {
     "data": {
      "text/plain": [
       "array([[2088,   28],\n",
       "       [   4,  729]])"
      ]
     },
     "execution_count": 54,
     "metadata": {},
     "output_type": "execute_result"
    }
   ],
   "source": [
    "confusion_matrix(y_true = calc['Anwesenheit'], y_pred = y_pred_best)"
   ]
  },
  {
   "cell_type": "code",
   "execution_count": 77,
   "id": "ef2f9db2-1336-4b3c-ae40-6a14f7e5ed83",
   "metadata": {},
   "outputs": [
    {
     "ename": "KeyError",
     "evalue": "100",
     "output_type": "error",
     "traceback": [
      "\u001b[0;31m---------------------------------------------------------------------------\u001b[0m",
      "\u001b[0;31mKeyError\u001b[0m                                  Traceback (most recent call last)",
      "\u001b[0;32m~/opt/anaconda3/envs/Machine_Learning/lib/python3.8/site-packages/pandas/core/indexes/base.py\u001b[0m in \u001b[0;36mget_loc\u001b[0;34m(self, key, method, tolerance)\u001b[0m\n\u001b[1;32m   3360\u001b[0m             \u001b[0;32mtry\u001b[0m\u001b[0;34m:\u001b[0m\u001b[0;34m\u001b[0m\u001b[0;34m\u001b[0m\u001b[0m\n\u001b[0;32m-> 3361\u001b[0;31m                 \u001b[0;32mreturn\u001b[0m \u001b[0mself\u001b[0m\u001b[0;34m.\u001b[0m\u001b[0m_engine\u001b[0m\u001b[0;34m.\u001b[0m\u001b[0mget_loc\u001b[0m\u001b[0;34m(\u001b[0m\u001b[0mcasted_key\u001b[0m\u001b[0;34m)\u001b[0m\u001b[0;34m\u001b[0m\u001b[0;34m\u001b[0m\u001b[0m\n\u001b[0m\u001b[1;32m   3362\u001b[0m             \u001b[0;32mexcept\u001b[0m \u001b[0mKeyError\u001b[0m \u001b[0;32mas\u001b[0m \u001b[0merr\u001b[0m\u001b[0;34m:\u001b[0m\u001b[0;34m\u001b[0m\u001b[0;34m\u001b[0m\u001b[0m\n",
      "\u001b[0;32m~/opt/anaconda3/envs/Machine_Learning/lib/python3.8/site-packages/pandas/_libs/index.pyx\u001b[0m in \u001b[0;36mpandas._libs.index.IndexEngine.get_loc\u001b[0;34m()\u001b[0m\n",
      "\u001b[0;32m~/opt/anaconda3/envs/Machine_Learning/lib/python3.8/site-packages/pandas/_libs/index.pyx\u001b[0m in \u001b[0;36mpandas._libs.index.IndexEngine.get_loc\u001b[0;34m()\u001b[0m\n",
      "\u001b[0;32mpandas/_libs/hashtable_class_helper.pxi\u001b[0m in \u001b[0;36mpandas._libs.hashtable.PyObjectHashTable.get_item\u001b[0;34m()\u001b[0m\n",
      "\u001b[0;32mpandas/_libs/hashtable_class_helper.pxi\u001b[0m in \u001b[0;36mpandas._libs.hashtable.PyObjectHashTable.get_item\u001b[0;34m()\u001b[0m\n",
      "\u001b[0;31mKeyError\u001b[0m: 100",
      "\nThe above exception was the direct cause of the following exception:\n",
      "\u001b[0;31mKeyError\u001b[0m                                  Traceback (most recent call last)",
      "\u001b[0;32m/var/folders/0y/smycr6594jxd0n8scvb22wph0000gn/T/ipykernel_30960/3232892161.py\u001b[0m in \u001b[0;36m<module>\u001b[0;34m\u001b[0m\n\u001b[1;32m      1\u001b[0m \u001b[0ml\u001b[0m \u001b[0;34m=\u001b[0m \u001b[0;34m[\u001b[0m\u001b[0;34m]\u001b[0m\u001b[0;34m\u001b[0m\u001b[0;34m\u001b[0m\u001b[0m\n\u001b[1;32m      2\u001b[0m \u001b[0;32mfor\u001b[0m \u001b[0melement\u001b[0m \u001b[0;32min\u001b[0m \u001b[0mnp\u001b[0m\u001b[0;34m.\u001b[0m\u001b[0marange\u001b[0m\u001b[0;34m(\u001b[0m\u001b[0;36m0\u001b[0m\u001b[0;34m,\u001b[0m\u001b[0;36m101\u001b[0m\u001b[0;34m,\u001b[0m\u001b[0;36m1\u001b[0m\u001b[0;34m)\u001b[0m\u001b[0;34m:\u001b[0m\u001b[0;34m\u001b[0m\u001b[0;34m\u001b[0m\u001b[0m\n\u001b[0;32m----> 3\u001b[0;31m     \u001b[0mtn\u001b[0m\u001b[0;34m,\u001b[0m \u001b[0mfp\u001b[0m\u001b[0;34m,\u001b[0m \u001b[0mfn\u001b[0m\u001b[0;34m,\u001b[0m \u001b[0mtp\u001b[0m \u001b[0;34m=\u001b[0m \u001b[0mconfusion_matrix\u001b[0m\u001b[0;34m(\u001b[0m\u001b[0mcalc\u001b[0m\u001b[0;34m[\u001b[0m\u001b[0;34m'Anwesenheit'\u001b[0m\u001b[0;34m]\u001b[0m\u001b[0;34m,\u001b[0m\u001b[0mcalc\u001b[0m\u001b[0;34m[\u001b[0m\u001b[0melement\u001b[0m\u001b[0;34m]\u001b[0m\u001b[0;34m)\u001b[0m\u001b[0;34m.\u001b[0m\u001b[0mravel\u001b[0m\u001b[0;34m(\u001b[0m\u001b[0;34m)\u001b[0m\u001b[0;34m\u001b[0m\u001b[0;34m\u001b[0m\u001b[0m\n\u001b[0m\u001b[1;32m      4\u001b[0m     \u001b[0mtpr\u001b[0m \u001b[0;34m=\u001b[0m \u001b[0mtp\u001b[0m \u001b[0;34m/\u001b[0m \u001b[0;34m(\u001b[0m\u001b[0mtp\u001b[0m\u001b[0;34m+\u001b[0m\u001b[0mfn\u001b[0m\u001b[0;34m)\u001b[0m\u001b[0;34m\u001b[0m\u001b[0;34m\u001b[0m\u001b[0m\n\u001b[1;32m      5\u001b[0m     \u001b[0mfpr\u001b[0m \u001b[0;34m=\u001b[0m \u001b[0mfp\u001b[0m \u001b[0;34m/\u001b[0m \u001b[0;34m(\u001b[0m\u001b[0mfp\u001b[0m\u001b[0;34m+\u001b[0m\u001b[0mtn\u001b[0m\u001b[0;34m)\u001b[0m\u001b[0;34m\u001b[0m\u001b[0;34m\u001b[0m\u001b[0m\n",
      "\u001b[0;32m~/opt/anaconda3/envs/Machine_Learning/lib/python3.8/site-packages/pandas/core/frame.py\u001b[0m in \u001b[0;36m__getitem__\u001b[0;34m(self, key)\u001b[0m\n\u001b[1;32m   3453\u001b[0m             \u001b[0;32mif\u001b[0m \u001b[0mself\u001b[0m\u001b[0;34m.\u001b[0m\u001b[0mcolumns\u001b[0m\u001b[0;34m.\u001b[0m\u001b[0mnlevels\u001b[0m \u001b[0;34m>\u001b[0m \u001b[0;36m1\u001b[0m\u001b[0;34m:\u001b[0m\u001b[0;34m\u001b[0m\u001b[0;34m\u001b[0m\u001b[0m\n\u001b[1;32m   3454\u001b[0m                 \u001b[0;32mreturn\u001b[0m \u001b[0mself\u001b[0m\u001b[0;34m.\u001b[0m\u001b[0m_getitem_multilevel\u001b[0m\u001b[0;34m(\u001b[0m\u001b[0mkey\u001b[0m\u001b[0;34m)\u001b[0m\u001b[0;34m\u001b[0m\u001b[0;34m\u001b[0m\u001b[0m\n\u001b[0;32m-> 3455\u001b[0;31m             \u001b[0mindexer\u001b[0m \u001b[0;34m=\u001b[0m \u001b[0mself\u001b[0m\u001b[0;34m.\u001b[0m\u001b[0mcolumns\u001b[0m\u001b[0;34m.\u001b[0m\u001b[0mget_loc\u001b[0m\u001b[0;34m(\u001b[0m\u001b[0mkey\u001b[0m\u001b[0;34m)\u001b[0m\u001b[0;34m\u001b[0m\u001b[0;34m\u001b[0m\u001b[0m\n\u001b[0m\u001b[1;32m   3456\u001b[0m             \u001b[0;32mif\u001b[0m \u001b[0mis_integer\u001b[0m\u001b[0;34m(\u001b[0m\u001b[0mindexer\u001b[0m\u001b[0;34m)\u001b[0m\u001b[0;34m:\u001b[0m\u001b[0;34m\u001b[0m\u001b[0;34m\u001b[0m\u001b[0m\n\u001b[1;32m   3457\u001b[0m                 \u001b[0mindexer\u001b[0m \u001b[0;34m=\u001b[0m \u001b[0;34m[\u001b[0m\u001b[0mindexer\u001b[0m\u001b[0;34m]\u001b[0m\u001b[0;34m\u001b[0m\u001b[0;34m\u001b[0m\u001b[0m\n",
      "\u001b[0;32m~/opt/anaconda3/envs/Machine_Learning/lib/python3.8/site-packages/pandas/core/indexes/base.py\u001b[0m in \u001b[0;36mget_loc\u001b[0;34m(self, key, method, tolerance)\u001b[0m\n\u001b[1;32m   3361\u001b[0m                 \u001b[0;32mreturn\u001b[0m \u001b[0mself\u001b[0m\u001b[0;34m.\u001b[0m\u001b[0m_engine\u001b[0m\u001b[0;34m.\u001b[0m\u001b[0mget_loc\u001b[0m\u001b[0;34m(\u001b[0m\u001b[0mcasted_key\u001b[0m\u001b[0;34m)\u001b[0m\u001b[0;34m\u001b[0m\u001b[0;34m\u001b[0m\u001b[0m\n\u001b[1;32m   3362\u001b[0m             \u001b[0;32mexcept\u001b[0m \u001b[0mKeyError\u001b[0m \u001b[0;32mas\u001b[0m \u001b[0merr\u001b[0m\u001b[0;34m:\u001b[0m\u001b[0;34m\u001b[0m\u001b[0;34m\u001b[0m\u001b[0m\n\u001b[0;32m-> 3363\u001b[0;31m                 \u001b[0;32mraise\u001b[0m \u001b[0mKeyError\u001b[0m\u001b[0;34m(\u001b[0m\u001b[0mkey\u001b[0m\u001b[0;34m)\u001b[0m \u001b[0;32mfrom\u001b[0m \u001b[0merr\u001b[0m\u001b[0;34m\u001b[0m\u001b[0;34m\u001b[0m\u001b[0m\n\u001b[0m\u001b[1;32m   3364\u001b[0m \u001b[0;34m\u001b[0m\u001b[0m\n\u001b[1;32m   3365\u001b[0m         \u001b[0;32mif\u001b[0m \u001b[0mis_scalar\u001b[0m\u001b[0;34m(\u001b[0m\u001b[0mkey\u001b[0m\u001b[0;34m)\u001b[0m \u001b[0;32mand\u001b[0m \u001b[0misna\u001b[0m\u001b[0;34m(\u001b[0m\u001b[0mkey\u001b[0m\u001b[0;34m)\u001b[0m \u001b[0;32mand\u001b[0m \u001b[0;32mnot\u001b[0m \u001b[0mself\u001b[0m\u001b[0;34m.\u001b[0m\u001b[0mhasnans\u001b[0m\u001b[0;34m:\u001b[0m\u001b[0;34m\u001b[0m\u001b[0;34m\u001b[0m\u001b[0m\n",
      "\u001b[0;31mKeyError\u001b[0m: 100"
     ]
    }
   ],
   "source": [
    "l = []\n",
    "for element in np.arange(0,101,1):\n",
    "    tn, fp, fn, tp = confusion_matrix(calc['Anwesenheit'],calc[element]).ravel()\n",
    "    tpr = tp / (tp+fn)\n",
    "    fpr = fp / (fp+tn)\n",
    "    tup = np.array([tpr,fpr])\n",
    "    l.append(tup)\n",
    "    \n",
    "rates_ = pd.DataFrame(l, columns = ['TPR','FPR'])\n",
    "rates_['Threshold'] = np.arange(0,1.01,0.01)"
   ]
  },
  {
   "cell_type": "code",
   "execution_count": 78,
   "id": "ce2c57d1-bea4-405c-9987-fa0abe5be2a3",
   "metadata": {},
   "outputs": [
    {
     "data": {
      "text/html": [
       "<div>\n",
       "<style scoped>\n",
       "    .dataframe tbody tr th:only-of-type {\n",
       "        vertical-align: middle;\n",
       "    }\n",
       "\n",
       "    .dataframe tbody tr th {\n",
       "        vertical-align: top;\n",
       "    }\n",
       "\n",
       "    .dataframe thead th {\n",
       "        text-align: right;\n",
       "    }\n",
       "</style>\n",
       "<table border=\"1\" class=\"dataframe\">\n",
       "  <thead>\n",
       "    <tr style=\"text-align: right;\">\n",
       "      <th></th>\n",
       "      <th>TPR</th>\n",
       "      <th>FPR</th>\n",
       "      <th>Threshold</th>\n",
       "    </tr>\n",
       "  </thead>\n",
       "  <tbody>\n",
       "    <tr>\n",
       "      <th>0</th>\n",
       "      <td>1.000000</td>\n",
       "      <td>1.000000</td>\n",
       "      <td>0.00</td>\n",
       "    </tr>\n",
       "    <tr>\n",
       "      <th>1</th>\n",
       "      <td>0.998636</td>\n",
       "      <td>0.681474</td>\n",
       "      <td>0.01</td>\n",
       "    </tr>\n",
       "    <tr>\n",
       "      <th>2</th>\n",
       "      <td>0.995907</td>\n",
       "      <td>0.025047</td>\n",
       "      <td>0.02</td>\n",
       "    </tr>\n",
       "    <tr>\n",
       "      <th>3</th>\n",
       "      <td>0.995907</td>\n",
       "      <td>0.021739</td>\n",
       "      <td>0.03</td>\n",
       "    </tr>\n",
       "    <tr>\n",
       "      <th>4</th>\n",
       "      <td>0.994543</td>\n",
       "      <td>0.021739</td>\n",
       "      <td>0.04</td>\n",
       "    </tr>\n",
       "    <tr>\n",
       "      <th>...</th>\n",
       "      <td>...</td>\n",
       "      <td>...</td>\n",
       "      <td>...</td>\n",
       "    </tr>\n",
       "    <tr>\n",
       "      <th>96</th>\n",
       "      <td>0.819918</td>\n",
       "      <td>0.003781</td>\n",
       "      <td>0.96</td>\n",
       "    </tr>\n",
       "    <tr>\n",
       "      <th>97</th>\n",
       "      <td>0.697135</td>\n",
       "      <td>0.003781</td>\n",
       "      <td>0.97</td>\n",
       "    </tr>\n",
       "    <tr>\n",
       "      <th>98</th>\n",
       "      <td>0.633015</td>\n",
       "      <td>0.003308</td>\n",
       "      <td>0.98</td>\n",
       "    </tr>\n",
       "    <tr>\n",
       "      <th>99</th>\n",
       "      <td>0.578445</td>\n",
       "      <td>0.002363</td>\n",
       "      <td>0.99</td>\n",
       "    </tr>\n",
       "    <tr>\n",
       "      <th>100</th>\n",
       "      <td>1.000000</td>\n",
       "      <td>1.000000</td>\n",
       "      <td>1.00</td>\n",
       "    </tr>\n",
       "  </tbody>\n",
       "</table>\n",
       "<p>101 rows × 3 columns</p>\n",
       "</div>"
      ],
      "text/plain": [
       "          TPR       FPR  Threshold\n",
       "0    1.000000  1.000000       0.00\n",
       "1    0.998636  0.681474       0.01\n",
       "2    0.995907  0.025047       0.02\n",
       "3    0.995907  0.021739       0.03\n",
       "4    0.994543  0.021739       0.04\n",
       "..        ...       ...        ...\n",
       "96   0.819918  0.003781       0.96\n",
       "97   0.697135  0.003781       0.97\n",
       "98   0.633015  0.003308       0.98\n",
       "99   0.578445  0.002363       0.99\n",
       "100  1.000000  1.000000       1.00\n",
       "\n",
       "[101 rows x 3 columns]"
      ]
     },
     "execution_count": 78,
     "metadata": {},
     "output_type": "execute_result"
    }
   ],
   "source": [
    "rates_"
   ]
  },
  {
   "cell_type": "code",
   "execution_count": 79,
   "id": "335c5e7f-6185-4e0c-b1ba-165b883d4ca5",
   "metadata": {},
   "outputs": [],
   "source": [
    "rates_.to_csv(\"roc_values_SVC.csv\", index=False)"
   ]
  },
  {
   "cell_type": "code",
   "execution_count": null,
   "id": "649f71f8-5db7-46a2-b466-f826d14f9877",
   "metadata": {},
   "outputs": [],
   "source": []
  },
  {
   "cell_type": "code",
   "execution_count": null,
   "id": "5fc6cb15-a65f-4c52-9d4e-adbfbe0cb2bb",
   "metadata": {},
   "outputs": [],
   "source": []
  },
  {
   "cell_type": "code",
   "execution_count": null,
   "id": "7b8416d4-52fb-4717-a6e4-d52f0a08cff8",
   "metadata": {},
   "outputs": [],
   "source": []
  },
  {
   "cell_type": "code",
   "execution_count": null,
   "id": "d3232634-22db-450e-b43a-745de281cd3a",
   "metadata": {},
   "outputs": [],
   "source": []
  },
  {
   "cell_type": "code",
   "execution_count": null,
   "id": "c1810754-d249-4ce2-866b-e98567db8f00",
   "metadata": {},
   "outputs": [],
   "source": []
  },
  {
   "cell_type": "code",
   "execution_count": null,
   "id": "f4ed2794-622c-4177-af0c-8b12786fc78f",
   "metadata": {},
   "outputs": [],
   "source": []
  },
  {
   "cell_type": "code",
   "execution_count": null,
   "id": "8f3bc90c-9d7c-4f76-836b-bd3199e3f542",
   "metadata": {},
   "outputs": [],
   "source": []
  }
 ],
 "metadata": {
  "kernelspec": {
   "display_name": "Python 3 (ipykernel)",
   "language": "python",
   "name": "python3"
  },
  "language_info": {
   "codemirror_mode": {
    "name": "ipython",
    "version": 3
   },
   "file_extension": ".py",
   "mimetype": "text/x-python",
   "name": "python",
   "nbconvert_exporter": "python",
   "pygments_lexer": "ipython3",
   "version": "3.8.11"
  }
 },
 "nbformat": 4,
 "nbformat_minor": 5
}
