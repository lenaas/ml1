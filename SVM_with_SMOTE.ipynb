{
 "cells": [
  {
   "cell_type": "code",
   "execution_count": 7,
   "id": "f0c5c50d-ad8b-43a5-9df1-ac450ea237d3",
   "metadata": {},
   "outputs": [],
   "source": [
    "import pandas as pd\n",
    "import numpy as np\n",
    "import matplotlib\n",
    "import matplotlib.pyplot as plt\n",
    "import seaborn as sns \n",
    "import plotly.express as px\n",
    "from sklearn.preprocessing import MinMaxScaler\n",
    "from sklearn.svm import SVC\n",
    "from sklearn import metrics\n",
    "from sklearn.metrics import accuracy_score, recall_score, precision_score\n",
    "from sklearn.model_selection import cross_val_score, train_test_split, GridSearchCV, cross_validate\n",
    "import statistics\n",
    "from imblearn.over_sampling import SMOTE\n",
    "from collections import Counter\n",
    "from sklearn.metrics import classification_report, RocCurveDisplay\n",
    "from joblib import dump, load"
   ]
  },
  {
   "cell_type": "code",
   "execution_count": 8,
   "id": "fbfcc06a-180a-4f39-918a-25d47c219312",
   "metadata": {},
   "outputs": [],
   "source": [
    "# Einlesen der Daten\n",
    "df = pd.read_csv(\"train.csv\")\n",
    "\n",
    "# Spalte Index nicht aussagekräftig --> Wird gelöscht\n",
    "df = df.drop(columns=\"index\")\n",
    "\n",
    "# Skalierung von CO2, da rechtsschiefe Verteilung + von allen anderen, da SVM sensitiv auf Skalierung reagiert\n",
    "scaler= MinMaxScaler()\n",
    "df[[\"Temperatur\",\"Luftfeuchtigkeit\",\"CO2\",\"Wassergehalt\"]]=scaler.fit_transform(df[[\"Temperatur\",\"Luftfeuchtigkeit\",\"CO2\",\"Wassergehalt\"]])\n",
    "\n",
    "# Auffüllen NaN-Werte\n",
    "df.fillna(method=\"ffill\", inplace= True)\n",
    "\n",
    "# Operationen auf Datumsspalte\n",
    "df[\"Datum\"]=pd.to_datetime(df[\"Datum\"])\n",
    "df[\"Tag\"]=df[\"Datum\"].dt.day.astype(str)\n",
    "df[\"Uhrzeit\"]=df[\"Datum\"].dt.hour.astype(str)\n",
    "df_modified = df.drop(columns=\"Datum\",axis=1)\n",
    "\n",
    "# Teile Daten in Features und Label auf\n",
    "X = df_modified.drop(columns=[\"Anwesenheit\"])\n",
    "y = df_modified[[\"Anwesenheit\"]].values.reshape(-1,1)\n",
    "y = np.ravel(y)\n"
   ]
  },
  {
   "cell_type": "code",
   "execution_count": 3,
   "id": "9001bc09-3801-4f25-9d9c-f6b654ea2105",
   "metadata": {},
   "outputs": [
    {
     "data": {
      "text/html": [
       "<div>\n",
       "<style scoped>\n",
       "    .dataframe tbody tr th:only-of-type {\n",
       "        vertical-align: middle;\n",
       "    }\n",
       "\n",
       "    .dataframe tbody tr th {\n",
       "        vertical-align: top;\n",
       "    }\n",
       "\n",
       "    .dataframe thead th {\n",
       "        text-align: right;\n",
       "    }\n",
       "</style>\n",
       "<table border=\"1\" class=\"dataframe\">\n",
       "  <thead>\n",
       "    <tr style=\"text-align: right;\">\n",
       "      <th></th>\n",
       "      <th>Temperatur</th>\n",
       "      <th>Luftfeuchtigkeit</th>\n",
       "      <th>CO2</th>\n",
       "      <th>Wassergehalt</th>\n",
       "      <th>Anwesenheit</th>\n",
       "      <th>Tag</th>\n",
       "      <th>Uhrzeit</th>\n",
       "    </tr>\n",
       "  </thead>\n",
       "  <tbody>\n",
       "    <tr>\n",
       "      <th>0</th>\n",
       "      <td>0.772881</td>\n",
       "      <td>0.470533</td>\n",
       "      <td>0.190933</td>\n",
       "      <td>0.557318</td>\n",
       "      <td>1</td>\n",
       "      <td>25</td>\n",
       "      <td>17</td>\n",
       "    </tr>\n",
       "    <tr>\n",
       "      <th>1</th>\n",
       "      <td>0.767334</td>\n",
       "      <td>0.470332</td>\n",
       "      <td>0.186446</td>\n",
       "      <td>0.554807</td>\n",
       "      <td>1</td>\n",
       "      <td>25</td>\n",
       "      <td>17</td>\n",
       "    </tr>\n",
       "    <tr>\n",
       "      <th>2</th>\n",
       "      <td>0.767334</td>\n",
       "      <td>0.469326</td>\n",
       "      <td>0.186136</td>\n",
       "      <td>0.553761</td>\n",
       "      <td>1</td>\n",
       "      <td>25</td>\n",
       "      <td>17</td>\n",
       "    </tr>\n",
       "    <tr>\n",
       "      <th>3</th>\n",
       "      <td>0.767334</td>\n",
       "      <td>0.467315</td>\n",
       "      <td>0.182887</td>\n",
       "      <td>0.551669</td>\n",
       "      <td>1</td>\n",
       "      <td>25</td>\n",
       "      <td>17</td>\n",
       "    </tr>\n",
       "    <tr>\n",
       "      <th>4</th>\n",
       "      <td>0.758089</td>\n",
       "      <td>0.467315</td>\n",
       "      <td>0.180566</td>\n",
       "      <td>0.547851</td>\n",
       "      <td>1</td>\n",
       "      <td>25</td>\n",
       "      <td>17</td>\n",
       "    </tr>\n",
       "    <tr>\n",
       "      <th>...</th>\n",
       "      <td>...</td>\n",
       "      <td>...</td>\n",
       "      <td>...</td>\n",
       "      <td>...</td>\n",
       "      <td>...</td>\n",
       "      <td>...</td>\n",
       "      <td>...</td>\n",
       "    </tr>\n",
       "    <tr>\n",
       "      <th>14236</th>\n",
       "      <td>0.203390</td>\n",
       "      <td>0.752933</td>\n",
       "      <td>0.057094</td>\n",
       "      <td>0.582947</td>\n",
       "      <td>0</td>\n",
       "      <td>3</td>\n",
       "      <td>23</td>\n",
       "    </tr>\n",
       "    <tr>\n",
       "      <th>14237</th>\n",
       "      <td>0.184900</td>\n",
       "      <td>0.748910</td>\n",
       "      <td>0.056785</td>\n",
       "      <td>0.571493</td>\n",
       "      <td>0</td>\n",
       "      <td>3</td>\n",
       "      <td>23</td>\n",
       "    </tr>\n",
       "    <tr>\n",
       "      <th>14238</th>\n",
       "      <td>0.184900</td>\n",
       "      <td>0.748910</td>\n",
       "      <td>0.054309</td>\n",
       "      <td>0.571493</td>\n",
       "      <td>0</td>\n",
       "      <td>3</td>\n",
       "      <td>23</td>\n",
       "    </tr>\n",
       "    <tr>\n",
       "      <th>14239</th>\n",
       "      <td>0.184900</td>\n",
       "      <td>0.748910</td>\n",
       "      <td>0.055238</td>\n",
       "      <td>0.571493</td>\n",
       "      <td>0</td>\n",
       "      <td>3</td>\n",
       "      <td>23</td>\n",
       "    </tr>\n",
       "    <tr>\n",
       "      <th>14240</th>\n",
       "      <td>0.203390</td>\n",
       "      <td>0.752933</td>\n",
       "      <td>0.057404</td>\n",
       "      <td>0.582947</td>\n",
       "      <td>0</td>\n",
       "      <td>4</td>\n",
       "      <td>0</td>\n",
       "    </tr>\n",
       "  </tbody>\n",
       "</table>\n",
       "<p>14241 rows × 7 columns</p>\n",
       "</div>"
      ],
      "text/plain": [
       "       Temperatur  Luftfeuchtigkeit       CO2  Wassergehalt  Anwesenheit Tag  \\\n",
       "0        0.772881          0.470533  0.190933      0.557318            1  25   \n",
       "1        0.767334          0.470332  0.186446      0.554807            1  25   \n",
       "2        0.767334          0.469326  0.186136      0.553761            1  25   \n",
       "3        0.767334          0.467315  0.182887      0.551669            1  25   \n",
       "4        0.758089          0.467315  0.180566      0.547851            1  25   \n",
       "...           ...               ...       ...           ...          ...  ..   \n",
       "14236    0.203390          0.752933  0.057094      0.582947            0   3   \n",
       "14237    0.184900          0.748910  0.056785      0.571493            0   3   \n",
       "14238    0.184900          0.748910  0.054309      0.571493            0   3   \n",
       "14239    0.184900          0.748910  0.055238      0.571493            0   3   \n",
       "14240    0.203390          0.752933  0.057404      0.582947            0   4   \n",
       "\n",
       "      Uhrzeit  \n",
       "0          17  \n",
       "1          17  \n",
       "2          17  \n",
       "3          17  \n",
       "4          17  \n",
       "...       ...  \n",
       "14236      23  \n",
       "14237      23  \n",
       "14238      23  \n",
       "14239      23  \n",
       "14240       0  \n",
       "\n",
       "[14241 rows x 7 columns]"
      ]
     },
     "execution_count": 3,
     "metadata": {},
     "output_type": "execute_result"
    }
   ],
   "source": [
    "df_modified"
   ]
  },
  {
   "cell_type": "markdown",
   "id": "071d4f78-8d04-49a9-beaf-144202d6ce8c",
   "metadata": {},
   "source": [
    "# Training auf Ausschnitt des Datensatzes, da lange Laufzeit"
   ]
  },
  {
   "cell_type": "code",
   "execution_count": 9,
   "id": "e2340708-eb11-40e5-a300-e897ed07455f",
   "metadata": {},
   "outputs": [],
   "source": [
    "# Training auf 10 % des Datensatzes\n",
    "df_sampled = df_modified.sample(frac=0.1)\n",
    "df_sampled\n",
    "\n",
    "# Teile Daten in Features und Label auf\n",
    "X_sampled = df_sampled.drop(columns=[\"Anwesenheit\"],axis=1)\n",
    "y_sampled = df_sampled[[\"Anwesenheit\"]]\n",
    "y_sampled = np.ravel(y_sampled)"
   ]
  },
  {
   "cell_type": "code",
   "execution_count": 10,
   "id": "569b8ec5-7701-456d-9418-0e5feda71527",
   "metadata": {},
   "outputs": [],
   "source": [
    "# Training und Testset der sampled data \n",
    "X_s_train, X_s_test, y_s_train, y_s_test = train_test_split(X_sampled, y_sampled, test_size=0.2, random_state=42)"
   ]
  },
  {
   "cell_type": "code",
   "execution_count": 6,
   "id": "77a11e93-b32f-4812-afe7-d237f769a6f7",
   "metadata": {},
   "outputs": [
    {
     "name": "stdout",
     "output_type": "stream",
     "text": [
      "{'C': 10, 'gamma': 0.1, 'kernel': 'rbf'}\n",
      "0.946271186440678\n",
      "              precision    recall  f1-score   support\n",
      "\n",
      "           0       0.97      0.95      0.96       209\n",
      "           1       0.88      0.92      0.90        76\n",
      "\n",
      "    accuracy                           0.94       285\n",
      "   macro avg       0.92      0.94      0.93       285\n",
      "weighted avg       0.95      0.94      0.94       285\n",
      "\n"
     ]
    }
   ],
   "source": [
    "# Parameter mit Cross validation setzen\n",
    "tuned_parameters = [\n",
    "    {\"kernel\": [\"rbf\"], \"gamma\": [0.1, 1], \"C\": [1, 10]},\n",
    "    {\"kernel\": [\"linear\"], \"C\": [1, 10]},\n",
    "    {\"kernel\": [\"poly\"],\"C\": [1, 10]}\n",
    "]\n",
    "\n",
    "\n",
    "# Gehe hauptsächlich auf Recall, da keine MA frieren sollen\n",
    "clf_sampled = GridSearchCV(SVC(), tuned_parameters, scoring=\"recall\")\n",
    "\n",
    "# Fitten der SVC auf de\n",
    "clf_sampled.fit(X_s_train, y_s_train)\n",
    "\n",
    "best_parameters_sampled = clf_sampled.best_params_\n",
    "print(best_parameters_sampled)\n",
    "\n",
    "best_result = clf_sampled.best_score_\n",
    "print(best_result)\n",
    "\n",
    "y_s_true, y_s_pred = y_s_test, clf_sampled.predict(X_s_test)\n",
    "print(classification_report(y_s_true, y_s_pred))\n",
    "\n",
    "# C und gamma anders hierbei, Recall geringer als bei erstem SVM "
   ]
  },
  {
   "cell_type": "code",
   "execution_count": 7,
   "id": "6a99ddae-3779-4aea-8943-c17649900fe8",
   "metadata": {},
   "outputs": [
    {
     "name": "stdout",
     "output_type": "stream",
     "text": [
      "{'C': 1, 'gamma': 0.1, 'kernel': 'rbf'}\n",
      "0.9894736842105264\n",
      "              precision    recall  f1-score   support\n",
      "\n",
      "           0       0.98      0.92      0.95       222\n",
      "           1       0.78      0.94      0.85        63\n",
      "\n",
      "    accuracy                           0.93       285\n",
      "   macro avg       0.88      0.93      0.90       285\n",
      "weighted avg       0.94      0.93      0.93       285\n",
      "\n"
     ]
    }
   ],
   "source": [
    "# GridSearch mit vorherigem SMOTE\n",
    "\n",
    "# define oversampling strategy\n",
    "#SMOTE = SMOTE()\n",
    "\n",
    "# fit and apply the transformation\n",
    "X_s_train_SMOTE, y_s_train_SMOTE = SMOTE().fit_resample(X_s_train, y_s_train)\n",
    "\n",
    "tuned_parameters = [\n",
    "    {\"kernel\": [\"rbf\"], \"gamma\": [0.1, 1], \"C\": [1, 10]},\n",
    "    {\"kernel\": [\"linear\"], \"C\": [1, 10]},\n",
    "    {\"kernel\": [\"poly\"],\"C\": [1, 10]}\n",
    "]\n",
    "\n",
    "\n",
    "# Gehe hauptsächlich auf Recall, da keine MA frieren sollen\n",
    "# GridSearchCV, um die besten Hyperparameter zu finden, wodurch Recall maximal ist\n",
    "clf_SMOTE_sampled = GridSearchCV(SVC(), tuned_parameters, scoring=\"recall\")\n",
    "\n",
    "# Trainiere SVM\n",
    "clf_SMOTE_sampled.fit(X_s_train_SMOTE, y_s_train_SMOTE)\n",
    "\n",
    "best_parameters_sampled_SMOTE = clf_SMOTE_sampled.best_params_\n",
    "print(best_parameters_sampled_SMOTE)\n",
    "\n",
    "best_result_SMOTE = clf_SMOTE_sampled.best_score_\n",
    "print(best_result_SMOTE)\n",
    "\n",
    "y_s_true_SMOTE, y_s_pred_SMOTE = y_s_test, clf_SMOTE_sampled.predict(X_s_test)\n",
    "print(classification_report(y_s_true_SMOTE, y_s_pred_SMOTE))\n",
    "\n",
    "# Mit SMOTE: Bekomme besseres Ergebnis als ohne!\n",
    "# Ist mit dem Ergebnis des Durchlaufs auf ganzem Datensatz identisch"
   ]
  },
  {
   "cell_type": "markdown",
   "id": "40b6f04d-51bb-4aff-9467-27b7d0ad0b2e",
   "metadata": {},
   "source": [
    "# Training auf ganzem Datensatz"
   ]
  },
  {
   "cell_type": "code",
   "execution_count": 11,
   "id": "571d49ab-d0d6-4593-b1f1-96f8375b19bf",
   "metadata": {},
   "outputs": [],
   "source": [
    "# Split dataset \n",
    "X_train, X_test, y_train, y_test = train_test_split(X, y, test_size=0.2, random_state=42)"
   ]
  },
  {
   "cell_type": "markdown",
   "id": "58b0c24f-97d6-4de7-b446-aa276a2db1e4",
   "metadata": {},
   "source": [
    "## Upsampling mit SMOTE"
   ]
  },
  {
   "cell_type": "code",
   "execution_count": 15,
   "id": "7a7a2eeb-4706-4e43-b0f6-8e173dea38f4",
   "metadata": {},
   "outputs": [
    {
     "name": "stdout",
     "output_type": "stream",
     "text": [
      "After oversampling:  Counter({1: 8472, 0: 8472})\n"
     ]
    }
   ],
   "source": [
    "# define oversampling strategy\n",
    "SMOTE = SMOTE()\n",
    "\n",
    "# fit and apply the transform\n",
    "X_train_SMOTE, y_train_SMOTE = SMOTE.fit_resample(X_train, y_train)\n",
    "\n",
    "# summarize class distribution\n",
    "print(\"After oversampling: \",Counter(y_train_SMOTE))"
   ]
  },
  {
   "cell_type": "markdown",
   "id": "70a17140-6c23-4f61-81ff-811659075df1",
   "metadata": {},
   "source": [
    "## Hyperparameter Suche mit exhaustive GridSearchCV - rein auf recall fokussiert"
   ]
  },
  {
   "cell_type": "code",
   "execution_count": 11,
   "id": "36af344c-14cf-457c-a674-226908ae3188",
   "metadata": {},
   "outputs": [
    {
     "name": "stdout",
     "output_type": "stream",
     "text": [
      "{'C': 1000, 'gamma': 1, 'kernel': 'rbf'}\n",
      "0.9924460093406191\n",
      "              precision    recall  f1-score   support\n",
      "\n",
      "           0       1.00      0.99      0.99      2116\n",
      "           1       0.97      0.99      0.98       733\n",
      "\n",
      "    accuracy                           0.99      2849\n",
      "   macro avg       0.98      0.99      0.99      2849\n",
      "weighted avg       0.99      0.99      0.99      2849\n",
      "\n"
     ]
    }
   ],
   "source": [
    "# Set the parameters by cross-validation\n",
    "tuned_parameters = [\n",
    "    {\"kernel\": [\"rbf\"], \"gamma\": [0.1,0.5, 1], \"C\": [1, 10,100,1000]},\n",
    "    #{\"kernel\": [\"linear\"], \"C\": [1, 10]},\n",
    "    #{\"kernel\": [\"poly\"],\"C\": [1, 10]}\n",
    "]\n",
    "\n",
    "\n",
    "\n",
    "clf_SMOTE = GridSearchCV(SVC(), tuned_parameters, scoring=\"recall\")\n",
    "clf_SMOTE.fit(X_train_SMOTE, y_train_SMOTE)\n",
    "best_parameters = clf_SMOTE.best_params_\n",
    "print(best_parameters)\n",
    "best_result = clf_SMOTE.best_score_\n",
    "print(best_result)\n",
    "\n",
    "y_true, y_pred = y_test, clf_SMOTE.predict(X_test)\n",
    "print(classification_report(y_true, y_pred))"
   ]
  },
  {
   "cell_type": "code",
   "execution_count": null,
   "id": "26861736-b98c-443e-9130-64005fea43c2",
   "metadata": {},
   "outputs": [],
   "source": []
  },
  {
   "cell_type": "code",
   "execution_count": 4,
   "id": "37a9b6e5-af94-4ea2-be4b-b105b40accaf",
   "metadata": {},
   "outputs": [
    {
     "data": {
      "text/plain": [
       "['svm.joblib']"
      ]
     },
     "execution_count": 4,
     "metadata": {},
     "output_type": "execute_result"
    }
   ],
   "source": [
    "dump(clf_SMOTE, 'svm.joblib') "
   ]
  },
  {
   "cell_type": "code",
   "execution_count": 3,
   "id": "25c12f1d-bdac-4ff7-9186-a646aa4f99cc",
   "metadata": {},
   "outputs": [
    {
     "name": "stderr",
     "output_type": "stream",
     "text": [
      "/Users/lenasommer/opt/anaconda3/envs/Machine_Learning/lib/python3.8/site-packages/sklearn/base.py:324: UserWarning: Trying to unpickle estimator SVC from version 0.24.2 when using version 1.0.1. This might lead to breaking code or invalid results. Use at your own risk. For more info please refer to:\n",
      "https://scikit-learn.org/stable/modules/model_persistence.html#security-maintainability-limitations\n",
      "  warnings.warn(\n",
      "/Users/lenasommer/opt/anaconda3/envs/Machine_Learning/lib/python3.8/site-packages/sklearn/base.py:324: UserWarning: Trying to unpickle estimator GridSearchCV from version 0.24.2 when using version 1.0.1. This might lead to breaking code or invalid results. Use at your own risk. For more info please refer to:\n",
      "https://scikit-learn.org/stable/modules/model_persistence.html#security-maintainability-limitations\n",
      "  warnings.warn(\n"
     ]
    }
   ],
   "source": [
    "# Nutzen des Modells\n",
    "clf_SMOTE = load('svm.joblib') "
   ]
  },
  {
   "cell_type": "code",
   "execution_count": 16,
   "id": "62e55894-8a64-4a45-9248-cf4d49f83d26",
   "metadata": {},
   "outputs": [
    {
     "data": {
      "text/plain": [
       "SVC(C=1000, gamma=1)"
      ]
     },
     "execution_count": 16,
     "metadata": {},
     "output_type": "execute_result"
    }
   ],
   "source": [
    "# Training des Modells mit den herausgefundenen Parametern \n",
    "clf_best = SVC(C=1000, gamma=1,kernel=\"rbf\")\n",
    "clf_best.fit(X_train_SMOTE, y_train_SMOTE)"
   ]
  },
  {
   "cell_type": "code",
   "execution_count": 17,
   "id": "fe7b8880-8c89-45b3-bafd-422477050c87",
   "metadata": {},
   "outputs": [
    {
     "data": {
      "image/png": "[encoded data removed]",
      "text/plain": [
       "<Figure size 432x288 with 1 Axes>"
      ]
     },
     "metadata": {
      "needs_background": "light"
     },
     "output_type": "display_data"
    }
   ],
   "source": [
    "# ROC-Kurve\n",
    "svc_disp = RocCurveDisplay.from_estimator(clf_best, X_test, y_test)\n",
    "plt.show()\n"
   ]
  },
  {
   "cell_type": "markdown",
   "id": "14bcbbc7-c854-4434-bf85-2873bb4d4f75",
   "metadata": {
    "jp-MarkdownHeadingCollapsed": true,
    "tags": []
   },
   "source": []
  },
  {
   "cell_type": "markdown",
   "id": "c303de9c-52ef-40e3-8c51-6179be0b20a8",
   "metadata": {},
   "source": [
    "# Testen "
   ]
  },
  {
   "cell_type": "markdown",
   "id": "f18a4b7c-ce38-4a3f-8893-d8bf7843c6d2",
   "metadata": {
    "tags": []
   },
   "source": [
    "## Funktion, welche alle Schritte zum Vorbereiten der Daten reproduziert"
   ]
  },
  {
   "cell_type": "code",
   "execution_count": 27,
   "id": "b262e06e-82fc-4957-9fb5-ede82ff53751",
   "metadata": {},
   "outputs": [
    {
     "data": {
      "text/html": [
       "<div>\n",
       "<style scoped>\n",
       "    .dataframe tbody tr th:only-of-type {\n",
       "        vertical-align: middle;\n",
       "    }\n",
       "\n",
       "    .dataframe tbody tr th {\n",
       "        vertical-align: top;\n",
       "    }\n",
       "\n",
       "    .dataframe thead th {\n",
       "        text-align: right;\n",
       "    }\n",
       "</style>\n",
       "<table border=\"1\" class=\"dataframe\">\n",
       "  <thead>\n",
       "    <tr style=\"text-align: right;\">\n",
       "      <th></th>\n",
       "      <th>Temperatur</th>\n",
       "      <th>Luftfeuchtigkeit</th>\n",
       "      <th>CO2</th>\n",
       "      <th>Wassergehalt</th>\n",
       "      <th>Tag</th>\n",
       "      <th>Uhrzeit</th>\n",
       "    </tr>\n",
       "  </thead>\n",
       "  <tbody>\n",
       "    <tr>\n",
       "      <th>0</th>\n",
       "      <td>0.145119</td>\n",
       "      <td>0.608481</td>\n",
       "      <td>0.008998</td>\n",
       "      <td>0.586332</td>\n",
       "      <td>4</td>\n",
       "      <td>0</td>\n",
       "    </tr>\n",
       "    <tr>\n",
       "      <th>1</th>\n",
       "      <td>0.140721</td>\n",
       "      <td>0.613851</td>\n",
       "      <td>0.007945</td>\n",
       "      <td>0.589491</td>\n",
       "      <td>4</td>\n",
       "      <td>0</td>\n",
       "    </tr>\n",
       "    <tr>\n",
       "      <th>2</th>\n",
       "      <td>0.131926</td>\n",
       "      <td>0.611440</td>\n",
       "      <td>0.008051</td>\n",
       "      <td>0.582376</td>\n",
       "      <td>4</td>\n",
       "      <td>0</td>\n",
       "    </tr>\n",
       "    <tr>\n",
       "      <th>3</th>\n",
       "      <td>0.131926</td>\n",
       "      <td>0.615056</td>\n",
       "      <td>0.007419</td>\n",
       "      <td>0.586062</td>\n",
       "      <td>4</td>\n",
       "      <td>0</td>\n",
       "    </tr>\n",
       "    <tr>\n",
       "      <th>4</th>\n",
       "      <td>0.131926</td>\n",
       "      <td>0.613851</td>\n",
       "      <td>0.007524</td>\n",
       "      <td>0.584833</td>\n",
       "      <td>4</td>\n",
       "      <td>0</td>\n",
       "    </tr>\n",
       "    <tr>\n",
       "      <th>...</th>\n",
       "      <td>...</td>\n",
       "      <td>...</td>\n",
       "      <td>...</td>\n",
       "      <td>...</td>\n",
       "      <td>...</td>\n",
       "      <td>...</td>\n",
       "    </tr>\n",
       "    <tr>\n",
       "      <th>6314</th>\n",
       "      <td>0.346966</td>\n",
       "      <td>0.225345</td>\n",
       "      <td>0.639305</td>\n",
       "      <td>0.284980</td>\n",
       "      <td>8</td>\n",
       "      <td>9</td>\n",
       "    </tr>\n",
       "    <tr>\n",
       "      <th>6315</th>\n",
       "      <td>0.360158</td>\n",
       "      <td>0.227153</td>\n",
       "      <td>0.645146</td>\n",
       "      <td>0.292929</td>\n",
       "      <td>8</td>\n",
       "      <td>9</td>\n",
       "    </tr>\n",
       "    <tr>\n",
       "      <th>6316</th>\n",
       "      <td>0.366755</td>\n",
       "      <td>0.227153</td>\n",
       "      <td>0.649566</td>\n",
       "      <td>0.295942</td>\n",
       "      <td>8</td>\n",
       "      <td>9</td>\n",
       "    </tr>\n",
       "    <tr>\n",
       "      <th>6317</th>\n",
       "      <td>0.366755</td>\n",
       "      <td>0.245398</td>\n",
       "      <td>0.719337</td>\n",
       "      <td>0.315553</td>\n",
       "      <td>8</td>\n",
       "      <td>9</td>\n",
       "    </tr>\n",
       "    <tr>\n",
       "      <th>6318</th>\n",
       "      <td>0.395778</td>\n",
       "      <td>0.250493</td>\n",
       "      <td>0.865825</td>\n",
       "      <td>0.334511</td>\n",
       "      <td>8</td>\n",
       "      <td>9</td>\n",
       "    </tr>\n",
       "  </tbody>\n",
       "</table>\n",
       "<p>6319 rows × 6 columns</p>\n",
       "</div>"
      ],
      "text/plain": [
       "      Temperatur  Luftfeuchtigkeit       CO2  Wassergehalt Tag Uhrzeit\n",
       "0       0.145119          0.608481  0.008998      0.586332   4       0\n",
       "1       0.140721          0.613851  0.007945      0.589491   4       0\n",
       "2       0.131926          0.611440  0.008051      0.582376   4       0\n",
       "3       0.131926          0.615056  0.007419      0.586062   4       0\n",
       "4       0.131926          0.613851  0.007524      0.584833   4       0\n",
       "...          ...               ...       ...           ...  ..     ...\n",
       "6314    0.346966          0.225345  0.639305      0.284980   8       9\n",
       "6315    0.360158          0.227153  0.645146      0.292929   8       9\n",
       "6316    0.366755          0.227153  0.649566      0.295942   8       9\n",
       "6317    0.366755          0.245398  0.719337      0.315553   8       9\n",
       "6318    0.395778          0.250493  0.865825      0.334511   8       9\n",
       "\n",
       "[6319 rows x 6 columns]"
      ]
     },
     "execution_count": 27,
     "metadata": {},
     "output_type": "execute_result"
    }
   ],
   "source": [
    "df_test = pd.read_csv(\"test.csv\")\n",
    "df_test = df_test.drop(columns=\"index\")\n",
    "    \n",
    "scaler= MinMaxScaler()\n",
    "df_test[[\"Temperatur\",\"Luftfeuchtigkeit\",\"CO2\",\"Wassergehalt\"]]=scaler.fit_transform(df_test[[\"Temperatur\",\"Luftfeuchtigkeit\",\"CO2\",\"Wassergehalt\"]])\n",
    "df_test.fillna(method=\"ffill\", inplace= True)\n",
    "    \n",
    "df_test[\"Datum\"]=pd.to_datetime(df_test[\"Datum\"])\n",
    "df_test[\"Tag\"]=df_test[\"Datum\"].dt.day.astype(str)\n",
    "df_test[\"Uhrzeit\"]=df_test[\"Datum\"].dt.hour.astype(str)\n",
    "df_test = df_test.drop(columns=\"Datum\",axis=1)\n",
    "df_test"
   ]
  },
  {
   "cell_type": "code",
   "execution_count": null,
   "id": "d3f5ec74-a8bd-4f88-9366-4b8c7ae4b388",
   "metadata": {},
   "outputs": [],
   "source": []
  },
  {
   "cell_type": "code",
   "execution_count": null,
   "id": "c50020b2-cd1b-483f-a4a5-fd4a2123aa8a",
   "metadata": {},
   "outputs": [],
   "source": []
  },
  {
   "cell_type": "code",
   "execution_count": 48,
   "id": "b478d9b9-af0b-406d-ba5b-6aeac376b4ec",
   "metadata": {},
   "outputs": [
    {
     "data": {
      "text/html": [
       "<div>\n",
       "<style scoped>\n",
       "    .dataframe tbody tr th:only-of-type {\n",
       "        vertical-align: middle;\n",
       "    }\n",
       "\n",
       "    .dataframe tbody tr th {\n",
       "        vertical-align: top;\n",
       "    }\n",
       "\n",
       "    .dataframe thead th {\n",
       "        text-align: right;\n",
       "    }\n",
       "</style>\n",
       "<table border=\"1\" class=\"dataframe\">\n",
       "  <thead>\n",
       "    <tr style=\"text-align: right;\">\n",
       "      <th></th>\n",
       "      <th>Vorhergesagte_Anwesenheit</th>\n",
       "    </tr>\n",
       "  </thead>\n",
       "  <tbody>\n",
       "    <tr>\n",
       "      <th>0</th>\n",
       "      <td>0</td>\n",
       "    </tr>\n",
       "    <tr>\n",
       "      <th>1</th>\n",
       "      <td>0</td>\n",
       "    </tr>\n",
       "    <tr>\n",
       "      <th>2</th>\n",
       "      <td>0</td>\n",
       "    </tr>\n",
       "    <tr>\n",
       "      <th>3</th>\n",
       "      <td>0</td>\n",
       "    </tr>\n",
       "    <tr>\n",
       "      <th>4</th>\n",
       "      <td>0</td>\n",
       "    </tr>\n",
       "    <tr>\n",
       "      <th>...</th>\n",
       "      <td>...</td>\n",
       "    </tr>\n",
       "    <tr>\n",
       "      <th>6314</th>\n",
       "      <td>0</td>\n",
       "    </tr>\n",
       "    <tr>\n",
       "      <th>6315</th>\n",
       "      <td>0</td>\n",
       "    </tr>\n",
       "    <tr>\n",
       "      <th>6316</th>\n",
       "      <td>0</td>\n",
       "    </tr>\n",
       "    <tr>\n",
       "      <th>6317</th>\n",
       "      <td>0</td>\n",
       "    </tr>\n",
       "    <tr>\n",
       "      <th>6318</th>\n",
       "      <td>0</td>\n",
       "    </tr>\n",
       "  </tbody>\n",
       "</table>\n",
       "<p>6319 rows × 1 columns</p>\n",
       "</div>"
      ],
      "text/plain": [
       "      Vorhergesagte_Anwesenheit\n",
       "0                             0\n",
       "1                             0\n",
       "2                             0\n",
       "3                             0\n",
       "4                             0\n",
       "...                         ...\n",
       "6314                          0\n",
       "6315                          0\n",
       "6316                          0\n",
       "6317                          0\n",
       "6318                          0\n",
       "\n",
       "[6319 rows x 1 columns]"
      ]
     },
     "execution_count": 48,
     "metadata": {},
     "output_type": "execute_result"
    }
   ],
   "source": [
    "# Prediction\n",
    "test_pred = clf_SMOTE.predict(df_test)\n",
    "df_pred = pd.DataFrame(test_pred)\n",
    "df_pred = df_pred.rename(columns={0:\"Vorhergesagte_Anwesenheit\"})\n",
    "df_pred"
   ]
  },
  {
   "cell_type": "code",
   "execution_count": null,
   "id": "b96dd94f-c3e4-4c59-af88-373d0c3ea142",
   "metadata": {},
   "outputs": [],
   "source": []
  }
 ],
 "metadata": {
  "kernelspec": {
   "display_name": "Python 3 (ipykernel)",
   "language": "python",
   "name": "python3"
  },
  "language_info": {
   "codemirror_mode": {
    "name": "ipython",
    "version": 3
   },
   "file_extension": ".py",
   "mimetype": "text/x-python",
   "name": "python",
   "nbconvert_exporter": "python",
   "pygments_lexer": "ipython3",
   "version": "3.8.11"
  }
 },
 "nbformat": 4,
 "nbformat_minor": 5
}
