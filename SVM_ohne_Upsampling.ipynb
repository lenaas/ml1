{
 "cells": [
  {
   "cell_type": "code",
   "execution_count": 1,
   "id": "f0c5c50d-ad8b-43a5-9df1-ac450ea237d3",
   "metadata": {},
   "outputs": [],
   "source": [
    "import pandas as pd\n",
    "import numpy as np\n",
    "import matplotlib\n",
    "import matplotlib.pyplot as plt\n",
    "import seaborn as sns \n",
    "import plotly.express as px\n",
    "from sklearn.preprocessing import MinMaxScaler\n",
    "from sklearn.svm import SVC\n",
    "from sklearn import metrics\n",
    "from sklearn.metrics import accuracy_score, recall_score, precision_score\n",
    "from sklearn.model_selection import cross_val_score, train_test_split, GridSearchCV, cross_validate\n",
    "import statistics"
   ]
  },
  {
   "cell_type": "code",
   "execution_count": 2,
   "id": "fbfcc06a-180a-4f39-918a-25d47c219312",
   "metadata": {},
   "outputs": [],
   "source": [
    "# Einlesen der Daten\n",
    "df = pd.read_csv(\"train.csv\")\n",
    "\n",
    "# Skalierung von CO2, da rechtsschiefe Verteilung\n",
    "scaler= MinMaxScaler()\n",
    "scaler.fit(df[\"CO2\"].values.reshape(-1, 1))\n",
    "df[\"CO2\"]=scaler.transform(df[\"CO2\"].values.reshape(-1, 1))\n",
    "\n",
    "# Auffüllen NaN-Werte\n",
    "df.fillna(method=\"ffill\", inplace= True)\n",
    "\n",
    "# Operationen auf Datumsspalte\n",
    "df[\"Datum\"]=pd.to_datetime(df[\"Datum\"])\n",
    "df[\"tag\"]=df[\"Datum\"].dt.day.astype(str)\n",
    "df[\"uhrzeit\"]=df[\"Datum\"].dt.hour.astype(str)\n",
    "df_modified = df.drop(columns=\"Datum\",axis=1)\n",
    "\n",
    "# Teile Daten in Features und Label auf\n",
    "X = df_modified.drop(columns=[\"Anwesenheit\"])\n",
    "y = df_modified[[\"Anwesenheit\"]].values.reshape(-1,1)\n",
    "y = np.ravel(y)\n",
    "\n",
    "# Alle Spalten skalieren? SVM sei sehr sensitiv auf Skalierung?"
   ]
  },
  {
   "cell_type": "markdown",
   "id": "70a17140-6c23-4f61-81ff-811659075df1",
   "metadata": {},
   "source": [
    "## Hyperparameter Suche mit exhaustive GridSearchCV - rein auf recall fokussiert"
   ]
  },
  {
   "cell_type": "code",
   "execution_count": 6,
   "id": "36af344c-14cf-457c-a674-226908ae3188",
   "metadata": {},
   "outputs": [
    {
     "name": "stdout",
     "output_type": "stream",
     "text": [
      "{'C': 10, 'gamma': 0.1, 'kernel': 'rbf'}\n",
      "0.9804794520547946\n",
      "              precision    recall  f1-score   support\n",
      "\n",
      "           0       1.00      0.99      0.99      2116\n",
      "           1       0.98      0.99      0.98       733\n",
      "\n",
      "    accuracy                           0.99      2849\n",
      "   macro avg       0.99      0.99      0.99      2849\n",
      "weighted avg       0.99      0.99      0.99      2849\n",
      "\n"
     ]
    }
   ],
   "source": [
    "from sklearn.metrics import classification_report\n",
    "# Split dataset \n",
    "X_train, X_test, y_train, y_test = train_test_split(X, y, test_size=0.2, random_state=0)\n",
    "\n",
    "# Set the parameters by cross-validation\n",
    "tuned_parameters = [\n",
    "    {\"kernel\": [\"rbf\"], \"gamma\": [1e-4, 0.1, 1], \"C\": [1, 10]},\n",
    "    {\"kernel\": [\"linear\"], \"C\": [1, 10]},\n",
    "    {\"kernel\": [\"poly\"],\"C\": [1, 10]}\n",
    "]\n",
    "\n",
    "\n",
    "\n",
    "clf = GridSearchCV(SVC(), tuned_parameters, scoring=\"recall\")\n",
    "clf.fit(X_train, y_train)\n",
    "best_parameters = clf.best_params_\n",
    "print(best_parameters)\n",
    "best_result = clf.best_score_\n",
    "print(best_result)\n",
    "\n",
    "y_true, y_pred = y_test, clf.predict(X_test)\n",
    "print(classification_report(y_true, y_pred))"
   ]
  },
  {
   "cell_type": "code",
   "execution_count": 8,
   "id": "37a9b6e5-af94-4ea2-be4b-b105b40accaf",
   "metadata": {},
   "outputs": [
    {
     "data": {
      "text/plain": [
       "['svm.joblib']"
      ]
     },
     "execution_count": 8,
     "metadata": {},
     "output_type": "execute_result"
    }
   ],
   "source": [
    "from joblib import dump, load\n",
    ">>> dump(clf, 'svm.joblib') "
   ]
  },
  {
   "cell_type": "code",
   "execution_count": null,
   "id": "25c12f1d-bdac-4ff7-9186-a646aa4f99cc",
   "metadata": {},
   "outputs": [],
   "source": [
    "# Nutzen des Modells\n",
    "clf = load('svm.joblib') "
   ]
  },
  {
   "cell_type": "code",
   "execution_count": 7,
   "id": "fe7b8880-8c89-45b3-bafd-422477050c87",
   "metadata": {},
   "outputs": [],
   "source": [
    "# ROC-Kurve\n",
    "from sklearn import metrics\n"
   ]
  },
  {
   "cell_type": "markdown",
   "id": "14bcbbc7-c854-4434-bf85-2873bb4d4f75",
   "metadata": {},
   "source": [
    "## GridSearchCV - ultra lange Laufzeit"
   ]
  },
  {
   "cell_type": "code",
   "execution_count": null,
   "id": "3a0f15a3-53e4-48de-8a48-a33b0ce0a142",
   "metadata": {},
   "outputs": [],
   "source": []
  },
  {
   "cell_type": "markdown",
   "id": "63b99566-60cd-4185-b86e-312121d3f073",
   "metadata": {},
   "source": [
    "## Effizienter: Händische Suche der Parameter"
   ]
  },
  {
   "cell_type": "code",
   "execution_count": null,
   "id": "b262e06e-82fc-4957-9fb5-ede82ff53751",
   "metadata": {},
   "outputs": [],
   "source": [
    "# SVC mit Kernel linear, C=1 und class_weight = balanced, da größerer Anteil an Abwesenheit als Anwesenheit\n",
    "\n",
    "model1 = SVC(kernel=\"linear\",C=1, class_weight=\"balanced\")\n",
    "scores1 = cross_validate(model1, X, y, cv=2,\n",
    "                         scoring=[\"recall\",\"accuracy\",\"precision\"],\n",
    "                         return_train_score=True)\n",
    "print(mean(scores1[\"recall\"]))\n",
    "print(mean(scores1[\"accuracy\"]))\n",
    "print(mean(scores1[\"precision\"]))"
   ]
  },
  {
   "cell_type": "code",
   "execution_count": null,
   "id": "b478d9b9-af0b-406d-ba5b-6aeac376b4ec",
   "metadata": {},
   "outputs": [],
   "source": [
    "# SVC mit Kernel rbf, C=1 und class_weight = balanced, da größerer Anteil an Abwesenheit als Anwesenheit\n",
    "\n",
    "model2 = SVC(kernel=\"rbf\",C=10, gamma=0.1, class_weight=\"balanced\")\n",
    "scores2 = cross_validate(model1, X, y, cv=5,\n",
    "                         scoring=[\"recall\", \"precision\",  \"accuracy\"],\n",
    "                         return_train_score=True)\n",
    "print(mean(scores1[\"recall\"]))\n",
    "print(mean(scores1[\"accuracy\"]))\n",
    "print(mean(scores1[\"precision\"]))"
   ]
  },
  {
   "cell_type": "code",
   "execution_count": null,
   "id": "b96dd94f-c3e4-4c59-af88-373d0c3ea142",
   "metadata": {},
   "outputs": [],
   "source": [
    "# Index herauswerfen\n",
    "# alles MinMax skalieren\n",
    "# Upsampling (dann kann ich mir class_weight sparen)\n",
    "# ROC-Kurve \n",
    "# Modell auf Testdaten starten"
   ]
  }
 ],
 "metadata": {
  "kernelspec": {
   "display_name": "Python 3",
   "language": "python",
   "name": "python3"
  },
  "language_info": {
   "codemirror_mode": {
    "name": "ipython",
    "version": 3
   },
   "file_extension": ".py",
   "mimetype": "text/x-python",
   "name": "python",
   "nbconvert_exporter": "python",
   "pygments_lexer": "ipython3",
   "version": "3.8.3"
  }
 },
 "nbformat": 4,
 "nbformat_minor": 5
}
