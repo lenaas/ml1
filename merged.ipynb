{
 "cells": [
  {
   "cell_type": "code",
   "execution_count": null,
   "id": "8a6be359-b26a-4a20-9aad-45e7fec9b9e4",
   "metadata": {},
   "outputs": [],
   "source": [
    "import numpy as np\n",
    "import pandas as pd\n",
    "import datetime as dt\n",
    "\n",
    "from sklearn.svm import SVC\n",
    "from sklearn.impute import SimpleImputer\n",
    "from sklearn.ensemble import RandomForestClassifier\n",
    "from sklearn.model_selection import train_test_split\n",
    "from sklearn.linear_model import LogisticRegressionCV\n",
    "from sklearn.preprocessing import MinMaxScaler, StandardScaler\n",
    "from sklearn.model_selection import cross_val_score, train_test_split, GridSearchCV, cross_validate\n",
    "from sklearn.metrics import accuracy_score, recall_score, precision_score, confusion_matrix, classification_report\n",
    "\n",
    "from imblearn.over_sampling import SMOTE\n",
    "\n",
    "from joblib import dump, load"
   ]
  },
  {
   "cell_type": "code",
   "execution_count": null,
   "id": "5eda2b68-ae9a-4d01-b26c-d87b5e216059",
   "metadata": {},
   "outputs": [],
   "source": [
    "raw = pd.read_csv('train.csv')"
   ]
  },
  {
   "cell_type": "markdown",
   "id": "bfd4767f-74f9-4953-a988-1c965cce82f2",
   "metadata": {
    "jp-MarkdownHeadingCollapsed": true,
    "tags": []
   },
   "source": [
    "# Logistische Regression"
   ]
  },
  {
   "cell_type": "code",
   "execution_count": null,
   "id": "31be8a12-eaeb-40e2-acb5-fcbe973e9c39",
   "metadata": {},
   "outputs": [],
   "source": [
    "# Fehlende Werte werden durch Durchschnittswerte ersetzt\n",
    "lead = raw.loc[:,:'Datum']\n",
    "tail = raw.loc[:,'Temperatur':]\n",
    "imp = SimpleImputer(missing_values=np.nan, strategy='mean')\n",
    "imp.fit(tail)\n",
    "tail = pd.DataFrame(imp.transform(tail), columns = tail.columns)\n",
    "tail = tail.iloc[:14241,:]\n",
    "raw = pd.concat([lead, tail],axis=1)\n",
    "raw.drop(['index'], inplace=True, axis=1)"
   ]
  },
  {
   "cell_type": "code",
   "execution_count": null,
   "id": "5d8e6819-321b-4524-9ced-72eb14db1fc9",
   "metadata": {},
   "outputs": [],
   "source": [
    "# Änderung des Datumstyps\n",
    "raw['Datum'] = raw.Datum.astype('datetime64[ns]')\n",
    "# Datum wird in einzelne nummerische Spalten aufgesplittet\n",
    "raw['Jahr'] = raw['Datum'].dt.year\n",
    "raw['Monat'] = raw['Datum'].dt.month\n",
    "raw['Tag'] = raw['Datum'].dt.day\n",
    "raw['Stunde'] = raw['Datum'].dt.hour\n",
    "raw['Minute'] = raw['Datum'].dt.minute\n",
    "raw['Sekunde'] = raw['Datum'].dt.second\n",
    "raw['Wochentag'] = raw['Datum'].dt.strftime(\"%A\")\n",
    "# Ursprüngliche Datumsspalte wird verworfen --> wird nicht mehr benötigt\n",
    "raw.drop(['Datum'], inplace=True, axis=1)\n",
    "# One Hot Encoding, um kein Object type in den Daten zu haben\n",
    "Wochentag = pd.get_dummies(raw[['Wochentag']], columns=['Wochentag'])\n",
    "raw = pd.concat([raw, Wochentag], axis=1) \n",
    "raw.drop(['Wochentag'], inplace=True, axis=1)\n",
    "# Ende der Datenvorverarbeitung:\n",
    "df = raw.copy()\n",
    "df.head()"
   ]
  },
  {
   "cell_type": "code",
   "execution_count": null,
   "id": "20b77768-d9d5-4da1-a654-f2d82586c230",
   "metadata": {},
   "outputs": [],
   "source": [
    "# Features X und Label y werden definiert\n",
    "X = df.drop(\"Anwesenheit\",axis=1).values\n",
    "y = df[\"Anwesenheit\"].values\n",
    "# Aufsplitten der Trainingsdaten in Trainings- (80%) und Validierungsdaten (20%)\n",
    "X_train, X_test, y_train, y_test = train_test_split(X, y, test_size = 0.2, random_state=42)\n",
    "# Überprüfen des Vorgehens, indem die Shape der DataFrames angeschaut wird:\n",
    "X_train.shape, X_test.shape, y_train.shape, y_test.shape"
   ]
  },
  {
   "cell_type": "code",
   "execution_count": null,
   "id": "afed0d7a-ec72-48c1-8a84-0c4737f04d2c",
   "metadata": {
    "tags": []
   },
   "outputs": [],
   "source": [
    "# Anlegen von Parametern für Hyperparametersuche (Penalty und Solver (=verschiedene Algorithmen) )\n",
    "logreg = LogisticRegressionCV(cv=5, random_state=42, max_iter=20000)\n",
    "param_grid = {'penalty':['l1', 'l2', 'elasticnet', 'none'], #Default ist l2\n",
    "             'solver' :['newton-cg', 'lbfgs', 'liblinear', 'sag', 'saga'] #Default ist lbfgs\n",
    "             }\n",
    "scores = ['accuracy', 'precision', 'recall']\n",
    "# Einsetzen der zu untersuchenden Parametern, eigentliche Hyperparametersuche:\n",
    "gs = GridSearchCV(logreg,\n",
    "                 param_grid = param_grid,\n",
    "                 scoring = scores,\n",
    "                 refit=\"recall\", # benötigt für die Suche mit mehreren Parametern -> wir entscheiden uns für den Recall, weil wir die Gelegenheiten minimieren müssen, bei denen Gegenwart = 1 Vorhersage = 0\n",
    "                 return_train_score=True) # enthält Train Scores in cv_results_\n",
    "# Fitting des GrindSearchs\n",
    "gs.fit(X_train,y_train)"
   ]
  },
  {
   "cell_type": "markdown",
   "id": "7852c36a-a67c-4d26-b66a-afcb0aa4b8e4",
   "metadata": {},
   "source": [
    "Ergebnis der CV:\n",
    "\n",
    "Bestes Modell ist LogisticRegressionCV(cv=5, max_iter=20000, random_state=42, solver='newton-cg') \n",
    "mit Hyperparametern {'penalty': 'l2', 'solver': 'newton-cg'} und einem Recall von 0.7561643835616437"
   ]
  },
  {
   "cell_type": "code",
   "execution_count": null,
   "id": "324178d9-9725-4e9a-b506-01508b04ce0c",
   "metadata": {},
   "outputs": [],
   "source": [
    "# Optimales Modell:\n",
    "print(f\"Ergebnis der CV: \\nBestes Modell ist {gs.best_estimator_} \\nmit Hyperparametern {gs.best_params_} und einem Recall von {gs.best_score_}\")"
   ]
  },
  {
   "cell_type": "code",
   "execution_count": null,
   "id": "972925e9-f37e-4bb3-938d-485e705a4469",
   "metadata": {
    "tags": []
   },
   "outputs": [],
   "source": [
    "# Übernahme der gefundenen optimalen Parametern in Logistisches Regressions Modell\n",
    "logreg = LogisticRegressionCV(cv=5, random_state=42, max_iter=20000, penalty='l2', solver='newton-cg').fit(X_train, y_train) # Kreuzvalidierung mit 5 folds\n",
    "# Vorausgesagtes Label anhand der Features \n",
    "y_pred = logreg.predict(X_test)\n",
    "# Wahrscheinlichkeit des Labels\n",
    "y_proba = logreg.predict_log_proba(X_test)\n",
    "\n",
    "logreg.score(X_test, y_test)"
   ]
  },
  {
   "cell_type": "code",
   "execution_count": null,
   "id": "505ad0e7-6a46-4cd0-94d6-4e019cc66cd8",
   "metadata": {},
   "outputs": [],
   "source": [
    "# Erstellen der Kreuztabelle und zuordnen der Werte TP, FP, FN, TN\n",
    "kreuztabelle = pd.crosstab(index=y_pred, columns=y_test, rownames=[\"predicted\"], colnames=[\"actual\"])\n",
    "TP = kreuztabelle.values[1,1] # True Positives\n",
    "FP = kreuztabelle.values[1,0] # False Positives\n",
    "FN = kreuztabelle.values[0,1] # False Negatives\n",
    "TN = kreuztabelle.values[0,0] # True Negatives\n",
    "# Veranschaulichung:\n",
    "kreuztabelle.sort_index(axis=0, ascending=False).sort_index(axis=1, ascending=False)"
   ]
  },
  {
   "cell_type": "code",
   "execution_count": null,
   "id": "a52abc23-e2b2-417e-86ae-d5e4e9fa84ab",
   "metadata": {},
   "outputs": [],
   "source": [
    "# Definition der einzelnen Funktionen zur Berechnung der untenstehenden Werte\n",
    "precision = TP/(TP+FP)\n",
    "TPR = TP/(TP+FN) # Recall\n",
    "accuracy = (TP+TN)/(TP+TN+FN+TN)\n",
    "F1 = 2*(precision*TPR/(precision+TPR))\n",
    "FPR = FP/(FP+TN)\n",
    "\n",
    "# Precision: Welcher Anteil der als 1 klassifizierten Daten ist auch mit 1 gelabelt?\n",
    "print(f\"Precision: {precision}\")\n",
    "# Accuracy: Anteil der korrekten (0 oder 1 Vorhersagen) an allen Vorhersagen\n",
    "print(f\"Accuracy Score: {accuracy}\")\n",
    "# F1:was macht ein gutes Modell aus? Sowohl eine hohe Trefferquote haben als auch präzise\n",
    "print(f\"F1: {F1}\")\n",
    "# Recall: Welchen Anteil der mit 1 gelabelten Daten findet der Klassifikator?\n",
    "print(f\"Recall (TPR): {TPR}\")\n",
    "# False-Positive-Rate:Anteil der negativen Fälle, die in den Daten fälschlicherweise als positive Fälle identifiziert wurden\n",
    "print(f\"FPR: {FPR}\")"
   ]
  },
  {
   "cell_type": "markdown",
   "id": "4810f131-ff37-4a4a-9ed2-dadebd6eb4f9",
   "metadata": {},
   "source": [
    "Precision: 0.8276374442793462\n",
    "\n",
    "Accuracy Score: 0.5402493133319248\n",
    "\n",
    "F1: 0.7923186344238975\n",
    "\n",
    "Recall (TPR): 0.7598908594815825\n",
    "\n",
    "FPR: 0.054820415879017016\n"
   ]
  },
  {
   "cell_type": "markdown",
   "id": "c8676e7e-9e0d-44b6-9cf5-c6ed7e1fbaa4",
   "metadata": {
    "jp-MarkdownHeadingCollapsed": true,
    "tags": []
   },
   "source": [
    "# Support Vector Classifier"
   ]
  },
  {
   "cell_type": "code",
   "execution_count": null,
   "id": "7359163e-6b31-4654-8986-2b8ac5594c89",
   "metadata": {},
   "outputs": [],
   "source": [
    "# Einlesen der Daten\n",
    "raw = pd.read_csv('train.csv')"
   ]
  },
  {
   "cell_type": "code",
   "execution_count": null,
   "id": "1b6c982c-423b-4e74-b54c-5d18b8efbd90",
   "metadata": {},
   "outputs": [],
   "source": [
    "def data_prep(df_raw):\n",
    "    df = df_raw.copy()\n",
    "    # Spalte Index nicht aussagekräftig --> Wird gelöscht\n",
    "    df = df.drop(columns=\"index\")\n",
    "    \n",
    "    # Operationen auf Datumsspalte:\n",
    "    # Anlegen der Spalte Tag und Uhrzeit und Löschen von \"Datum\", da es nicht sinnführend bei Operationen ist\n",
    "    df[\"Datum\"] = pd.to_datetime(df[\"Datum\"])\n",
    "    df[\"Tag\"] = df[\"Datum\"].dt.day.astype(str)\n",
    "    df[\"Uhrzeit\"] = df[\"Datum\"].dt.hour.astype(str)\n",
    "    df = df.drop(columns=\"Datum\",axis=1)\n",
    "    \n",
    "    # Skalierung von CO2, da rechtsschiefe Verteilung \n",
    "    # und von allen anderen, da SVM sensitiv auf Skalierung reagiert\n",
    "    scaler = MinMaxScaler()\n",
    "    df[[\"Temperatur\",\"Luftfeuchtigkeit\",\"CO2\",\"Wassergehalt\",\"Tag\",\"Uhrzeit\"]]=scaler.fit_transform(df[[\"Temperatur\",\"Luftfeuchtigkeit\",\"CO2\",\"Wassergehalt\",\"Tag\",\"Uhrzeit\"]])\n",
    "    \n",
    "    # Auffüllen NaN-Werte mit vorherigem Wert in der Spalte (forward fill)\n",
    "    df.fillna(method=\"ffill\", inplace= True)\n",
    "    \n",
    "    df_modified = df\n",
    "    \n",
    "    return df_modified\n",
    "\n",
    "df_modified = data_prep(raw)\n"
   ]
  },
  {
   "cell_type": "code",
   "execution_count": null,
   "id": "6b4e05c3-9870-417d-8677-fb9e9d2371c3",
   "metadata": {},
   "outputs": [],
   "source": [
    "# Teile Daten in Features und Label auf\n",
    "X = df_modified.drop(columns=[\"Anwesenheit\"])\n",
    "y = df_modified[[\"Anwesenheit\"]]\n",
    "\n",
    "# Wird benötigt, um richtige Shape zu haben für späteres Vorgehen\n",
    "y = np.ravel(y)\n"
   ]
  },
  {
   "cell_type": "code",
   "execution_count": null,
   "id": "c054b758-bc4b-430b-9dc0-daf186952308",
   "metadata": {},
   "outputs": [],
   "source": [
    "# Training auf 10 % des Datensatzes, da Laufzeit sonst zu lange\n",
    "df_sampled = df_modified.sample(frac=0.1)\n",
    "\n",
    "# Teile Daten in Features und Label auf\n",
    "X_sampled = df_sampled.drop(columns=[\"Anwesenheit\"],axis=1)\n",
    "y_sampled = df_sampled[[\"Anwesenheit\"]]\n",
    "\n",
    "# Wieder in richtige Shape für später bringen\n",
    "y_sampled = np.ravel(y_sampled)\n",
    "\n",
    "# Training und Testset der sampled data \n",
    "# Auf Trainingsset wird CV und Training angewandt, auf Testset wird dann überprüft\n",
    "X_s_train, X_s_test, y_s_train, y_s_test = train_test_split(X_sampled, y_sampled, test_size=0.2, random_state=42)"
   ]
  },
  {
   "cell_type": "markdown",
   "id": "9ab57c77-0eb9-441e-83e1-5cb20950397d",
   "metadata": {
    "jp-MarkdownHeadingCollapsed": true,
    "tags": []
   },
   "source": [
    "#### Vergleich No-SMOTE-SMOTE"
   ]
  },
  {
   "cell_type": "code",
   "execution_count": null,
   "id": "278b5536-2765-4a7a-8bb5-524eb0fdbfb8",
   "metadata": {},
   "outputs": [],
   "source": [
    "# GridSearch ohne SMOTE zur Bestimmung der Parameter, welche den höchsten Recall vorbringen\n",
    "\n",
    "# Auswahlmöglichkeit an möglichen Kombinationen der Parameter, blinde Auswahl\n",
    "tuned_parameters = [\n",
    "    {\"kernel\": [\"rbf\"], \"gamma\": [0.1, 1], \"C\": [1, 10]},\n",
    "    {\"kernel\": [\"linear\"], \"C\": [1, 10]},\n",
    "    {\"kernel\": [\"poly\"],\"C\": [1, 10]}\n",
    "]\n",
    "\n",
    "# Nun: GridSearchCV, sucht mittels CV und eben GridSearch die Kombination der Parameter, welche den höchsten Recall vorbringt\n",
    "# Gehe hauptsächlich auf Recall, da keine MA frieren sollen\n",
    "clf_sampled = GridSearchCV(SVC(), tuned_parameters, scoring=\"recall\")\n",
    "\n",
    "# Fitten der SVC auf den Trainingsdaten der sampled data\n",
    "clf_sampled.fit(X_s_train, y_s_train)\n",
    "\n",
    "# Ausgabe der Parameter, welche den höchsten Recall erzeugen\n",
    "best_parameters_sampled = clf_sampled.best_params_\n",
    "print(best_parameters_sampled)\n",
    "\n",
    "# Ausgabe des besten Recall-Ergebnisses\n",
    "best_result = clf_sampled.best_score_\n",
    "print(best_result)\n",
    "\n",
    "# Vorhersage auf Testset\n",
    "y_s_true, y_s_pred = y_s_test, clf_sampled.predict(X_s_test)\n",
    "\n",
    "# Ausgabe eines Classification Reports, zeigt Performance auf Testset\n",
    "print(classification_report(y_s_true, y_s_pred))"
   ]
  },
  {
   "cell_type": "code",
   "execution_count": null,
   "id": "e10d244c-3deb-46c2-af89-312c81dd0b70",
   "metadata": {},
   "outputs": [],
   "source": [
    "# GridSearch mit vorherigem SMOTE\n",
    "# SMOTE wird angewandt, da eine ungleich große Verteilung der Daten vorliegt\n",
    "# Habe dreimal so viele Datenpunkte, in welchen Anwesenheit = 0 ist, als Anwesenheit =1\n",
    "# Deswegen: Auswahl einer Oversampling-Strategie, hierbei Entscheidung für SMOTE anstatt für Verdreifachen der Datenpunkte mit Anwesenheit = 1\n",
    "\n",
    "# Transformation wird auf Sampled Data angewandt\n",
    "X_s_train_SMOTE, y_s_train_SMOTE = SMOTE().fit_resample(X_s_train, y_s_train)\n",
    "\n",
    "# Willkürliche Auswahl an möglichen Kombinationen, wie oben\n",
    "tuned_parameters = [\n",
    "    {\"kernel\": [\"rbf\"], \"gamma\": [0.1, 1], \"C\": [1, 10]},\n",
    "    {\"kernel\": [\"linear\"], \"C\": [1, 10]},\n",
    "    {\"kernel\": [\"poly\"],\"C\": [1, 10]}\n",
    "]\n",
    "\n",
    "\n",
    "# Gehe hauptsächlich auf Recall, da keine MA frieren sollen\n",
    "# GridSearchCV, um die besten Hyperparameter zu finden, wodurch Recall maximal ist\n",
    "clf_SMOTE_sampled = GridSearchCV(SVC(), tuned_parameters, scoring=\"recall\")\n",
    "\n",
    "# Trainiere SVM\n",
    "clf_SMOTE_sampled.fit(X_s_train_SMOTE, y_s_train_SMOTE)\n",
    "\n",
    "# Ausgabe der Parameter, mit denen Recall am höchsten ist\n",
    "best_parameters_sampled_SMOTE = clf_SMOTE_sampled.best_params_\n",
    "print(best_parameters_sampled_SMOTE)\n",
    "\n",
    "best_result_SMOTE = clf_SMOTE_sampled.best_score_\n",
    "print(best_result_SMOTE)\n",
    "\n",
    "y_s_true_SMOTE, y_s_pred_SMOTE = y_s_test, clf_SMOTE_sampled.predict(X_s_test)\n",
    "print(classification_report(y_s_true_SMOTE, y_s_pred_SMOTE))\n",
    "\n",
    "# Mit SMOTE: Bekomme besseres Ergebnis als ohne!\n",
    "# Resultat: SMOTE muss auf ganzem Datensatz angewandt werden."
   ]
  },
  {
   "attachments": {
    "fc13c021-eb4e-4455-b25b-895e17d5fb97.png": {
     "image/png": "[encoded data removed]"
    }
   },
   "cell_type": "markdown",
   "id": "06f6ce87-2a16-448a-9d5f-2806e2d83128",
   "metadata": {},
   "source": [
    "![image.png](attachment:fc13c021-eb4e-4455-b25b-895e17d5fb97.png)"
   ]
  },
  {
   "cell_type": "markdown",
   "id": "ff502ff7-39d0-471b-970f-3c034b57f991",
   "metadata": {
    "jp-MarkdownHeadingCollapsed": true,
    "tags": []
   },
   "source": [
    "#### Training mit besten Parametern"
   ]
  },
  {
   "cell_type": "code",
   "execution_count": null,
   "id": "6fb1c1b7-3d61-4b94-aa95-1b95da2fdd20",
   "metadata": {},
   "outputs": [],
   "source": [
    "# Data preparation und Oversampling\n",
    "X_train, X_test, y_train, y_test = train_test_split(df_modified.drop(\"Anwesenheit\", axis=1), df_modified[\"Anwesenheit\"], test_size=0.2, random_state=42)\n",
    "X_train_SMOTE, y_train_SMOTE = SMOTE().fit_resample(X_train, y_train)\n",
    "\n",
    "# initialisieren und trainieren von SVC\n",
    "clf_best = SVC(C=1000, gamma=1,kernel=\"rbf\", probability=True)\n",
    "clf_best.fit(X_train_SMOTE, y_train_SMOTE)\n",
    "\n",
    "# Modell speichern\n",
    "dump(clf_best,'final_svc.joblib')"
   ]
  },
  {
   "cell_type": "markdown",
   "id": "4adbd610-f791-444f-aaef-ea9b2014e8c0",
   "metadata": {
    "jp-MarkdownHeadingCollapsed": true,
    "tags": []
   },
   "source": [
    "# Random Forest"
   ]
  },
  {
   "cell_type": "code",
   "execution_count": null,
   "id": "996c4d05-fdaa-451d-83ec-74c12d6cde5f",
   "metadata": {},
   "outputs": [],
   "source": [
    "def pipeline(raw):\n",
    "    lead = raw.loc[:,:'Datum']\n",
    "    tail = raw.loc[:,'Temperatur':]\n",
    "    imp = SimpleImputer(missing_values=np.nan, strategy='mean')\n",
    "    imp.fit(tail)\n",
    "    SimpleImputer()\n",
    "    tail = pd.DataFrame(imp.transform(tail), columns = tail.columns)\n",
    "    tail = tail.iloc[:14241,:]\n",
    "    raw = pd.concat([lead, tail],axis=1)\n",
    "    raw.drop(['index'], inplace=True, axis=1)\n",
    "    raw['Datum'] = raw.Datum.astype('datetime64[ns]')\n",
    "    raw['Minute'] = raw.Datum.dt.minute\n",
    "    raw['Stunde'] = raw.Datum.dt.hour\n",
    "    raw['Wochentag'] = raw.Datum.dt.day_name()\n",
    "    try:\n",
    "        Scaling = raw.drop(['Datum','Anwesenheit','Wochentag','Stunde', 'Minute'],axis=1)\n",
    "    except:\n",
    "        Scaling = raw.drop(['Datum','Wochentag','Stunde', 'Minute'],axis=1)\n",
    "    scaler = StandardScaler()\n",
    "    Scaling = pd.DataFrame(scaler.fit_transform(Scaling), columns = Scaling.columns)\n",
    "    Rest = raw.drop(Scaling.columns,axis=1)\n",
    "    raw = pd.concat([Scaling,Rest],axis=1)\n",
    "    try:\n",
    "        X = pd.get_dummies(raw.drop(['Datum','Anwesenheit'],axis = 1))\n",
    "    except:\n",
    "        X = pd.get_dummies(raw.drop(['Datum'],axis = 1))\n",
    "    try:\n",
    "        Y = raw['Anwesenheit']\n",
    "    except:\n",
    "        Y = None\n",
    "    return X, Y"
   ]
  },
  {
   "cell_type": "code",
   "execution_count": null,
   "id": "e9430635-163d-4c17-8930-345af4c8b475",
   "metadata": {},
   "outputs": [],
   "source": [
    "# Vorverarbeitung\n",
    "rfor_x,rfor_y = pipeline(raw)\n",
    "# Train Test Split für Validierung\n",
    "X_train, X_test, y_train, y_test = train_test_split(rfor_x, rfor_y, test_size=0.2, random_state=42)"
   ]
  },
  {
   "cell_type": "markdown",
   "id": "264f982d-2100-4ab4-8df4-26ff8f31ce79",
   "metadata": {},
   "source": [
    "Cross Validation for Hyperparameters: n_estimators, max_features, max_depth"
   ]
  },
  {
   "cell_type": "code",
   "execution_count": null,
   "id": "765eb617-9e42-49eb-a42b-237f3f2c1869",
   "metadata": {},
   "outputs": [],
   "source": [
    "# Possible Hyperparameters:n_estimators = Number of trees, max_features = Number of Features, max_depth = Tiefe, in der der Baum generiert wird\n",
    "param_grid = {'n_estimators':[10,100,200], #Default is 100\n",
    "             'max_features':['sqrt','log2'], #Default ist sqrt, log2 other option\n",
    "             'max_depth':[None,4,6]}, #Default is None, means depth until pure leaves are achieved\n",
    "scores = ['accuracy', 'precision', 'recall']\n",
    "\n",
    "gs = GridSearchCV(RandomForestClassifier(criterion = 'entropy', random_state=True), # control randomness of bootstrap/features during Hyperparam selection\n",
    "                 param_grid = param_grid,\n",
    "                 scoring = scores,\n",
    "                 refit=\"recall\", # recall as metric to evaluate best model\n",
    "                )\n",
    "gs.fit(X_train,y_train)"
   ]
  },
  {
   "attachments": {
    "93a76c9a-92d5-4fa7-a3ef-a393409bfbc4.png": {
     "image/png": "[encoded data removed]"
    }
   },
   "cell_type": "markdown",
   "id": "16cebe50-d832-471a-8b1a-f6f5cfb998e5",
   "metadata": {},
   "source": [
    "![image.png](attachment:93a76c9a-92d5-4fa7-a3ef-a393409bfbc4.png)"
   ]
  },
  {
   "cell_type": "code",
   "execution_count": null,
   "id": "791c703a-68d7-4839-bb27-b5317665c45f",
   "metadata": {},
   "outputs": [],
   "source": [
    "print(f\"Ergebnis der CV: \\nBestes Modell ist {gs.best_estimator_} \\nmit Hyperparametern {gs.best_params_} und einem Recall von {gs.best_score_}\")"
   ]
  },
  {
   "attachments": {
    "291bc193-6cdd-4855-a6a5-126a4f1e82ef.png": {
     "image/png": "[encoded data removed]"
    }
   },
   "cell_type": "markdown",
   "id": "ec82281c-bad2-41be-8d13-c9449dd0c89c",
   "metadata": {},
   "source": [
    "![image.png](attachment:291bc193-6cdd-4855-a6a5-126a4f1e82ef.png)"
   ]
  },
  {
   "cell_type": "markdown",
   "id": "c4528e12-ce32-4b40-b312-08eae647bc4b",
   "metadata": {},
   "source": [
    "#### Trainieren mit besten Parametern"
   ]
  },
  {
   "cell_type": "code",
   "execution_count": null,
   "id": "09241af9-8c16-407b-8bc8-ca330b3ae075",
   "metadata": {},
   "outputs": [],
   "source": [
    "#Use best hyperparams on complete train data set\n",
    "rf = RandomForestClassifier(n_estimators=200, criterion='entropy', max_features = 'sqrt', random_state = True)\n",
    "rf.fit(X_train, y_train)\n",
    "# Evaluate performance on test data\n",
    "y_pred = rf.predict(X_test)\n",
    "print(\"Train Accuracy: \", rf.score(X_train, y_train), \"Test Accuracy: \", rf.score(X_test, y_test))\n",
    "print(\"Recall: \", recall_score(y_test, y_pred), \"Precision: \", precision_score(y_test, y_pred))\n",
    "print(\"Confusion Matrix: \\n\",confusion_matrix(y_test, y_pred))\n",
    "print(\"Feature Importance: \\n\", pd.Series(rf.feature_importances_, index=rfor_x.columns).sort_values(ascending=False)) "
   ]
  },
  {
   "attachments": {
    "56703d85-b194-4652-be40-9f407e094087.png": {
     "image/png": "[encoded data removed]"
    }
   },
   "cell_type": "markdown",
   "id": "6ab9da9e-c30a-444f-85be-7e9faf17e4f9",
   "metadata": {},
   "source": [
    "![image.png](attachment:56703d85-b194-4652-be40-9f407e094087.png)"
   ]
  }
 ],
 "metadata": {
  "kernelspec": {
   "display_name": "Python 3 (ipykernel)",
   "language": "python",
   "name": "python3"
  },
  "language_info": {
   "codemirror_mode": {
    "name": "ipython",
    "version": 3
   },
   "file_extension": ".py",
   "mimetype": "text/x-python",
   "name": "python",
   "nbconvert_exporter": "python",
   "pygments_lexer": "ipython3",
   "version": "3.7.11"
  }
 },
 "nbformat": 4,
 "nbformat_minor": 5
}
