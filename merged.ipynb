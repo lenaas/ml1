{
 "cells": [
  {
   "cell_type": "code",
   "execution_count": null,
   "id": "8a6be359-b26a-4a20-9aad-45e7fec9b9e4",
   "metadata": {},
   "outputs": [],
   "source": [
    "import statistics\n",
    "import numpy as np\n",
    "import pandas as pd\n",
    "import datetime as dt\n",
    "\n",
    "import seaborn as sns \n",
    "import plotly.express as px\n",
    "import matplotlib.pyplot as plt\n",
    "\n",
    "from sklearn.svm import SVC\n",
    "from sklearn.impute import SimpleImputer\n",
    "from sklearn.preprocessing import MinMaxScaler\n",
    "from sklearn.model_selection import train_test_split\n",
    "from sklearn.linear_model import LogisticRegressionCV\n",
    "from sklearn.model_selection import cross_val_score, train_test_split, GridSearchCV, cross_validate\n",
    "from sklearn.metrics import accuracy_score, recall_score, precision_score, confusion_matrix, classification_report, roc_curve, RocCurveDisplay\n",
    "\n",
    "from imblearn.over_sampling import SMOTE\n",
    "from collections import Counter\n",
    "\n",
    "from joblib import dump, load"
   ]
  },
  {
   "cell_type": "code",
   "execution_count": null,
   "id": "5eda2b68-ae9a-4d01-b26c-d87b5e216059",
   "metadata": {},
   "outputs": [],
   "source": [
    "raw = pd.read_csv('train.csv')"
   ]
  },
  {
   "cell_type": "markdown",
   "id": "bfd4767f-74f9-4953-a988-1c965cce82f2",
   "metadata": {},
   "source": [
    "# Logistische Regression"
   ]
  },
  {
   "cell_type": "code",
   "execution_count": null,
   "id": "31be8a12-eaeb-40e2-acb5-fcbe973e9c39",
   "metadata": {},
   "outputs": [],
   "source": [
    "# Cleaning of missing values\n",
    "lead = raw.loc[:,:'Datum']\n",
    "tail = raw.loc[:,'Temperatur':]\n",
    "imp = SimpleImputer(missing_values=np.nan, strategy='mean')\n",
    "imp.fit(tail)\n",
    "tail = pd.DataFrame(imp.transform(tail), columns = tail.columns)\n",
    "tail = tail.iloc[:14241,:]\n",
    "raw = pd.concat([lead, tail],axis=1)\n",
    "raw.drop(['index'], inplace=True, axis=1)"
   ]
  },
  {
   "cell_type": "code",
   "execution_count": null,
   "id": "5d8e6819-321b-4524-9ced-72eb14db1fc9",
   "metadata": {},
   "outputs": [],
   "source": [
    "# Problem für spätere logistische Regression: datetime oder object erzeugt \" TypeError: float() argument must be a string or a number, not 'Timestamp' \"\n",
    "# Type Error Lösung: https://stackoverflow.com/questions/16453644/regression-with-date-variable-using-scikit-learn\n",
    "raw['Datum'] = raw.Datum.astype('datetime64[ns]')\n",
    "\n",
    "raw['Jahr'] = raw['Datum'].dt.year\n",
    "raw['Monat'] = raw['Datum'].dt.month\n",
    "raw['Tag'] = raw['Datum'].dt.day\n",
    "raw['Stunde'] = raw['Datum'].dt.hour\n",
    "raw['Minute'] = raw['Datum'].dt.minute\n",
    "raw['Sekunde'] = raw['Datum'].dt.second\n",
    "raw['Wochentag'] = raw['Datum'].dt.strftime(\"%A\")\n",
    "\n",
    "raw.drop(['Datum'], inplace=True, axis=1)\n",
    "\n",
    "# One Hot Encoding, um kein Object type in den Daten zu haben\n",
    "Wochentag = pd.get_dummies(raw[['Wochentag']], columns=['Wochentag'])\n",
    "raw = pd.concat([raw, Wochentag], axis=1) \n",
    "raw.drop(['Wochentag'], inplace=True, axis=1)\n",
    "\n",
    "df = raw.copy()\n",
    "df.head()"
   ]
  },
  {
   "cell_type": "code",
   "execution_count": null,
   "id": "20b77768-d9d5-4da1-a654-f2d82586c230",
   "metadata": {},
   "outputs": [],
   "source": [
    "X = df.drop(\"Anwesenheit\",axis=1).values\n",
    "y = df[\"Anwesenheit\"].values\n",
    "\n",
    "X_train, X_test, y_train, y_test = train_test_split(X, y, test_size = 0.2, random_state=42)\n",
    "\n",
    "X_train.shape, X_test.shape, y_train.shape, y_test.shape"
   ]
  },
  {
   "cell_type": "code",
   "execution_count": null,
   "id": "afed0d7a-ec72-48c1-8a84-0c4737f04d2c",
   "metadata": {},
   "outputs": [],
   "source": [
    "from sklearn.model_selection import GridSearchCV \n",
    "\n",
    "# Hyperparametersuche\n",
    "logreg = LogisticRegressionCV(cv=5, random_state=42, max_iter=20000)\n",
    "param_grid = {'penalty':['l1', 'l2', 'elasticnet', 'none'], #Default is l2\n",
    "             'solver' :['newton-cg', 'lbfgs', 'liblinear', 'sag', 'saga'] #Default is lbfgs\n",
    "             }\n",
    "scores = ['accuracy', 'precision', 'recall']\n",
    "\n",
    "gs = GridSearchCV(logreg,\n",
    "                 param_grid = param_grid,\n",
    "                 scoring = scores,\n",
    "                 refit=\"recall\", # needed for multi param search -> we decide on recall, because we have to minimize occasions, where present = 1 prediction = 0\n",
    "                 return_train_score=True) # includes Train Scores in cv_results_\n",
    "gs.fit(X_train,y_train)"
   ]
  },
  {
   "cell_type": "markdown",
   "id": "7852c36a-a67c-4d26-b66a-afcb0aa4b8e4",
   "metadata": {},
   "source": [
    "Ergebnis der CV: \n",
    "Bestes Modell ist LogisticRegressionCV(cv=5, max_iter=20000, random_state=42, solver='newton-cg') \n",
    "mit Hyperparametern {'penalty': 'l2', 'solver': 'newton-cg'} und einem Recall von 0.7561643835616437"
   ]
  },
  {
   "cell_type": "code",
   "execution_count": null,
   "id": "953d0dc8-f994-4ed0-bbc2-89fed0cb2c31",
   "metadata": {},
   "outputs": [],
   "source": [
    "df = pd.DataFrame(gs.cv_results_)\n",
    "df"
   ]
  },
  {
   "cell_type": "code",
   "execution_count": null,
   "id": "324178d9-9725-4e9a-b506-01508b04ce0c",
   "metadata": {},
   "outputs": [],
   "source": [
    "print(f\"Ergebnis der CV: \\nBestes Modell ist {gs.best_estimator_} \\nmit Hyperparametern {gs.best_params_} und einem Recall von {gs.best_score_}\")"
   ]
  },
  {
   "cell_type": "code",
   "execution_count": null,
   "id": "972925e9-f37e-4bb3-938d-485e705a4469",
   "metadata": {},
   "outputs": [],
   "source": [
    "logreg = LogisticRegressionCV(cv=5, random_state=42, max_iter=20000, penalty='l2', solver='newton-cg').fit(X_train, y_train) # Kreuzvalidierung mit 5 folds\n",
    "\n",
    "y_pred = logreg.predict(X_test)\n",
    "y_proba = logreg.predict_log_proba(X_test)\n",
    "logreg.score(X_test, y_test)"
   ]
  },
  {
   "cell_type": "code",
   "execution_count": null,
   "id": "505ad0e7-6a46-4cd0-94d6-4e019cc66cd8",
   "metadata": {},
   "outputs": [],
   "source": [
    "kreuztabelle = pd.crosstab(index=y_pred, columns=y_test, rownames=[\"predicted\"], colnames=[\"actual\"])\n",
    "TP = kreuztabelle.values[1,1]\n",
    "FP = kreuztabelle.values[1,0]\n",
    "FN = kreuztabelle.values[0,1]\n",
    "TN = kreuztabelle.values[0,0]\n",
    "kreuztabelle.sort_index(axis=0, ascending=False).sort_index(axis=1, ascending=False)"
   ]
  },
  {
   "cell_type": "code",
   "execution_count": null,
   "id": "a52abc23-e2b2-417e-86ae-d5e4e9fa84ab",
   "metadata": {},
   "outputs": [],
   "source": [
    "precision = TP/(TP+FP)\n",
    "TPR = TP/(TP+FN) # Recall\n",
    "accuracy = (TP+TN)/(TP+TN+FN+TN)\n",
    "F1 = 2*(precision*TPR/(precision+TPR))\n",
    "FPR = FP/(FP+TN)\n",
    "\n",
    "# Precision: Welcher Anteil der als 1 klassifizierten Daten ist auch mit 1 gelabelt?\n",
    "print(f\"Precision: {precision}\")\n",
    "# Accuracy: Anteil der korrekten (0 oder 1 Vorhersagen) an allen Vorhersagen\n",
    "print(f\"Accuracy Score: {accuracy}\")\n",
    "# F1:was macht ein gutes Modell aus? Sowohl eine hohe Trefferquote haben als auch präzise\n",
    "print(f\"F1: {F1}\")\n",
    "# Recall: Welchen Anteil der mit 1 gelabelten Daten findet der Klassifikator?\n",
    "print(f\"Recall (TPR): {TPR}\")\n",
    "\n",
    "print(f\"FPR: {FPR}\")"
   ]
  },
  {
   "cell_type": "markdown",
   "id": "4810f131-ff37-4a4a-9ed2-dadebd6eb4f9",
   "metadata": {},
   "source": [
    "Precision: 0.8276374442793462\n",
    "\n",
    "Accuracy Score: 0.5402493133319248\n",
    "\n",
    "F1: 0.7923186344238975\n",
    "\n",
    "Recall (TPR): 0.7598908594815825\n",
    "\n",
    "FPR: 0.054820415879017016\n"
   ]
  },
  {
   "cell_type": "markdown",
   "id": "c8676e7e-9e0d-44b6-9cf5-c6ed7e1fbaa4",
   "metadata": {},
   "source": [
    "# Support Vector Classifier"
   ]
  },
  {
   "cell_type": "code",
   "execution_count": null,
   "id": "6b4e05c3-9870-417d-8677-fb9e9d2371c3",
   "metadata": {},
   "outputs": [],
   "source": [
    "# Einlesen der Daten\n",
    "df = raw.copy()\n",
    "\n",
    "# Spalte Index nicht aussagekräftig --> Wird gelöscht\n",
    "df = df.drop(columns=\"index\")\n",
    "\n",
    "# Operationen auf Datumsspalte:\n",
    "# Anlegen der Spalte Tag und Uhrzeit und Löschen von \"Datum\", da es nicht sinnführend bei Operationen ist\n",
    "df[\"Datum\"]=pd.to_datetime(df[\"Datum\"])\n",
    "df[\"Tag\"]=df[\"Datum\"].dt.day.astype(str)\n",
    "df[\"Uhrzeit\"]=df[\"Datum\"].dt.hour.astype(str)\n",
    "df_modified = df.drop(columns=\"Datum\",axis=1)\n",
    "\n",
    "# Skalierung von CO2, da rechtsschiefe Verteilung \n",
    "# und von allen anderen, da SVM sensitiv auf Skalierung reagiert\n",
    "scaler= MinMaxScaler()\n",
    "df_modified[[\"Temperatur\",\"Luftfeuchtigkeit\",\"CO2\",\"Wassergehalt\",\"Tag\",\"Uhrzeit\"]]=scaler.fit_transform(df_modified[[\"Temperatur\",\"Luftfeuchtigkeit\",\"CO2\",\"Wassergehalt\",\"Tag\",\"Uhrzeit\"]])\n",
    "\n",
    "# Auffüllen NaN-Werte mit vorherigem Wert in der Spalte (forward fill)\n",
    "df_modified.fillna(method=\"ffill\", inplace= True)\n",
    "\n",
    "\n",
    "# Teile Daten in Features und Label auf\n",
    "X = df_modified.drop(columns=[\"Anwesenheit\"])\n",
    "y = df_modified[[\"Anwesenheit\"]]\n",
    "\n",
    "# Wird benötigt, um richtige Shape zu haben für späteres Vorgehen\n",
    "y = np.ravel(y)\n"
   ]
  },
  {
   "cell_type": "code",
   "execution_count": null,
   "id": "c054b758-bc4b-430b-9dc0-daf186952308",
   "metadata": {},
   "outputs": [],
   "source": [
    "# Training auf 10 % des Datensatzes, da Laufzeit sonst zu lange\n",
    "df_sampled = df_modified.sample(frac=0.1)\n",
    "\n",
    "# Teile Daten in Features und Label auf\n",
    "X_sampled = df_sampled.drop(columns=[\"Anwesenheit\"],axis=1)\n",
    "y_sampled = df_sampled[[\"Anwesenheit\"]]\n",
    "\n",
    "# Wieder in richtige Shape für später bringen\n",
    "y_sampled = np.ravel(y_sampled)\n",
    "\n",
    "# Training und Testset der sampled data \n",
    "# Auf Trainingsset wird CV und Training angewandt, auf Testset wird dann überprüft\n",
    "X_s_train, X_s_test, y_s_train, y_s_test = train_test_split(X_sampled, y_sampled, test_size=0.2, random_state=42)"
   ]
  },
  {
   "cell_type": "code",
   "execution_count": null,
   "id": "278b5536-2765-4a7a-8bb5-524eb0fdbfb8",
   "metadata": {},
   "outputs": [],
   "source": [
    "# GridSearch ohne SMOTE zur Bestimmung der Parameter, welche den höchsten Recall vorbringen\n",
    "\n",
    "# Auswahlmöglichkeit an möglichen Kombinationen der Parameter, blinde Auswahl\n",
    "tuned_parameters = [\n",
    "    {\"kernel\": [\"rbf\"], \"gamma\": [0.1, 1], \"C\": [1, 10]},\n",
    "    {\"kernel\": [\"linear\"], \"C\": [1, 10]},\n",
    "    {\"kernel\": [\"poly\"],\"C\": [1, 10]}\n",
    "]\n",
    "\n",
    "# Nun: GridSearchCV, sucht mittels CV und eben GridSearch die Kombination der Parameter, welche den höchsten Recall vorbringt\n",
    "# Gehe hauptsächlich auf Recall, da keine MA frieren sollen\n",
    "clf_sampled = GridSearchCV(SVC(), tuned_parameters, scoring=\"recall\")\n",
    "\n",
    "# Fitten der SVC auf den Trainingsdaten der sampled data\n",
    "clf_sampled.fit(X_s_train, y_s_train)\n",
    "\n",
    "# Ausgabe der Parameter, welche den höchsten Recall erzeugen\n",
    "best_parameters_sampled = clf_sampled.best_params_\n",
    "print(best_parameters_sampled)\n",
    "\n",
    "# Ausgabe des besten Recall-Ergebnisses\n",
    "best_result = clf_sampled.best_score_\n",
    "print(best_result)\n",
    "\n",
    "# Vorhersage auf Testset\n",
    "y_s_true, y_s_pred = y_s_test, clf_sampled.predict(X_s_test)\n",
    "\n",
    "# Ausgabe eines Classification Reports, zeigt Performance auf Testset\n",
    "print(classification_report(y_s_true, y_s_pred))"
   ]
  },
  {
   "cell_type": "code",
   "execution_count": null,
   "id": "e10d244c-3deb-46c2-af89-312c81dd0b70",
   "metadata": {},
   "outputs": [],
   "source": [
    "# GridSearch mit vorherigem SMOTE\n",
    "# SMOTE wird angewandt, da eine ungleich große Verteilung der Daten vorliegt\n",
    "# Habe dreimal so viele Datenpunkte, in welchen Anwesenheit = 0 ist, als Anwesenheit =1\n",
    "# Deswegen: Auswahl einer Oversampling-Strategie, hierbei Entscheidung für SMOTE anstatt für Verdreifachen der Datenpunkte mit Anwesenheit = 1\n",
    "\n",
    "# Geht irgendwie nicht, wenn es explizit definiert wird, also Definition im Nachfolgenden\n",
    "# SMOTE = SMOTE()\n",
    "\n",
    "# Transformation wird auf Sampled Data angewandt\n",
    "X_s_train_SMOTE, y_s_train_SMOTE = SMOTE().fit_resample(X_s_train, y_s_train)\n",
    "\n",
    "# Willkürliche Auswahl an möglichen Kombinationen, wie oben\n",
    "tuned_parameters = [\n",
    "    {\"kernel\": [\"rbf\"], \"gamma\": [0.1, 1], \"C\": [1, 10]},\n",
    "    {\"kernel\": [\"linear\"], \"C\": [1, 10]},\n",
    "    {\"kernel\": [\"poly\"],\"C\": [1, 10]}\n",
    "]\n",
    "\n",
    "\n",
    "# Gehe hauptsächlich auf Recall, da keine MA frieren sollen\n",
    "# GridSearchCV, um die besten Hyperparameter zu finden, wodurch Recall maximal ist\n",
    "clf_SMOTE_sampled = GridSearchCV(SVC(), tuned_parameters, scoring=\"recall\")\n",
    "\n",
    "# Trainiere SVM\n",
    "clf_SMOTE_sampled.fit(X_s_train_SMOTE, y_s_train_SMOTE)\n",
    "\n",
    "# Ausgabe der Parameter, mit denen Recall am höchsten ist\n",
    "best_parameters_sampled_SMOTE = clf_SMOTE_sampled.best_params_\n",
    "print(best_parameters_sampled_SMOTE)\n",
    "\n",
    "best_result_SMOTE = clf_SMOTE_sampled.best_score_\n",
    "print(best_result_SMOTE)\n",
    "\n",
    "y_s_true_SMOTE, y_s_pred_SMOTE = y_s_test, clf_SMOTE_sampled.predict(X_s_test)\n",
    "print(classification_report(y_s_true_SMOTE, y_s_pred_SMOTE))\n",
    "\n",
    "# Mit SMOTE: Bekomme besseres Ergebnis als ohne!\n",
    "# Resultat: SMOTE muss auf ganzem Datensatz angewandt werden."
   ]
  },
  {
   "attachments": {
    "fc13c021-eb4e-4455-b25b-895e17d5fb97.png": {
     "image/png": "[encoded data removed]"
    }
   },
   "cell_type": "markdown",
   "id": "06f6ce87-2a16-448a-9d5f-2806e2d83128",
   "metadata": {},
   "source": [
    "![image.png](attachment:fc13c021-eb4e-4455-b25b-895e17d5fb97.png)"
   ]
  },
  {
   "cell_type": "code",
   "execution_count": null,
   "id": "a8cbd50a-9db9-4a96-b175-24d176ace9c2",
   "metadata": {},
   "outputs": [],
   "source": [
    "X_train, X_test, y_train, y_test = train_test_split(X, y, test_size=0.2, random_state=42)"
   ]
  },
  {
   "cell_type": "code",
   "execution_count": null,
   "id": "6fb1c1b7-3d61-4b94-aa95-1b95da2fdd20",
   "metadata": {},
   "outputs": [],
   "source": [
    "def data_prep(df_raw):\n",
    "    \n",
    "    df_raw = df_raw.drop(columns=\"index\")\n",
    "    df_raw[\"Datum\"]=pd.to_datetime(df_raw[\"Datum\"])\n",
    "    df_raw[\"Tag\"]=df_raw[\"Datum\"].dt.day.astype(str)\n",
    "    df_raw[\"Uhrzeit\"]=df_raw[\"Datum\"].dt.hour.astype(str)\n",
    "    df_raw = df_raw.drop(columns=\"Datum\",axis=1)\n",
    "    scaler= MinMaxScaler()\n",
    "    df_raw[[\"Temperatur\",\"Luftfeuchtigkeit\",\"CO2\",\"Wassergehalt\",\"Tag\",\"Uhrzeit\"]]=scaler.fit_transform(df_raw[[\"Temperatur\",\"Luftfeuchtigkeit\",\"CO2\",\"Wassergehalt\",\"Tag\",\"Uhrzeit\"]])\n",
    "    df_raw.fillna(method=\"ffill\", inplace= True)\n",
    "    df_prepared = df_raw\n",
    "    return df_prepared\n",
    "\n",
    "df_prepared = data_prep(raw)"
   ]
  }
 ],
 "metadata": {
  "kernelspec": {
   "display_name": "Python 3 (ipykernel)",
   "language": "python",
   "name": "python3"
  },
  "language_info": {
   "codemirror_mode": {
    "name": "ipython",
    "version": 3
   },
   "file_extension": ".py",
   "mimetype": "text/x-python",
   "name": "python",
   "nbconvert_exporter": "python",
   "pygments_lexer": "ipython3",
   "version": "3.7.11"
  }
 },
 "nbformat": 4,
 "nbformat_minor": 5
}
