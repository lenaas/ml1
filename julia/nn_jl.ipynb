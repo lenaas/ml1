{
 "cells": [
  {
   "cell_type": "markdown",
   "id": "2b69ebed-dcac-4f96-9409-154f26b93046",
   "metadata": {},
   "source": [
    "# Activate Local Environment"
   ]
  },
  {
   "cell_type": "code",
   "execution_count": 1,
   "id": "8a340684-4a13-45fb-b5a7-85c97e80bc1f",
   "metadata": {},
   "outputs": [
    {
     "name": "stderr",
     "output_type": "stream",
     "text": [
      "\u001b[32m\u001b[1m  Activating\u001b[22m\u001b[39m environment at `B:\\Uni\\Hauptstudium\\DMML\\Abgabe\\Project.toml`\n"
     ]
    }
   ],
   "source": [
    "] activate ."
   ]
  },
  {
   "cell_type": "markdown",
   "id": "289a0bf9-5d5b-4c88-8737-6be0e2b7a68f",
   "metadata": {
    "tags": []
   },
   "source": [
    "# Imports"
   ]
  },
  {
   "cell_type": "code",
   "execution_count": 2,
   "id": "6996ebd1-5133-4066-9c29-aadf6ba24bd3",
   "metadata": {},
   "outputs": [],
   "source": [
    "using DataFrames\n",
    "using CSV\n",
    "using PandasHelpers\n",
    "using Dates\n",
    "using ShiftedArrays\n",
    "using Statistics\n",
    "using Plots"
   ]
  },
  {
   "cell_type": "code",
   "execution_count": 3,
   "id": "c22c17e0-0eca-4dd8-80eb-676b1d8f2031",
   "metadata": {},
   "outputs": [],
   "source": [
    "import Base.>\n",
    "import Base.Bool"
   ]
  },
  {
   "cell_type": "code",
   "execution_count": 4,
   "id": "d8837f62-6d51-4520-a306-be3b809421a2",
   "metadata": {},
   "outputs": [],
   "source": [
    "using Flux"
   ]
  },
  {
   "cell_type": "markdown",
   "id": "b6e8ab22-0b12-43e0-954e-2f07b1f538bf",
   "metadata": {
    "tags": []
   },
   "source": [
    "# Hyperparameters and Function Definition"
   ]
  },
  {
   "cell_type": "code",
   "execution_count": 5,
   "id": "15461c49-21f5-4b91-bbd7-217392173a33",
   "metadata": {},
   "outputs": [
    {
     "data": {
      "text/plain": [
       "0.4"
      ]
     },
     "execution_count": 5,
     "metadata": {},
     "output_type": "execute_result"
    }
   ],
   "source": [
    "# hyperparameters\n",
    "SHIFT = [1,2,3,5,10]\n",
    "NUM_EPOCHS = 25\n",
    "DECISION_BOUNDARY = 0.4"
   ]
  },
  {
   "cell_type": "code",
   "execution_count": 6,
   "id": "2c2cedf1-bb55-4132-8684-bf8277088e4a",
   "metadata": {},
   "outputs": [
    {
     "data": {
      "text/plain": [
       "Bool"
      ]
     },
     "execution_count": 6,
     "metadata": {},
     "output_type": "execute_result"
    }
   ],
   "source": [
    "# define any number to be bigger than missing\n",
    "(>)(a::Number, b::Missing)  = true\n",
    "# define any real number but 0 to be true\n",
    "Bool(a::Real) = a == 0 ? false : true"
   ]
  },
  {
   "cell_type": "code",
   "execution_count": 7,
   "id": "ac46e740-11b4-4e7f-97b0-a3ee3bba60d3",
   "metadata": {},
   "outputs": [
    {
     "data": {
      "text/plain": [
       "didrise! (generic function with 1 method)"
      ]
     },
     "execution_count": 7,
     "metadata": {},
     "output_type": "execute_result"
    }
   ],
   "source": [
    "# split datetime into weekday, hour and minute\n",
    "function split_dt(dt)\n",
    "    [Dates.dayofweek(dt), Dates.hour(dt), Dates.minute(dt)]\n",
    "end\n",
    "# create new column whether there was a rise when compared to <shift> columns before\n",
    "function didrise!(df::DataFrame, cols::Vector{String}, shift::Number)\n",
    "    for col in cols\n",
    "        df[:, \"change_$(col)_$(shift)\"] = BitArray(df[:, col] .> ShiftedArray(df[:, col], shift))\n",
    "    end\n",
    "end"
   ]
  },
  {
   "cell_type": "code",
   "execution_count": 8,
   "id": "7a3341c2-36dd-4298-b111-7225ea37ab07",
   "metadata": {},
   "outputs": [
    {
     "data": {
      "text/plain": [
       "pipeline (generic function with 1 method)"
      ]
     },
     "execution_count": 8,
     "metadata": {},
     "output_type": "execute_result"
    }
   ],
   "source": [
    "# Data Pipeline\n",
    "function pipeline(raw::DataFrame, shifts)\n",
    "    # create copy without index\n",
    "    df = copy(raw[:, Not(:index)])\n",
    "    # convert to DateTime round to the nearest minute\n",
    "    select!(df, :Datum => ByRow(x->round(DateTime(x, \"yyyy-mm-dd HH:MM:SS\"), Dates.Minute)) => :Datum, :)\n",
    "    # create columns for weekday, hour and minute, drop column Datum\n",
    "    select!(df, :Datum => ByRow(x -> split_dt(x)) => [:Wochentag, :Stunde, :Minute] , Not(:Datum))\n",
    "    # impute missing values\n",
    "    naive_impute!(df.Temperatur)\n",
    "    naive_impute!(df.Luftfeuchtigkeit)\n",
    "    naive_impute!(df.CO2)\n",
    "    # dummy encode weekday and hour\n",
    "    get_dummies!(df, \"Wochentag\")\n",
    "    get_dummies!(df, \"Stunde\")\n",
    "    # create columns for relative change of temperature, humidity and co2\n",
    "    for shift in shifts\n",
    "        didrise!(df, [\"Temperatur\", \"Luftfeuchtigkeit\", \"CO2\", \"Wassergehalt\"], shift)\n",
    "    end\n",
    "    # abs max normalize \n",
    "    abs_max_norm!(df, names(df))\n",
    "    return df\n",
    "end"
   ]
  },
  {
   "cell_type": "code",
   "execution_count": 9,
   "id": "7246a326-0493-48e9-a9bd-64c6d6a6d592",
   "metadata": {},
   "outputs": [
    {
     "data": {
      "text/plain": [
       "predict (generic function with 1 method)"
      ]
     },
     "execution_count": 9,
     "metadata": {},
     "output_type": "execute_result"
    }
   ],
   "source": [
    "# neccessary transformation for prediction\n",
    "function predict(x, threshold)\n",
    "    # transpose, shift by threshold and round\n",
    "    round.(vec(model(transpose(Array(x)))) .+ (0.5-threshold))\n",
    "end"
   ]
  },
  {
   "cell_type": "code",
   "execution_count": 10,
   "id": "0d21adc1-478f-4aea-8348-7bd8c4278b5a",
   "metadata": {},
   "outputs": [
    {
     "data": {
      "text/plain": [
       "confusion_matrix (generic function with 1 method)"
      ]
     },
     "execution_count": 10,
     "metadata": {},
     "output_type": "execute_result"
    }
   ],
   "source": [
    "# count tp, fp, fn, tn and optionally display confusion matrix\n",
    "function confusion_matrix(ŷ, y; draw=false)\n",
    "    ŷ = Bool.(ŷ)\n",
    "    y = Bool.(y)\n",
    "    tp = fp = fn = tn = 0\n",
    "    for (i,j) in zip(ŷ, y)\n",
    "        if i & j\n",
    "            tp += 1\n",
    "        elseif i & !j\n",
    "            fp +=1\n",
    "        elseif !i & j\n",
    "            fn += 1\n",
    "        else\n",
    "            tn += 1\n",
    "        end\n",
    "    end\n",
    "    if draw\n",
    "        display([\"Confusion Matrix\" \"Y\" \"!Y\" ; \"Ŷ\" tp fp; \"!Ŷ\" fn tn])\n",
    "    end\n",
    "    return [tp, fp, fn, tn]\n",
    "end"
   ]
  },
  {
   "cell_type": "code",
   "execution_count": 11,
   "id": "308f8b28-fda3-48d7-b1fe-f4d0a98adad4",
   "metadata": {},
   "outputs": [
    {
     "data": {
      "text/plain": [
       "draw_roc (generic function with 1 method)"
      ]
     },
     "execution_count": 11,
     "metadata": {},
     "output_type": "execute_result"
    }
   ],
   "source": [
    "# draw ROC curve\n",
    "function draw_roc()\n",
    "    thresholds = 0:0.01:1.01\n",
    "    metrics = [confusion_matrix(predict(val_x, threshold), val_y, draw=false) for threshold in thresholds]\n",
    "    tprs = [tp/(tp+fn) for (tp, fp, fn, tn) in metrics]\n",
    "    fprs = [fp/(fp+tn) for (tp, fp, fn, tn) in metrics]\n",
    "    plot(fprs, tprs, label=\"ROC\")\n",
    "    plot!([0,1],[0,1], label=\"Baseline\")\n",
    "end"
   ]
  },
  {
   "cell_type": "markdown",
   "id": "7cdac572-0c46-47ce-aa6e-99209bfa048f",
   "metadata": {
    "tags": []
   },
   "source": [
    "# Preprocessing"
   ]
  },
  {
   "cell_type": "code",
   "execution_count": 12,
   "id": "1ec2b23d-3266-453e-985f-fa8765da37c8",
   "metadata": {
    "tags": []
   },
   "outputs": [
    {
     "data": {
      "text/plain": [
       "(\u001b[1m12817×56 DataFrame\u001b[0m\n",
       "\u001b[1m   Row \u001b[0m│\u001b[1m Minute    \u001b[0m\u001b[1m Temperatur \u001b[0m\u001b[1m Luftfeuchtigkeit \u001b[0m\u001b[1m CO2      \u001b[0m\u001b[1m Wassergehalt \u001b[0m\u001b[1m Woch\u001b[0m ⋯\n",
       "\u001b[1m       \u001b[0m│\u001b[90m Float64   \u001b[0m\u001b[90m Float64    \u001b[0m\u001b[90m Float64          \u001b[0m\u001b[90m Float64  \u001b[0m\u001b[90m Float64      \u001b[0m\u001b[90m Floa\u001b[0m ⋯\n",
       "───────┼────────────────────────────────────────────────────────────────────────\n",
       "     1 │ 0.118644     0.868556          0.75401   0.295046      0.709277       ⋯\n",
       "     2 │ 0.949153     0.824855          0.81268   0.252075      0.715878\n",
       "     3 │ 0.0338983    0.810789          0.485716  0.214937      0.417563\n",
       "     4 │ 0.186441     0.807101          0.495686  0.217402      0.423788\n",
       "     5 │ 0.440678     0.868556          0.672078  0.420754      0.631698       ⋯\n",
       "     6 │ 0.322034     0.810789          0.488273  0.216909      0.41977\n",
       "     7 │ 0.661017     0.894094          0.762404  0.346069      0.745349\n",
       "     8 │ 0.372881     0.989416          0.580303  0.359502      0.652506\n",
       "     9 │ 0.40678      0.973438          0.671311  0.38945       0.738005       ⋯\n",
       "    10 │ 0.20339      0.925913          0.769477  0.593912      0.789055\n",
       "    11 │ 1.0          0.937794          0.78882   0.678991      0.823537\n",
       "   ⋮   │     ⋮          ⋮              ⋮             ⋮           ⋮             ⋱\n",
       " 12808 │ 0.0677966    0.824855          0.820349  0.249774      0.722684\n",
       " 12809 │ 0.101695     0.855855          0.623506  0.216663      0.574648       ⋯\n",
       " 12810 │ 0.0847458    0.942301          0.722055  0.282721      0.758362\n",
       " 12811 │ 0.0677966    0.855855          0.605867  0.221592      0.558296\n",
       " 12812 │ 0.898305     0.831273          0.843612  0.237614      0.75063\n",
       " 12813 │ 0.677966     0.807101          0.743913  0.214937      0.637418       ⋯\n",
       " 12814 │ 0.0          0.827586          0.841056  0.221099      0.744153\n",
       " 12815 │ 0.847458     0.798907          0.690228  0.207912      0.58379\n",
       " 12816 │ 0.644068     0.866507          0.841056  0.54523       0.789386\n",
       " 12817 │ 0.644068     0.839877          0.482904  0.213705      0.433863       ⋯\n",
       "\u001b[36m                                               51 columns and 12796 rows omitted\u001b[0m, [0.0, 0.0, 0.0, 0.0, 1.0, 0.0, 1.0, 0.0, 1.0, 1.0  …  0.0, 0.0, 1.0, 0.0, 0.0, 0.0, 0.0, 0.0, 1.0, 0.0], \u001b[1m1424×56 DataFrame\u001b[0m\n",
       "\u001b[1m  Row \u001b[0m│\u001b[1m Minute    \u001b[0m\u001b[1m Temperatur \u001b[0m\u001b[1m Luftfeuchtigkeit \u001b[0m\u001b[1m CO2      \u001b[0m\u001b[1m Wassergehalt \u001b[0m\u001b[1m Woche\u001b[0m ⋯\n",
       "\u001b[1m      \u001b[0m│\u001b[90m Float64   \u001b[0m\u001b[90m Float64    \u001b[0m\u001b[90m Float64          \u001b[0m\u001b[90m Float64  \u001b[0m\u001b[90m Float64      \u001b[0m\u001b[90m Float\u001b[0m ⋯\n",
       "──────┼─────────────────────────────────────────────────────────────────────────\n",
       "    1 │ 0.677966     0.833322          0.843612  0.235889      0.752971        ⋯\n",
       "    2 │ 0.338983     0.790304          0.682559  0.231698      0.569725\n",
       "    3 │ 0.661017     0.991465          0.580303  0.356421      0.65448\n",
       "    4 │ 0.576271     0.898327          0.626318  0.348369      0.615356\n",
       "    5 │ 0.355932     0.868556          0.661852  0.396516      0.622024        ⋯\n",
       "    6 │ 0.559322     0.810789          0.49313   0.218224      0.423964\n",
       "    7 │ 0.559322     0.905428          0.993034  0.988415      0.989842\n",
       "    8 │ 0.338983     0.784568          0.786541  0.211733      0.651364\n",
       "    9 │ 0.59322      0.974667          0.651882  0.268795      0.717791        ⋯\n",
       "   10 │ 0.576271     0.819392          0.480348  0.213458      0.418363\n",
       "   11 │ 0.881356     0.78846           0.80386   0.212472      0.669788\n",
       "  ⋮   │     ⋮          ⋮              ⋮             ⋮           ⋮              ⋱\n",
       " 1415 │ 0.0677966    0.94435           0.694063  0.33892       0.730964\n",
       " 1416 │ 0.338983     0.786617          0.810379  0.214444      0.673354        ⋯\n",
       " 1417 │ 0.762712     0.921816          0.694063  0.526621      0.706812\n",
       " 1418 │ 0.779661     0.84295           0.566882  0.217649      0.512089\n",
       " 1419 │ 0.762712     0.91731           0.639015  0.289048      0.64601\n",
       " 1420 │ 0.59322      0.851758          0.652905  0.26596       0.598196        ⋯\n",
       " 1421 │ 0.830508     0.87634           0.480987  0.216416      0.456558\n",
       " 1422 │ 0.966102     0.909525          0.540615  0.431353      0.539655\n",
       " 1423 │ 0.677966     0.810789          0.692785  0.217402      0.596683\n",
       " 1424 │ 0.0338983    0.884944          0.70301   0.508874      0.677489        ⋯\n",
       "\u001b[36m                                                51 columns and 1403 rows omitted\u001b[0m, [0.0, 0.0, 0.0, 0.0, 1.0, 0.0, 1.0, 0.0, 0.0, 0.0  …  1.0, 0.0, 1.0, 0.0, 1.0, 0.0, 0.0, 1.0, 0.0, 1.0])"
      ]
     },
     "execution_count": 12,
     "metadata": {},
     "output_type": "execute_result"
    }
   ],
   "source": [
    "# read raw data\n",
    "raw = DataFrame(CSV.File(\"train.csv\"))\n",
    "# split into train and validation set\n",
    "train_x, train_y, val_x, val_y = train_test_split(pipeline(raw, SHIFT), 0.9, \"Anwesenheit\")"
   ]
  },
  {
   "cell_type": "markdown",
   "id": "16bf4b70-1b81-489e-a902-b71fbe0cc42e",
   "metadata": {},
   "source": [
    "# Modelling"
   ]
  },
  {
   "cell_type": "code",
   "execution_count": null,
   "id": "7fc812f1-1f40-4488-9581-cc3119de8d69",
   "metadata": {},
   "outputs": [],
   "source": [
    "# Baseline A, big network\n",
    "model = Chain(\n",
    "    Dense(size(train_x)[2], 64, relu),\n",
    "    Dense(64,128, relu),\n",
    "    Dense(128,256, relu),\n",
    "    Dense(256,128, relu),\n",
    "    Dense(128,64, relu),\n",
    "    Dense(64, 1, sigmoid)\n",
    "    )"
   ]
  },
  {
   "cell_type": "code",
   "execution_count": null,
   "id": "7a262263-d6ca-4d57-8af6-d45858f51c9e",
   "metadata": {},
   "outputs": [],
   "source": [
    "# Baseline B, semi big, with dropout\n",
    "model = Chain(\n",
    "    Dense(size(train_x)[2], 16, relu),\n",
    "    Dropout(0.1),\n",
    "    Dense(16,128, relu),\n",
    "    Dropout(0.1),\n",
    "    Dense(128,64, relu),\n",
    "    Dropout(0.1),\n",
    "    Dense(64,16, relu),\n",
    "    Dropout(0.1),\n",
    "    Dense(16, 1, sigmoid)\n",
    "    )"
   ]
  },
  {
   "cell_type": "code",
   "execution_count": 13,
   "id": "b80b6c0c-0b9f-415b-b992-ccdf378004a6",
   "metadata": {},
   "outputs": [
    {
     "data": {
      "text/plain": [
       "Chain(\n",
       "  Dense(56, 64, relu),                  \u001b[90m# 3_648 parameters\u001b[39m\n",
       "  Dropout(0.2),\n",
       "  Dense(64, 1, σ),                      \u001b[90m# 65 parameters\u001b[39m\n",
       ")\u001b[90m                   # Total: 4 arrays, \u001b[39m3_713 parameters, 14.785 KiB."
      ]
     },
     "execution_count": 13,
     "metadata": {},
     "output_type": "execute_result"
    }
   ],
   "source": [
    "# Baseline C, small network with dropout\n",
    "model = Chain(\n",
    "    Dense(size(train_x)[2], 64, relu),\n",
    "    Dropout(0.2),\n",
    "    Dense(64, 1, sigmoid)\n",
    "    )"
   ]
  },
  {
   "cell_type": "code",
   "execution_count": 14,
   "id": "f1f00d13-85b7-43f8-98d9-8fc7edc879e0",
   "metadata": {},
   "outputs": [
    {
     "data": {
      "text/plain": [
       "Flux.Data.DataLoader{NamedTuple{(:data, :label), Tuple{LinearAlgebra.Transpose{Float64, Matrix{Float64}}, Vector{Float64}}}, Random._GLOBAL_RNG}((data = [0.11864406779661017 0.9491525423728814 … 0.6440677966101694 0.6440677966101694; 0.8685558210993525 0.8248548992830316 … 0.8665073403892125 0.8398770911573927; … ; 1.0 1.0 … 0.0 1.0; 0.0 0.0 … 0.0 0.0], label = [0.0, 0.0, 0.0, 0.0, 1.0, 0.0, 1.0, 0.0, 1.0, 1.0  …  0.0, 0.0, 1.0, 0.0, 0.0, 0.0, 0.0, 0.0, 1.0, 0.0]), 100, 12817, true, 12817, [1, 2, 3, 4, 5, 6, 7, 8, 9, 10  …  12808, 12809, 12810, 12811, 12812, 12813, 12814, 12815, 12816, 12817], true, Random._GLOBAL_RNG())"
      ]
     },
     "execution_count": 14,
     "metadata": {},
     "output_type": "execute_result"
    }
   ],
   "source": [
    "# Optimizer\n",
    "opt = ADAM(0.001, (0.9, 0.999))\n",
    "# pointer to parameters\n",
    "ps = Flux.params(model)\n",
    "# loss function\n",
    "loss((x,y)) = Flux.Losses.binarycrossentropy(transpose(model(x)), y)\n",
    "# dataloader object\n",
    "data = Flux.Data.DataLoader((data=transpose(Array(train_x)), label=train_y), batchsize=100,shuffle=true)"
   ]
  },
  {
   "cell_type": "code",
   "execution_count": 15,
   "id": "c7496b59-9169-4cc5-b127-75b91f5785bc",
   "metadata": {},
   "outputs": [
    {
     "name": "stdout",
     "output_type": "stream",
     "text": [
      "Epoch: 5 Accuracy: 0.9585 Val-Accuracy: 0.9565\n",
      "Epoch: 10 Accuracy: 0.9645 Val-Accuracy: 0.9586\n",
      "Epoch: 15 Accuracy: 0.9722 Val-Accuracy: 0.967\n",
      "Epoch: 20 Accuracy: 0.9767 Val-Accuracy: 0.9733\n",
      "Epoch: 25 Accuracy: 0.9769 Val-Accuracy: 0.974\n"
     ]
    }
   ],
   "source": [
    "# training loop\n",
    "for epoch in 1:NUM_EPOCHS\n",
    "    Flux.train!(loss, ps, data, opt)\n",
    "    if epoch % 5 == 0\n",
    "        ŷ = predict(train_x, DECISION_BOUNDARY)\n",
    "        (tp, fp, fn, tn) = confusion_matrix(ŷ, train_y)\n",
    "        acc = round((tp+tn) / (tp+fp+fn+tn), digits=4)\n",
    "        ŷ = predict(val_x, DECISION_BOUNDARY)\n",
    "        (tp, fp, fn, tn) = confusion_matrix(ŷ, val_y)\n",
    "        val_acc = round((tp+tn) / (tp+fp+fn+tn), digits=4)\n",
    "        println(\"Epoch: $(epoch) Accuracy: $(acc) Val-Accuracy: $(val_acc)\")\n",
    "    end\n",
    "end"
   ]
  },
  {
   "cell_type": "markdown",
   "id": "ea3620ad-30a9-44a5-b062-ba34011a520e",
   "metadata": {
    "tags": []
   },
   "source": [
    "# Evaluation"
   ]
  },
  {
   "cell_type": "code",
   "execution_count": 16,
   "id": "3ef66eac-eac4-48d2-a67b-a6017771e007",
   "metadata": {},
   "outputs": [
    {
     "data": {
      "text/plain": [
       "3×3 Matrix{Any}:\n",
       " \"Confusion Matrix\"     \"Y\"      \"!Y\"\n",
       " \"Ŷ\"                332       19\n",
       " \"!Ŷ\"                21     1052"
      ]
     },
     "metadata": {},
     "output_type": "display_data"
    },
    {
     "data": {
      "text/plain": [
       "4-element Vector{Int64}:\n",
       "  332\n",
       "   19\n",
       "   21\n",
       " 1052"
      ]
     },
     "execution_count": 16,
     "metadata": {},
     "output_type": "execute_result"
    }
   ],
   "source": [
    "(tp, fp, fn, tn) = confusion_matrix(predict(val_x, 0.6), val_y, draw=true)"
   ]
  },
  {
   "cell_type": "code",
   "execution_count": 17,
   "id": "a4afb745-cbb5-4f3a-aa3d-1d0585cd48ac",
   "metadata": {},
   "outputs": [
    {
     "data": {
      "text/plain": [
       "0.9405099150141643"
      ]
     },
     "execution_count": 17,
     "metadata": {},
     "output_type": "execute_result"
    }
   ],
   "source": [
    "# recall\n",
    "tp / (fn + tp)"
   ]
  },
  {
   "cell_type": "code",
   "execution_count": 18,
   "id": "8cd4a82d-f721-493f-a6f7-b4af8a8d1b4f",
   "metadata": {},
   "outputs": [
    {
     "data": {
      "text/plain": [
       "0.9458689458689459"
      ]
     },
     "execution_count": 18,
     "metadata": {},
     "output_type": "execute_result"
    }
   ],
   "source": [
    "# precision\n",
    "tp / (tp+fp)"
   ]
  },
  {
   "cell_type": "code",
   "execution_count": 19,
   "id": "46949aaf-8cf9-4a3a-ab96-d4ba49b578ad",
   "metadata": {},
   "outputs": [
    {
     "data": {
      "image/svg+xml": [
       "<?xml version=\"1.0\" encoding=\"utf-8\"?>\n",
       "<svg xmlns=\"http://www.w3.org/2000/svg\" xmlns:xlink=\"http://www.w3.org/1999/xlink\" width=\"600\" height=\"400\" viewBox=\"0 0 2400 1600\">\n",
       "<defs>\n",
       "  <clipPath id=\"clip850\">\n",
       "    <rect x=\"0\" y=\"0\" width=\"2400\" height=\"1600\"/>\n",
       "  </clipPath>\n",
       "</defs>\n",
       "<path clip-path=\"url(#clip850)\" d=\"\n",
       "M0 1600 L2400 1600 L2400 0 L0 0  Z\n",
       "  \" fill=\"#ffffff\" fill-rule=\"evenodd\" fill-opacity=\"1\"/>\n",
       "<defs>\n",
       "  <clipPath id=\"clip851\">\n",
       "    <rect x=\"480\" y=\"0\" width=\"1681\" height=\"1600\"/>\n",
       "  </clipPath>\n",
       "</defs>\n",
       "<path clip-path=\"url(#clip850)\" d=\"\n",
       "M186.274 1486.45 L2352.76 1486.45 L2352.76 47.2441 L186.274 47.2441  Z\n",
       "  \" fill=\"#ffffff\" fill-rule=\"evenodd\" fill-opacity=\"1\"/>\n",
       "<defs>\n",
       "  <clipPath id=\"clip852\">\n",
       "    <rect x=\"186\" y=\"47\" width=\"2167\" height=\"1440\"/>\n",
       "  </clipPath>\n",
       "</defs>\n",
       "<polyline clip-path=\"url(#clip852)\" style=\"stroke:#000000; stroke-linecap:butt; stroke-linejoin:round; stroke-width:2; stroke-opacity:0.1; fill:none\" points=\"\n",
       "  247.59,1486.45 247.59,47.2441 \n",
       "  \"/>\n",
       "<polyline clip-path=\"url(#clip852)\" style=\"stroke:#000000; stroke-linecap:butt; stroke-linejoin:round; stroke-width:2; stroke-opacity:0.1; fill:none\" points=\"\n",
       "  758.552,1486.45 758.552,47.2441 \n",
       "  \"/>\n",
       "<polyline clip-path=\"url(#clip852)\" style=\"stroke:#000000; stroke-linecap:butt; stroke-linejoin:round; stroke-width:2; stroke-opacity:0.1; fill:none\" points=\"\n",
       "  1269.51,1486.45 1269.51,47.2441 \n",
       "  \"/>\n",
       "<polyline clip-path=\"url(#clip852)\" style=\"stroke:#000000; stroke-linecap:butt; stroke-linejoin:round; stroke-width:2; stroke-opacity:0.1; fill:none\" points=\"\n",
       "  1780.48,1486.45 1780.48,47.2441 \n",
       "  \"/>\n",
       "<polyline clip-path=\"url(#clip852)\" style=\"stroke:#000000; stroke-linecap:butt; stroke-linejoin:round; stroke-width:2; stroke-opacity:0.1; fill:none\" points=\"\n",
       "  2291.44,1486.45 2291.44,47.2441 \n",
       "  \"/>\n",
       "<polyline clip-path=\"url(#clip850)\" style=\"stroke:#000000; stroke-linecap:butt; stroke-linejoin:round; stroke-width:4; stroke-opacity:1; fill:none\" points=\"\n",
       "  186.274,1486.45 2352.76,1486.45 \n",
       "  \"/>\n",
       "<polyline clip-path=\"url(#clip850)\" style=\"stroke:#000000; stroke-linecap:butt; stroke-linejoin:round; stroke-width:4; stroke-opacity:1; fill:none\" points=\"\n",
       "  247.59,1486.45 247.59,1467.55 \n",
       "  \"/>\n",
       "<polyline clip-path=\"url(#clip850)\" style=\"stroke:#000000; stroke-linecap:butt; stroke-linejoin:round; stroke-width:4; stroke-opacity:1; fill:none\" points=\"\n",
       "  758.552,1486.45 758.552,1467.55 \n",
       "  \"/>\n",
       "<polyline clip-path=\"url(#clip850)\" style=\"stroke:#000000; stroke-linecap:butt; stroke-linejoin:round; stroke-width:4; stroke-opacity:1; fill:none\" points=\"\n",
       "  1269.51,1486.45 1269.51,1467.55 \n",
       "  \"/>\n",
       "<polyline clip-path=\"url(#clip850)\" style=\"stroke:#000000; stroke-linecap:butt; stroke-linejoin:round; stroke-width:4; stroke-opacity:1; fill:none\" points=\"\n",
       "  1780.48,1486.45 1780.48,1467.55 \n",
       "  \"/>\n",
       "<polyline clip-path=\"url(#clip850)\" style=\"stroke:#000000; stroke-linecap:butt; stroke-linejoin:round; stroke-width:4; stroke-opacity:1; fill:none\" points=\"\n",
       "  2291.44,1486.45 2291.44,1467.55 \n",
       "  \"/>\n",
       "<path clip-path=\"url(#clip850)\" d=\"M209.893 1517.37 Q206.282 1517.37 204.453 1520.93 Q202.648 1524.47 202.648 1531.6 Q202.648 1538.71 204.453 1542.27 Q206.282 1545.82 209.893 1545.82 Q213.527 1545.82 215.333 1542.27 Q217.161 1538.71 217.161 1531.6 Q217.161 1524.47 215.333 1520.93 Q213.527 1517.37 209.893 1517.37 M209.893 1513.66 Q215.703 1513.66 218.759 1518.27 Q221.837 1522.85 221.837 1531.6 Q221.837 1540.33 218.759 1544.94 Q215.703 1549.52 209.893 1549.52 Q204.083 1549.52 201.004 1544.94 Q197.949 1540.33 197.949 1531.6 Q197.949 1522.85 201.004 1518.27 Q204.083 1513.66 209.893 1513.66 Z\" fill=\"#000000\" fill-rule=\"evenodd\" fill-opacity=\"1\" /><path clip-path=\"url(#clip850)\" d=\"M230.055 1542.97 L234.939 1542.97 L234.939 1548.85 L230.055 1548.85 L230.055 1542.97 Z\" fill=\"#000000\" fill-rule=\"evenodd\" fill-opacity=\"1\" /><path clip-path=\"url(#clip850)\" d=\"M255.124 1517.37 Q251.513 1517.37 249.684 1520.93 Q247.879 1524.47 247.879 1531.6 Q247.879 1538.71 249.684 1542.27 Q251.513 1545.82 255.124 1545.82 Q258.758 1545.82 260.564 1542.27 Q262.393 1538.71 262.393 1531.6 Q262.393 1524.47 260.564 1520.93 Q258.758 1517.37 255.124 1517.37 M255.124 1513.66 Q260.934 1513.66 263.99 1518.27 Q267.069 1522.85 267.069 1531.6 Q267.069 1540.33 263.99 1544.94 Q260.934 1549.52 255.124 1549.52 Q249.314 1549.52 246.235 1544.94 Q243.18 1540.33 243.18 1531.6 Q243.18 1522.85 246.235 1518.27 Q249.314 1513.66 255.124 1513.66 Z\" fill=\"#000000\" fill-rule=\"evenodd\" fill-opacity=\"1\" /><path clip-path=\"url(#clip850)\" d=\"M285.286 1517.37 Q281.675 1517.37 279.846 1520.93 Q278.041 1524.47 278.041 1531.6 Q278.041 1538.71 279.846 1542.27 Q281.675 1545.82 285.286 1545.82 Q288.92 1545.82 290.726 1542.27 Q292.555 1538.71 292.555 1531.6 Q292.555 1524.47 290.726 1520.93 Q288.92 1517.37 285.286 1517.37 M285.286 1513.66 Q291.096 1513.66 294.152 1518.27 Q297.23 1522.85 297.23 1531.6 Q297.23 1540.33 294.152 1544.94 Q291.096 1549.52 285.286 1549.52 Q279.476 1549.52 276.397 1544.94 Q273.342 1540.33 273.342 1531.6 Q273.342 1522.85 276.397 1518.27 Q279.476 1513.66 285.286 1513.66 Z\" fill=\"#000000\" fill-rule=\"evenodd\" fill-opacity=\"1\" /><path clip-path=\"url(#clip850)\" d=\"M721.353 1517.37 Q717.742 1517.37 715.914 1520.93 Q714.108 1524.47 714.108 1531.6 Q714.108 1538.71 715.914 1542.27 Q717.742 1545.82 721.353 1545.82 Q724.988 1545.82 726.793 1542.27 Q728.622 1538.71 728.622 1531.6 Q728.622 1524.47 726.793 1520.93 Q724.988 1517.37 721.353 1517.37 M721.353 1513.66 Q727.164 1513.66 730.219 1518.27 Q733.298 1522.85 733.298 1531.6 Q733.298 1540.33 730.219 1544.94 Q727.164 1549.52 721.353 1549.52 Q715.543 1549.52 712.465 1544.94 Q709.409 1540.33 709.409 1531.6 Q709.409 1522.85 712.465 1518.27 Q715.543 1513.66 721.353 1513.66 Z\" fill=\"#000000\" fill-rule=\"evenodd\" fill-opacity=\"1\" /><path clip-path=\"url(#clip850)\" d=\"M741.515 1542.97 L746.4 1542.97 L746.4 1548.85 L741.515 1548.85 L741.515 1542.97 Z\" fill=\"#000000\" fill-rule=\"evenodd\" fill-opacity=\"1\" /><path clip-path=\"url(#clip850)\" d=\"M760.612 1544.91 L776.932 1544.91 L776.932 1548.85 L754.987 1548.85 L754.987 1544.91 Q757.649 1542.16 762.233 1537.53 Q766.839 1532.88 768.02 1531.53 Q770.265 1529.01 771.145 1527.27 Q772.048 1525.51 772.048 1523.82 Q772.048 1521.07 770.103 1519.33 Q768.182 1517.6 765.08 1517.6 Q762.881 1517.6 760.427 1518.36 Q757.997 1519.13 755.219 1520.68 L755.219 1515.95 Q758.043 1514.82 760.497 1514.24 Q762.95 1513.66 764.987 1513.66 Q770.358 1513.66 773.552 1516.35 Q776.747 1519.03 776.747 1523.52 Q776.747 1525.65 775.936 1527.57 Q775.149 1529.47 773.043 1532.07 Q772.464 1532.74 769.362 1535.95 Q766.261 1539.15 760.612 1544.91 Z\" fill=\"#000000\" fill-rule=\"evenodd\" fill-opacity=\"1\" /><path clip-path=\"url(#clip850)\" d=\"M786.793 1514.29 L805.149 1514.29 L805.149 1518.22 L791.075 1518.22 L791.075 1526.7 Q792.094 1526.35 793.112 1526.19 Q794.131 1526 795.149 1526 Q800.936 1526 804.316 1529.17 Q807.695 1532.34 807.695 1537.76 Q807.695 1543.34 804.223 1546.44 Q800.751 1549.52 794.432 1549.52 Q792.256 1549.52 789.987 1549.15 Q787.742 1548.78 785.335 1548.04 L785.335 1543.34 Q787.418 1544.47 789.64 1545.03 Q791.862 1545.58 794.339 1545.58 Q798.344 1545.58 800.682 1543.48 Q803.02 1541.37 803.02 1537.76 Q803.02 1534.15 800.682 1532.04 Q798.344 1529.94 794.339 1529.94 Q792.464 1529.94 790.589 1530.35 Q788.737 1530.77 786.793 1531.65 L786.793 1514.29 Z\" fill=\"#000000\" fill-rule=\"evenodd\" fill-opacity=\"1\" /><path clip-path=\"url(#clip850)\" d=\"M1231.82 1517.37 Q1228.21 1517.37 1226.38 1520.93 Q1224.57 1524.47 1224.57 1531.6 Q1224.57 1538.71 1226.38 1542.27 Q1228.21 1545.82 1231.82 1545.82 Q1235.45 1545.82 1237.26 1542.27 Q1239.09 1538.71 1239.09 1531.6 Q1239.09 1524.47 1237.26 1520.93 Q1235.45 1517.37 1231.82 1517.37 M1231.82 1513.66 Q1237.63 1513.66 1240.68 1518.27 Q1243.76 1522.85 1243.76 1531.6 Q1243.76 1540.33 1240.68 1544.94 Q1237.63 1549.52 1231.82 1549.52 Q1226.01 1549.52 1222.93 1544.94 Q1219.87 1540.33 1219.87 1531.6 Q1219.87 1522.85 1222.93 1518.27 Q1226.01 1513.66 1231.82 1513.66 Z\" fill=\"#000000\" fill-rule=\"evenodd\" fill-opacity=\"1\" /><path clip-path=\"url(#clip850)\" d=\"M1251.98 1542.97 L1256.86 1542.97 L1256.86 1548.85 L1251.98 1548.85 L1251.98 1542.97 Z\" fill=\"#000000\" fill-rule=\"evenodd\" fill-opacity=\"1\" /><path clip-path=\"url(#clip850)\" d=\"M1267.1 1514.29 L1285.45 1514.29 L1285.45 1518.22 L1271.38 1518.22 L1271.38 1526.7 Q1272.4 1526.35 1273.42 1526.19 Q1274.43 1526 1275.45 1526 Q1281.24 1526 1284.62 1529.17 Q1288 1532.34 1288 1537.76 Q1288 1543.34 1284.53 1546.44 Q1281.05 1549.52 1274.73 1549.52 Q1272.56 1549.52 1270.29 1549.15 Q1268.05 1548.78 1265.64 1548.04 L1265.64 1543.34 Q1267.72 1544.47 1269.94 1545.03 Q1272.17 1545.58 1274.64 1545.58 Q1278.65 1545.58 1280.98 1543.48 Q1283.32 1541.37 1283.32 1537.76 Q1283.32 1534.15 1280.98 1532.04 Q1278.65 1529.94 1274.64 1529.94 Q1272.77 1529.94 1270.89 1530.35 Q1269.04 1530.77 1267.1 1531.65 L1267.1 1514.29 Z\" fill=\"#000000\" fill-rule=\"evenodd\" fill-opacity=\"1\" /><path clip-path=\"url(#clip850)\" d=\"M1307.21 1517.37 Q1303.6 1517.37 1301.77 1520.93 Q1299.97 1524.47 1299.97 1531.6 Q1299.97 1538.71 1301.77 1542.27 Q1303.6 1545.82 1307.21 1545.82 Q1310.85 1545.82 1312.65 1542.27 Q1314.48 1538.71 1314.48 1531.6 Q1314.48 1524.47 1312.65 1520.93 Q1310.85 1517.37 1307.21 1517.37 M1307.21 1513.66 Q1313.02 1513.66 1316.08 1518.27 Q1319.16 1522.85 1319.16 1531.6 Q1319.16 1540.33 1316.08 1544.94 Q1313.02 1549.52 1307.21 1549.52 Q1301.4 1549.52 1298.32 1544.94 Q1295.27 1540.33 1295.27 1531.6 Q1295.27 1522.85 1298.32 1518.27 Q1301.4 1513.66 1307.21 1513.66 Z\" fill=\"#000000\" fill-rule=\"evenodd\" fill-opacity=\"1\" /><path clip-path=\"url(#clip850)\" d=\"M1743.28 1517.37 Q1739.67 1517.37 1737.84 1520.93 Q1736.03 1524.47 1736.03 1531.6 Q1736.03 1538.71 1737.84 1542.27 Q1739.67 1545.82 1743.28 1545.82 Q1746.91 1545.82 1748.72 1542.27 Q1750.55 1538.71 1750.55 1531.6 Q1750.55 1524.47 1748.72 1520.93 Q1746.91 1517.37 1743.28 1517.37 M1743.28 1513.66 Q1749.09 1513.66 1752.14 1518.27 Q1755.22 1522.85 1755.22 1531.6 Q1755.22 1540.33 1752.14 1544.94 Q1749.09 1549.52 1743.28 1549.52 Q1737.47 1549.52 1734.39 1544.94 Q1731.33 1540.33 1731.33 1531.6 Q1731.33 1522.85 1734.39 1518.27 Q1737.47 1513.66 1743.28 1513.66 Z\" fill=\"#000000\" fill-rule=\"evenodd\" fill-opacity=\"1\" /><path clip-path=\"url(#clip850)\" d=\"M1763.44 1542.97 L1768.32 1542.97 L1768.32 1548.85 L1763.44 1548.85 L1763.44 1542.97 Z\" fill=\"#000000\" fill-rule=\"evenodd\" fill-opacity=\"1\" /><path clip-path=\"url(#clip850)\" d=\"M1777.33 1514.29 L1799.55 1514.29 L1799.55 1516.28 L1787.01 1548.85 L1782.12 1548.85 L1793.93 1518.22 L1777.33 1518.22 L1777.33 1514.29 Z\" fill=\"#000000\" fill-rule=\"evenodd\" fill-opacity=\"1\" /><path clip-path=\"url(#clip850)\" d=\"M1808.72 1514.29 L1827.07 1514.29 L1827.07 1518.22 L1813 1518.22 L1813 1526.7 Q1814.02 1526.35 1815.04 1526.19 Q1816.06 1526 1817.07 1526 Q1822.86 1526 1826.24 1529.17 Q1829.62 1532.34 1829.62 1537.76 Q1829.62 1543.34 1826.15 1546.44 Q1822.68 1549.52 1816.36 1549.52 Q1814.18 1549.52 1811.91 1549.15 Q1809.67 1548.78 1807.26 1548.04 L1807.26 1543.34 Q1809.34 1544.47 1811.57 1545.03 Q1813.79 1545.58 1816.26 1545.58 Q1820.27 1545.58 1822.61 1543.48 Q1824.95 1541.37 1824.95 1537.76 Q1824.95 1534.15 1822.61 1532.04 Q1820.27 1529.94 1816.26 1529.94 Q1814.39 1529.94 1812.51 1530.35 Q1810.66 1530.77 1808.72 1531.65 L1808.72 1514.29 Z\" fill=\"#000000\" fill-rule=\"evenodd\" fill-opacity=\"1\" /><path clip-path=\"url(#clip850)\" d=\"M2243.51 1544.91 L2251.15 1544.91 L2251.15 1518.55 L2242.84 1520.21 L2242.84 1515.95 L2251.1 1514.29 L2255.78 1514.29 L2255.78 1544.91 L2263.42 1544.91 L2263.42 1548.85 L2243.51 1548.85 L2243.51 1544.91 Z\" fill=\"#000000\" fill-rule=\"evenodd\" fill-opacity=\"1\" /><path clip-path=\"url(#clip850)\" d=\"M2272.86 1542.97 L2277.75 1542.97 L2277.75 1548.85 L2272.86 1548.85 L2272.86 1542.97 Z\" fill=\"#000000\" fill-rule=\"evenodd\" fill-opacity=\"1\" /><path clip-path=\"url(#clip850)\" d=\"M2297.93 1517.37 Q2294.32 1517.37 2292.49 1520.93 Q2290.69 1524.47 2290.69 1531.6 Q2290.69 1538.71 2292.49 1542.27 Q2294.32 1545.82 2297.93 1545.82 Q2301.57 1545.82 2303.37 1542.27 Q2305.2 1538.71 2305.2 1531.6 Q2305.2 1524.47 2303.37 1520.93 Q2301.57 1517.37 2297.93 1517.37 M2297.93 1513.66 Q2303.74 1513.66 2306.8 1518.27 Q2309.88 1522.85 2309.88 1531.6 Q2309.88 1540.33 2306.8 1544.94 Q2303.74 1549.52 2297.93 1549.52 Q2292.12 1549.52 2289.04 1544.94 Q2285.99 1540.33 2285.99 1531.6 Q2285.99 1522.85 2289.04 1518.27 Q2292.12 1513.66 2297.93 1513.66 Z\" fill=\"#000000\" fill-rule=\"evenodd\" fill-opacity=\"1\" /><path clip-path=\"url(#clip850)\" d=\"M2328.1 1517.37 Q2324.48 1517.37 2322.66 1520.93 Q2320.85 1524.47 2320.85 1531.6 Q2320.85 1538.71 2322.66 1542.27 Q2324.48 1545.82 2328.1 1545.82 Q2331.73 1545.82 2333.54 1542.27 Q2335.36 1538.71 2335.36 1531.6 Q2335.36 1524.47 2333.54 1520.93 Q2331.73 1517.37 2328.1 1517.37 M2328.1 1513.66 Q2333.91 1513.66 2336.96 1518.27 Q2340.04 1522.85 2340.04 1531.6 Q2340.04 1540.33 2336.96 1544.94 Q2333.91 1549.52 2328.1 1549.52 Q2322.29 1549.52 2319.21 1544.94 Q2316.15 1540.33 2316.15 1531.6 Q2316.15 1522.85 2319.21 1518.27 Q2322.29 1513.66 2328.1 1513.66 Z\" fill=\"#000000\" fill-rule=\"evenodd\" fill-opacity=\"1\" /><polyline clip-path=\"url(#clip852)\" style=\"stroke:#000000; stroke-linecap:butt; stroke-linejoin:round; stroke-width:2; stroke-opacity:0.1; fill:none\" points=\"\n",
       "  186.274,1445.72 2352.76,1445.72 \n",
       "  \"/>\n",
       "<polyline clip-path=\"url(#clip852)\" style=\"stroke:#000000; stroke-linecap:butt; stroke-linejoin:round; stroke-width:2; stroke-opacity:0.1; fill:none\" points=\"\n",
       "  186.274,1106.28 2352.76,1106.28 \n",
       "  \"/>\n",
       "<polyline clip-path=\"url(#clip852)\" style=\"stroke:#000000; stroke-linecap:butt; stroke-linejoin:round; stroke-width:2; stroke-opacity:0.1; fill:none\" points=\"\n",
       "  186.274,766.846 2352.76,766.846 \n",
       "  \"/>\n",
       "<polyline clip-path=\"url(#clip852)\" style=\"stroke:#000000; stroke-linecap:butt; stroke-linejoin:round; stroke-width:2; stroke-opacity:0.1; fill:none\" points=\"\n",
       "  186.274,427.411 2352.76,427.411 \n",
       "  \"/>\n",
       "<polyline clip-path=\"url(#clip852)\" style=\"stroke:#000000; stroke-linecap:butt; stroke-linejoin:round; stroke-width:2; stroke-opacity:0.1; fill:none\" points=\"\n",
       "  186.274,87.9763 2352.76,87.9763 \n",
       "  \"/>\n",
       "<polyline clip-path=\"url(#clip850)\" style=\"stroke:#000000; stroke-linecap:butt; stroke-linejoin:round; stroke-width:4; stroke-opacity:1; fill:none\" points=\"\n",
       "  186.274,1486.45 186.274,47.2441 \n",
       "  \"/>\n",
       "<polyline clip-path=\"url(#clip850)\" style=\"stroke:#000000; stroke-linecap:butt; stroke-linejoin:round; stroke-width:4; stroke-opacity:1; fill:none\" points=\"\n",
       "  186.274,1445.72 205.172,1445.72 \n",
       "  \"/>\n",
       "<polyline clip-path=\"url(#clip850)\" style=\"stroke:#000000; stroke-linecap:butt; stroke-linejoin:round; stroke-width:4; stroke-opacity:1; fill:none\" points=\"\n",
       "  186.274,1106.28 205.172,1106.28 \n",
       "  \"/>\n",
       "<polyline clip-path=\"url(#clip850)\" style=\"stroke:#000000; stroke-linecap:butt; stroke-linejoin:round; stroke-width:4; stroke-opacity:1; fill:none\" points=\"\n",
       "  186.274,766.846 205.172,766.846 \n",
       "  \"/>\n",
       "<polyline clip-path=\"url(#clip850)\" style=\"stroke:#000000; stroke-linecap:butt; stroke-linejoin:round; stroke-width:4; stroke-opacity:1; fill:none\" points=\"\n",
       "  186.274,427.411 205.172,427.411 \n",
       "  \"/>\n",
       "<polyline clip-path=\"url(#clip850)\" style=\"stroke:#000000; stroke-linecap:butt; stroke-linejoin:round; stroke-width:4; stroke-opacity:1; fill:none\" points=\"\n",
       "  186.274,87.9763 205.172,87.9763 \n",
       "  \"/>\n",
       "<path clip-path=\"url(#clip850)\" d=\"M62.9365 1431.51 Q59.3254 1431.51 57.4967 1435.08 Q55.6912 1438.62 55.6912 1445.75 Q55.6912 1452.86 57.4967 1456.42 Q59.3254 1459.96 62.9365 1459.96 Q66.5707 1459.96 68.3763 1456.42 Q70.205 1452.86 70.205 1445.75 Q70.205 1438.62 68.3763 1435.08 Q66.5707 1431.51 62.9365 1431.51 M62.9365 1427.81 Q68.7467 1427.81 71.8022 1432.42 Q74.8809 1437 74.8809 1445.75 Q74.8809 1454.48 71.8022 1459.08 Q68.7467 1463.67 62.9365 1463.67 Q57.1264 1463.67 54.0477 1459.08 Q50.9921 1454.48 50.9921 1445.75 Q50.9921 1437 54.0477 1432.42 Q57.1264 1427.81 62.9365 1427.81 Z\" fill=\"#000000\" fill-rule=\"evenodd\" fill-opacity=\"1\" /><path clip-path=\"url(#clip850)\" d=\"M83.0984 1457.12 L87.9827 1457.12 L87.9827 1463 L83.0984 1463 L83.0984 1457.12 Z\" fill=\"#000000\" fill-rule=\"evenodd\" fill-opacity=\"1\" /><path clip-path=\"url(#clip850)\" d=\"M108.168 1431.51 Q104.557 1431.51 102.728 1435.08 Q100.922 1438.62 100.922 1445.75 Q100.922 1452.86 102.728 1456.42 Q104.557 1459.96 108.168 1459.96 Q111.802 1459.96 113.608 1456.42 Q115.436 1452.86 115.436 1445.75 Q115.436 1438.62 113.608 1435.08 Q111.802 1431.51 108.168 1431.51 M108.168 1427.81 Q113.978 1427.81 117.033 1432.42 Q120.112 1437 120.112 1445.75 Q120.112 1454.48 117.033 1459.08 Q113.978 1463.67 108.168 1463.67 Q102.358 1463.67 99.2789 1459.08 Q96.2234 1454.48 96.2234 1445.75 Q96.2234 1437 99.2789 1432.42 Q102.358 1427.81 108.168 1427.81 Z\" fill=\"#000000\" fill-rule=\"evenodd\" fill-opacity=\"1\" /><path clip-path=\"url(#clip850)\" d=\"M138.33 1431.51 Q134.719 1431.51 132.89 1435.08 Q131.084 1438.62 131.084 1445.75 Q131.084 1452.86 132.89 1456.42 Q134.719 1459.96 138.33 1459.96 Q141.964 1459.96 143.769 1456.42 Q145.598 1452.86 145.598 1445.75 Q145.598 1438.62 143.769 1435.08 Q141.964 1431.51 138.33 1431.51 M138.33 1427.81 Q144.14 1427.81 147.195 1432.42 Q150.274 1437 150.274 1445.75 Q150.274 1454.48 147.195 1459.08 Q144.14 1463.67 138.33 1463.67 Q132.519 1463.67 129.441 1459.08 Q126.385 1454.48 126.385 1445.75 Q126.385 1437 129.441 1432.42 Q132.519 1427.81 138.33 1427.81 Z\" fill=\"#000000\" fill-rule=\"evenodd\" fill-opacity=\"1\" /><path clip-path=\"url(#clip850)\" d=\"M63.9319 1092.08 Q60.3208 1092.08 58.4921 1095.64 Q56.6865 1099.19 56.6865 1106.32 Q56.6865 1113.42 58.4921 1116.99 Q60.3208 1120.53 63.9319 1120.53 Q67.5661 1120.53 69.3717 1116.99 Q71.2004 1113.42 71.2004 1106.32 Q71.2004 1099.19 69.3717 1095.64 Q67.5661 1092.08 63.9319 1092.08 M63.9319 1088.38 Q69.742 1088.38 72.7976 1092.98 Q75.8763 1097.57 75.8763 1106.32 Q75.8763 1115.04 72.7976 1119.65 Q69.742 1124.23 63.9319 1124.23 Q58.1217 1124.23 55.043 1119.65 Q51.9875 1115.04 51.9875 1106.32 Q51.9875 1097.57 55.043 1092.98 Q58.1217 1088.38 63.9319 1088.38 Z\" fill=\"#000000\" fill-rule=\"evenodd\" fill-opacity=\"1\" /><path clip-path=\"url(#clip850)\" d=\"M84.0938 1117.68 L88.978 1117.68 L88.978 1123.56 L84.0938 1123.56 L84.0938 1117.68 Z\" fill=\"#000000\" fill-rule=\"evenodd\" fill-opacity=\"1\" /><path clip-path=\"url(#clip850)\" d=\"M103.191 1119.63 L119.51 1119.63 L119.51 1123.56 L97.566 1123.56 L97.566 1119.63 Q100.228 1116.87 104.811 1112.24 Q109.418 1107.59 110.598 1106.25 Q112.844 1103.72 113.723 1101.99 Q114.626 1100.23 114.626 1098.54 Q114.626 1095.78 112.682 1094.05 Q110.76 1092.31 107.658 1092.31 Q105.459 1092.31 103.006 1093.07 Q100.575 1093.84 97.7974 1095.39 L97.7974 1090.67 Q100.621 1089.53 103.075 1088.95 Q105.529 1088.38 107.566 1088.38 Q112.936 1088.38 116.131 1091.06 Q119.325 1093.75 119.325 1098.24 Q119.325 1100.37 118.515 1102.29 Q117.728 1104.19 115.621 1106.78 Q115.043 1107.45 111.941 1110.67 Q108.839 1113.86 103.191 1119.63 Z\" fill=\"#000000\" fill-rule=\"evenodd\" fill-opacity=\"1\" /><path clip-path=\"url(#clip850)\" d=\"M129.371 1089 L147.728 1089 L147.728 1092.94 L133.654 1092.94 L133.654 1101.41 Q134.672 1101.06 135.691 1100.9 Q136.709 1100.71 137.728 1100.71 Q143.515 1100.71 146.894 1103.89 Q150.274 1107.06 150.274 1112.47 Q150.274 1118.05 146.802 1121.15 Q143.33 1124.23 137.01 1124.23 Q134.834 1124.23 132.566 1123.86 Q130.32 1123.49 127.913 1122.75 L127.913 1118.05 Q129.996 1119.19 132.219 1119.74 Q134.441 1120.3 136.918 1120.3 Q140.922 1120.3 143.26 1118.19 Q145.598 1116.08 145.598 1112.47 Q145.598 1108.86 143.26 1106.76 Q140.922 1104.65 136.918 1104.65 Q135.043 1104.65 133.168 1105.07 Q131.316 1105.48 129.371 1106.36 L129.371 1089 Z\" fill=\"#000000\" fill-rule=\"evenodd\" fill-opacity=\"1\" /><path clip-path=\"url(#clip850)\" d=\"M62.9365 752.645 Q59.3254 752.645 57.4967 756.209 Q55.6912 759.751 55.6912 766.881 Q55.6912 773.987 57.4967 777.552 Q59.3254 781.094 62.9365 781.094 Q66.5707 781.094 68.3763 777.552 Q70.205 773.987 70.205 766.881 Q70.205 759.751 68.3763 756.209 Q66.5707 752.645 62.9365 752.645 M62.9365 748.941 Q68.7467 748.941 71.8022 753.547 Q74.8809 758.131 74.8809 766.881 Q74.8809 775.608 71.8022 780.214 Q68.7467 784.797 62.9365 784.797 Q57.1264 784.797 54.0477 780.214 Q50.9921 775.608 50.9921 766.881 Q50.9921 758.131 54.0477 753.547 Q57.1264 748.941 62.9365 748.941 Z\" fill=\"#000000\" fill-rule=\"evenodd\" fill-opacity=\"1\" /><path clip-path=\"url(#clip850)\" d=\"M83.0984 778.246 L87.9827 778.246 L87.9827 784.126 L83.0984 784.126 L83.0984 778.246 Z\" fill=\"#000000\" fill-rule=\"evenodd\" fill-opacity=\"1\" /><path clip-path=\"url(#clip850)\" d=\"M98.2141 749.566 L116.57 749.566 L116.57 753.501 L102.496 753.501 L102.496 761.973 Q103.515 761.626 104.534 761.464 Q105.552 761.279 106.571 761.279 Q112.358 761.279 115.737 764.45 Q119.117 767.621 119.117 773.038 Q119.117 778.617 115.645 781.719 Q112.172 784.797 105.853 784.797 Q103.677 784.797 101.409 784.427 Q99.1632 784.057 96.7558 783.316 L96.7558 778.617 Q98.8391 779.751 101.061 780.307 Q103.284 780.862 105.76 780.862 Q109.765 780.862 112.103 778.756 Q114.441 776.649 114.441 773.038 Q114.441 769.427 112.103 767.321 Q109.765 765.214 105.76 765.214 Q103.885 765.214 102.01 765.631 Q100.159 766.047 98.2141 766.927 L98.2141 749.566 Z\" fill=\"#000000\" fill-rule=\"evenodd\" fill-opacity=\"1\" /><path clip-path=\"url(#clip850)\" d=\"M138.33 752.645 Q134.719 752.645 132.89 756.209 Q131.084 759.751 131.084 766.881 Q131.084 773.987 132.89 777.552 Q134.719 781.094 138.33 781.094 Q141.964 781.094 143.769 777.552 Q145.598 773.987 145.598 766.881 Q145.598 759.751 143.769 756.209 Q141.964 752.645 138.33 752.645 M138.33 748.941 Q144.14 748.941 147.195 753.547 Q150.274 758.131 150.274 766.881 Q150.274 775.608 147.195 780.214 Q144.14 784.797 138.33 784.797 Q132.519 784.797 129.441 780.214 Q126.385 775.608 126.385 766.881 Q126.385 758.131 129.441 753.547 Q132.519 748.941 138.33 748.941 Z\" fill=\"#000000\" fill-rule=\"evenodd\" fill-opacity=\"1\" /><path clip-path=\"url(#clip850)\" d=\"M63.9319 413.21 Q60.3208 413.21 58.4921 416.775 Q56.6865 420.316 56.6865 427.446 Q56.6865 434.552 58.4921 438.117 Q60.3208 441.659 63.9319 441.659 Q67.5661 441.659 69.3717 438.117 Q71.2004 434.552 71.2004 427.446 Q71.2004 420.316 69.3717 416.775 Q67.5661 413.21 63.9319 413.21 M63.9319 409.506 Q69.742 409.506 72.7976 414.113 Q75.8763 418.696 75.8763 427.446 Q75.8763 436.173 72.7976 440.779 Q69.742 445.362 63.9319 445.362 Q58.1217 445.362 55.043 440.779 Q51.9875 436.173 51.9875 427.446 Q51.9875 418.696 55.043 414.113 Q58.1217 409.506 63.9319 409.506 Z\" fill=\"#000000\" fill-rule=\"evenodd\" fill-opacity=\"1\" /><path clip-path=\"url(#clip850)\" d=\"M84.0938 438.812 L88.978 438.812 L88.978 444.691 L84.0938 444.691 L84.0938 438.812 Z\" fill=\"#000000\" fill-rule=\"evenodd\" fill-opacity=\"1\" /><path clip-path=\"url(#clip850)\" d=\"M97.9826 410.131 L120.205 410.131 L120.205 412.122 L107.658 444.691 L102.774 444.691 L114.58 414.066 L97.9826 414.066 L97.9826 410.131 Z\" fill=\"#000000\" fill-rule=\"evenodd\" fill-opacity=\"1\" /><path clip-path=\"url(#clip850)\" d=\"M129.371 410.131 L147.728 410.131 L147.728 414.066 L133.654 414.066 L133.654 422.538 Q134.672 422.191 135.691 422.029 Q136.709 421.844 137.728 421.844 Q143.515 421.844 146.894 425.015 Q150.274 428.187 150.274 433.603 Q150.274 439.182 146.802 442.284 Q143.33 445.362 137.01 445.362 Q134.834 445.362 132.566 444.992 Q130.32 444.622 127.913 443.881 L127.913 439.182 Q129.996 440.316 132.219 440.872 Q134.441 441.427 136.918 441.427 Q140.922 441.427 143.26 439.321 Q145.598 437.214 145.598 433.603 Q145.598 429.992 143.26 427.886 Q140.922 425.779 136.918 425.779 Q135.043 425.779 133.168 426.196 Q131.316 426.613 129.371 427.492 L129.371 410.131 Z\" fill=\"#000000\" fill-rule=\"evenodd\" fill-opacity=\"1\" /><path clip-path=\"url(#clip850)\" d=\"M53.7467 101.321 L61.3856 101.321 L61.3856 74.9555 L53.0754 76.6222 L53.0754 72.3629 L61.3393 70.6963 L66.0152 70.6963 L66.0152 101.321 L73.654 101.321 L73.654 105.256 L53.7467 105.256 L53.7467 101.321 Z\" fill=\"#000000\" fill-rule=\"evenodd\" fill-opacity=\"1\" /><path clip-path=\"url(#clip850)\" d=\"M83.0984 99.3767 L87.9827 99.3767 L87.9827 105.256 L83.0984 105.256 L83.0984 99.3767 Z\" fill=\"#000000\" fill-rule=\"evenodd\" fill-opacity=\"1\" /><path clip-path=\"url(#clip850)\" d=\"M108.168 73.775 Q104.557 73.775 102.728 77.3398 Q100.922 80.8814 100.922 88.011 Q100.922 95.1174 102.728 98.6822 Q104.557 102.224 108.168 102.224 Q111.802 102.224 113.608 98.6822 Q115.436 95.1174 115.436 88.011 Q115.436 80.8814 113.608 77.3398 Q111.802 73.775 108.168 73.775 M108.168 70.0713 Q113.978 70.0713 117.033 74.6777 Q120.112 79.261 120.112 88.011 Q120.112 96.7378 117.033 101.344 Q113.978 105.928 108.168 105.928 Q102.358 105.928 99.2789 101.344 Q96.2234 96.7378 96.2234 88.011 Q96.2234 79.261 99.2789 74.6777 Q102.358 70.0713 108.168 70.0713 Z\" fill=\"#000000\" fill-rule=\"evenodd\" fill-opacity=\"1\" /><path clip-path=\"url(#clip850)\" d=\"M138.33 73.775 Q134.719 73.775 132.89 77.3398 Q131.084 80.8814 131.084 88.011 Q131.084 95.1174 132.89 98.6822 Q134.719 102.224 138.33 102.224 Q141.964 102.224 143.769 98.6822 Q145.598 95.1174 145.598 88.011 Q145.598 80.8814 143.769 77.3398 Q141.964 73.775 138.33 73.775 M138.33 70.0713 Q144.14 70.0713 147.195 74.6777 Q150.274 79.261 150.274 88.011 Q150.274 96.7378 147.195 101.344 Q144.14 105.928 138.33 105.928 Q132.519 105.928 129.441 101.344 Q126.385 96.7378 126.385 88.011 Q126.385 79.261 129.441 74.6777 Q132.519 70.0713 138.33 70.0713 Z\" fill=\"#000000\" fill-rule=\"evenodd\" fill-opacity=\"1\" /><polyline clip-path=\"url(#clip852)\" style=\"stroke:#009af9; stroke-linecap:butt; stroke-linejoin:round; stroke-width:4; stroke-opacity:1; fill:none\" points=\"\n",
       "  2291.44,87.9763 491.859,87.9763 476.592,91.8226 455.6,91.8226 442.242,91.8226 432.7,91.8226 428.883,91.8226 421.25,91.8226 411.708,91.8226 404.075,91.8226 \n",
       "  400.258,91.8226 390.716,95.6689 386.9,95.6689 379.266,95.6689 375.449,95.6689 373.541,99.5151 369.724,99.5151 363.999,103.361 362.091,103.361 358.274,103.361 \n",
       "  352.549,103.361 350.641,111.054 346.824,111.054 344.916,111.054 344.916,114.9 343.007,114.9 341.099,114.9 337.282,114.9 331.557,114.9 \n",
       "  327.741,114.9 325.832,114.9 323.924,114.9 320.107,114.9 316.29,114.9 314.382,114.9 304.84,118.747 \n",
       "  302.932,118.747 301.024,122.593 299.115,122.593 297.207,137.978 295.298,137.978 295.298,141.824 293.39,141.824 291.482,145.671 \n",
       "  291.482,149.517 291.482,153.363 291.482,157.209 289.573,164.902 289.573,168.748 \n",
       "  283.848,168.748 281.94,176.441 281.94,184.133 280.032,184.133 280.032,187.98 280.032,191.826 278.123,191.826 278.123,195.672 274.307,195.672 272.398,199.519 \n",
       "  268.581,199.519 268.581,203.365 268.581,211.057 268.581,218.75 268.581,226.443 \n",
       "  268.581,253.367 268.581,257.213 264.765,261.059 264.765,264.905 264.765,276.444 264.765,284.137 262.856,287.983 262.856,303.368 262.856,314.907 \n",
       "  262.856,334.139 262.856,361.063 260.948,391.833 260.948,414.911 260.948,437.988 260.948,472.605 260.948,495.683 257.131,545.684 253.315,634.149 249.498,764.923 \n",
       "  247.59,1445.72 2047.17,1445.72 \n",
       "  \"/>\n",
       "<polyline clip-path=\"url(#clip852)\" style=\"stroke:#e26f46; stroke-linecap:butt; stroke-linejoin:round; stroke-width:4; stroke-opacity:1; fill:none\" points=\"\n",
       "  247.59,1445.72 2291.44,87.9763 \n",
       "  \"/>\n",
       "<path clip-path=\"url(#clip850)\" d=\"\n",
       "M1846 250.738 L2280.54 250.738 L2280.54 95.2176 L1846 95.2176  Z\n",
       "  \" fill=\"#ffffff\" fill-rule=\"evenodd\" fill-opacity=\"1\"/>\n",
       "<polyline clip-path=\"url(#clip850)\" style=\"stroke:#000000; stroke-linecap:butt; stroke-linejoin:round; stroke-width:4; stroke-opacity:1; fill:none\" points=\"\n",
       "  1846,250.738 2280.54,250.738 2280.54,95.2176 1846,95.2176 1846,250.738 \n",
       "  \"/>\n",
       "<polyline clip-path=\"url(#clip850)\" style=\"stroke:#009af9; stroke-linecap:butt; stroke-linejoin:round; stroke-width:4; stroke-opacity:1; fill:none\" points=\"\n",
       "  1870.07,147.058 2014.51,147.058 \n",
       "  \"/>\n",
       "<path clip-path=\"url(#clip850)\" d=\"M2054.97 148.134 Q2056.47 148.643 2057.88 150.31 Q2059.32 151.977 2060.75 154.893 L2065.5 164.338 L2060.48 164.338 L2056.05 155.472 Q2054.34 152 2052.72 150.865 Q2051.12 149.731 2048.35 149.731 L2043.25 149.731 L2043.25 164.338 L2038.58 164.338 L2038.58 129.778 L2049.13 129.778 Q2055.06 129.778 2057.98 132.254 Q2060.89 134.731 2060.89 139.731 Q2060.89 142.995 2059.36 145.148 Q2057.86 147.301 2054.97 148.134 M2043.25 133.62 L2043.25 145.889 L2049.13 145.889 Q2052.51 145.889 2054.23 144.338 Q2055.96 142.764 2055.96 139.731 Q2055.96 136.699 2054.23 135.171 Q2052.51 133.62 2049.13 133.62 L2043.25 133.62 Z\" fill=\"#000000\" fill-rule=\"evenodd\" fill-opacity=\"1\" /><path clip-path=\"url(#clip850)\" d=\"M2085.54 132.949 Q2080.45 132.949 2077.44 136.745 Q2074.46 140.541 2074.46 147.092 Q2074.46 153.62 2077.44 157.416 Q2080.45 161.213 2085.54 161.213 Q2090.64 161.213 2093.6 157.416 Q2096.59 153.62 2096.59 147.092 Q2096.59 140.541 2093.6 136.745 Q2090.64 132.949 2085.54 132.949 M2085.54 129.153 Q2092.81 129.153 2097.17 134.037 Q2101.52 138.898 2101.52 147.092 Q2101.52 155.264 2097.17 160.148 Q2092.81 165.009 2085.54 165.009 Q2078.25 165.009 2073.88 160.148 Q2069.53 155.287 2069.53 147.092 Q2069.53 138.898 2073.88 134.037 Q2078.25 129.153 2085.54 129.153 Z\" fill=\"#000000\" fill-rule=\"evenodd\" fill-opacity=\"1\" /><path clip-path=\"url(#clip850)\" d=\"M2134.71 132.44 L2134.71 137.37 Q2132.35 135.171 2129.66 134.083 Q2127 132.995 2123.99 132.995 Q2118.07 132.995 2114.92 136.629 Q2111.77 140.24 2111.77 147.092 Q2111.77 153.921 2114.92 157.555 Q2118.07 161.166 2123.99 161.166 Q2127 161.166 2129.66 160.078 Q2132.35 158.99 2134.71 156.791 L2134.71 161.676 Q2132.26 163.342 2129.5 164.176 Q2126.77 165.009 2123.72 165.009 Q2115.87 165.009 2111.35 160.217 Q2106.84 155.402 2106.84 147.092 Q2106.84 138.759 2111.35 133.967 Q2115.87 129.153 2123.72 129.153 Q2126.82 129.153 2129.55 129.986 Q2132.3 130.796 2134.71 132.44 Z\" fill=\"#000000\" fill-rule=\"evenodd\" fill-opacity=\"1\" /><polyline clip-path=\"url(#clip850)\" style=\"stroke:#e26f46; stroke-linecap:butt; stroke-linejoin:round; stroke-width:4; stroke-opacity:1; fill:none\" points=\"\n",
       "  1870.07,198.898 2014.51,198.898 \n",
       "  \"/>\n",
       "<path clip-path=\"url(#clip850)\" d=\"M2043.25 199.673 L2043.25 212.335 L2050.75 212.335 Q2054.53 212.335 2056.33 210.784 Q2058.16 209.21 2058.16 205.992 Q2058.16 202.752 2056.33 201.224 Q2054.53 199.673 2050.75 199.673 L2043.25 199.673 M2043.25 185.46 L2043.25 195.877 L2050.17 195.877 Q2053.6 195.877 2055.27 194.604 Q2056.96 193.307 2056.96 190.668 Q2056.96 188.053 2055.27 186.756 Q2053.6 185.46 2050.17 185.46 L2043.25 185.46 M2038.58 181.618 L2050.52 181.618 Q2055.87 181.618 2058.76 183.84 Q2061.66 186.062 2061.66 190.159 Q2061.66 193.33 2060.17 195.205 Q2058.69 197.08 2055.82 197.543 Q2059.27 198.284 2061.17 200.645 Q2063.09 202.983 2063.09 206.502 Q2063.09 211.131 2059.94 213.654 Q2056.79 216.178 2050.98 216.178 L2038.58 216.178 L2038.58 181.618 Z\" fill=\"#000000\" fill-rule=\"evenodd\" fill-opacity=\"1\" /><path clip-path=\"url(#clip850)\" d=\"M2082.7 203.145 Q2077.54 203.145 2075.54 204.326 Q2073.55 205.506 2073.55 208.354 Q2073.55 210.622 2075.04 211.965 Q2076.54 213.284 2079.11 213.284 Q2082.65 213.284 2084.78 210.784 Q2086.93 208.261 2086.93 204.094 L2086.93 203.145 L2082.7 203.145 M2091.19 201.386 L2091.19 216.178 L2086.93 216.178 L2086.93 212.242 Q2085.48 214.603 2083.3 215.738 Q2081.12 216.849 2077.98 216.849 Q2073.99 216.849 2071.63 214.627 Q2069.29 212.381 2069.29 208.631 Q2069.29 204.256 2072.21 202.034 Q2075.15 199.812 2080.96 199.812 L2086.93 199.812 L2086.93 199.395 Q2086.93 196.455 2084.99 194.858 Q2083.07 193.238 2079.57 193.238 Q2077.35 193.238 2075.24 193.77 Q2073.14 194.303 2071.19 195.367 L2071.19 191.432 Q2073.53 190.53 2075.73 190.09 Q2077.93 189.627 2080.01 189.627 Q2085.64 189.627 2088.42 192.543 Q2091.19 195.46 2091.19 201.386 Z\" fill=\"#000000\" fill-rule=\"evenodd\" fill-opacity=\"1\" /><path clip-path=\"url(#clip850)\" d=\"M2116.49 191.016 L2116.49 195.043 Q2114.69 194.117 2112.74 193.655 Q2110.8 193.192 2108.72 193.192 Q2105.54 193.192 2103.95 194.164 Q2102.37 195.136 2102.37 197.08 Q2102.37 198.562 2103.51 199.418 Q2104.64 200.252 2108.07 201.016 L2109.53 201.34 Q2114.06 202.312 2115.96 204.094 Q2117.88 205.854 2117.88 209.025 Q2117.88 212.636 2115.01 214.742 Q2112.16 216.849 2107.16 216.849 Q2105.08 216.849 2102.81 216.432 Q2100.57 216.039 2098.07 215.228 L2098.07 210.83 Q2100.43 212.057 2102.72 212.682 Q2105.01 213.284 2107.26 213.284 Q2110.27 213.284 2111.89 212.266 Q2113.51 211.224 2113.51 209.349 Q2113.51 207.613 2112.33 206.687 Q2111.17 205.761 2107.21 204.904 L2105.73 204.557 Q2101.77 203.724 2100.01 202.011 Q2098.25 200.275 2098.25 197.266 Q2098.25 193.608 2100.85 191.618 Q2103.44 189.627 2108.21 189.627 Q2110.57 189.627 2112.65 189.974 Q2114.73 190.321 2116.49 191.016 Z\" fill=\"#000000\" fill-rule=\"evenodd\" fill-opacity=\"1\" /><path clip-path=\"url(#clip850)\" d=\"M2146.84 202.15 L2146.84 204.233 L2127.26 204.233 Q2127.54 208.631 2129.9 210.946 Q2132.28 213.238 2136.52 213.238 Q2138.97 213.238 2141.26 212.636 Q2143.58 212.034 2145.85 210.83 L2145.85 214.858 Q2143.55 215.83 2141.15 216.34 Q2138.74 216.849 2136.26 216.849 Q2130.06 216.849 2126.42 213.238 Q2122.81 209.627 2122.81 203.469 Q2122.81 197.104 2126.24 193.377 Q2129.69 189.627 2135.52 189.627 Q2140.75 189.627 2143.79 193.006 Q2146.84 196.363 2146.84 202.15 M2142.58 200.9 Q2142.54 197.405 2140.61 195.321 Q2138.72 193.238 2135.57 193.238 Q2132 193.238 2129.85 195.252 Q2127.72 197.266 2127.4 200.923 L2142.58 200.9 Z\" fill=\"#000000\" fill-rule=\"evenodd\" fill-opacity=\"1\" /><path clip-path=\"url(#clip850)\" d=\"M2153.83 180.159 L2158.09 180.159 L2158.09 216.178 L2153.83 216.178 L2153.83 180.159 Z\" fill=\"#000000\" fill-rule=\"evenodd\" fill-opacity=\"1\" /><path clip-path=\"url(#clip850)\" d=\"M2167 190.252 L2171.26 190.252 L2171.26 216.178 L2167 216.178 L2167 190.252 M2167 180.159 L2171.26 180.159 L2171.26 185.553 L2167 185.553 L2167 180.159 Z\" fill=\"#000000\" fill-rule=\"evenodd\" fill-opacity=\"1\" /><path clip-path=\"url(#clip850)\" d=\"M2201.72 200.529 L2201.72 216.178 L2197.47 216.178 L2197.47 200.668 Q2197.47 196.988 2196.03 195.159 Q2194.6 193.33 2191.72 193.33 Q2188.28 193.33 2186.28 195.53 Q2184.29 197.729 2184.29 201.525 L2184.29 216.178 L2180.01 216.178 L2180.01 190.252 L2184.29 190.252 L2184.29 194.28 Q2185.82 191.942 2187.88 190.784 Q2189.97 189.627 2192.67 189.627 Q2197.14 189.627 2199.43 192.405 Q2201.72 195.159 2201.72 200.529 Z\" fill=\"#000000\" fill-rule=\"evenodd\" fill-opacity=\"1\" /><path clip-path=\"url(#clip850)\" d=\"M2232.4 202.15 L2232.4 204.233 L2212.81 204.233 Q2213.09 208.631 2215.45 210.946 Q2217.84 213.238 2222.07 213.238 Q2224.53 213.238 2226.82 212.636 Q2229.13 212.034 2231.4 210.83 L2231.4 214.858 Q2229.11 215.83 2226.7 216.34 Q2224.29 216.849 2221.82 216.849 Q2215.61 216.849 2211.98 213.238 Q2208.37 209.627 2208.37 203.469 Q2208.37 197.104 2211.79 193.377 Q2215.24 189.627 2221.08 189.627 Q2226.31 189.627 2229.34 193.006 Q2232.4 196.363 2232.4 202.15 M2228.14 200.9 Q2228.09 197.405 2226.17 195.321 Q2224.27 193.238 2221.12 193.238 Q2217.56 193.238 2215.41 195.252 Q2213.28 197.266 2212.95 200.923 L2228.14 200.9 Z\" fill=\"#000000\" fill-rule=\"evenodd\" fill-opacity=\"1\" /></svg>\n"
      ]
     },
     "execution_count": 19,
     "metadata": {},
     "output_type": "execute_result"
    }
   ],
   "source": [
    "draw_roc()"
   ]
  },
  {
   "cell_type": "markdown",
   "id": "48d79c6d-e492-4519-8280-7206cf6bce73",
   "metadata": {
    "tags": []
   },
   "source": [
    "# Prediction"
   ]
  },
  {
   "cell_type": "code",
   "execution_count": 20,
   "id": "f9e7bd6e-ba20-4fce-9fad-bc07510571d8",
   "metadata": {},
   "outputs": [
    {
     "data": {
      "text/html": [
       "<div class=\"data-frame\"><p>6,319 rows × 6 columns</p><table class=\"data-frame\"><thead><tr><th></th><th>index</th><th>Datum</th><th>Temperatur</th><th>Luftfeuchtigkeit</th><th>CO2</th><th>Wassergehalt</th></tr><tr><th></th><th title=\"Int64\">Int64</th><th title=\"String31\">String31</th><th title=\"Union{Missing, Float64}\">Float64?</th><th title=\"Union{Missing, Float64}\">Float64?</th><th title=\"Union{Missing, Float64}\">Float64?</th><th title=\"Float64\">Float64</th></tr></thead><tbody><tr><th>1</th><td>3434</td><td>2017-02-04 00:01:00</td><td>20.05</td><td>33.545</td><td>507.0</td><td>0.00486861</td></tr><tr><th>2</th><td>3435</td><td>2017-02-04 00:02:00</td><td>20.0333</td><td>33.6267</td><td>505.333</td><td>0.00487548</td></tr><tr><th>3</th><td>3436</td><td>2017-02-04 00:03:00</td><td>20.0</td><td>33.59</td><td>505.5</td><td>0.00486</td></tr><tr><th>4</th><td>3437</td><td>2017-02-04 00:04:00</td><td>20.0</td><td>33.645</td><td>504.5</td><td>0.00486802</td></tr><tr><th>5</th><td>3438</td><td>2017-02-04 00:04:59</td><td>20.0</td><td>33.6267</td><td>504.667</td><td>0.00486535</td></tr><tr><th>6</th><td>3439</td><td>2017-02-04 00:06:00</td><td>20.0</td><td>33.645</td><td>507.5</td><td>0.00486802</td></tr><tr><th>7</th><td>3440</td><td>2017-02-04 00:07:00</td><td>20.0</td><td>33.7</td><td>509.0</td><td>0.00487604</td></tr><tr><th>8</th><td>3441</td><td>2017-02-04 00:08:00</td><td>20.0</td><td>33.59</td><td>511.0</td><td>0.00486</td></tr><tr><th>9</th><td>3442</td><td>2017-02-04 00:08:59</td><td>20.0333</td><td>33.6267</td><td>506.667</td><td>0.00487548</td></tr><tr><th>10</th><td>3443</td><td>2017-02-04 00:10:00</td><td>20.0</td><td>33.59</td><td>509.0</td><td>0.00486</td></tr><tr><th>11</th><td>3444</td><td>2017-02-04 00:10:59</td><td>20.0</td><td>33.7</td><td>509.0</td><td>0.00487604</td></tr><tr><th>12</th><td>3445</td><td>2017-02-04 00:11:59</td><td>20.0</td><td>33.7</td><td>506.0</td><td>0.00487604</td></tr><tr><th>13</th><td>3446</td><td>2017-02-04 00:13:00</td><td>20.0</td><td>33.7</td><td>502.5</td><td>0.00487604</td></tr><tr><th>14</th><td>3447</td><td>2017-02-04 00:14:00</td><td>20.0</td><td>33.79</td><td>499.0</td><td>0.00488916</td></tr><tr><th>15</th><td>3448</td><td>2017-02-04 00:15:00</td><td>20.0</td><td>33.79</td><td>501.5</td><td>0.00488916</td></tr><tr><th>16</th><td>3449</td><td>2017-02-04 00:16:00</td><td>20.0</td><td>33.79</td><td>505.0</td><td>0.00488916</td></tr><tr><th>17</th><td>3450</td><td>2017-02-04 00:16:59</td><td>20.0</td><td>33.79</td><td>504.5</td><td>0.00488916</td></tr><tr><th>18</th><td>3451</td><td>2017-02-04 00:17:59</td><td>20.0</td><td>33.79</td><td>501.5</td><td>0.00488916</td></tr><tr><th>19</th><td>3452</td><td>2017-02-04 00:19:00</td><td>20.0</td><td>33.95</td><td>503.5</td><td>0.0049125</td></tr><tr><th>20</th><td>3453</td><td>2017-02-04 00:20:00</td><td>20.0</td><td>34.0</td><td>505.0</td><td>0.00491979</td></tr><tr><th>21</th><td>3454</td><td>2017-02-04 00:21:00</td><td>19.9633</td><td>34.0</td><td>508.0</td><td>0.00490854</td></tr><tr><th>22</th><td>3455</td><td>2017-02-04 00:22:00</td><td>20.0</td><td>34.0</td><td>508.0</td><td>0.00491979</td></tr><tr><th>23</th><td>3456</td><td>2017-02-04 00:23:00</td><td>20.0</td><td>34.0</td><td>509.667</td><td>0.00491979</td></tr><tr><th>24</th><td>3457</td><td>2017-02-04 00:23:59</td><td>20.0</td><td>34.09</td><td>504.333</td><td>0.00493292</td></tr><tr><th>25</th><td>3458</td><td>2017-02-04 00:24:59</td><td>20.0</td><td>34.09</td><td>506.333</td><td>0.00493292</td></tr><tr><th>26</th><td>3459</td><td>2017-02-04 00:26:00</td><td>20.0</td><td>34.09</td><td>506.5</td><td>0.00493292</td></tr><tr><th>27</th><td>3460</td><td>2017-02-04 00:27:00</td><td>20.0</td><td>34.145</td><td>506.0</td><td>0.00494094</td></tr><tr><th>28</th><td>3461</td><td>2017-02-04 00:28:00</td><td>20.0</td><td>34.045</td><td>502.5</td><td>0.00492635</td></tr><tr><th>29</th><td>3462</td><td>2017-02-04 00:29:00</td><td>20.0</td><td>34.09</td><td>502.5</td><td>0.00493292</td></tr><tr><th>30</th><td>3463</td><td>2017-02-04 00:29:59</td><td>20.0</td><td>34.09</td><td>506.0</td><td>0.00493292</td></tr><tr><th>&vellip;</th><td>&vellip;</td><td>&vellip;</td><td>&vellip;</td><td>&vellip;</td><td>&vellip;</td><td>&vellip;</td></tr></tbody></table></div>"
      ],
      "text/latex": [
       "\\begin{tabular}{r|cccccc}\n",
       "\t& index & Datum & Temperatur & Luftfeuchtigkeit & CO2 & Wassergehalt\\\\\n",
       "\t\\hline\n",
       "\t& Int64 & String31 & Float64? & Float64? & Float64? & Float64\\\\\n",
       "\t\\hline\n",
       "\t1 & 3434 & 2017-02-04 00:01:00 & 20.05 & 33.545 & 507.0 & 0.00486861 \\\\\n",
       "\t2 & 3435 & 2017-02-04 00:02:00 & 20.0333 & 33.6267 & 505.333 & 0.00487548 \\\\\n",
       "\t3 & 3436 & 2017-02-04 00:03:00 & 20.0 & 33.59 & 505.5 & 0.00486 \\\\\n",
       "\t4 & 3437 & 2017-02-04 00:04:00 & 20.0 & 33.645 & 504.5 & 0.00486802 \\\\\n",
       "\t5 & 3438 & 2017-02-04 00:04:59 & 20.0 & 33.6267 & 504.667 & 0.00486535 \\\\\n",
       "\t6 & 3439 & 2017-02-04 00:06:00 & 20.0 & 33.645 & 507.5 & 0.00486802 \\\\\n",
       "\t7 & 3440 & 2017-02-04 00:07:00 & 20.0 & 33.7 & 509.0 & 0.00487604 \\\\\n",
       "\t8 & 3441 & 2017-02-04 00:08:00 & 20.0 & 33.59 & 511.0 & 0.00486 \\\\\n",
       "\t9 & 3442 & 2017-02-04 00:08:59 & 20.0333 & 33.6267 & 506.667 & 0.00487548 \\\\\n",
       "\t10 & 3443 & 2017-02-04 00:10:00 & 20.0 & 33.59 & 509.0 & 0.00486 \\\\\n",
       "\t11 & 3444 & 2017-02-04 00:10:59 & 20.0 & 33.7 & 509.0 & 0.00487604 \\\\\n",
       "\t12 & 3445 & 2017-02-04 00:11:59 & 20.0 & 33.7 & 506.0 & 0.00487604 \\\\\n",
       "\t13 & 3446 & 2017-02-04 00:13:00 & 20.0 & 33.7 & 502.5 & 0.00487604 \\\\\n",
       "\t14 & 3447 & 2017-02-04 00:14:00 & 20.0 & 33.79 & 499.0 & 0.00488916 \\\\\n",
       "\t15 & 3448 & 2017-02-04 00:15:00 & 20.0 & 33.79 & 501.5 & 0.00488916 \\\\\n",
       "\t16 & 3449 & 2017-02-04 00:16:00 & 20.0 & 33.79 & 505.0 & 0.00488916 \\\\\n",
       "\t17 & 3450 & 2017-02-04 00:16:59 & 20.0 & 33.79 & 504.5 & 0.00488916 \\\\\n",
       "\t18 & 3451 & 2017-02-04 00:17:59 & 20.0 & 33.79 & 501.5 & 0.00488916 \\\\\n",
       "\t19 & 3452 & 2017-02-04 00:19:00 & 20.0 & 33.95 & 503.5 & 0.0049125 \\\\\n",
       "\t20 & 3453 & 2017-02-04 00:20:00 & 20.0 & 34.0 & 505.0 & 0.00491979 \\\\\n",
       "\t21 & 3454 & 2017-02-04 00:21:00 & 19.9633 & 34.0 & 508.0 & 0.00490854 \\\\\n",
       "\t22 & 3455 & 2017-02-04 00:22:00 & 20.0 & 34.0 & 508.0 & 0.00491979 \\\\\n",
       "\t23 & 3456 & 2017-02-04 00:23:00 & 20.0 & 34.0 & 509.667 & 0.00491979 \\\\\n",
       "\t24 & 3457 & 2017-02-04 00:23:59 & 20.0 & 34.09 & 504.333 & 0.00493292 \\\\\n",
       "\t25 & 3458 & 2017-02-04 00:24:59 & 20.0 & 34.09 & 506.333 & 0.00493292 \\\\\n",
       "\t26 & 3459 & 2017-02-04 00:26:00 & 20.0 & 34.09 & 506.5 & 0.00493292 \\\\\n",
       "\t27 & 3460 & 2017-02-04 00:27:00 & 20.0 & 34.145 & 506.0 & 0.00494094 \\\\\n",
       "\t28 & 3461 & 2017-02-04 00:28:00 & 20.0 & 34.045 & 502.5 & 0.00492635 \\\\\n",
       "\t29 & 3462 & 2017-02-04 00:29:00 & 20.0 & 34.09 & 502.5 & 0.00493292 \\\\\n",
       "\t30 & 3463 & 2017-02-04 00:29:59 & 20.0 & 34.09 & 506.0 & 0.00493292 \\\\\n",
       "\t$\\dots$ & $\\dots$ & $\\dots$ & $\\dots$ & $\\dots$ & $\\dots$ & $\\dots$ \\\\\n",
       "\\end{tabular}\n"
      ],
      "text/plain": [
       "\u001b[1m6319×6 DataFrame\u001b[0m\n",
       "\u001b[1m  Row \u001b[0m│\u001b[1m index \u001b[0m\u001b[1m Datum               \u001b[0m\u001b[1m Temperatur \u001b[0m\u001b[1m Luftfeuchtigkeit \u001b[0m\u001b[1m CO2      \u001b[0m\u001b[1m Wa\u001b[0m ⋯\n",
       "\u001b[1m      \u001b[0m│\u001b[90m Int64 \u001b[0m\u001b[90m String31            \u001b[0m\u001b[90m Float64?   \u001b[0m\u001b[90m Float64?         \u001b[0m\u001b[90m Float64? \u001b[0m\u001b[90m Fl\u001b[0m ⋯\n",
       "──────┼─────────────────────────────────────────────────────────────────────────\n",
       "    1 │  3434  2017-02-04 00:01:00     20.05             33.545    507.0       ⋯\n",
       "    2 │  3435  2017-02-04 00:02:00     20.0333           33.6267   505.333\n",
       "    3 │  3436  2017-02-04 00:03:00     20.0              33.59     505.5\n",
       "    4 │  3437  2017-02-04 00:04:00     20.0              33.645    504.5\n",
       "    5 │  3438  2017-02-04 00:04:59     20.0              33.6267   504.667     ⋯\n",
       "    6 │  3439  2017-02-04 00:06:00     20.0              33.645    507.5\n",
       "    7 │  3440  2017-02-04 00:07:00     20.0              33.7      509.0\n",
       "    8 │  3441  2017-02-04 00:08:00     20.0              33.59     511.0\n",
       "    9 │  3442  2017-02-04 00:08:59     20.0333           33.6267   506.667     ⋯\n",
       "   10 │  3443  2017-02-04 00:10:00     20.0              33.59     509.0\n",
       "   11 │  3444  2017-02-04 00:10:59     20.0              33.7      509.0\n",
       "  ⋮   │   ⋮             ⋮               ⋮              ⋮             ⋮         ⋱\n",
       " 6310 │  9743  2017-02-08 09:10:00     20.79             26.745   1463.75\n",
       " 6311 │  9744  2017-02-08 09:10:59     20.79             27.1225  1467.0       ⋯\n",
       " 6312 │  9745  2017-02-08 09:11:59     20.79             27.03    1488.0\n",
       " 6313 │  9746  2017-02-08 09:13:00     20.79             27.2967  1486.0\n",
       " 6314 │  9747  2017-02-08 09:14:00     20.815            27.4175  1511.75\n",
       " 6315 │  9748  2017-02-08 09:15:00     20.815            27.7175  1505.25      ⋯\n",
       " 6316 │  9749  2017-02-08 09:16:00     20.865            27.745   1514.5\n",
       " 6317 │  9750  2017-02-08 09:16:59     20.89             27.745   1521.5\n",
       " 6318 │  9751  2017-02-08 09:17:59     20.89             28.0225  1632.0\n",
       " 6319 │  9752  2017-02-08 09:19:00     21.0              28.1     1864.0       ⋯\n",
       "\u001b[36m                                                  1 column and 6298 rows omitted\u001b[0m"
      ]
     },
     "execution_count": 20,
     "metadata": {},
     "output_type": "execute_result"
    }
   ],
   "source": [
    "test_raw = DataFrame(CSV.File(\"test.csv\"))"
   ]
  },
  {
   "cell_type": "code",
   "execution_count": 21,
   "id": "6efd81ff-cb7f-49cc-8e4d-7f1856dee73c",
   "metadata": {},
   "outputs": [
    {
     "data": {
      "text/html": [
       "<div class=\"data-frame\"><p>6,319 rows × 56 columns (omitted printing of 49 columns)</p><table class=\"data-frame\"><thead><tr><th></th><th>Minute</th><th>Temperatur</th><th>Luftfeuchtigkeit</th><th>CO2</th><th>Wassergehalt</th><th>Wochentag_3</th><th>Wochentag_4</th></tr><tr><th></th><th title=\"Float64\">Float64</th><th title=\"Float64\">Float64</th><th title=\"Float64\">Float64</th><th title=\"Float64\">Float64</th><th title=\"Float64\">Float64</th><th title=\"Float64\">Float64</th><th title=\"Union{Missing, Float64}\">Float64?</th></tr></thead><tbody><tr><th>1</th><td>0.0169492</td><td>0.860884</td><td>0.849241</td><td>0.244161</td><td>0.843983</td><td>0.0</td><td>0.0</td></tr><tr><th>2</th><td>0.0338983</td><td>0.860169</td><td>0.851308</td><td>0.243358</td><td>0.845175</td><td>0.0</td><td>0.0</td></tr><tr><th>3</th><td>0.0508475</td><td>0.858738</td><td>0.85038</td><td>0.243438</td><td>0.842491</td><td>0.0</td><td>0.0</td></tr><tr><th>4</th><td>0.0677966</td><td>0.858738</td><td>0.851772</td><td>0.242957</td><td>0.843881</td><td>0.0</td><td>0.0</td></tr><tr><th>5</th><td>0.0847458</td><td>0.858738</td><td>0.851308</td><td>0.243037</td><td>0.843418</td><td>0.0</td><td>0.0</td></tr><tr><th>6</th><td>0.101695</td><td>0.858738</td><td>0.851772</td><td>0.244402</td><td>0.843881</td><td>0.0</td><td>0.0</td></tr><tr><th>7</th><td>0.118644</td><td>0.858738</td><td>0.853165</td><td>0.245124</td><td>0.845272</td><td>0.0</td><td>0.0</td></tr><tr><th>8</th><td>0.135593</td><td>0.858738</td><td>0.85038</td><td>0.246087</td><td>0.842491</td><td>0.0</td><td>0.0</td></tr><tr><th>9</th><td>0.152542</td><td>0.860169</td><td>0.851308</td><td>0.244</td><td>0.845175</td><td>0.0</td><td>0.0</td></tr><tr><th>10</th><td>0.169492</td><td>0.858738</td><td>0.85038</td><td>0.245124</td><td>0.842491</td><td>0.0</td><td>0.0</td></tr><tr><th>11</th><td>0.186441</td><td>0.858738</td><td>0.853165</td><td>0.245124</td><td>0.845272</td><td>0.0</td><td>0.0</td></tr><tr><th>12</th><td>0.20339</td><td>0.858738</td><td>0.853165</td><td>0.243679</td><td>0.845272</td><td>0.0</td><td>0.0</td></tr><tr><th>13</th><td>0.220339</td><td>0.858738</td><td>0.853165</td><td>0.241994</td><td>0.845272</td><td>0.0</td><td>0.0</td></tr><tr><th>14</th><td>0.237288</td><td>0.858738</td><td>0.855443</td><td>0.240308</td><td>0.847547</td><td>0.0</td><td>0.0</td></tr><tr><th>15</th><td>0.254237</td><td>0.858738</td><td>0.855443</td><td>0.241512</td><td>0.847547</td><td>0.0</td><td>0.0</td></tr><tr><th>16</th><td>0.271186</td><td>0.858738</td><td>0.855443</td><td>0.243198</td><td>0.847547</td><td>0.0</td><td>0.0</td></tr><tr><th>17</th><td>0.288136</td><td>0.858738</td><td>0.855443</td><td>0.242957</td><td>0.847547</td><td>0.0</td><td>0.0</td></tr><tr><th>18</th><td>0.305085</td><td>0.858738</td><td>0.855443</td><td>0.241512</td><td>0.847547</td><td>0.0</td><td>0.0</td></tr><tr><th>19</th><td>0.322034</td><td>0.858738</td><td>0.859494</td><td>0.242475</td><td>0.851592</td><td>0.0</td><td>0.0</td></tr><tr><th>20</th><td>0.338983</td><td>0.858738</td><td>0.860759</td><td>0.243198</td><td>0.852856</td><td>0.0</td><td>0.0</td></tr><tr><th>21</th><td>0.355932</td><td>0.857163</td><td>0.860759</td><td>0.244642</td><td>0.850905</td><td>0.0</td><td>0.0</td></tr><tr><th>22</th><td>0.372881</td><td>0.858738</td><td>0.860759</td><td>0.244642</td><td>0.852856</td><td>0.0</td><td>0.0</td></tr><tr><th>23</th><td>0.389831</td><td>0.858738</td><td>0.860759</td><td>0.245445</td><td>0.852856</td><td>0.0</td><td>0.0</td></tr><tr><th>24</th><td>0.40678</td><td>0.858738</td><td>0.863038</td><td>0.242877</td><td>0.855131</td><td>0.0</td><td>0.0</td></tr><tr><th>25</th><td>0.423729</td><td>0.858738</td><td>0.863038</td><td>0.24384</td><td>0.855131</td><td>0.0</td><td>0.0</td></tr><tr><th>26</th><td>0.440678</td><td>0.858738</td><td>0.863038</td><td>0.24392</td><td>0.855131</td><td>0.0</td><td>0.0</td></tr><tr><th>27</th><td>0.457627</td><td>0.858738</td><td>0.86443</td><td>0.243679</td><td>0.856522</td><td>0.0</td><td>0.0</td></tr><tr><th>28</th><td>0.474576</td><td>0.858738</td><td>0.861899</td><td>0.241994</td><td>0.853993</td><td>0.0</td><td>0.0</td></tr><tr><th>29</th><td>0.491525</td><td>0.858738</td><td>0.863038</td><td>0.241994</td><td>0.855131</td><td>0.0</td><td>0.0</td></tr><tr><th>30</th><td>0.508475</td><td>0.858738</td><td>0.863038</td><td>0.243679</td><td>0.855131</td><td>0.0</td><td>0.0</td></tr><tr><th>&vellip;</th><td>&vellip;</td><td>&vellip;</td><td>&vellip;</td><td>&vellip;</td><td>&vellip;</td><td>&vellip;</td><td>&vellip;</td></tr></tbody></table></div>"
      ],
      "text/latex": [
       "\\begin{tabular}{r|cccccccc}\n",
       "\t& Minute & Temperatur & Luftfeuchtigkeit & CO2 & Wassergehalt & Wochentag\\_3 & Wochentag\\_4 & \\\\\n",
       "\t\\hline\n",
       "\t& Float64 & Float64 & Float64 & Float64 & Float64 & Float64 & Float64? & \\\\\n",
       "\t\\hline\n",
       "\t1 & 0.0169492 & 0.860884 & 0.849241 & 0.244161 & 0.843983 & 0.0 & 0.0 & $\\dots$ \\\\\n",
       "\t2 & 0.0338983 & 0.860169 & 0.851308 & 0.243358 & 0.845175 & 0.0 & 0.0 & $\\dots$ \\\\\n",
       "\t3 & 0.0508475 & 0.858738 & 0.85038 & 0.243438 & 0.842491 & 0.0 & 0.0 & $\\dots$ \\\\\n",
       "\t4 & 0.0677966 & 0.858738 & 0.851772 & 0.242957 & 0.843881 & 0.0 & 0.0 & $\\dots$ \\\\\n",
       "\t5 & 0.0847458 & 0.858738 & 0.851308 & 0.243037 & 0.843418 & 0.0 & 0.0 & $\\dots$ \\\\\n",
       "\t6 & 0.101695 & 0.858738 & 0.851772 & 0.244402 & 0.843881 & 0.0 & 0.0 & $\\dots$ \\\\\n",
       "\t7 & 0.118644 & 0.858738 & 0.853165 & 0.245124 & 0.845272 & 0.0 & 0.0 & $\\dots$ \\\\\n",
       "\t8 & 0.135593 & 0.858738 & 0.85038 & 0.246087 & 0.842491 & 0.0 & 0.0 & $\\dots$ \\\\\n",
       "\t9 & 0.152542 & 0.860169 & 0.851308 & 0.244 & 0.845175 & 0.0 & 0.0 & $\\dots$ \\\\\n",
       "\t10 & 0.169492 & 0.858738 & 0.85038 & 0.245124 & 0.842491 & 0.0 & 0.0 & $\\dots$ \\\\\n",
       "\t11 & 0.186441 & 0.858738 & 0.853165 & 0.245124 & 0.845272 & 0.0 & 0.0 & $\\dots$ \\\\\n",
       "\t12 & 0.20339 & 0.858738 & 0.853165 & 0.243679 & 0.845272 & 0.0 & 0.0 & $\\dots$ \\\\\n",
       "\t13 & 0.220339 & 0.858738 & 0.853165 & 0.241994 & 0.845272 & 0.0 & 0.0 & $\\dots$ \\\\\n",
       "\t14 & 0.237288 & 0.858738 & 0.855443 & 0.240308 & 0.847547 & 0.0 & 0.0 & $\\dots$ \\\\\n",
       "\t15 & 0.254237 & 0.858738 & 0.855443 & 0.241512 & 0.847547 & 0.0 & 0.0 & $\\dots$ \\\\\n",
       "\t16 & 0.271186 & 0.858738 & 0.855443 & 0.243198 & 0.847547 & 0.0 & 0.0 & $\\dots$ \\\\\n",
       "\t17 & 0.288136 & 0.858738 & 0.855443 & 0.242957 & 0.847547 & 0.0 & 0.0 & $\\dots$ \\\\\n",
       "\t18 & 0.305085 & 0.858738 & 0.855443 & 0.241512 & 0.847547 & 0.0 & 0.0 & $\\dots$ \\\\\n",
       "\t19 & 0.322034 & 0.858738 & 0.859494 & 0.242475 & 0.851592 & 0.0 & 0.0 & $\\dots$ \\\\\n",
       "\t20 & 0.338983 & 0.858738 & 0.860759 & 0.243198 & 0.852856 & 0.0 & 0.0 & $\\dots$ \\\\\n",
       "\t21 & 0.355932 & 0.857163 & 0.860759 & 0.244642 & 0.850905 & 0.0 & 0.0 & $\\dots$ \\\\\n",
       "\t22 & 0.372881 & 0.858738 & 0.860759 & 0.244642 & 0.852856 & 0.0 & 0.0 & $\\dots$ \\\\\n",
       "\t23 & 0.389831 & 0.858738 & 0.860759 & 0.245445 & 0.852856 & 0.0 & 0.0 & $\\dots$ \\\\\n",
       "\t24 & 0.40678 & 0.858738 & 0.863038 & 0.242877 & 0.855131 & 0.0 & 0.0 & $\\dots$ \\\\\n",
       "\t25 & 0.423729 & 0.858738 & 0.863038 & 0.24384 & 0.855131 & 0.0 & 0.0 & $\\dots$ \\\\\n",
       "\t26 & 0.440678 & 0.858738 & 0.863038 & 0.24392 & 0.855131 & 0.0 & 0.0 & $\\dots$ \\\\\n",
       "\t27 & 0.457627 & 0.858738 & 0.86443 & 0.243679 & 0.856522 & 0.0 & 0.0 & $\\dots$ \\\\\n",
       "\t28 & 0.474576 & 0.858738 & 0.861899 & 0.241994 & 0.853993 & 0.0 & 0.0 & $\\dots$ \\\\\n",
       "\t29 & 0.491525 & 0.858738 & 0.863038 & 0.241994 & 0.855131 & 0.0 & 0.0 & $\\dots$ \\\\\n",
       "\t30 & 0.508475 & 0.858738 & 0.863038 & 0.243679 & 0.855131 & 0.0 & 0.0 & $\\dots$ \\\\\n",
       "\t$\\dots$ & $\\dots$ & $\\dots$ & $\\dots$ & $\\dots$ & $\\dots$ & $\\dots$ & $\\dots$ &  \\\\\n",
       "\\end{tabular}\n"
      ],
      "text/plain": [
       "\u001b[1m6319×56 DataFrame\u001b[0m\n",
       "\u001b[1m  Row \u001b[0m│\u001b[1m Minute    \u001b[0m\u001b[1m Temperatur \u001b[0m\u001b[1m Luftfeuchtigkeit \u001b[0m\u001b[1m CO2      \u001b[0m\u001b[1m Wassergehalt \u001b[0m\u001b[1m Woche\u001b[0m ⋯\n",
       "\u001b[1m      \u001b[0m│\u001b[90m Float64   \u001b[0m\u001b[90m Float64    \u001b[0m\u001b[90m Float64          \u001b[0m\u001b[90m Float64  \u001b[0m\u001b[90m Float64      \u001b[0m\u001b[90m Float\u001b[0m ⋯\n",
       "──────┼─────────────────────────────────────────────────────────────────────────\n",
       "    1 │ 0.0169492    0.860884          0.849241  0.244161      0.843983        ⋯\n",
       "    2 │ 0.0338983    0.860169          0.851308  0.243358      0.845175\n",
       "    3 │ 0.0508475    0.858738          0.85038   0.243438      0.842491\n",
       "    4 │ 0.0677966    0.858738          0.851772  0.242957      0.843881\n",
       "    5 │ 0.0847458    0.858738          0.851308  0.243037      0.843418        ⋯\n",
       "    6 │ 0.101695     0.858738          0.851772  0.244402      0.843881\n",
       "    7 │ 0.118644     0.858738          0.853165  0.245124      0.845272\n",
       "    8 │ 0.135593     0.858738          0.85038   0.246087      0.842491\n",
       "    9 │ 0.152542     0.860169          0.851308  0.244         0.845175        ⋯\n",
       "   10 │ 0.169492     0.858738          0.85038   0.245124      0.842491\n",
       "   11 │ 0.186441     0.858738          0.853165  0.245124      0.845272\n",
       "  ⋮   │     ⋮          ⋮              ⋮             ⋮           ⋮              ⋱\n",
       " 6310 │ 0.169492     0.892658          0.677089  0.704912      0.703444\n",
       " 6311 │ 0.186441     0.892658          0.686646  0.706477      0.713439        ⋯\n",
       " 6312 │ 0.20339      0.892658          0.684304  0.71659       0.71099\n",
       " 6313 │ 0.220339     0.892658          0.691055  0.715627      0.718051\n",
       " 6314 │ 0.237288     0.893731          0.694114  0.728028      0.722369\n",
       " 6315 │ 0.254237     0.893731          0.701709  0.724898      0.730327        ⋯\n",
       " 6316 │ 0.271186     0.895878          0.702405  0.729352      0.733325\n",
       " 6317 │ 0.288136     0.896951          0.702405  0.732723      0.734461\n",
       " 6318 │ 0.305085     0.896951          0.70943   0.785938      0.741858\n",
       " 6319 │ 0.322034     0.901675          0.711392  0.897664      0.749008        ⋯\n",
       "\u001b[36m                                                51 columns and 6298 rows omitted\u001b[0m"
      ]
     },
     "execution_count": 21,
     "metadata": {},
     "output_type": "execute_result"
    }
   ],
   "source": [
    "# transform and join with empty copy of train_x to mimic feature order\n",
    "test = vcat(similar(train_x,0), pipeline(test_raw, SHIFT), cols=:union)\n",
    "# fill missing values\n",
    "replace!.(eachcol(test), missing=>0)\n",
    "test"
   ]
  },
  {
   "cell_type": "code",
   "execution_count": 22,
   "id": "f32f66c7-19db-4000-b421-a608a0ab361f",
   "metadata": {},
   "outputs": [
    {
     "data": {
      "text/plain": [
       "6319-element Vector{Float64}:\n",
       " -0.0\n",
       " -0.0\n",
       " -0.0\n",
       " -0.0\n",
       " -0.0\n",
       " -0.0\n",
       " -0.0\n",
       " -0.0\n",
       " -0.0\n",
       " -0.0\n",
       " -0.0\n",
       " -0.0\n",
       " -0.0\n",
       "  ⋮\n",
       "  1.0\n",
       "  1.0\n",
       "  1.0\n",
       "  1.0\n",
       "  1.0\n",
       "  1.0\n",
       "  1.0\n",
       "  1.0\n",
       "  1.0\n",
       "  1.0\n",
       "  1.0\n",
       "  1.0"
      ]
     },
     "execution_count": 22,
     "metadata": {},
     "output_type": "execute_result"
    }
   ],
   "source": [
    "test_raw[!, \"Anwesenheit\"] = predict(test, 0.6)"
   ]
  },
  {
   "cell_type": "code",
   "execution_count": null,
   "id": "b8eeed5c-44a5-4aae-977d-03dec3f1988b",
   "metadata": {},
   "outputs": [],
   "source": [
    "# write to disk\n",
    "CSV.write(\"nn_output.csv\", test_raw)"
   ]
  },
  {
   "cell_type": "code",
   "execution_count": 23,
   "id": "8410c5f6-c617-4c3f-bce7-8bec887bf6ab",
   "metadata": {},
   "outputs": [
    {
     "data": {
      "text/html": [
       "<div class=\"data-frame\"><p>24 rows × 2 columns</p><table class=\"data-frame\"><thead><tr><th></th><th>Stunde</th><th>Anwesenheit_sum</th></tr><tr><th></th><th title=\"Int64\">Int64</th><th title=\"Float64\">Float64</th></tr></thead><tbody><tr><th>1</th><td>0</td><td>0.0</td></tr><tr><th>2</th><td>1</td><td>0.0</td></tr><tr><th>3</th><td>2</td><td>0.0</td></tr><tr><th>4</th><td>3</td><td>0.0</td></tr><tr><th>5</th><td>4</td><td>0.0</td></tr><tr><th>6</th><td>5</td><td>0.0</td></tr><tr><th>7</th><td>6</td><td>0.0</td></tr><tr><th>8</th><td>7</td><td>29.0</td></tr><tr><th>9</th><td>8</td><td>108.0</td></tr><tr><th>10</th><td>9</td><td>140.0</td></tr><tr><th>11</th><td>10</td><td>120.0</td></tr><tr><th>12</th><td>11</td><td>114.0</td></tr><tr><th>13</th><td>12</td><td>112.0</td></tr><tr><th>14</th><td>13</td><td>61.0</td></tr><tr><th>15</th><td>14</td><td>118.0</td></tr><tr><th>16</th><td>15</td><td>120.0</td></tr><tr><th>17</th><td>16</td><td>120.0</td></tr><tr><th>18</th><td>17</td><td>118.0</td></tr><tr><th>19</th><td>18</td><td>22.0</td></tr><tr><th>20</th><td>19</td><td>0.0</td></tr><tr><th>21</th><td>20</td><td>0.0</td></tr><tr><th>22</th><td>21</td><td>0.0</td></tr><tr><th>23</th><td>22</td><td>0.0</td></tr><tr><th>24</th><td>23</td><td>0.0</td></tr></tbody></table></div>"
      ],
      "text/latex": [
       "\\begin{tabular}{r|cc}\n",
       "\t& Stunde & Anwesenheit\\_sum\\\\\n",
       "\t\\hline\n",
       "\t& Int64 & Float64\\\\\n",
       "\t\\hline\n",
       "\t1 & 0 & 0.0 \\\\\n",
       "\t2 & 1 & 0.0 \\\\\n",
       "\t3 & 2 & 0.0 \\\\\n",
       "\t4 & 3 & 0.0 \\\\\n",
       "\t5 & 4 & 0.0 \\\\\n",
       "\t6 & 5 & 0.0 \\\\\n",
       "\t7 & 6 & 0.0 \\\\\n",
       "\t8 & 7 & 29.0 \\\\\n",
       "\t9 & 8 & 108.0 \\\\\n",
       "\t10 & 9 & 140.0 \\\\\n",
       "\t11 & 10 & 120.0 \\\\\n",
       "\t12 & 11 & 114.0 \\\\\n",
       "\t13 & 12 & 112.0 \\\\\n",
       "\t14 & 13 & 61.0 \\\\\n",
       "\t15 & 14 & 118.0 \\\\\n",
       "\t16 & 15 & 120.0 \\\\\n",
       "\t17 & 16 & 120.0 \\\\\n",
       "\t18 & 17 & 118.0 \\\\\n",
       "\t19 & 18 & 22.0 \\\\\n",
       "\t20 & 19 & 0.0 \\\\\n",
       "\t21 & 20 & 0.0 \\\\\n",
       "\t22 & 21 & 0.0 \\\\\n",
       "\t23 & 22 & 0.0 \\\\\n",
       "\t24 & 23 & 0.0 \\\\\n",
       "\\end{tabular}\n"
      ],
      "text/plain": [
       "\u001b[1m24×2 DataFrame\u001b[0m\n",
       "\u001b[1m Row \u001b[0m│\u001b[1m Stunde \u001b[0m\u001b[1m Anwesenheit_sum \u001b[0m\n",
       "\u001b[1m     \u001b[0m│\u001b[90m Int64  \u001b[0m\u001b[90m Float64         \u001b[0m\n",
       "─────┼─────────────────────────\n",
       "   1 │      0              0.0\n",
       "   2 │      1              0.0\n",
       "   3 │      2              0.0\n",
       "   4 │      3              0.0\n",
       "   5 │      4              0.0\n",
       "   6 │      5              0.0\n",
       "   7 │      6              0.0\n",
       "   8 │      7             29.0\n",
       "   9 │      8            108.0\n",
       "  10 │      9            140.0\n",
       "  11 │     10            120.0\n",
       "  ⋮  │   ⋮            ⋮\n",
       "  15 │     14            118.0\n",
       "  16 │     15            120.0\n",
       "  17 │     16            120.0\n",
       "  18 │     17            118.0\n",
       "  19 │     18             22.0\n",
       "  20 │     19              0.0\n",
       "  21 │     20              0.0\n",
       "  22 │     21              0.0\n",
       "  23 │     22              0.0\n",
       "  24 │     23              0.0\n",
       "\u001b[36m                 3 rows omitted\u001b[0m"
      ]
     },
     "execution_count": 23,
     "metadata": {},
     "output_type": "execute_result"
    }
   ],
   "source": [
    "# split date\n",
    "select!(test_raw, :Datum => ByRow(x->round(DateTime(x, \"yyyy-mm-dd HH:MM:SS\"), Dates.Minute)) => :Datum, :)\n",
    "select!(test_raw, :Datum => ByRow(x -> split_dt(x)) => [:Wochentag, :Stunde, :Minute] , Not(:Datum))\n",
    "# display grouped by weekday\n",
    "gdf = groupby(test_raw, [:Stunde])\n",
    "combine(gdf, :Anwesenheit => sum)[:, :]"
   ]
  },
  {
   "cell_type": "code",
   "execution_count": null,
   "id": "59bdac90-39d0-4273-a85b-673e7b33a189",
   "metadata": {},
   "outputs": [],
   "source": []
  }
 ],
 "metadata": {
  "kernelspec": {
   "display_name": "Julia 1.6.3",
   "language": "julia",
   "name": "julia-1.6"
  },
  "language_info": {
   "file_extension": ".jl",
   "mimetype": "application/julia",
   "name": "julia",
   "version": "1.6.3"
  }
 },
 "nbformat": 4,
 "nbformat_minor": 5
}
