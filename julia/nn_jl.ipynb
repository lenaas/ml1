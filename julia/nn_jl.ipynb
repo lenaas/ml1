{
 "cells": [
  {
   "cell_type": "markdown",
   "id": "2b69ebed-dcac-4f96-9409-154f26b93046",
   "metadata": {},
   "source": [
    "# Activate Local Environment"
   ]
  },
  {
   "cell_type": "code",
   "execution_count": 1,
   "id": "8a340684-4a13-45fb-b5a7-85c97e80bc1f",
   "metadata": {},
   "outputs": [
    {
     "name": "stderr",
     "output_type": "stream",
     "text": [
      "\u001b[32m\u001b[1m  Activating\u001b[22m\u001b[39m environment at `B:\\Uni\\Hauptstudium\\DMML\\ml1\\julia\\Project.toml`\n"
     ]
    }
   ],
   "source": [
    "] activate ."
   ]
  },
  {
   "cell_type": "markdown",
   "id": "289a0bf9-5d5b-4c88-8737-6be0e2b7a68f",
   "metadata": {
    "tags": []
   },
   "source": [
    "# Imports"
   ]
  },
  {
   "cell_type": "code",
   "execution_count": 2,
   "id": "6996ebd1-5133-4066-9c29-aadf6ba24bd3",
   "metadata": {},
   "outputs": [],
   "source": [
    "using DataFrames\n",
    "using CSV\n",
    "using PandasHelpers\n",
    "using Dates\n",
    "using ShiftedArrays\n",
    "using Statistics\n",
    "using Plots"
   ]
  },
  {
   "cell_type": "code",
   "execution_count": 3,
   "id": "c22c17e0-0eca-4dd8-80eb-676b1d8f2031",
   "metadata": {},
   "outputs": [],
   "source": [
    "import Base.>\n",
    "import Base.Bool"
   ]
  },
  {
   "cell_type": "code",
   "execution_count": 4,
   "id": "d8837f62-6d51-4520-a306-be3b809421a2",
   "metadata": {},
   "outputs": [],
   "source": [
    "using Flux"
   ]
  },
  {
   "cell_type": "markdown",
   "id": "b6e8ab22-0b12-43e0-954e-2f07b1f538bf",
   "metadata": {
    "tags": []
   },
   "source": [
    "# Hyperparameters and Function Definition"
   ]
  },
  {
   "cell_type": "code",
   "execution_count": 5,
   "id": "15461c49-21f5-4b91-bbd7-217392173a33",
   "metadata": {},
   "outputs": [
    {
     "data": {
      "text/plain": [
       "0.4"
      ]
     },
     "execution_count": 5,
     "metadata": {},
     "output_type": "execute_result"
    }
   ],
   "source": [
    "# hyperparameters\n",
    "SHIFT = [1,2,5]\n",
    "NUM_EPOCHS = 50\n",
    "DECISION_BOUNDARY = 0.4"
   ]
  },
  {
   "cell_type": "code",
   "execution_count": 6,
   "id": "2c2cedf1-bb55-4132-8684-bf8277088e4a",
   "metadata": {},
   "outputs": [
    {
     "data": {
      "text/plain": [
       "Bool"
      ]
     },
     "execution_count": 6,
     "metadata": {},
     "output_type": "execute_result"
    }
   ],
   "source": [
    "# define any number to be bigger than missing\n",
    "(>)(a::Number, b::Missing)  = true\n",
    "# define any real number but 0 to be true\n",
    "Bool(a::Real) = a == 0 ? false : true"
   ]
  },
  {
   "cell_type": "code",
   "execution_count": 7,
   "id": "ac46e740-11b4-4e7f-97b0-a3ee3bba60d3",
   "metadata": {},
   "outputs": [
    {
     "data": {
      "text/plain": [
       "didrise! (generic function with 1 method)"
      ]
     },
     "execution_count": 7,
     "metadata": {},
     "output_type": "execute_result"
    }
   ],
   "source": [
    "# split datetime into weekday, hour and minute\n",
    "function split_dt(dt)\n",
    "    [Dates.dayofweek(dt), Dates.hour(dt), Dates.minute(dt)]\n",
    "end\n",
    "# create new column whether there was a rise when compared to <shift> columns before\n",
    "function didrise!(df::DataFrame, cols::Vector{String}, shift::Number)\n",
    "    for col in cols\n",
    "        df[:, \"change_$(col)_$(shift)\"] = BitArray(df[:, col] .> ShiftedArray(df[:, col], shift))\n",
    "    end\n",
    "end"
   ]
  },
  {
   "cell_type": "code",
   "execution_count": 8,
   "id": "7a3341c2-36dd-4298-b111-7225ea37ab07",
   "metadata": {},
   "outputs": [
    {
     "data": {
      "text/plain": [
       "pipeline (generic function with 1 method)"
      ]
     },
     "execution_count": 8,
     "metadata": {},
     "output_type": "execute_result"
    }
   ],
   "source": [
    "# Data Pipeline\n",
    "function pipeline(raw::DataFrame, shifts)\n",
    "    # create copy without index\n",
    "    df = copy(raw[:, Not(:index)])\n",
    "    # convert to DateTime round to the nearest minute\n",
    "    select!(df, :Datum => ByRow(x->round(DateTime(x, \"yyyy-mm-dd HH:MM:SS\"), Dates.Minute)) => :Datum, :)\n",
    "    # create columns for weekday, hour and minute, drop column Datum\n",
    "    select!(df, :Datum => ByRow(x -> split_dt(x)) => [:Wochentag, :Stunde, :Minute] , Not(:Datum))\n",
    "    # impute missing values\n",
    "    naive_impute!(df.Temperatur)\n",
    "    naive_impute!(df.Luftfeuchtigkeit)\n",
    "    naive_impute!(df.CO2)\n",
    "    # dummy encode weekday and hour\n",
    "    get_dummies!(df, \"Wochentag\")\n",
    "    get_dummies!(df, \"Stunde\")\n",
    "    # create columns for relative change of temperature, humidity and co2\n",
    "    for shift in shifts\n",
    "        didrise!(df, [\"Temperatur\", \"Luftfeuchtigkeit\", \"CO2\", \"Wassergehalt\"], shift)\n",
    "    end\n",
    "    # abs max normalize \n",
    "    abs_max_norm!(df, names(df))\n",
    "    return df\n",
    "end"
   ]
  },
  {
   "cell_type": "code",
   "execution_count": 9,
   "id": "7246a326-0493-48e9-a9bd-64c6d6a6d592",
   "metadata": {},
   "outputs": [
    {
     "data": {
      "text/plain": [
       "predict (generic function with 1 method)"
      ]
     },
     "execution_count": 9,
     "metadata": {},
     "output_type": "execute_result"
    }
   ],
   "source": [
    "# neccessary transformation for prediction\n",
    "function predict(x, threshold)\n",
    "    # transpose, shift by threshold and round\n",
    "    round.(vec(model(transpose(Array(x)))) .+ (0.5-threshold))\n",
    "end"
   ]
  },
  {
   "cell_type": "code",
   "execution_count": 10,
   "id": "0d21adc1-478f-4aea-8348-7bd8c4278b5a",
   "metadata": {},
   "outputs": [
    {
     "data": {
      "text/plain": [
       "confusion_matrix (generic function with 1 method)"
      ]
     },
     "execution_count": 10,
     "metadata": {},
     "output_type": "execute_result"
    }
   ],
   "source": [
    "# count tp, fp, fn, tn and optionally display confusion matrix\n",
    "function confusion_matrix(ŷ, y; draw=false)\n",
    "    ŷ = Bool.(ŷ)\n",
    "    y = Bool.(y)\n",
    "    tp = fp = fn = tn = 0\n",
    "    for (i,j) in zip(ŷ, y)\n",
    "        if i & j\n",
    "            tp += 1\n",
    "        elseif i & !j\n",
    "            fp +=1\n",
    "        elseif !i & j\n",
    "            fn += 1\n",
    "        else\n",
    "            tn += 1\n",
    "        end\n",
    "    end\n",
    "    if draw\n",
    "        display([\"Confusion Matrix\" \"Y\" \"!Y\" ; \"Ŷ\" tp fp; \"!Ŷ\" fn tn])\n",
    "    end\n",
    "    return [tp, fp, fn, tn]\n",
    "end"
   ]
  },
  {
   "cell_type": "code",
   "execution_count": 11,
   "id": "308f8b28-fda3-48d7-b1fe-f4d0a98adad4",
   "metadata": {},
   "outputs": [
    {
     "data": {
      "text/plain": [
       "draw_roc (generic function with 1 method)"
      ]
     },
     "execution_count": 11,
     "metadata": {},
     "output_type": "execute_result"
    }
   ],
   "source": [
    "# draw ROC curve\n",
    "function draw_roc()\n",
    "    thresholds = 0:0.01:1.01\n",
    "    metrics = [confusion_matrix(predict(val_x, threshold), val_y, draw=false) for threshold in thresholds]\n",
    "    tprs = [tp/(tp+fn) for (tp, fp, fn, tn) in metrics]\n",
    "    fprs = [fp/(fp+tn) for (tp, fp, fn, tn) in metrics]\n",
    "    plot(fprs, tprs, label=\"ROC\")\n",
    "    plot!([0,1],[0,1], label=\"Baseline\")\n",
    "end"
   ]
  },
  {
   "cell_type": "markdown",
   "id": "7cdac572-0c46-47ce-aa6e-99209bfa048f",
   "metadata": {
    "tags": []
   },
   "source": [
    "# Preprocessing"
   ]
  },
  {
   "cell_type": "code",
   "execution_count": 12,
   "id": "1ec2b23d-3266-453e-985f-fa8765da37c8",
   "metadata": {
    "tags": []
   },
   "outputs": [],
   "source": [
    "# read raw data\n",
    "raw = DataFrame(CSV.File(\"train.csv\"))\n",
    "# split into train and validation set\n",
    "train_x, train_y, val_x, val_y = train_test_split(pipeline(raw, SHIFT), \"Anwesenheit\"; ratio=0.9)\n",
    "nothing"
   ]
  },
  {
   "cell_type": "markdown",
   "id": "16bf4b70-1b81-489e-a902-b71fbe0cc42e",
   "metadata": {},
   "source": [
    "# Modelling"
   ]
  },
  {
   "cell_type": "code",
   "execution_count": 14,
   "id": "7fc812f1-1f40-4488-9581-cc3119de8d69",
   "metadata": {},
   "outputs": [
    {
     "data": {
      "text/plain": [
       "Chain(\n",
       "  Dense(48, 256, relu),                 \u001b[90m# 12_544 parameters\u001b[39m\n",
       "  Dense(256, 128, relu),                \u001b[90m# 32_896 parameters\u001b[39m\n",
       "  Dense(128, 64, relu),                 \u001b[90m# 8_256 parameters\u001b[39m\n",
       "  Dense(64, 32, relu),                  \u001b[90m# 2_080 parameters\u001b[39m\n",
       "  Dense(32, 16, relu),                  \u001b[90m# 528 parameters\u001b[39m\n",
       "  Dense(16, 1, σ),                      \u001b[90m# 17 parameters\u001b[39m\n",
       ")\u001b[90m                   # Total: 12 arrays, \u001b[39m56_321 parameters, 220.754 KiB."
      ]
     },
     "execution_count": 14,
     "metadata": {},
     "output_type": "execute_result"
    }
   ],
   "source": [
    "# Baseline A <slide>, big network, no dropout, no batchnorm\n",
    "model = Chain(\n",
    "    Dense(size(train_x)[2], 256, relu),\n",
    "    Dense(256,128, relu),\n",
    "    Dense(128,64, relu),\n",
    "    Dense(64,32, relu),\n",
    "    Dense(32,16, relu),\n",
    "    Dense(16, 1, sigmoid)\n",
    "    )"
   ]
  },
  {
   "cell_type": "code",
   "execution_count": 15,
   "id": "7a262263-d6ca-4d57-8af6-d45858f51c9e",
   "metadata": {},
   "outputs": [
    {
     "data": {
      "text/plain": [
       "Chain(\n",
       "  Dense(48, 16, relu),                  \u001b[90m# 784 parameters\u001b[39m\n",
       "  BatchNorm(16, relu),                  \u001b[90m# 32 parameters\u001b[39m\u001b[90m, plus 32\u001b[39m\n",
       "  Dropout(0.1),\n",
       "  Dense(16, 128, relu),                 \u001b[90m# 2_176 parameters\u001b[39m\n",
       "  BatchNorm(128, relu),                 \u001b[90m# 256 parameters\u001b[39m\u001b[90m, plus 256\u001b[39m\n",
       "  Dropout(0.1),\n",
       "  Dense(128, 64, relu),                 \u001b[90m# 8_256 parameters\u001b[39m\n",
       "  BatchNorm(64, relu),                  \u001b[90m# 128 parameters\u001b[39m\u001b[90m, plus 128\u001b[39m\n",
       "  Dropout(0.1),\n",
       "  Dense(64, 16, relu),                  \u001b[90m# 1_040 parameters\u001b[39m\n",
       "  BatchNorm(16, relu),                  \u001b[90m# 32 parameters\u001b[39m\u001b[90m, plus 32\u001b[39m\n",
       "  Dropout(0.1),\n",
       "  Dense(16, 1, σ),                      \u001b[90m# 17 parameters\u001b[39m\n",
       ")\u001b[90m         # Total: 18 trainable arrays, \u001b[39m12_721 parameters,\n",
       "\u001b[90m          # plus 8 non-trainable, 448 parameters, summarysize \u001b[39m53.098 KiB."
      ]
     },
     "execution_count": 15,
     "metadata": {},
     "output_type": "execute_result"
    }
   ],
   "source": [
    "# Baseline B <mountain>, semi big , with dropout and batchnorm\n",
    "model = Chain(\n",
    "    Dense(size(train_x)[2], 16, relu),\n",
    "    BatchNorm(16, relu),\n",
    "    Dropout(0.1),\n",
    "    Dense(16,128, relu),\n",
    "    BatchNorm(128, relu),\n",
    "    Dropout(0.1),\n",
    "    Dense(128,64, relu),\n",
    "    BatchNorm(64, relu),\n",
    "    Dropout(0.1),\n",
    "    Dense(64,16, relu),\n",
    "    BatchNorm(16, relu),\n",
    "    Dropout(0.1),\n",
    "    Dense(16, 1, sigmoid)\n",
    "    )"
   ]
  },
  {
   "cell_type": "code",
   "execution_count": null,
   "id": "b80b6c0c-0b9f-415b-b992-ccdf378004a6",
   "metadata": {},
   "outputs": [],
   "source": [
    "# Baseline C <flat>, small network with dropout, no batchnorm\n",
    "model = Chain(\n",
    "    Dense(size(train_x)[2], 8, tanh),\n",
    "    BatchNorm(8, relu),\n",
    "    Dropout(0.05),\n",
    "    Dense(8, 8, tanh),\n",
    "    BatchNorm(8, relu),\n",
    "    Dropout(0.05),\n",
    "    Dense(8, 1, sigmoid)\n",
    "    )"
   ]
  },
  {
   "cell_type": "code",
   "execution_count": 16,
   "id": "f1f00d13-85b7-43f8-98d9-8fc7edc879e0",
   "metadata": {},
   "outputs": [
    {
     "data": {
      "text/plain": [
       "Flux.Data.DataLoader{NamedTuple{(:data, :label), Tuple{LinearAlgebra.Transpose{Float64, Matrix{Float64}}, Vector{Float64}}}, Random._GLOBAL_RNG}((data = [0.6949152542372882 0.8983050847457628 … 0.4406779661016949 0.15254237288135594; 0.8398770911573927 0.805052919085013 … 0.9054284738818723 0.9787640833048836; … ; 1.0 0.0 … 0.0 0.0; 1.0 0.0 … 0.0 0.0], label = [0.0, 0.0, 0.0, 0.0, 0.0, 0.0, 0.0, 1.0, 1.0, 0.0  …  1.0, 0.0, 0.0, 0.0, 0.0, 0.0, 1.0, 0.0, 1.0, 0.0]), 100, 12817, true, 12817, [1, 2, 3, 4, 5, 6, 7, 8, 9, 10  …  12808, 12809, 12810, 12811, 12812, 12813, 12814, 12815, 12816, 12817], true, Random._GLOBAL_RNG())"
      ]
     },
     "execution_count": 16,
     "metadata": {},
     "output_type": "execute_result"
    }
   ],
   "source": [
    "# Optimizer https://en.wikipedia.org/wiki/Stochastic_gradient_descent#Adam\n",
    "opt = ADAM(0.001, (0.9, 0.999))\n",
    "# pointer to parameters\n",
    "ps = Flux.params(model)\n",
    "# loss function\n",
    "loss((x,y)) = Flux.Losses.binarycrossentropy(transpose(model(x)), y)\n",
    "# dataloader object for convenience\n",
    "data = Flux.Data.DataLoader((data=transpose(Array(train_x)), label=train_y), batchsize=100,shuffle=true)"
   ]
  },
  {
   "cell_type": "code",
   "execution_count": 17,
   "id": "c7496b59-9169-4cc5-b127-75b91f5785bc",
   "metadata": {},
   "outputs": [
    {
     "name": "stdout",
     "output_type": "stream",
     "text": [
      "Epoch: 5 Accuracy: 0.959 Val-Accuracy: 0.9558\n",
      "Epoch: 10 Accuracy: 0.97 Val-Accuracy: 0.9649\n",
      "Epoch: 15 Accuracy: 0.9754 Val-Accuracy: 0.9649\n",
      "Epoch: 20 Accuracy: 0.9797 Val-Accuracy: 0.9712\n",
      "Epoch: 25 Accuracy: 0.9819 Val-Accuracy: 0.9761\n",
      "Epoch: 30 Accuracy: 0.9835 Val-Accuracy: 0.9747\n",
      "Epoch: 35 Accuracy: 0.9814 Val-Accuracy: 0.9747\n",
      "Epoch: 40 Accuracy: 0.9856 Val-Accuracy: 0.9761\n",
      "Epoch: 45 Accuracy: 0.9841 Val-Accuracy: 0.974\n",
      "Epoch: 50 Accuracy: 0.9876 Val-Accuracy: 0.9775\n"
     ]
    }
   ],
   "source": [
    "# training loop\n",
    "for epoch in 1:NUM_EPOCHS\n",
    "    # train\n",
    "    Flux.train!(loss, ps, data, opt)\n",
    "    # every five epochs compute accuracy on train and validation samples\n",
    "    if epoch % 5 == 0\n",
    "        ŷ = predict(train_x, DECISION_BOUNDARY)\n",
    "        (tp, fp, fn, tn) = confusion_matrix(ŷ, train_y)\n",
    "        acc = round((tp+tn) / (tp+fp+fn+tn), digits=4)\n",
    "        ŷ = predict(val_x, DECISION_BOUNDARY)\n",
    "        (tp, fp, fn, tn) = confusion_matrix(ŷ, val_y)\n",
    "        val_acc = round((tp+tn) / (tp+fp+fn+tn), digits=4)\n",
    "        println(\"Epoch: $(epoch) Accuracy: $(acc) Val-Accuracy: $(val_acc)\")\n",
    "    end\n",
    "end"
   ]
  },
  {
   "cell_type": "markdown",
   "id": "ea3620ad-30a9-44a5-b062-ba34011a520e",
   "metadata": {
    "tags": []
   },
   "source": [
    "# Evaluation"
   ]
  },
  {
   "cell_type": "code",
   "execution_count": 18,
   "id": "3ef66eac-eac4-48d2-a67b-a6017771e007",
   "metadata": {},
   "outputs": [
    {
     "data": {
      "text/plain": [
       "3×3 Matrix{Any}:\n",
       " \"Confusion Matrix\"     \"Y\"      \"!Y\"\n",
       " \"Ŷ\"                360       16\n",
       " \"!Ŷ\"                15     1033"
      ]
     },
     "metadata": {},
     "output_type": "display_data"
    },
    {
     "data": {
      "text/plain": [
       "4-element Vector{Int64}:\n",
       "  360\n",
       "   16\n",
       "   15\n",
       " 1033"
      ]
     },
     "execution_count": 18,
     "metadata": {},
     "output_type": "execute_result"
    }
   ],
   "source": [
    "# draw confusion matrix\n",
    "(tp, fp, fn, tn) = confusion_matrix(predict(val_x, 0.5), val_y, draw=true)"
   ]
  },
  {
   "cell_type": "code",
   "execution_count": 19,
   "id": "a4afb745-cbb5-4f3a-aa3d-1d0585cd48ac",
   "metadata": {},
   "outputs": [
    {
     "data": {
      "text/plain": [
       "0.96"
      ]
     },
     "execution_count": 19,
     "metadata": {},
     "output_type": "execute_result"
    }
   ],
   "source": [
    "# recall\n",
    "tp / (fn + tp)"
   ]
  },
  {
   "cell_type": "code",
   "execution_count": 20,
   "id": "8cd4a82d-f721-493f-a6f7-b4af8a8d1b4f",
   "metadata": {},
   "outputs": [
    {
     "data": {
      "text/plain": [
       "0.9574468085106383"
      ]
     },
     "execution_count": 20,
     "metadata": {},
     "output_type": "execute_result"
    }
   ],
   "source": [
    "# precision\n",
    "tp / (tp+fp)"
   ]
  },
  {
   "cell_type": "markdown",
   "id": "71af6023-7b39-469c-90ab-2f244c3b7d15",
   "metadata": {
    "tags": []
   },
   "source": [
    "## ROC"
   ]
  },
  {
   "cell_type": "code",
   "execution_count": 26,
   "id": "46949aaf-8cf9-4a3a-ab96-d4ba49b578ad",
   "metadata": {},
   "outputs": [
    {
     "data": {
      "image/svg+xml": [
       "<?xml version=\"1.0\" encoding=\"utf-8\"?>\n",
       "<svg xmlns=\"http://www.w3.org/2000/svg\" xmlns:xlink=\"http://www.w3.org/1999/xlink\" width=\"600\" height=\"400\" viewBox=\"0 0 2400 1600\">\n",
       "<defs>\n",
       "  <clipPath id=\"clip470\">\n",
       "    <rect x=\"0\" y=\"0\" width=\"2400\" height=\"1600\"/>\n",
       "  </clipPath>\n",
       "</defs>\n",
       "<path clip-path=\"url(#clip470)\" d=\"\n",
       "M0 1600 L2400 1600 L2400 0 L0 0  Z\n",
       "  \" fill=\"#ffffff\" fill-rule=\"evenodd\" fill-opacity=\"1\"/>\n",
       "<defs>\n",
       "  <clipPath id=\"clip471\">\n",
       "    <rect x=\"480\" y=\"0\" width=\"1681\" height=\"1600\"/>\n",
       "  </clipPath>\n",
       "</defs>\n",
       "<path clip-path=\"url(#clip470)\" d=\"\n",
       "M186.274 1486.45 L2352.76 1486.45 L2352.76 47.2441 L186.274 47.2441  Z\n",
       "  \" fill=\"#ffffff\" fill-rule=\"evenodd\" fill-opacity=\"1\"/>\n",
       "<defs>\n",
       "  <clipPath id=\"clip472\">\n",
       "    <rect x=\"186\" y=\"47\" width=\"2167\" height=\"1440\"/>\n",
       "  </clipPath>\n",
       "</defs>\n",
       "<polyline clip-path=\"url(#clip472)\" style=\"stroke:#000000; stroke-linecap:butt; stroke-linejoin:round; stroke-width:2; stroke-opacity:0.1; fill:none\" points=\"\n",
       "  247.59,1486.45 247.59,47.2441 \n",
       "  \"/>\n",
       "<polyline clip-path=\"url(#clip472)\" style=\"stroke:#000000; stroke-linecap:butt; stroke-linejoin:round; stroke-width:2; stroke-opacity:0.1; fill:none\" points=\"\n",
       "  758.552,1486.45 758.552,47.2441 \n",
       "  \"/>\n",
       "<polyline clip-path=\"url(#clip472)\" style=\"stroke:#000000; stroke-linecap:butt; stroke-linejoin:round; stroke-width:2; stroke-opacity:0.1; fill:none\" points=\"\n",
       "  1269.51,1486.45 1269.51,47.2441 \n",
       "  \"/>\n",
       "<polyline clip-path=\"url(#clip472)\" style=\"stroke:#000000; stroke-linecap:butt; stroke-linejoin:round; stroke-width:2; stroke-opacity:0.1; fill:none\" points=\"\n",
       "  1780.48,1486.45 1780.48,47.2441 \n",
       "  \"/>\n",
       "<polyline clip-path=\"url(#clip472)\" style=\"stroke:#000000; stroke-linecap:butt; stroke-linejoin:round; stroke-width:2; stroke-opacity:0.1; fill:none\" points=\"\n",
       "  2291.44,1486.45 2291.44,47.2441 \n",
       "  \"/>\n",
       "<polyline clip-path=\"url(#clip470)\" style=\"stroke:#000000; stroke-linecap:butt; stroke-linejoin:round; stroke-width:4; stroke-opacity:1; fill:none\" points=\"\n",
       "  186.274,1486.45 2352.76,1486.45 \n",
       "  \"/>\n",
       "<polyline clip-path=\"url(#clip470)\" style=\"stroke:#000000; stroke-linecap:butt; stroke-linejoin:round; stroke-width:4; stroke-opacity:1; fill:none\" points=\"\n",
       "  247.59,1486.45 247.59,1467.55 \n",
       "  \"/>\n",
       "<polyline clip-path=\"url(#clip470)\" style=\"stroke:#000000; stroke-linecap:butt; stroke-linejoin:round; stroke-width:4; stroke-opacity:1; fill:none\" points=\"\n",
       "  758.552,1486.45 758.552,1467.55 \n",
       "  \"/>\n",
       "<polyline clip-path=\"url(#clip470)\" style=\"stroke:#000000; stroke-linecap:butt; stroke-linejoin:round; stroke-width:4; stroke-opacity:1; fill:none\" points=\"\n",
       "  1269.51,1486.45 1269.51,1467.55 \n",
       "  \"/>\n",
       "<polyline clip-path=\"url(#clip470)\" style=\"stroke:#000000; stroke-linecap:butt; stroke-linejoin:round; stroke-width:4; stroke-opacity:1; fill:none\" points=\"\n",
       "  1780.48,1486.45 1780.48,1467.55 \n",
       "  \"/>\n",
       "<polyline clip-path=\"url(#clip470)\" style=\"stroke:#000000; stroke-linecap:butt; stroke-linejoin:round; stroke-width:4; stroke-opacity:1; fill:none\" points=\"\n",
       "  2291.44,1486.45 2291.44,1467.55 \n",
       "  \"/>\n",
       "<path clip-path=\"url(#clip470)\" d=\"M209.893 1517.37 Q206.282 1517.37 204.453 1520.93 Q202.648 1524.47 202.648 1531.6 Q202.648 1538.71 204.453 1542.27 Q206.282 1545.82 209.893 1545.82 Q213.527 1545.82 215.333 1542.27 Q217.161 1538.71 217.161 1531.6 Q217.161 1524.47 215.333 1520.93 Q213.527 1517.37 209.893 1517.37 M209.893 1513.66 Q215.703 1513.66 218.759 1518.27 Q221.837 1522.85 221.837 1531.6 Q221.837 1540.33 218.759 1544.94 Q215.703 1549.52 209.893 1549.52 Q204.083 1549.52 201.004 1544.94 Q197.949 1540.33 197.949 1531.6 Q197.949 1522.85 201.004 1518.27 Q204.083 1513.66 209.893 1513.66 Z\" fill=\"#000000\" fill-rule=\"evenodd\" fill-opacity=\"1\" /><path clip-path=\"url(#clip470)\" d=\"M230.055 1542.97 L234.939 1542.97 L234.939 1548.85 L230.055 1548.85 L230.055 1542.97 Z\" fill=\"#000000\" fill-rule=\"evenodd\" fill-opacity=\"1\" /><path clip-path=\"url(#clip470)\" d=\"M255.124 1517.37 Q251.513 1517.37 249.684 1520.93 Q247.879 1524.47 247.879 1531.6 Q247.879 1538.71 249.684 1542.27 Q251.513 1545.82 255.124 1545.82 Q258.758 1545.82 260.564 1542.27 Q262.393 1538.71 262.393 1531.6 Q262.393 1524.47 260.564 1520.93 Q258.758 1517.37 255.124 1517.37 M255.124 1513.66 Q260.934 1513.66 263.99 1518.27 Q267.069 1522.85 267.069 1531.6 Q267.069 1540.33 263.99 1544.94 Q260.934 1549.52 255.124 1549.52 Q249.314 1549.52 246.235 1544.94 Q243.18 1540.33 243.18 1531.6 Q243.18 1522.85 246.235 1518.27 Q249.314 1513.66 255.124 1513.66 Z\" fill=\"#000000\" fill-rule=\"evenodd\" fill-opacity=\"1\" /><path clip-path=\"url(#clip470)\" d=\"M285.286 1517.37 Q281.675 1517.37 279.846 1520.93 Q278.041 1524.47 278.041 1531.6 Q278.041 1538.71 279.846 1542.27 Q281.675 1545.82 285.286 1545.82 Q288.92 1545.82 290.726 1542.27 Q292.555 1538.71 292.555 1531.6 Q292.555 1524.47 290.726 1520.93 Q288.92 1517.37 285.286 1517.37 M285.286 1513.66 Q291.096 1513.66 294.152 1518.27 Q297.23 1522.85 297.23 1531.6 Q297.23 1540.33 294.152 1544.94 Q291.096 1549.52 285.286 1549.52 Q279.476 1549.52 276.397 1544.94 Q273.342 1540.33 273.342 1531.6 Q273.342 1522.85 276.397 1518.27 Q279.476 1513.66 285.286 1513.66 Z\" fill=\"#000000\" fill-rule=\"evenodd\" fill-opacity=\"1\" /><path clip-path=\"url(#clip470)\" d=\"M721.353 1517.37 Q717.742 1517.37 715.914 1520.93 Q714.108 1524.47 714.108 1531.6 Q714.108 1538.71 715.914 1542.27 Q717.742 1545.82 721.353 1545.82 Q724.988 1545.82 726.793 1542.27 Q728.622 1538.71 728.622 1531.6 Q728.622 1524.47 726.793 1520.93 Q724.988 1517.37 721.353 1517.37 M721.353 1513.66 Q727.164 1513.66 730.219 1518.27 Q733.298 1522.85 733.298 1531.6 Q733.298 1540.33 730.219 1544.94 Q727.164 1549.52 721.353 1549.52 Q715.543 1549.52 712.465 1544.94 Q709.409 1540.33 709.409 1531.6 Q709.409 1522.85 712.465 1518.27 Q715.543 1513.66 721.353 1513.66 Z\" fill=\"#000000\" fill-rule=\"evenodd\" fill-opacity=\"1\" /><path clip-path=\"url(#clip470)\" d=\"M741.515 1542.97 L746.4 1542.97 L746.4 1548.85 L741.515 1548.85 L741.515 1542.97 Z\" fill=\"#000000\" fill-rule=\"evenodd\" fill-opacity=\"1\" /><path clip-path=\"url(#clip470)\" d=\"M760.612 1544.91 L776.932 1544.91 L776.932 1548.85 L754.987 1548.85 L754.987 1544.91 Q757.649 1542.16 762.233 1537.53 Q766.839 1532.88 768.02 1531.53 Q770.265 1529.01 771.145 1527.27 Q772.048 1525.51 772.048 1523.82 Q772.048 1521.07 770.103 1519.33 Q768.182 1517.6 765.08 1517.6 Q762.881 1517.6 760.427 1518.36 Q757.997 1519.13 755.219 1520.68 L755.219 1515.95 Q758.043 1514.82 760.497 1514.24 Q762.95 1513.66 764.987 1513.66 Q770.358 1513.66 773.552 1516.35 Q776.747 1519.03 776.747 1523.52 Q776.747 1525.65 775.936 1527.57 Q775.149 1529.47 773.043 1532.07 Q772.464 1532.74 769.362 1535.95 Q766.261 1539.15 760.612 1544.91 Z\" fill=\"#000000\" fill-rule=\"evenodd\" fill-opacity=\"1\" /><path clip-path=\"url(#clip470)\" d=\"M786.793 1514.29 L805.149 1514.29 L805.149 1518.22 L791.075 1518.22 L791.075 1526.7 Q792.094 1526.35 793.112 1526.19 Q794.131 1526 795.149 1526 Q800.936 1526 804.316 1529.17 Q807.695 1532.34 807.695 1537.76 Q807.695 1543.34 804.223 1546.44 Q800.751 1549.52 794.432 1549.52 Q792.256 1549.52 789.987 1549.15 Q787.742 1548.78 785.335 1548.04 L785.335 1543.34 Q787.418 1544.47 789.64 1545.03 Q791.862 1545.58 794.339 1545.58 Q798.344 1545.58 800.682 1543.48 Q803.02 1541.37 803.02 1537.76 Q803.02 1534.15 800.682 1532.04 Q798.344 1529.94 794.339 1529.94 Q792.464 1529.94 790.589 1530.35 Q788.737 1530.77 786.793 1531.65 L786.793 1514.29 Z\" fill=\"#000000\" fill-rule=\"evenodd\" fill-opacity=\"1\" /><path clip-path=\"url(#clip470)\" d=\"M1231.82 1517.37 Q1228.21 1517.37 1226.38 1520.93 Q1224.57 1524.47 1224.57 1531.6 Q1224.57 1538.71 1226.38 1542.27 Q1228.21 1545.82 1231.82 1545.82 Q1235.45 1545.82 1237.26 1542.27 Q1239.09 1538.71 1239.09 1531.6 Q1239.09 1524.47 1237.26 1520.93 Q1235.45 1517.37 1231.82 1517.37 M1231.82 1513.66 Q1237.63 1513.66 1240.68 1518.27 Q1243.76 1522.85 1243.76 1531.6 Q1243.76 1540.33 1240.68 1544.94 Q1237.63 1549.52 1231.82 1549.52 Q1226.01 1549.52 1222.93 1544.94 Q1219.87 1540.33 1219.87 1531.6 Q1219.87 1522.85 1222.93 1518.27 Q1226.01 1513.66 1231.82 1513.66 Z\" fill=\"#000000\" fill-rule=\"evenodd\" fill-opacity=\"1\" /><path clip-path=\"url(#clip470)\" d=\"M1251.98 1542.97 L1256.86 1542.97 L1256.86 1548.85 L1251.98 1548.85 L1251.98 1542.97 Z\" fill=\"#000000\" fill-rule=\"evenodd\" fill-opacity=\"1\" /><path clip-path=\"url(#clip470)\" d=\"M1267.1 1514.29 L1285.45 1514.29 L1285.45 1518.22 L1271.38 1518.22 L1271.38 1526.7 Q1272.4 1526.35 1273.42 1526.19 Q1274.43 1526 1275.45 1526 Q1281.24 1526 1284.62 1529.17 Q1288 1532.34 1288 1537.76 Q1288 1543.34 1284.53 1546.44 Q1281.05 1549.52 1274.73 1549.52 Q1272.56 1549.52 1270.29 1549.15 Q1268.05 1548.78 1265.64 1548.04 L1265.64 1543.34 Q1267.72 1544.47 1269.94 1545.03 Q1272.17 1545.58 1274.64 1545.58 Q1278.65 1545.58 1280.98 1543.48 Q1283.32 1541.37 1283.32 1537.76 Q1283.32 1534.15 1280.98 1532.04 Q1278.65 1529.94 1274.64 1529.94 Q1272.77 1529.94 1270.89 1530.35 Q1269.04 1530.77 1267.1 1531.65 L1267.1 1514.29 Z\" fill=\"#000000\" fill-rule=\"evenodd\" fill-opacity=\"1\" /><path clip-path=\"url(#clip470)\" d=\"M1307.21 1517.37 Q1303.6 1517.37 1301.77 1520.93 Q1299.97 1524.47 1299.97 1531.6 Q1299.97 1538.71 1301.77 1542.27 Q1303.6 1545.82 1307.21 1545.82 Q1310.85 1545.82 1312.65 1542.27 Q1314.48 1538.71 1314.48 1531.6 Q1314.48 1524.47 1312.65 1520.93 Q1310.85 1517.37 1307.21 1517.37 M1307.21 1513.66 Q1313.02 1513.66 1316.08 1518.27 Q1319.16 1522.85 1319.16 1531.6 Q1319.16 1540.33 1316.08 1544.94 Q1313.02 1549.52 1307.21 1549.52 Q1301.4 1549.52 1298.32 1544.94 Q1295.27 1540.33 1295.27 1531.6 Q1295.27 1522.85 1298.32 1518.27 Q1301.4 1513.66 1307.21 1513.66 Z\" fill=\"#000000\" fill-rule=\"evenodd\" fill-opacity=\"1\" /><path clip-path=\"url(#clip470)\" d=\"M1743.28 1517.37 Q1739.67 1517.37 1737.84 1520.93 Q1736.03 1524.47 1736.03 1531.6 Q1736.03 1538.71 1737.84 1542.27 Q1739.67 1545.82 1743.28 1545.82 Q1746.91 1545.82 1748.72 1542.27 Q1750.55 1538.71 1750.55 1531.6 Q1750.55 1524.47 1748.72 1520.93 Q1746.91 1517.37 1743.28 1517.37 M1743.28 1513.66 Q1749.09 1513.66 1752.14 1518.27 Q1755.22 1522.85 1755.22 1531.6 Q1755.22 1540.33 1752.14 1544.94 Q1749.09 1549.52 1743.28 1549.52 Q1737.47 1549.52 1734.39 1544.94 Q1731.33 1540.33 1731.33 1531.6 Q1731.33 1522.85 1734.39 1518.27 Q1737.47 1513.66 1743.28 1513.66 Z\" fill=\"#000000\" fill-rule=\"evenodd\" fill-opacity=\"1\" /><path clip-path=\"url(#clip470)\" d=\"M1763.44 1542.97 L1768.32 1542.97 L1768.32 1548.85 L1763.44 1548.85 L1763.44 1542.97 Z\" fill=\"#000000\" fill-rule=\"evenodd\" fill-opacity=\"1\" /><path clip-path=\"url(#clip470)\" d=\"M1777.33 1514.29 L1799.55 1514.29 L1799.55 1516.28 L1787.01 1548.85 L1782.12 1548.85 L1793.93 1518.22 L1777.33 1518.22 L1777.33 1514.29 Z\" fill=\"#000000\" fill-rule=\"evenodd\" fill-opacity=\"1\" /><path clip-path=\"url(#clip470)\" d=\"M1808.72 1514.29 L1827.07 1514.29 L1827.07 1518.22 L1813 1518.22 L1813 1526.7 Q1814.02 1526.35 1815.04 1526.19 Q1816.06 1526 1817.07 1526 Q1822.86 1526 1826.24 1529.17 Q1829.62 1532.34 1829.62 1537.76 Q1829.62 1543.34 1826.15 1546.44 Q1822.68 1549.52 1816.36 1549.52 Q1814.18 1549.52 1811.91 1549.15 Q1809.67 1548.78 1807.26 1548.04 L1807.26 1543.34 Q1809.34 1544.47 1811.57 1545.03 Q1813.79 1545.58 1816.26 1545.58 Q1820.27 1545.58 1822.61 1543.48 Q1824.95 1541.37 1824.95 1537.76 Q1824.95 1534.15 1822.61 1532.04 Q1820.27 1529.94 1816.26 1529.94 Q1814.39 1529.94 1812.51 1530.35 Q1810.66 1530.77 1808.72 1531.65 L1808.72 1514.29 Z\" fill=\"#000000\" fill-rule=\"evenodd\" fill-opacity=\"1\" /><path clip-path=\"url(#clip470)\" d=\"M2243.51 1544.91 L2251.15 1544.91 L2251.15 1518.55 L2242.84 1520.21 L2242.84 1515.95 L2251.1 1514.29 L2255.78 1514.29 L2255.78 1544.91 L2263.42 1544.91 L2263.42 1548.85 L2243.51 1548.85 L2243.51 1544.91 Z\" fill=\"#000000\" fill-rule=\"evenodd\" fill-opacity=\"1\" /><path clip-path=\"url(#clip470)\" d=\"M2272.86 1542.97 L2277.75 1542.97 L2277.75 1548.85 L2272.86 1548.85 L2272.86 1542.97 Z\" fill=\"#000000\" fill-rule=\"evenodd\" fill-opacity=\"1\" /><path clip-path=\"url(#clip470)\" d=\"M2297.93 1517.37 Q2294.32 1517.37 2292.49 1520.93 Q2290.69 1524.47 2290.69 1531.6 Q2290.69 1538.71 2292.49 1542.27 Q2294.32 1545.82 2297.93 1545.82 Q2301.57 1545.82 2303.37 1542.27 Q2305.2 1538.71 2305.2 1531.6 Q2305.2 1524.47 2303.37 1520.93 Q2301.57 1517.37 2297.93 1517.37 M2297.93 1513.66 Q2303.74 1513.66 2306.8 1518.27 Q2309.88 1522.85 2309.88 1531.6 Q2309.88 1540.33 2306.8 1544.94 Q2303.74 1549.52 2297.93 1549.52 Q2292.12 1549.52 2289.04 1544.94 Q2285.99 1540.33 2285.99 1531.6 Q2285.99 1522.85 2289.04 1518.27 Q2292.12 1513.66 2297.93 1513.66 Z\" fill=\"#000000\" fill-rule=\"evenodd\" fill-opacity=\"1\" /><path clip-path=\"url(#clip470)\" d=\"M2328.1 1517.37 Q2324.48 1517.37 2322.66 1520.93 Q2320.85 1524.47 2320.85 1531.6 Q2320.85 1538.71 2322.66 1542.27 Q2324.48 1545.82 2328.1 1545.82 Q2331.73 1545.82 2333.54 1542.27 Q2335.36 1538.71 2335.36 1531.6 Q2335.36 1524.47 2333.54 1520.93 Q2331.73 1517.37 2328.1 1517.37 M2328.1 1513.66 Q2333.91 1513.66 2336.96 1518.27 Q2340.04 1522.85 2340.04 1531.6 Q2340.04 1540.33 2336.96 1544.94 Q2333.91 1549.52 2328.1 1549.52 Q2322.29 1549.52 2319.21 1544.94 Q2316.15 1540.33 2316.15 1531.6 Q2316.15 1522.85 2319.21 1518.27 Q2322.29 1513.66 2328.1 1513.66 Z\" fill=\"#000000\" fill-rule=\"evenodd\" fill-opacity=\"1\" /><polyline clip-path=\"url(#clip472)\" style=\"stroke:#000000; stroke-linecap:butt; stroke-linejoin:round; stroke-width:2; stroke-opacity:0.1; fill:none\" points=\"\n",
       "  186.274,1445.72 2352.76,1445.72 \n",
       "  \"/>\n",
       "<polyline clip-path=\"url(#clip472)\" style=\"stroke:#000000; stroke-linecap:butt; stroke-linejoin:round; stroke-width:2; stroke-opacity:0.1; fill:none\" points=\"\n",
       "  186.274,1106.28 2352.76,1106.28 \n",
       "  \"/>\n",
       "<polyline clip-path=\"url(#clip472)\" style=\"stroke:#000000; stroke-linecap:butt; stroke-linejoin:round; stroke-width:2; stroke-opacity:0.1; fill:none\" points=\"\n",
       "  186.274,766.846 2352.76,766.846 \n",
       "  \"/>\n",
       "<polyline clip-path=\"url(#clip472)\" style=\"stroke:#000000; stroke-linecap:butt; stroke-linejoin:round; stroke-width:2; stroke-opacity:0.1; fill:none\" points=\"\n",
       "  186.274,427.411 2352.76,427.411 \n",
       "  \"/>\n",
       "<polyline clip-path=\"url(#clip472)\" style=\"stroke:#000000; stroke-linecap:butt; stroke-linejoin:round; stroke-width:2; stroke-opacity:0.1; fill:none\" points=\"\n",
       "  186.274,87.9763 2352.76,87.9763 \n",
       "  \"/>\n",
       "<polyline clip-path=\"url(#clip470)\" style=\"stroke:#000000; stroke-linecap:butt; stroke-linejoin:round; stroke-width:4; stroke-opacity:1; fill:none\" points=\"\n",
       "  186.274,1486.45 186.274,47.2441 \n",
       "  \"/>\n",
       "<polyline clip-path=\"url(#clip470)\" style=\"stroke:#000000; stroke-linecap:butt; stroke-linejoin:round; stroke-width:4; stroke-opacity:1; fill:none\" points=\"\n",
       "  186.274,1445.72 205.172,1445.72 \n",
       "  \"/>\n",
       "<polyline clip-path=\"url(#clip470)\" style=\"stroke:#000000; stroke-linecap:butt; stroke-linejoin:round; stroke-width:4; stroke-opacity:1; fill:none\" points=\"\n",
       "  186.274,1106.28 205.172,1106.28 \n",
       "  \"/>\n",
       "<polyline clip-path=\"url(#clip470)\" style=\"stroke:#000000; stroke-linecap:butt; stroke-linejoin:round; stroke-width:4; stroke-opacity:1; fill:none\" points=\"\n",
       "  186.274,766.846 205.172,766.846 \n",
       "  \"/>\n",
       "<polyline clip-path=\"url(#clip470)\" style=\"stroke:#000000; stroke-linecap:butt; stroke-linejoin:round; stroke-width:4; stroke-opacity:1; fill:none\" points=\"\n",
       "  186.274,427.411 205.172,427.411 \n",
       "  \"/>\n",
       "<polyline clip-path=\"url(#clip470)\" style=\"stroke:#000000; stroke-linecap:butt; stroke-linejoin:round; stroke-width:4; stroke-opacity:1; fill:none\" points=\"\n",
       "  186.274,87.9763 205.172,87.9763 \n",
       "  \"/>\n",
       "<path clip-path=\"url(#clip470)\" d=\"M62.9365 1431.51 Q59.3254 1431.51 57.4967 1435.08 Q55.6912 1438.62 55.6912 1445.75 Q55.6912 1452.86 57.4967 1456.42 Q59.3254 1459.96 62.9365 1459.96 Q66.5707 1459.96 68.3763 1456.42 Q70.205 1452.86 70.205 1445.75 Q70.205 1438.62 68.3763 1435.08 Q66.5707 1431.51 62.9365 1431.51 M62.9365 1427.81 Q68.7467 1427.81 71.8022 1432.42 Q74.8809 1437 74.8809 1445.75 Q74.8809 1454.48 71.8022 1459.08 Q68.7467 1463.67 62.9365 1463.67 Q57.1264 1463.67 54.0477 1459.08 Q50.9921 1454.48 50.9921 1445.75 Q50.9921 1437 54.0477 1432.42 Q57.1264 1427.81 62.9365 1427.81 Z\" fill=\"#000000\" fill-rule=\"evenodd\" fill-opacity=\"1\" /><path clip-path=\"url(#clip470)\" d=\"M83.0984 1457.12 L87.9827 1457.12 L87.9827 1463 L83.0984 1463 L83.0984 1457.12 Z\" fill=\"#000000\" fill-rule=\"evenodd\" fill-opacity=\"1\" /><path clip-path=\"url(#clip470)\" d=\"M108.168 1431.51 Q104.557 1431.51 102.728 1435.08 Q100.922 1438.62 100.922 1445.75 Q100.922 1452.86 102.728 1456.42 Q104.557 1459.96 108.168 1459.96 Q111.802 1459.96 113.608 1456.42 Q115.436 1452.86 115.436 1445.75 Q115.436 1438.62 113.608 1435.08 Q111.802 1431.51 108.168 1431.51 M108.168 1427.81 Q113.978 1427.81 117.033 1432.42 Q120.112 1437 120.112 1445.75 Q120.112 1454.48 117.033 1459.08 Q113.978 1463.67 108.168 1463.67 Q102.358 1463.67 99.2789 1459.08 Q96.2234 1454.48 96.2234 1445.75 Q96.2234 1437 99.2789 1432.42 Q102.358 1427.81 108.168 1427.81 Z\" fill=\"#000000\" fill-rule=\"evenodd\" fill-opacity=\"1\" /><path clip-path=\"url(#clip470)\" d=\"M138.33 1431.51 Q134.719 1431.51 132.89 1435.08 Q131.084 1438.62 131.084 1445.75 Q131.084 1452.86 132.89 1456.42 Q134.719 1459.96 138.33 1459.96 Q141.964 1459.96 143.769 1456.42 Q145.598 1452.86 145.598 1445.75 Q145.598 1438.62 143.769 1435.08 Q141.964 1431.51 138.33 1431.51 M138.33 1427.81 Q144.14 1427.81 147.195 1432.42 Q150.274 1437 150.274 1445.75 Q150.274 1454.48 147.195 1459.08 Q144.14 1463.67 138.33 1463.67 Q132.519 1463.67 129.441 1459.08 Q126.385 1454.48 126.385 1445.75 Q126.385 1437 129.441 1432.42 Q132.519 1427.81 138.33 1427.81 Z\" fill=\"#000000\" fill-rule=\"evenodd\" fill-opacity=\"1\" /><path clip-path=\"url(#clip470)\" d=\"M63.9319 1092.08 Q60.3208 1092.08 58.4921 1095.64 Q56.6865 1099.19 56.6865 1106.32 Q56.6865 1113.42 58.4921 1116.99 Q60.3208 1120.53 63.9319 1120.53 Q67.5661 1120.53 69.3717 1116.99 Q71.2004 1113.42 71.2004 1106.32 Q71.2004 1099.19 69.3717 1095.64 Q67.5661 1092.08 63.9319 1092.08 M63.9319 1088.38 Q69.742 1088.38 72.7976 1092.98 Q75.8763 1097.57 75.8763 1106.32 Q75.8763 1115.04 72.7976 1119.65 Q69.742 1124.23 63.9319 1124.23 Q58.1217 1124.23 55.043 1119.65 Q51.9875 1115.04 51.9875 1106.32 Q51.9875 1097.57 55.043 1092.98 Q58.1217 1088.38 63.9319 1088.38 Z\" fill=\"#000000\" fill-rule=\"evenodd\" fill-opacity=\"1\" /><path clip-path=\"url(#clip470)\" d=\"M84.0938 1117.68 L88.978 1117.68 L88.978 1123.56 L84.0938 1123.56 L84.0938 1117.68 Z\" fill=\"#000000\" fill-rule=\"evenodd\" fill-opacity=\"1\" /><path clip-path=\"url(#clip470)\" d=\"M103.191 1119.63 L119.51 1119.63 L119.51 1123.56 L97.566 1123.56 L97.566 1119.63 Q100.228 1116.87 104.811 1112.24 Q109.418 1107.59 110.598 1106.25 Q112.844 1103.72 113.723 1101.99 Q114.626 1100.23 114.626 1098.54 Q114.626 1095.78 112.682 1094.05 Q110.76 1092.31 107.658 1092.31 Q105.459 1092.31 103.006 1093.07 Q100.575 1093.84 97.7974 1095.39 L97.7974 1090.67 Q100.621 1089.53 103.075 1088.95 Q105.529 1088.38 107.566 1088.38 Q112.936 1088.38 116.131 1091.06 Q119.325 1093.75 119.325 1098.24 Q119.325 1100.37 118.515 1102.29 Q117.728 1104.19 115.621 1106.78 Q115.043 1107.45 111.941 1110.67 Q108.839 1113.86 103.191 1119.63 Z\" fill=\"#000000\" fill-rule=\"evenodd\" fill-opacity=\"1\" /><path clip-path=\"url(#clip470)\" d=\"M129.371 1089 L147.728 1089 L147.728 1092.94 L133.654 1092.94 L133.654 1101.41 Q134.672 1101.06 135.691 1100.9 Q136.709 1100.71 137.728 1100.71 Q143.515 1100.71 146.894 1103.89 Q150.274 1107.06 150.274 1112.47 Q150.274 1118.05 146.802 1121.15 Q143.33 1124.23 137.01 1124.23 Q134.834 1124.23 132.566 1123.86 Q130.32 1123.49 127.913 1122.75 L127.913 1118.05 Q129.996 1119.19 132.219 1119.74 Q134.441 1120.3 136.918 1120.3 Q140.922 1120.3 143.26 1118.19 Q145.598 1116.08 145.598 1112.47 Q145.598 1108.86 143.26 1106.76 Q140.922 1104.65 136.918 1104.65 Q135.043 1104.65 133.168 1105.07 Q131.316 1105.48 129.371 1106.36 L129.371 1089 Z\" fill=\"#000000\" fill-rule=\"evenodd\" fill-opacity=\"1\" /><path clip-path=\"url(#clip470)\" d=\"M62.9365 752.645 Q59.3254 752.645 57.4967 756.209 Q55.6912 759.751 55.6912 766.881 Q55.6912 773.987 57.4967 777.552 Q59.3254 781.094 62.9365 781.094 Q66.5707 781.094 68.3763 777.552 Q70.205 773.987 70.205 766.881 Q70.205 759.751 68.3763 756.209 Q66.5707 752.645 62.9365 752.645 M62.9365 748.941 Q68.7467 748.941 71.8022 753.547 Q74.8809 758.131 74.8809 766.881 Q74.8809 775.608 71.8022 780.214 Q68.7467 784.797 62.9365 784.797 Q57.1264 784.797 54.0477 780.214 Q50.9921 775.608 50.9921 766.881 Q50.9921 758.131 54.0477 753.547 Q57.1264 748.941 62.9365 748.941 Z\" fill=\"#000000\" fill-rule=\"evenodd\" fill-opacity=\"1\" /><path clip-path=\"url(#clip470)\" d=\"M83.0984 778.246 L87.9827 778.246 L87.9827 784.126 L83.0984 784.126 L83.0984 778.246 Z\" fill=\"#000000\" fill-rule=\"evenodd\" fill-opacity=\"1\" /><path clip-path=\"url(#clip470)\" d=\"M98.2141 749.566 L116.57 749.566 L116.57 753.501 L102.496 753.501 L102.496 761.973 Q103.515 761.626 104.534 761.464 Q105.552 761.279 106.571 761.279 Q112.358 761.279 115.737 764.45 Q119.117 767.621 119.117 773.038 Q119.117 778.617 115.645 781.719 Q112.172 784.797 105.853 784.797 Q103.677 784.797 101.409 784.427 Q99.1632 784.057 96.7558 783.316 L96.7558 778.617 Q98.8391 779.751 101.061 780.307 Q103.284 780.862 105.76 780.862 Q109.765 780.862 112.103 778.756 Q114.441 776.649 114.441 773.038 Q114.441 769.427 112.103 767.321 Q109.765 765.214 105.76 765.214 Q103.885 765.214 102.01 765.631 Q100.159 766.047 98.2141 766.927 L98.2141 749.566 Z\" fill=\"#000000\" fill-rule=\"evenodd\" fill-opacity=\"1\" /><path clip-path=\"url(#clip470)\" d=\"M138.33 752.645 Q134.719 752.645 132.89 756.209 Q131.084 759.751 131.084 766.881 Q131.084 773.987 132.89 777.552 Q134.719 781.094 138.33 781.094 Q141.964 781.094 143.769 777.552 Q145.598 773.987 145.598 766.881 Q145.598 759.751 143.769 756.209 Q141.964 752.645 138.33 752.645 M138.33 748.941 Q144.14 748.941 147.195 753.547 Q150.274 758.131 150.274 766.881 Q150.274 775.608 147.195 780.214 Q144.14 784.797 138.33 784.797 Q132.519 784.797 129.441 780.214 Q126.385 775.608 126.385 766.881 Q126.385 758.131 129.441 753.547 Q132.519 748.941 138.33 748.941 Z\" fill=\"#000000\" fill-rule=\"evenodd\" fill-opacity=\"1\" /><path clip-path=\"url(#clip470)\" d=\"M63.9319 413.21 Q60.3208 413.21 58.4921 416.775 Q56.6865 420.316 56.6865 427.446 Q56.6865 434.552 58.4921 438.117 Q60.3208 441.659 63.9319 441.659 Q67.5661 441.659 69.3717 438.117 Q71.2004 434.552 71.2004 427.446 Q71.2004 420.316 69.3717 416.775 Q67.5661 413.21 63.9319 413.21 M63.9319 409.506 Q69.742 409.506 72.7976 414.113 Q75.8763 418.696 75.8763 427.446 Q75.8763 436.173 72.7976 440.779 Q69.742 445.362 63.9319 445.362 Q58.1217 445.362 55.043 440.779 Q51.9875 436.173 51.9875 427.446 Q51.9875 418.696 55.043 414.113 Q58.1217 409.506 63.9319 409.506 Z\" fill=\"#000000\" fill-rule=\"evenodd\" fill-opacity=\"1\" /><path clip-path=\"url(#clip470)\" d=\"M84.0938 438.812 L88.978 438.812 L88.978 444.691 L84.0938 444.691 L84.0938 438.812 Z\" fill=\"#000000\" fill-rule=\"evenodd\" fill-opacity=\"1\" /><path clip-path=\"url(#clip470)\" d=\"M97.9826 410.131 L120.205 410.131 L120.205 412.122 L107.658 444.691 L102.774 444.691 L114.58 414.066 L97.9826 414.066 L97.9826 410.131 Z\" fill=\"#000000\" fill-rule=\"evenodd\" fill-opacity=\"1\" /><path clip-path=\"url(#clip470)\" d=\"M129.371 410.131 L147.728 410.131 L147.728 414.066 L133.654 414.066 L133.654 422.538 Q134.672 422.191 135.691 422.029 Q136.709 421.844 137.728 421.844 Q143.515 421.844 146.894 425.015 Q150.274 428.187 150.274 433.603 Q150.274 439.182 146.802 442.284 Q143.33 445.362 137.01 445.362 Q134.834 445.362 132.566 444.992 Q130.32 444.622 127.913 443.881 L127.913 439.182 Q129.996 440.316 132.219 440.872 Q134.441 441.427 136.918 441.427 Q140.922 441.427 143.26 439.321 Q145.598 437.214 145.598 433.603 Q145.598 429.992 143.26 427.886 Q140.922 425.779 136.918 425.779 Q135.043 425.779 133.168 426.196 Q131.316 426.613 129.371 427.492 L129.371 410.131 Z\" fill=\"#000000\" fill-rule=\"evenodd\" fill-opacity=\"1\" /><path clip-path=\"url(#clip470)\" d=\"M53.7467 101.321 L61.3856 101.321 L61.3856 74.9555 L53.0754 76.6222 L53.0754 72.3629 L61.3393 70.6963 L66.0152 70.6963 L66.0152 101.321 L73.654 101.321 L73.654 105.256 L53.7467 105.256 L53.7467 101.321 Z\" fill=\"#000000\" fill-rule=\"evenodd\" fill-opacity=\"1\" /><path clip-path=\"url(#clip470)\" d=\"M83.0984 99.3767 L87.9827 99.3767 L87.9827 105.256 L83.0984 105.256 L83.0984 99.3767 Z\" fill=\"#000000\" fill-rule=\"evenodd\" fill-opacity=\"1\" /><path clip-path=\"url(#clip470)\" d=\"M108.168 73.775 Q104.557 73.775 102.728 77.3398 Q100.922 80.8814 100.922 88.011 Q100.922 95.1174 102.728 98.6822 Q104.557 102.224 108.168 102.224 Q111.802 102.224 113.608 98.6822 Q115.436 95.1174 115.436 88.011 Q115.436 80.8814 113.608 77.3398 Q111.802 73.775 108.168 73.775 M108.168 70.0713 Q113.978 70.0713 117.033 74.6777 Q120.112 79.261 120.112 88.011 Q120.112 96.7378 117.033 101.344 Q113.978 105.928 108.168 105.928 Q102.358 105.928 99.2789 101.344 Q96.2234 96.7378 96.2234 88.011 Q96.2234 79.261 99.2789 74.6777 Q102.358 70.0713 108.168 70.0713 Z\" fill=\"#000000\" fill-rule=\"evenodd\" fill-opacity=\"1\" /><path clip-path=\"url(#clip470)\" d=\"M138.33 73.775 Q134.719 73.775 132.89 77.3398 Q131.084 80.8814 131.084 88.011 Q131.084 95.1174 132.89 98.6822 Q134.719 102.224 138.33 102.224 Q141.964 102.224 143.769 98.6822 Q145.598 95.1174 145.598 88.011 Q145.598 80.8814 143.769 77.3398 Q141.964 73.775 138.33 73.775 M138.33 70.0713 Q144.14 70.0713 147.195 74.6777 Q150.274 79.261 150.274 88.011 Q150.274 96.7378 147.195 101.344 Q144.14 105.928 138.33 105.928 Q132.519 105.928 129.441 101.344 Q126.385 96.7378 126.385 88.011 Q126.385 79.261 129.441 74.6777 Q132.519 70.0713 138.33 70.0713 Z\" fill=\"#000000\" fill-rule=\"evenodd\" fill-opacity=\"1\" /><polyline clip-path=\"url(#clip472)\" style=\"stroke:#009af9; stroke-linecap:butt; stroke-linejoin:round; stroke-width:4; stroke-opacity:1; fill:none\" points=\"\n",
       "  2291.44,87.9763 380.079,91.5969 364.492,91.5969 358.647,91.5969 348.905,91.5969 343.06,95.2176 341.112,102.459 337.215,102.459 335.267,102.459 333.318,106.079 \n",
       "  331.37,106.079 329.421,106.079 325.525,106.079 323.576,106.079 319.68,106.079 315.783,109.7 313.834,109.7 311.886,116.941 309.938,116.941 \n",
       "  304.093,116.941 300.196,116.941 296.299,116.941 296.299,120.562 296.299,124.183 294.351,127.803 292.402,127.803 \n",
       "  290.454,127.803 288.506,131.424 284.609,131.424 284.609,135.045 \n",
       "  282.66,138.665 282.66,142.286 \n",
       "  278.764,142.286 278.764,145.906 278.764,149.527 278.764,156.768 278.764,160.389 276.815,164.01 \n",
       "  276.815,167.63 276.815,171.251 276.815,174.872 274.867,178.492 270.97,185.734 269.022,189.354 \n",
       "  267.073,192.975 267.073,200.216 267.073,207.457 265.125,214.699 263.177,218.319 263.177,225.561 261.228,225.561 261.228,229.181 259.28,236.422 \n",
       "  259.28,250.905 259.28,254.526 255.383,272.629 255.383,279.87 255.383,287.111 255.383,297.973 255.383,319.697 255.383,334.18 253.435,341.421 \n",
       "  251.486,348.662 251.486,370.386 251.486,374.007 251.486,381.248 251.486,410.213 251.486,471.764 247.59,504.35 247.59,558.659 247.59,623.831 247.59,728.829 \n",
       "  247.59,1445.72 \n",
       "  \"/>\n",
       "<polyline clip-path=\"url(#clip472)\" style=\"stroke:#e26f46; stroke-linecap:butt; stroke-linejoin:round; stroke-width:4; stroke-opacity:1; fill:none\" points=\"\n",
       "  594.349,87.9763 412.759,89.8286 357.702,89.8286 338.384,89.8286 325.828,89.8286 308.441,89.8286 300.714,89.8286 293.953,89.8286 292.021,89.8286 289.123,89.8286 \n",
       "  286.226,89.8286 285.26,89.8286 281.396,89.8286 276.567,89.8286 274.635,89.8286 271.737,89.8286 270.771,89.8286 \n",
       "  269.805,89.8286 268.839,89.8286 267.873,89.8286 266.908,91.6809 265.942,91.6809 265.942,93.5332 265.942,95.3855 \n",
       "  265.942,97.2378 264.976,97.2378 263.044,99.0901 262.078,99.0901 261.112,99.0901 260.146,99.0901 260.146,100.942 \n",
       "  259.18,100.942 257.249,102.795 256.283,104.647 \n",
       "  255.317,106.499 255.317,110.204 254.351,110.204 254.351,112.056 254.351,115.761 \n",
       "  254.351,117.613 254.351,119.465 254.351,123.17 253.385,123.17 253.385,126.875 253.385,128.727 \n",
       "  253.385,134.284 253.385,136.136 252.419,139.841 252.419,141.693 252.419,143.545 252.419,145.398 \n",
       "  252.419,147.25 252.419,149.102 252.419,158.364 251.453,160.216 251.453,162.068 251.453,163.921 251.453,165.773 250.487,169.478 \n",
       "  249.521,178.739 249.521,184.296 249.521,195.41 248.555,204.671 248.555,226.899 247.59,239.865 247.59,276.911 247.59,330.628 247.59,419.539 247.59,601.065 \n",
       "  247.59,1445.72 \n",
       "  \"/>\n",
       "<polyline clip-path=\"url(#clip472)\" style=\"stroke:#3da44d; stroke-linecap:butt; stroke-linejoin:round; stroke-width:4; stroke-opacity:1; fill:none\" points=\"\n",
       "  2291.44,87.9763 614.633,87.9763 547.985,87.9763 504.52,87.9763 476.509,87.9763 455.259,87.9763 436.907,87.9763 415.657,87.9763 404.066,87.9763 389.577,87.9763 \n",
       "  378.952,87.9763 364.464,89.8286 353.839,89.8286 346.112,91.6809 344.18,91.6809 337.419,91.6809 335.487,91.6809 332.589,91.6809 330.657,91.6809 328.725,91.6809 \n",
       "  326.794,91.6809 325.828,91.6809 324.862,91.6809 323.896,91.6809 321.964,91.6809 320.998,91.6809 320.032,91.6809 320.032,93.5332 318.1,93.5332 \n",
       "  317.135,93.5332 316.169,93.5332 315.203,93.5332 313.271,93.5332 313.271,95.3855 \n",
       "  310.373,95.3855 308.441,95.3855 \n",
       "  307.476,97.2378 306.51,97.2378 \n",
       "  306.51,99.0901 306.51,100.942 305.544,100.942 305.544,102.795 \n",
       "  305.544,104.647 305.544,106.499 305.544,108.352 304.578,110.204 304.578,112.056 303.612,115.761 \n",
       "  303.612,117.613 300.714,119.465 299.748,121.318 298.782,123.17 295.885,132.432 294.919,134.284 292.987,136.136 290.089,141.693 286.226,152.807 \n",
       "  283.328,184.296 278.498,241.718 277.533,289.877 274.635,345.447 270.771,386.197 264.976,430.653 261.112,489.926 257.249,597.36 256.283,678.862 253.385,769.624 \n",
       "  247.59,1445.72 \n",
       "  \"/>\n",
       "<polyline clip-path=\"url(#clip472)\" style=\"stroke:#c271d2; stroke-linecap:butt; stroke-linejoin:round; stroke-width:4; stroke-opacity:1; fill:none\" points=\"\n",
       "  2291.44,87.9763 1618.21,93.5332 1547.7,95.3855 1434.68,95.3855 1247.3,99.0901 1080.2,106.499 999.062,112.056 947.869,117.613 904.404,123.17 847.415,128.727 \n",
       "  796.222,132.432 753.723,149.102 717.984,163.921 685.144,171.33 658.098,176.887 626.224,182.444 604.008,188.001 588.553,191.705 576.962,197.262 559.576,200.967 \n",
       "  547.985,202.819 534.463,208.376 523.838,213.933 514.179,213.933 500.656,225.047 492.929,230.604 482.304,241.718 471.679,252.831 466.85,256.536 461.054,262.093 \n",
       "  447.531,265.798 438.838,269.502 432.077,276.911 423.384,280.616 411.793,288.025 402.134,289.877 395.373,302.844 390.543,306.548 385.714,313.957 380.884,317.662 \n",
       "  378.952,319.514 377.986,325.071 377.021,330.628 377.021,339.89 373.157,356.56 370.259,360.265 369.293,369.527 365.43,380.64 364.464,388.05 361.566,395.459 \n",
       "  359.634,413.982 359.634,428.8 357.702,436.21 354.805,447.323 351.907,458.437 349.975,463.994 348.043,469.551 342.248,480.665 336.453,488.074 331.623,502.893 \n",
       "  329.691,519.563 327.759,528.825 326.794,536.234 325.828,551.052 322.93,554.757 316.169,564.019 313.271,573.28 311.339,588.099 311.339,597.36 307.476,608.474 \n",
       "  305.544,625.145 302.646,632.554 298.782,643.668 293.953,645.52 291.055,651.077 288.157,656.634 288.157,677.009 286.226,682.566 285.26,708.498 281.396,736.283 \n",
       "  281.396,751.101 278.498,760.363 277.533,775.181 274.635,804.818 274.635,830.75 274.635,852.978 272.703,873.354 269.805,925.218 266.908,958.56 266.908,997.458 \n",
       "  264.976,1028.95 263.044,1069.7 262.078,1117.86 261.112,1138.23 258.214,1167.87 256.283,1190.1 254.351,1234.55 251.453,1260.49 251.453,1275.3 250.487,1316.05 \n",
       "  247.59,1445.72 \n",
       "  \"/>\n",
       "<polyline clip-path=\"url(#clip472)\" style=\"stroke:#ac8d18; stroke-linecap:butt; stroke-linejoin:round; stroke-width:4; stroke-opacity:1; fill:none\" points=\"\n",
       "  247.59,1445.72 2291.44,87.9763 \n",
       "  \"/>\n",
       "<path clip-path=\"url(#clip470)\" d=\"\n",
       "M1457.92 406.258 L2280.54 406.258 L2280.54 95.2176 L1457.92 95.2176  Z\n",
       "  \" fill=\"#ffffff\" fill-rule=\"evenodd\" fill-opacity=\"1\"/>\n",
       "<polyline clip-path=\"url(#clip470)\" style=\"stroke:#000000; stroke-linecap:butt; stroke-linejoin:round; stroke-width:4; stroke-opacity:1; fill:none\" points=\"\n",
       "  1457.92,406.258 2280.54,406.258 2280.54,95.2176 1457.92,95.2176 1457.92,406.258 \n",
       "  \"/>\n",
       "<polyline clip-path=\"url(#clip470)\" style=\"stroke:#009af9; stroke-linecap:butt; stroke-linejoin:round; stroke-width:4; stroke-opacity:1; fill:none\" points=\"\n",
       "  1482,147.058 1626.43,147.058 \n",
       "  \"/>\n",
       "<path clip-path=\"url(#clip470)\" d=\"M1650.5 129.778 L1656.8 129.778 L1672.12 158.689 L1672.12 129.778 L1676.66 129.778 L1676.66 164.338 L1670.36 164.338 L1655.04 135.426 L1655.04 164.338 L1650.5 164.338 L1650.5 129.778 Z\" fill=\"#000000\" fill-rule=\"evenodd\" fill-opacity=\"1\" /><path clip-path=\"url(#clip470)\" d=\"M1707.95 150.31 L1707.95 152.393 L1688.37 152.393 Q1688.65 156.791 1691.01 159.106 Q1693.39 161.398 1697.63 161.398 Q1700.08 161.398 1702.38 160.796 Q1704.69 160.194 1706.96 158.99 L1706.96 163.018 Q1704.67 163.99 1702.26 164.5 Q1699.85 165.009 1697.38 165.009 Q1691.17 165.009 1687.54 161.398 Q1683.93 157.787 1683.93 151.629 Q1683.93 145.264 1687.35 141.537 Q1690.8 137.787 1696.63 137.787 Q1701.87 137.787 1704.9 141.166 Q1707.95 144.523 1707.95 150.31 M1703.69 149.06 Q1703.65 145.565 1701.73 143.481 Q1699.83 141.398 1696.68 141.398 Q1693.12 141.398 1690.96 143.412 Q1688.83 145.426 1688.51 149.083 L1703.69 149.06 Z\" fill=\"#000000\" fill-rule=\"evenodd\" fill-opacity=\"1\" /><path clip-path=\"url(#clip470)\" d=\"M1714.51 154.106 L1714.51 138.412 L1718.76 138.412 L1718.76 153.944 Q1718.76 157.625 1720.2 159.476 Q1721.63 161.305 1724.51 161.305 Q1727.95 161.305 1729.94 159.106 Q1731.96 156.907 1731.96 153.111 L1731.96 138.412 L1736.22 138.412 L1736.22 164.338 L1731.96 164.338 L1731.96 160.356 Q1730.41 162.717 1728.35 163.875 Q1726.31 165.009 1723.6 165.009 Q1719.13 165.009 1716.82 162.231 Q1714.51 159.453 1714.51 154.106 M1725.22 137.787 L1725.22 137.787 Z\" fill=\"#000000\" fill-rule=\"evenodd\" fill-opacity=\"1\" /><path clip-path=\"url(#clip470)\" d=\"M1760.01 142.393 Q1759.3 141.977 1758.44 141.791 Q1757.61 141.583 1756.59 141.583 Q1752.98 141.583 1751.03 143.944 Q1749.11 146.282 1749.11 150.68 L1749.11 164.338 L1744.83 164.338 L1744.83 138.412 L1749.11 138.412 L1749.11 142.44 Q1750.45 140.078 1752.61 138.944 Q1754.76 137.787 1757.84 137.787 Q1758.28 137.787 1758.81 137.856 Q1759.34 137.903 1759.99 138.018 L1760.01 142.393 Z\" fill=\"#000000\" fill-rule=\"evenodd\" fill-opacity=\"1\" /><path clip-path=\"url(#clip470)\" d=\"M1776.26 151.305 Q1771.1 151.305 1769.11 152.486 Q1767.12 153.666 1767.12 156.514 Q1767.12 158.782 1768.6 160.125 Q1770.11 161.444 1772.68 161.444 Q1776.22 161.444 1778.35 158.944 Q1780.5 156.421 1780.5 152.254 L1780.5 151.305 L1776.26 151.305 M1784.76 149.546 L1784.76 164.338 L1780.5 164.338 L1780.5 160.402 Q1779.04 162.763 1776.87 163.898 Q1774.69 165.009 1771.54 165.009 Q1767.56 165.009 1765.2 162.787 Q1762.86 160.541 1762.86 156.791 Q1762.86 152.416 1765.78 150.194 Q1768.72 147.972 1774.53 147.972 L1780.5 147.972 L1780.5 147.555 Q1780.5 144.615 1778.56 143.018 Q1776.63 141.398 1773.14 141.398 Q1770.92 141.398 1768.81 141.93 Q1766.7 142.463 1764.76 143.527 L1764.76 139.592 Q1767.1 138.69 1769.3 138.25 Q1771.5 137.787 1773.58 137.787 Q1779.2 137.787 1781.98 140.703 Q1784.76 143.62 1784.76 149.546 Z\" fill=\"#000000\" fill-rule=\"evenodd\" fill-opacity=\"1\" /><path clip-path=\"url(#clip470)\" d=\"M1793.53 128.319 L1797.79 128.319 L1797.79 164.338 L1793.53 164.338 L1793.53 128.319 Z\" fill=\"#000000\" fill-rule=\"evenodd\" fill-opacity=\"1\" /><path clip-path=\"url(#clip470)\" d=\"M1821.96 129.778 L1828.25 129.778 L1843.58 158.689 L1843.58 129.778 L1848.12 129.778 L1848.12 164.338 L1841.82 164.338 L1826.5 135.426 L1826.5 164.338 L1821.96 164.338 L1821.96 129.778 Z\" fill=\"#000000\" fill-rule=\"evenodd\" fill-opacity=\"1\" /><path clip-path=\"url(#clip470)\" d=\"M1879.41 150.31 L1879.41 152.393 L1859.83 152.393 Q1860.11 156.791 1862.47 159.106 Q1864.85 161.398 1869.09 161.398 Q1871.54 161.398 1873.83 160.796 Q1876.15 160.194 1878.42 158.99 L1878.42 163.018 Q1876.12 163.99 1873.72 164.5 Q1871.31 165.009 1868.83 165.009 Q1862.63 165.009 1859 161.398 Q1855.38 157.787 1855.38 151.629 Q1855.38 145.264 1858.81 141.537 Q1862.26 137.787 1868.09 137.787 Q1873.32 137.787 1876.36 141.166 Q1879.41 144.523 1879.41 150.31 M1875.15 149.06 Q1875.11 145.565 1873.18 143.481 Q1871.29 141.398 1868.14 141.398 Q1864.57 141.398 1862.42 143.412 Q1860.29 145.426 1859.97 149.083 L1875.15 149.06 Z\" fill=\"#000000\" fill-rule=\"evenodd\" fill-opacity=\"1\" /><path clip-path=\"url(#clip470)\" d=\"M1890.62 131.051 L1890.62 138.412 L1899.39 138.412 L1899.39 141.722 L1890.62 141.722 L1890.62 155.796 Q1890.62 158.967 1891.47 159.87 Q1892.35 160.773 1895.01 160.773 L1899.39 160.773 L1899.39 164.338 L1895.01 164.338 Q1890.08 164.338 1888.21 162.509 Q1886.33 160.657 1886.33 155.796 L1886.33 141.722 L1883.21 141.722 L1883.21 138.412 L1886.33 138.412 L1886.33 131.051 L1890.62 131.051 Z\" fill=\"#000000\" fill-rule=\"evenodd\" fill-opacity=\"1\" /><path clip-path=\"url(#clip470)\" d=\"M1902.51 138.412 L1906.77 138.412 L1912.1 158.643 L1917.4 138.412 L1922.42 138.412 L1927.74 158.643 L1933.05 138.412 L1937.3 138.412 L1930.52 164.338 L1925.5 164.338 L1919.92 143.088 L1914.32 164.338 L1909.3 164.338 L1902.51 138.412 Z\" fill=\"#000000\" fill-rule=\"evenodd\" fill-opacity=\"1\" /><path clip-path=\"url(#clip470)\" d=\"M1953.81 141.398 Q1950.38 141.398 1948.39 144.083 Q1946.4 146.745 1946.4 151.398 Q1946.4 156.051 1948.37 158.736 Q1950.36 161.398 1953.81 161.398 Q1957.21 161.398 1959.2 158.713 Q1961.19 156.027 1961.19 151.398 Q1961.19 146.791 1959.2 144.106 Q1957.21 141.398 1953.81 141.398 M1953.81 137.787 Q1959.36 137.787 1962.54 141.398 Q1965.71 145.009 1965.71 151.398 Q1965.71 157.764 1962.54 161.398 Q1959.36 165.009 1953.81 165.009 Q1948.23 165.009 1945.06 161.398 Q1941.91 157.764 1941.91 151.398 Q1941.91 145.009 1945.06 141.398 Q1948.23 137.787 1953.81 137.787 Z\" fill=\"#000000\" fill-rule=\"evenodd\" fill-opacity=\"1\" /><path clip-path=\"url(#clip470)\" d=\"M1987.79 142.393 Q1987.07 141.977 1986.22 141.791 Q1985.38 141.583 1984.36 141.583 Q1980.75 141.583 1978.81 143.944 Q1976.89 146.282 1976.89 150.68 L1976.89 164.338 L1972.61 164.338 L1972.61 138.412 L1976.89 138.412 L1976.89 142.44 Q1978.23 140.078 1980.38 138.944 Q1982.54 137.787 1985.61 137.787 Q1986.05 137.787 1986.59 137.856 Q1987.12 137.903 1987.77 138.018 L1987.79 142.393 Z\" fill=\"#000000\" fill-rule=\"evenodd\" fill-opacity=\"1\" /><path clip-path=\"url(#clip470)\" d=\"M1992.1 128.319 L1996.38 128.319 L1996.38 149.592 L2009.09 138.412 L2014.53 138.412 L2000.78 150.541 L2015.11 164.338 L2009.55 164.338 L1996.38 151.676 L1996.38 164.338 L1992.1 164.338 L1992.1 128.319 Z\" fill=\"#000000\" fill-rule=\"evenodd\" fill-opacity=\"1\" /><polyline clip-path=\"url(#clip470)\" style=\"stroke:#e26f46; stroke-linecap:butt; stroke-linejoin:round; stroke-width:4; stroke-opacity:1; fill:none\" points=\"\n",
       "  1482,198.898 1626.43,198.898 \n",
       "  \"/>\n",
       "<path clip-path=\"url(#clip470)\" d=\"M1666.89 199.974 Q1668.39 200.483 1669.81 202.15 Q1671.24 203.817 1672.68 206.733 L1677.42 216.178 L1672.4 216.178 L1667.98 207.312 Q1666.26 203.84 1664.64 202.705 Q1663.05 201.571 1660.27 201.571 L1655.18 201.571 L1655.18 216.178 L1650.5 216.178 L1650.5 181.618 L1661.06 181.618 Q1666.98 181.618 1669.9 184.094 Q1672.82 186.571 1672.82 191.571 Q1672.82 194.835 1671.29 196.988 Q1669.78 199.141 1666.89 199.974 M1655.18 185.46 L1655.18 197.729 L1661.06 197.729 Q1664.44 197.729 1666.15 196.178 Q1667.88 194.604 1667.88 191.571 Q1667.88 188.539 1666.15 187.011 Q1664.44 185.46 1661.06 185.46 L1655.18 185.46 Z\" fill=\"#000000\" fill-rule=\"evenodd\" fill-opacity=\"1\" /><path clip-path=\"url(#clip470)\" d=\"M1694 203.145 Q1688.83 203.145 1686.84 204.326 Q1684.85 205.506 1684.85 208.354 Q1684.85 210.622 1686.33 211.965 Q1687.84 213.284 1690.41 213.284 Q1693.95 213.284 1696.08 210.784 Q1698.23 208.261 1698.23 204.094 L1698.23 203.145 L1694 203.145 M1702.49 201.386 L1702.49 216.178 L1698.23 216.178 L1698.23 212.242 Q1696.77 214.603 1694.6 215.738 Q1692.42 216.849 1689.27 216.849 Q1685.29 216.849 1682.93 214.627 Q1680.59 212.381 1680.59 208.631 Q1680.59 204.256 1683.51 202.034 Q1686.45 199.812 1692.26 199.812 L1698.23 199.812 L1698.23 199.395 Q1698.23 196.455 1696.29 194.858 Q1694.37 193.238 1690.87 193.238 Q1688.65 193.238 1686.54 193.77 Q1684.44 194.303 1682.49 195.367 L1682.49 191.432 Q1684.83 190.53 1687.03 190.09 Q1689.23 189.627 1691.31 189.627 Q1696.94 189.627 1699.71 192.543 Q1702.49 195.46 1702.49 201.386 Z\" fill=\"#000000\" fill-rule=\"evenodd\" fill-opacity=\"1\" /><path clip-path=\"url(#clip470)\" d=\"M1732.82 200.529 L1732.82 216.178 L1728.56 216.178 L1728.56 200.668 Q1728.56 196.988 1727.12 195.159 Q1725.69 193.33 1722.82 193.33 Q1719.37 193.33 1717.38 195.53 Q1715.38 197.729 1715.38 201.525 L1715.38 216.178 L1711.1 216.178 L1711.1 190.252 L1715.38 190.252 L1715.38 194.28 Q1716.91 191.942 1718.97 190.784 Q1721.06 189.627 1723.76 189.627 Q1728.23 189.627 1730.52 192.405 Q1732.82 195.159 1732.82 200.529 Z\" fill=\"#000000\" fill-rule=\"evenodd\" fill-opacity=\"1\" /><path clip-path=\"url(#clip470)\" d=\"M1758.37 194.187 L1758.37 180.159 L1762.63 180.159 L1762.63 216.178 L1758.37 216.178 L1758.37 212.289 Q1757.03 214.603 1754.97 215.738 Q1752.93 216.849 1750.06 216.849 Q1745.36 216.849 1742.4 213.099 Q1739.46 209.349 1739.46 203.238 Q1739.46 197.127 1742.4 193.377 Q1745.36 189.627 1750.06 189.627 Q1752.93 189.627 1754.97 190.761 Q1757.03 191.872 1758.37 194.187 M1743.86 203.238 Q1743.86 207.937 1745.78 210.622 Q1747.72 213.284 1751.1 213.284 Q1754.48 213.284 1756.43 210.622 Q1758.37 207.937 1758.37 203.238 Q1758.37 198.539 1756.43 195.877 Q1754.48 193.192 1751.1 193.192 Q1747.72 193.192 1745.78 195.877 Q1743.86 198.539 1743.86 203.238 Z\" fill=\"#000000\" fill-rule=\"evenodd\" fill-opacity=\"1\" /><path clip-path=\"url(#clip470)\" d=\"M1781.45 193.238 Q1778.02 193.238 1776.03 195.923 Q1774.04 198.585 1774.04 203.238 Q1774.04 207.891 1776.01 210.576 Q1778 213.238 1781.45 213.238 Q1784.85 213.238 1786.84 210.553 Q1788.83 207.867 1788.83 203.238 Q1788.83 198.631 1786.84 195.946 Q1784.85 193.238 1781.45 193.238 M1781.45 189.627 Q1787 189.627 1790.18 193.238 Q1793.35 196.849 1793.35 203.238 Q1793.35 209.604 1790.18 213.238 Q1787 216.849 1781.45 216.849 Q1775.87 216.849 1772.7 213.238 Q1769.55 209.604 1769.55 203.238 Q1769.55 196.849 1772.7 193.238 Q1775.87 189.627 1781.45 189.627 Z\" fill=\"#000000\" fill-rule=\"evenodd\" fill-opacity=\"1\" /><path clip-path=\"url(#clip470)\" d=\"M1820.59 195.229 Q1822.19 192.358 1824.41 190.993 Q1826.63 189.627 1829.64 189.627 Q1833.69 189.627 1835.89 192.474 Q1838.09 195.298 1838.09 200.529 L1838.09 216.178 L1833.81 216.178 L1833.81 200.668 Q1833.81 196.942 1832.49 195.136 Q1831.17 193.33 1828.46 193.33 Q1825.15 193.33 1823.23 195.53 Q1821.31 197.729 1821.31 201.525 L1821.31 216.178 L1817.03 216.178 L1817.03 200.668 Q1817.03 196.918 1815.71 195.136 Q1814.39 193.33 1811.63 193.33 Q1808.37 193.33 1806.45 195.553 Q1804.53 197.752 1804.53 201.525 L1804.53 216.178 L1800.25 216.178 L1800.25 190.252 L1804.53 190.252 L1804.53 194.28 Q1805.99 191.895 1808.02 190.761 Q1810.06 189.627 1812.86 189.627 Q1815.69 189.627 1817.65 191.062 Q1819.64 192.497 1820.59 195.229 Z\" fill=\"#000000\" fill-rule=\"evenodd\" fill-opacity=\"1\" /><path clip-path=\"url(#clip470)\" d=\"M1861.84 181.618 L1881.7 181.618 L1881.7 185.553 L1866.52 185.553 L1866.52 195.738 L1880.22 195.738 L1880.22 199.673 L1866.52 199.673 L1866.52 216.178 L1861.84 216.178 L1861.84 181.618 Z\" fill=\"#000000\" fill-rule=\"evenodd\" fill-opacity=\"1\" /><path clip-path=\"url(#clip470)\" d=\"M1897.28 193.238 Q1893.86 193.238 1891.87 195.923 Q1889.87 198.585 1889.87 203.238 Q1889.87 207.891 1891.84 210.576 Q1893.83 213.238 1897.28 213.238 Q1900.68 213.238 1902.68 210.553 Q1904.67 207.867 1904.67 203.238 Q1904.67 198.631 1902.68 195.946 Q1900.68 193.238 1897.28 193.238 M1897.28 189.627 Q1902.84 189.627 1906.01 193.238 Q1909.18 196.849 1909.18 203.238 Q1909.18 209.604 1906.01 213.238 Q1902.84 216.849 1897.28 216.849 Q1891.7 216.849 1888.53 213.238 Q1885.38 209.604 1885.38 203.238 Q1885.38 196.849 1888.53 193.238 Q1891.7 189.627 1897.28 189.627 Z\" fill=\"#000000\" fill-rule=\"evenodd\" fill-opacity=\"1\" /><path clip-path=\"url(#clip470)\" d=\"M1931.26 194.233 Q1930.55 193.817 1929.69 193.631 Q1928.86 193.423 1927.84 193.423 Q1924.23 193.423 1922.28 195.784 Q1920.36 198.122 1920.36 202.52 L1920.36 216.178 L1916.08 216.178 L1916.08 190.252 L1920.36 190.252 L1920.36 194.28 Q1921.7 191.918 1923.86 190.784 Q1926.01 189.627 1929.09 189.627 Q1929.53 189.627 1930.06 189.696 Q1930.59 189.743 1931.24 189.858 L1931.26 194.233 Z\" fill=\"#000000\" fill-rule=\"evenodd\" fill-opacity=\"1\" /><path clip-path=\"url(#clip470)\" d=\"M1956.86 202.15 L1956.86 204.233 L1937.28 204.233 Q1937.56 208.631 1939.92 210.946 Q1942.3 213.238 1946.54 213.238 Q1948.99 213.238 1951.29 212.636 Q1953.6 212.034 1955.87 210.83 L1955.87 214.858 Q1953.58 215.83 1951.17 216.34 Q1948.76 216.849 1946.29 216.849 Q1940.08 216.849 1936.45 213.238 Q1932.84 209.627 1932.84 203.469 Q1932.84 197.104 1936.26 193.377 Q1939.71 189.627 1945.55 189.627 Q1950.78 189.627 1953.81 193.006 Q1956.86 196.363 1956.86 202.15 M1952.61 200.9 Q1952.56 197.405 1950.64 195.321 Q1948.74 193.238 1945.59 193.238 Q1942.03 193.238 1939.87 195.252 Q1937.74 197.266 1937.42 200.923 L1952.61 200.9 Z\" fill=\"#000000\" fill-rule=\"evenodd\" fill-opacity=\"1\" /><path clip-path=\"url(#clip470)\" d=\"M1980.38 191.016 L1980.38 195.043 Q1978.58 194.117 1976.63 193.655 Q1974.69 193.192 1972.61 193.192 Q1969.43 193.192 1967.84 194.164 Q1966.26 195.136 1966.26 197.08 Q1966.26 198.562 1967.4 199.418 Q1968.53 200.252 1971.96 201.016 L1973.42 201.34 Q1977.95 202.312 1979.85 204.094 Q1981.77 205.854 1981.77 209.025 Q1981.77 212.636 1978.9 214.742 Q1976.05 216.849 1971.05 216.849 Q1968.97 216.849 1966.7 216.432 Q1964.46 216.039 1961.96 215.228 L1961.96 210.83 Q1964.32 212.057 1966.61 212.682 Q1968.9 213.284 1971.15 213.284 Q1974.16 213.284 1975.78 212.266 Q1977.4 211.224 1977.4 209.349 Q1977.4 207.613 1976.22 206.687 Q1975.06 205.761 1971.1 204.904 L1969.62 204.557 Q1965.66 203.724 1963.9 202.011 Q1962.14 200.275 1962.14 197.266 Q1962.14 193.608 1964.74 191.618 Q1967.33 189.627 1972.1 189.627 Q1974.46 189.627 1976.54 189.974 Q1978.62 190.321 1980.38 191.016 Z\" fill=\"#000000\" fill-rule=\"evenodd\" fill-opacity=\"1\" /><path clip-path=\"url(#clip470)\" d=\"M1992.77 182.891 L1992.77 190.252 L2001.54 190.252 L2001.54 193.562 L1992.77 193.562 L1992.77 207.636 Q1992.77 210.807 1993.62 211.71 Q1994.5 212.613 1997.17 212.613 L2001.54 212.613 L2001.54 216.178 L1997.17 216.178 Q1992.24 216.178 1990.36 214.349 Q1988.49 212.497 1988.49 207.636 L1988.49 193.562 L1985.36 193.562 L1985.36 190.252 L1988.49 190.252 L1988.49 182.891 L1992.77 182.891 Z\" fill=\"#000000\" fill-rule=\"evenodd\" fill-opacity=\"1\" /><polyline clip-path=\"url(#clip470)\" style=\"stroke:#3da44d; stroke-linecap:butt; stroke-linejoin:round; stroke-width:4; stroke-opacity:1; fill:none\" points=\"\n",
       "  1482,250.738 1626.43,250.738 \n",
       "  \"/>\n",
       "<path clip-path=\"url(#clip470)\" d=\"M1672.75 234.592 L1672.75 239.152 Q1670.08 237.879 1667.72 237.254 Q1665.36 236.629 1663.16 236.629 Q1659.34 236.629 1657.26 238.11 Q1655.2 239.592 1655.2 242.323 Q1655.2 244.615 1656.57 245.795 Q1657.95 246.953 1661.8 247.67 L1664.62 248.249 Q1669.85 249.245 1672.33 251.768 Q1674.83 254.268 1674.83 258.481 Q1674.83 263.504 1671.45 266.096 Q1668.09 268.689 1661.59 268.689 Q1659.13 268.689 1656.36 268.133 Q1653.6 267.578 1650.64 266.49 L1650.64 261.675 Q1653.49 263.272 1656.22 264.082 Q1658.95 264.893 1661.59 264.893 Q1665.59 264.893 1667.77 263.319 Q1669.95 261.744 1669.95 258.828 Q1669.95 256.282 1668.37 254.846 Q1666.82 253.411 1663.26 252.694 L1660.41 252.138 Q1655.18 251.096 1652.84 248.874 Q1650.5 246.652 1650.5 242.694 Q1650.5 238.11 1653.72 235.471 Q1656.96 232.833 1662.63 232.833 Q1665.06 232.833 1667.58 233.272 Q1670.11 233.712 1672.75 234.592 Z\" fill=\"#000000\" fill-rule=\"evenodd\" fill-opacity=\"1\" /><path clip-path=\"url(#clip470)\" d=\"M1681.5 257.786 L1681.5 242.092 L1685.76 242.092 L1685.76 257.624 Q1685.76 261.305 1687.19 263.156 Q1688.63 264.985 1691.5 264.985 Q1694.94 264.985 1696.94 262.786 Q1698.95 260.587 1698.95 256.791 L1698.95 242.092 L1703.21 242.092 L1703.21 268.018 L1698.95 268.018 L1698.95 264.036 Q1697.4 266.397 1695.34 267.555 Q1693.3 268.689 1690.59 268.689 Q1686.13 268.689 1683.81 265.911 Q1681.5 263.133 1681.5 257.786 M1692.21 241.467 L1692.21 241.467 Z\" fill=\"#000000\" fill-rule=\"evenodd\" fill-opacity=\"1\" /><path clip-path=\"url(#clip470)\" d=\"M1716.1 264.129 L1716.1 277.879 L1711.82 277.879 L1711.82 242.092 L1716.1 242.092 L1716.1 246.027 Q1717.44 243.712 1719.48 242.601 Q1721.54 241.467 1724.39 241.467 Q1729.11 241.467 1732.05 245.217 Q1735.01 248.967 1735.01 255.078 Q1735.01 261.189 1732.05 264.939 Q1729.11 268.689 1724.39 268.689 Q1721.54 268.689 1719.48 267.578 Q1717.44 266.443 1716.1 264.129 M1730.59 255.078 Q1730.59 250.379 1728.65 247.717 Q1726.73 245.032 1723.35 245.032 Q1719.97 245.032 1718.02 247.717 Q1716.1 250.379 1716.1 255.078 Q1716.1 259.777 1718.02 262.462 Q1719.97 265.124 1723.35 265.124 Q1726.73 265.124 1728.65 262.462 Q1730.59 259.777 1730.59 255.078 Z\" fill=\"#000000\" fill-rule=\"evenodd\" fill-opacity=\"1\" /><path clip-path=\"url(#clip470)\" d=\"M1746.19 264.129 L1746.19 277.879 L1741.91 277.879 L1741.91 242.092 L1746.19 242.092 L1746.19 246.027 Q1747.54 243.712 1749.57 242.601 Q1751.63 241.467 1754.48 241.467 Q1759.2 241.467 1762.14 245.217 Q1765.11 248.967 1765.11 255.078 Q1765.11 261.189 1762.14 264.939 Q1759.2 268.689 1754.48 268.689 Q1751.63 268.689 1749.57 267.578 Q1747.54 266.443 1746.19 264.129 M1760.69 255.078 Q1760.69 250.379 1758.74 247.717 Q1756.82 245.032 1753.44 245.032 Q1750.06 245.032 1748.12 247.717 Q1746.19 250.379 1746.19 255.078 Q1746.19 259.777 1748.12 262.462 Q1750.06 265.124 1753.44 265.124 Q1756.82 265.124 1758.74 262.462 Q1760.69 259.777 1760.69 255.078 Z\" fill=\"#000000\" fill-rule=\"evenodd\" fill-opacity=\"1\" /><path clip-path=\"url(#clip470)\" d=\"M1782.21 245.078 Q1778.79 245.078 1776.8 247.763 Q1774.81 250.425 1774.81 255.078 Q1774.81 259.731 1776.77 262.416 Q1778.76 265.078 1782.21 265.078 Q1785.62 265.078 1787.61 262.393 Q1789.6 259.707 1789.6 255.078 Q1789.6 250.471 1787.61 247.786 Q1785.62 245.078 1782.21 245.078 M1782.21 241.467 Q1787.77 241.467 1790.94 245.078 Q1794.11 248.689 1794.11 255.078 Q1794.11 261.444 1790.94 265.078 Q1787.77 268.689 1782.21 268.689 Q1776.63 268.689 1773.46 265.078 Q1770.31 261.444 1770.31 255.078 Q1770.31 248.689 1773.46 245.078 Q1776.63 241.467 1782.21 241.467 Z\" fill=\"#000000\" fill-rule=\"evenodd\" fill-opacity=\"1\" /><path clip-path=\"url(#clip470)\" d=\"M1816.19 246.073 Q1815.48 245.657 1814.62 245.471 Q1813.79 245.263 1812.77 245.263 Q1809.16 245.263 1807.21 247.624 Q1805.29 249.962 1805.29 254.36 L1805.29 268.018 L1801.01 268.018 L1801.01 242.092 L1805.29 242.092 L1805.29 246.12 Q1806.63 243.758 1808.79 242.624 Q1810.94 241.467 1814.02 241.467 Q1814.46 241.467 1814.99 241.536 Q1815.52 241.583 1816.17 241.698 L1816.19 246.073 Z\" fill=\"#000000\" fill-rule=\"evenodd\" fill-opacity=\"1\" /><path clip-path=\"url(#clip470)\" d=\"M1824.87 234.731 L1824.87 242.092 L1833.65 242.092 L1833.65 245.402 L1824.87 245.402 L1824.87 259.476 Q1824.87 262.647 1825.73 263.55 Q1826.61 264.453 1829.27 264.453 L1833.65 264.453 L1833.65 268.018 L1829.27 268.018 Q1824.34 268.018 1822.47 266.189 Q1820.59 264.337 1820.59 259.476 L1820.59 245.402 L1817.47 245.402 L1817.47 242.092 L1820.59 242.092 L1820.59 234.731 L1824.87 234.731 Z\" fill=\"#000000\" fill-rule=\"evenodd\" fill-opacity=\"1\" /><path clip-path=\"url(#clip470)\" d=\"M1863.42 268.018 L1850.22 233.458 L1855.11 233.458 L1866.06 262.555 L1877.03 233.458 L1881.89 233.458 L1868.72 268.018 L1863.42 268.018 Z\" fill=\"#000000\" fill-rule=\"evenodd\" fill-opacity=\"1\" /><path clip-path=\"url(#clip470)\" d=\"M1905.24 253.99 L1905.24 256.073 L1885.66 256.073 Q1885.94 260.471 1888.3 262.786 Q1890.68 265.078 1894.92 265.078 Q1897.37 265.078 1899.67 264.476 Q1901.98 263.874 1904.25 262.67 L1904.25 266.698 Q1901.96 267.67 1899.55 268.18 Q1897.14 268.689 1894.67 268.689 Q1888.46 268.689 1884.83 265.078 Q1881.22 261.467 1881.22 255.309 Q1881.22 248.944 1884.64 245.217 Q1888.09 241.467 1893.93 241.467 Q1899.16 241.467 1902.19 244.846 Q1905.24 248.203 1905.24 253.99 M1900.99 252.74 Q1900.94 249.245 1899.02 247.161 Q1897.12 245.078 1893.97 245.078 Q1890.41 245.078 1888.25 247.092 Q1886.12 249.106 1885.8 252.763 L1900.99 252.74 Z\" fill=\"#000000\" fill-rule=\"evenodd\" fill-opacity=\"1\" /><path clip-path=\"url(#clip470)\" d=\"M1930.89 243.087 L1930.89 247.069 Q1929.09 246.073 1927.26 245.587 Q1925.45 245.078 1923.6 245.078 Q1919.46 245.078 1917.17 247.717 Q1914.87 250.332 1914.87 255.078 Q1914.87 259.823 1917.17 262.462 Q1919.46 265.078 1923.6 265.078 Q1925.45 265.078 1927.26 264.592 Q1929.09 264.082 1930.89 263.087 L1930.89 267.022 Q1929.11 267.856 1927.19 268.272 Q1925.29 268.689 1923.14 268.689 Q1917.28 268.689 1913.83 265.008 Q1910.38 261.328 1910.38 255.078 Q1910.38 248.735 1913.86 245.101 Q1917.35 241.467 1923.42 241.467 Q1925.38 241.467 1927.26 241.883 Q1929.13 242.277 1930.89 243.087 Z\" fill=\"#000000\" fill-rule=\"evenodd\" fill-opacity=\"1\" /><path clip-path=\"url(#clip470)\" d=\"M1942.51 234.731 L1942.51 242.092 L1951.29 242.092 L1951.29 245.402 L1942.51 245.402 L1942.51 259.476 Q1942.51 262.647 1943.37 263.55 Q1944.25 264.453 1946.91 264.453 L1951.29 264.453 L1951.29 268.018 L1946.91 268.018 Q1941.98 268.018 1940.11 266.189 Q1938.23 264.337 1938.23 259.476 L1938.23 245.402 L1935.11 245.402 L1935.11 242.092 L1938.23 242.092 L1938.23 234.731 L1942.51 234.731 Z\" fill=\"#000000\" fill-rule=\"evenodd\" fill-opacity=\"1\" /><path clip-path=\"url(#clip470)\" d=\"M1966.93 245.078 Q1963.51 245.078 1961.52 247.763 Q1959.53 250.425 1959.53 255.078 Q1959.53 259.731 1961.49 262.416 Q1963.49 265.078 1966.93 265.078 Q1970.34 265.078 1972.33 262.393 Q1974.32 259.707 1974.32 255.078 Q1974.32 250.471 1972.33 247.786 Q1970.34 245.078 1966.93 245.078 M1966.93 241.467 Q1972.49 241.467 1975.66 245.078 Q1978.83 248.689 1978.83 255.078 Q1978.83 261.444 1975.66 265.078 Q1972.49 268.689 1966.93 268.689 Q1961.36 268.689 1958.18 265.078 Q1955.04 261.444 1955.04 255.078 Q1955.04 248.689 1958.18 245.078 Q1961.36 241.467 1966.93 241.467 Z\" fill=\"#000000\" fill-rule=\"evenodd\" fill-opacity=\"1\" /><path clip-path=\"url(#clip470)\" d=\"M2000.92 246.073 Q2000.2 245.657 1999.34 245.471 Q1998.51 245.263 1997.49 245.263 Q1993.88 245.263 1991.93 247.624 Q1990.01 249.962 1990.01 254.36 L1990.01 268.018 L1985.73 268.018 L1985.73 242.092 L1990.01 242.092 L1990.01 246.12 Q1991.36 243.758 1993.51 242.624 Q1995.66 241.467 1998.74 241.467 Q1999.18 241.467 1999.71 241.536 Q2000.24 241.583 2000.89 241.698 L2000.92 246.073 Z\" fill=\"#000000\" fill-rule=\"evenodd\" fill-opacity=\"1\" /><path clip-path=\"url(#clip470)\" d=\"M2046.52 236.12 L2046.52 241.05 Q2044.16 238.851 2041.47 237.763 Q2038.81 236.675 2035.8 236.675 Q2029.87 236.675 2026.73 240.309 Q2023.58 243.92 2023.58 250.772 Q2023.58 257.601 2026.73 261.235 Q2029.87 264.846 2035.8 264.846 Q2038.81 264.846 2041.47 263.758 Q2044.16 262.67 2046.52 260.471 L2046.52 265.356 Q2044.06 267.022 2041.31 267.856 Q2038.58 268.689 2035.52 268.689 Q2027.67 268.689 2023.16 263.897 Q2018.65 259.082 2018.65 250.772 Q2018.65 242.439 2023.16 237.647 Q2027.67 232.833 2035.52 232.833 Q2038.62 232.833 2041.36 233.666 Q2044.11 234.476 2046.52 236.12 Z\" fill=\"#000000\" fill-rule=\"evenodd\" fill-opacity=\"1\" /><path clip-path=\"url(#clip470)\" d=\"M2053.55 231.999 L2057.81 231.999 L2057.81 268.018 L2053.55 268.018 L2053.55 231.999 Z\" fill=\"#000000\" fill-rule=\"evenodd\" fill-opacity=\"1\" /><path clip-path=\"url(#clip470)\" d=\"M2078.51 254.985 Q2073.35 254.985 2071.35 256.166 Q2069.36 257.346 2069.36 260.194 Q2069.36 262.462 2070.85 263.805 Q2072.35 265.124 2074.92 265.124 Q2078.46 265.124 2080.59 262.624 Q2082.74 260.101 2082.74 255.934 L2082.74 254.985 L2078.51 254.985 M2087 253.226 L2087 268.018 L2082.74 268.018 L2082.74 264.082 Q2081.29 266.443 2079.11 267.578 Q2076.93 268.689 2073.79 268.689 Q2069.8 268.689 2067.44 266.467 Q2065.11 264.221 2065.11 260.471 Q2065.11 256.096 2068.02 253.874 Q2070.96 251.652 2076.77 251.652 L2082.74 251.652 L2082.74 251.235 Q2082.74 248.295 2080.8 246.698 Q2078.88 245.078 2075.38 245.078 Q2073.16 245.078 2071.05 245.61 Q2068.95 246.143 2067 247.207 L2067 243.272 Q2069.34 242.37 2071.54 241.93 Q2073.74 241.467 2075.82 241.467 Q2081.45 241.467 2084.23 244.383 Q2087 247.3 2087 253.226 Z\" fill=\"#000000\" fill-rule=\"evenodd\" fill-opacity=\"1\" /><path clip-path=\"url(#clip470)\" d=\"M2112.3 242.856 L2112.3 246.883 Q2110.5 245.957 2108.55 245.495 Q2106.61 245.032 2104.53 245.032 Q2101.35 245.032 2099.76 246.004 Q2098.18 246.976 2098.18 248.92 Q2098.18 250.402 2099.32 251.258 Q2100.45 252.092 2103.88 252.856 L2105.34 253.18 Q2109.87 254.152 2111.77 255.934 Q2113.69 257.694 2113.69 260.865 Q2113.69 264.476 2110.82 266.582 Q2107.98 268.689 2102.98 268.689 Q2100.89 268.689 2098.62 268.272 Q2096.38 267.879 2093.88 267.068 L2093.88 262.67 Q2096.24 263.897 2098.53 264.522 Q2100.82 265.124 2103.07 265.124 Q2106.08 265.124 2107.7 264.106 Q2109.32 263.064 2109.32 261.189 Q2109.32 259.453 2108.14 258.527 Q2106.98 257.601 2103.02 256.744 L2101.54 256.397 Q2097.58 255.564 2095.82 253.851 Q2094.06 252.115 2094.06 249.106 Q2094.06 245.448 2096.66 243.458 Q2099.25 241.467 2104.02 241.467 Q2106.38 241.467 2108.46 241.814 Q2110.54 242.161 2112.3 242.856 Z\" fill=\"#000000\" fill-rule=\"evenodd\" fill-opacity=\"1\" /><path clip-path=\"url(#clip470)\" d=\"M2137 242.856 L2137 246.883 Q2135.2 245.957 2133.25 245.495 Q2131.31 245.032 2129.23 245.032 Q2126.05 245.032 2124.46 246.004 Q2122.88 246.976 2122.88 248.92 Q2122.88 250.402 2124.02 251.258 Q2125.15 252.092 2128.58 252.856 L2130.04 253.18 Q2134.57 254.152 2136.47 255.934 Q2138.39 257.694 2138.39 260.865 Q2138.39 264.476 2135.52 266.582 Q2132.67 268.689 2127.67 268.689 Q2125.59 268.689 2123.32 268.272 Q2121.08 267.879 2118.58 267.068 L2118.58 262.67 Q2120.94 263.897 2123.23 264.522 Q2125.52 265.124 2127.77 265.124 Q2130.78 265.124 2132.4 264.106 Q2134.02 263.064 2134.02 261.189 Q2134.02 259.453 2132.84 258.527 Q2131.68 257.601 2127.72 256.744 L2126.24 256.397 Q2122.28 255.564 2120.52 253.851 Q2118.76 252.115 2118.76 249.106 Q2118.76 245.448 2121.35 243.458 Q2123.95 241.467 2128.72 241.467 Q2131.08 241.467 2133.16 241.814 Q2135.24 242.161 2137 242.856 Z\" fill=\"#000000\" fill-rule=\"evenodd\" fill-opacity=\"1\" /><path clip-path=\"url(#clip470)\" d=\"M2145.17 242.092 L2149.43 242.092 L2149.43 268.018 L2145.17 268.018 L2145.17 242.092 M2145.17 231.999 L2149.43 231.999 L2149.43 237.393 L2145.17 237.393 L2145.17 231.999 Z\" fill=\"#000000\" fill-rule=\"evenodd\" fill-opacity=\"1\" /><path clip-path=\"url(#clip470)\" d=\"M2171.47 231.999 L2171.47 235.541 L2167.4 235.541 Q2165.1 235.541 2164.2 236.467 Q2163.32 237.393 2163.32 239.8 L2163.32 242.092 L2170.34 242.092 L2170.34 245.402 L2163.32 245.402 L2163.32 268.018 L2159.04 268.018 L2159.04 245.402 L2154.97 245.402 L2154.97 242.092 L2159.04 242.092 L2159.04 240.286 Q2159.04 235.958 2161.05 233.99 Q2163.07 231.999 2167.44 231.999 L2171.47 231.999 Z\" fill=\"#000000\" fill-rule=\"evenodd\" fill-opacity=\"1\" /><path clip-path=\"url(#clip470)\" d=\"M2175.03 242.092 L2179.29 242.092 L2179.29 268.018 L2175.03 268.018 L2175.03 242.092 M2175.03 231.999 L2179.29 231.999 L2179.29 237.393 L2175.03 237.393 L2175.03 231.999 Z\" fill=\"#000000\" fill-rule=\"evenodd\" fill-opacity=\"1\" /><path clip-path=\"url(#clip470)\" d=\"M2210.38 253.99 L2210.38 256.073 L2190.8 256.073 Q2191.08 260.471 2193.44 262.786 Q2195.82 265.078 2200.06 265.078 Q2202.51 265.078 2204.8 264.476 Q2207.12 263.874 2209.39 262.67 L2209.39 266.698 Q2207.1 267.67 2204.69 268.18 Q2202.28 268.689 2199.8 268.689 Q2193.6 268.689 2189.97 265.078 Q2186.35 261.467 2186.35 255.309 Q2186.35 248.944 2189.78 245.217 Q2193.23 241.467 2199.06 241.467 Q2204.29 241.467 2207.33 244.846 Q2210.38 248.203 2210.38 253.99 M2206.12 252.74 Q2206.08 249.245 2204.16 247.161 Q2202.26 245.078 2199.11 245.078 Q2195.54 245.078 2193.39 247.092 Q2191.26 249.106 2190.94 252.763 L2206.12 252.74 Z\" fill=\"#000000\" fill-rule=\"evenodd\" fill-opacity=\"1\" /><path clip-path=\"url(#clip470)\" d=\"M2232.4 246.073 Q2231.68 245.657 2230.82 245.471 Q2229.99 245.263 2228.97 245.263 Q2225.36 245.263 2223.41 247.624 Q2221.49 249.962 2221.49 254.36 L2221.49 268.018 L2217.21 268.018 L2217.21 242.092 L2221.49 242.092 L2221.49 246.12 Q2222.84 243.758 2224.99 242.624 Q2227.14 241.467 2230.22 241.467 Q2230.66 241.467 2231.19 241.536 Q2231.72 241.583 2232.37 241.698 L2232.4 246.073 Z\" fill=\"#000000\" fill-rule=\"evenodd\" fill-opacity=\"1\" /><polyline clip-path=\"url(#clip470)\" style=\"stroke:#c271d2; stroke-linecap:butt; stroke-linejoin:round; stroke-width:4; stroke-opacity:1; fill:none\" points=\"\n",
       "  1482,302.578 1626.43,302.578 \n",
       "  \"/>\n",
       "<path clip-path=\"url(#clip470)\" d=\"M1650.5 285.298 L1655.18 285.298 L1655.18 315.922 L1672.01 315.922 L1672.01 319.858 L1650.5 319.858 L1650.5 285.298 Z\" fill=\"#000000\" fill-rule=\"evenodd\" fill-opacity=\"1\" /><path clip-path=\"url(#clip470)\" d=\"M1685.94 296.918 Q1682.51 296.918 1680.52 299.603 Q1678.53 302.265 1678.53 306.918 Q1678.53 311.571 1680.5 314.256 Q1682.49 316.918 1685.94 316.918 Q1689.34 316.918 1691.33 314.233 Q1693.32 311.547 1693.32 306.918 Q1693.32 302.311 1691.33 299.626 Q1689.34 296.918 1685.94 296.918 M1685.94 293.307 Q1691.5 293.307 1694.67 296.918 Q1697.84 300.529 1697.84 306.918 Q1697.84 313.284 1694.67 316.918 Q1691.5 320.529 1685.94 320.529 Q1680.36 320.529 1677.19 316.918 Q1674.04 313.284 1674.04 306.918 Q1674.04 300.529 1677.19 296.918 Q1680.36 293.307 1685.94 293.307 Z\" fill=\"#000000\" fill-rule=\"evenodd\" fill-opacity=\"1\" /><path clip-path=\"url(#clip470)\" d=\"M1721.96 306.594 Q1721.96 301.964 1720.04 299.418 Q1718.14 296.872 1714.69 296.872 Q1711.26 296.872 1709.34 299.418 Q1707.44 301.964 1707.44 306.594 Q1707.44 311.2 1709.34 313.746 Q1711.26 316.293 1714.69 316.293 Q1718.14 316.293 1720.04 313.746 Q1721.96 311.2 1721.96 306.594 M1726.22 316.64 Q1726.22 323.26 1723.28 326.478 Q1720.34 329.719 1714.27 329.719 Q1712.03 329.719 1710.04 329.371 Q1708.05 329.047 1706.17 328.353 L1706.17 324.209 Q1708.05 325.228 1709.88 325.714 Q1711.7 326.2 1713.6 326.2 Q1717.79 326.2 1719.88 324.001 Q1721.96 321.825 1721.96 317.404 L1721.96 315.297 Q1720.64 317.589 1718.58 318.723 Q1716.52 319.858 1713.65 319.858 Q1708.88 319.858 1705.96 316.223 Q1703.05 312.589 1703.05 306.594 Q1703.05 300.575 1705.96 296.941 Q1708.88 293.307 1713.65 293.307 Q1716.52 293.307 1718.58 294.441 Q1720.64 295.575 1721.96 297.867 L1721.96 293.932 L1726.22 293.932 L1726.22 316.64 Z\" fill=\"#000000\" fill-rule=\"evenodd\" fill-opacity=\"1\" /><path clip-path=\"url(#clip470)\" d=\"M1734.99 293.932 L1739.25 293.932 L1739.25 319.858 L1734.99 319.858 L1734.99 293.932 M1734.99 283.839 L1739.25 283.839 L1739.25 289.233 L1734.99 289.233 L1734.99 283.839 Z\" fill=\"#000000\" fill-rule=\"evenodd\" fill-opacity=\"1\" /><path clip-path=\"url(#clip470)\" d=\"M1764.69 294.696 L1764.69 298.723 Q1762.88 297.797 1760.94 297.335 Q1759 296.872 1756.91 296.872 Q1753.74 296.872 1752.14 297.844 Q1750.57 298.816 1750.57 300.76 Q1750.57 302.242 1751.7 303.098 Q1752.84 303.932 1756.26 304.696 L1757.72 305.02 Q1762.26 305.992 1764.16 307.774 Q1766.08 309.534 1766.08 312.705 Q1766.08 316.316 1763.21 318.422 Q1760.36 320.529 1755.36 320.529 Q1753.28 320.529 1751.01 320.112 Q1748.76 319.719 1746.26 318.908 L1746.26 314.51 Q1748.63 315.737 1750.92 316.362 Q1753.21 316.964 1755.45 316.964 Q1758.46 316.964 1760.08 315.946 Q1761.7 314.904 1761.7 313.029 Q1761.7 311.293 1760.52 310.367 Q1759.37 309.441 1755.41 308.584 L1753.93 308.237 Q1749.97 307.404 1748.21 305.691 Q1746.45 303.955 1746.45 300.946 Q1746.45 297.288 1749.04 295.298 Q1751.63 293.307 1756.4 293.307 Q1758.76 293.307 1760.85 293.654 Q1762.93 294.001 1764.69 294.696 Z\" fill=\"#000000\" fill-rule=\"evenodd\" fill-opacity=\"1\" /><path clip-path=\"url(#clip470)\" d=\"M1777.07 286.571 L1777.07 293.932 L1785.85 293.932 L1785.85 297.242 L1777.07 297.242 L1777.07 311.316 Q1777.07 314.487 1777.93 315.39 Q1778.81 316.293 1781.47 316.293 L1785.85 316.293 L1785.85 319.858 L1781.47 319.858 Q1776.54 319.858 1774.67 318.029 Q1772.79 316.177 1772.79 311.316 L1772.79 297.242 L1769.67 297.242 L1769.67 293.932 L1772.79 293.932 L1772.79 286.571 L1777.07 286.571 Z\" fill=\"#000000\" fill-rule=\"evenodd\" fill-opacity=\"1\" /><path clip-path=\"url(#clip470)\" d=\"M1791.45 293.932 L1795.71 293.932 L1795.71 319.858 L1791.45 319.858 L1791.45 293.932 M1791.45 283.839 L1795.71 283.839 L1795.71 289.233 L1791.45 289.233 L1791.45 283.839 Z\" fill=\"#000000\" fill-rule=\"evenodd\" fill-opacity=\"1\" /><path clip-path=\"url(#clip470)\" d=\"M1823.28 294.927 L1823.28 298.909 Q1821.47 297.913 1819.64 297.427 Q1817.84 296.918 1815.99 296.918 Q1811.84 296.918 1809.55 299.557 Q1807.26 302.172 1807.26 306.918 Q1807.26 311.663 1809.55 314.302 Q1811.84 316.918 1815.99 316.918 Q1817.84 316.918 1819.64 316.432 Q1821.47 315.922 1823.28 314.927 L1823.28 318.862 Q1821.5 319.696 1819.57 320.112 Q1817.68 320.529 1815.52 320.529 Q1809.67 320.529 1806.22 316.848 Q1802.77 313.168 1802.77 306.918 Q1802.77 300.575 1806.24 296.941 Q1809.74 293.307 1815.8 293.307 Q1817.77 293.307 1819.64 293.723 Q1821.52 294.117 1823.28 294.927 Z\" fill=\"#000000\" fill-rule=\"evenodd\" fill-opacity=\"1\" /><path clip-path=\"url(#clip470)\" d=\"M1862.33 303.654 Q1863.83 304.163 1865.24 305.83 Q1866.68 307.497 1868.12 310.413 L1872.86 319.858 L1867.84 319.858 L1863.42 310.992 Q1861.7 307.52 1860.08 306.385 Q1858.49 305.251 1855.71 305.251 L1850.62 305.251 L1850.62 319.858 L1845.94 319.858 L1845.94 285.298 L1856.5 285.298 Q1862.42 285.298 1865.34 287.774 Q1868.25 290.251 1868.25 295.251 Q1868.25 298.515 1866.73 300.668 Q1865.22 302.821 1862.33 303.654 M1850.62 289.14 L1850.62 301.409 L1856.5 301.409 Q1859.87 301.409 1861.59 299.858 Q1863.32 298.284 1863.32 295.251 Q1863.32 292.219 1861.59 290.691 Q1859.87 289.14 1856.5 289.14 L1850.62 289.14 Z\" fill=\"#000000\" fill-rule=\"evenodd\" fill-opacity=\"1\" /><path clip-path=\"url(#clip470)\" d=\"M1898.74 305.83 L1898.74 307.913 L1879.16 307.913 Q1879.43 312.311 1881.8 314.626 Q1884.18 316.918 1888.42 316.918 Q1890.87 316.918 1893.16 316.316 Q1895.48 315.714 1897.74 314.51 L1897.74 318.538 Q1895.45 319.51 1893.05 320.02 Q1890.64 320.529 1888.16 320.529 Q1881.96 320.529 1878.32 316.918 Q1874.71 313.307 1874.71 307.149 Q1874.71 300.784 1878.14 297.057 Q1881.59 293.307 1887.42 293.307 Q1892.65 293.307 1895.68 296.686 Q1898.74 300.043 1898.74 305.83 M1894.48 304.58 Q1894.43 301.085 1892.51 299.001 Q1890.62 296.918 1887.47 296.918 Q1883.9 296.918 1881.75 298.932 Q1879.62 300.946 1879.3 304.603 L1894.48 304.58 Z\" fill=\"#000000\" fill-rule=\"evenodd\" fill-opacity=\"1\" /><path clip-path=\"url(#clip470)\" d=\"M1922.79 306.594 Q1922.79 301.964 1920.87 299.418 Q1918.97 296.872 1915.52 296.872 Q1912.1 296.872 1910.18 299.418 Q1908.28 301.964 1908.28 306.594 Q1908.28 311.2 1910.18 313.746 Q1912.1 316.293 1915.52 316.293 Q1918.97 316.293 1920.87 313.746 Q1922.79 311.2 1922.79 306.594 M1927.05 316.64 Q1927.05 323.26 1924.11 326.478 Q1921.17 329.719 1915.11 329.719 Q1912.86 329.719 1910.87 329.371 Q1908.88 329.047 1907 328.353 L1907 324.209 Q1908.88 325.228 1910.71 325.714 Q1912.54 326.2 1914.43 326.2 Q1918.62 326.2 1920.71 324.001 Q1922.79 321.825 1922.79 317.404 L1922.79 315.297 Q1921.47 317.589 1919.41 318.723 Q1917.35 319.858 1914.48 319.858 Q1909.71 319.858 1906.8 316.223 Q1903.88 312.589 1903.88 306.594 Q1903.88 300.575 1906.8 296.941 Q1909.71 293.307 1914.48 293.307 Q1917.35 293.307 1919.41 294.441 Q1921.47 295.575 1922.79 297.867 L1922.79 293.932 L1927.05 293.932 L1927.05 316.64 Z\" fill=\"#000000\" fill-rule=\"evenodd\" fill-opacity=\"1\" /><path clip-path=\"url(#clip470)\" d=\"M1950.85 297.913 Q1950.13 297.497 1949.27 297.311 Q1948.44 297.103 1947.42 297.103 Q1943.81 297.103 1941.86 299.464 Q1939.94 301.802 1939.94 306.2 L1939.94 319.858 L1935.66 319.858 L1935.66 293.932 L1939.94 293.932 L1939.94 297.96 Q1941.29 295.598 1943.44 294.464 Q1945.59 293.307 1948.67 293.307 Q1949.11 293.307 1949.64 293.376 Q1950.18 293.423 1950.82 293.538 L1950.85 297.913 Z\" fill=\"#000000\" fill-rule=\"evenodd\" fill-opacity=\"1\" /><path clip-path=\"url(#clip470)\" d=\"M1976.45 305.83 L1976.45 307.913 L1956.86 307.913 Q1957.14 312.311 1959.5 314.626 Q1961.89 316.918 1966.12 316.918 Q1968.58 316.918 1970.87 316.316 Q1973.18 315.714 1975.45 314.51 L1975.45 318.538 Q1973.16 319.51 1970.75 320.02 Q1968.35 320.529 1965.87 320.529 Q1959.67 320.529 1956.03 316.918 Q1952.42 313.307 1952.42 307.149 Q1952.42 300.784 1955.85 297.057 Q1959.3 293.307 1965.13 293.307 Q1970.36 293.307 1973.39 296.686 Q1976.45 300.043 1976.45 305.83 M1972.19 304.58 Q1972.14 301.085 1970.22 299.001 Q1968.32 296.918 1965.18 296.918 Q1961.61 296.918 1959.46 298.932 Q1957.33 300.946 1957 304.603 L1972.19 304.58 Z\" fill=\"#000000\" fill-rule=\"evenodd\" fill-opacity=\"1\" /><path clip-path=\"url(#clip470)\" d=\"M1999.97 294.696 L1999.97 298.723 Q1998.16 297.797 1996.22 297.335 Q1994.27 296.872 1992.19 296.872 Q1989.02 296.872 1987.42 297.844 Q1985.85 298.816 1985.85 300.76 Q1985.85 302.242 1986.98 303.098 Q1988.11 303.932 1991.54 304.696 L1993 305.02 Q1997.54 305.992 1999.43 307.774 Q2001.36 309.534 2001.36 312.705 Q2001.36 316.316 1998.49 318.422 Q1995.64 320.529 1990.64 320.529 Q1988.55 320.529 1986.29 320.112 Q1984.04 319.719 1981.54 318.908 L1981.54 314.51 Q1983.9 315.737 1986.19 316.362 Q1988.49 316.964 1990.73 316.964 Q1993.74 316.964 1995.36 315.946 Q1996.98 314.904 1996.98 313.029 Q1996.98 311.293 1995.8 310.367 Q1994.64 309.441 1990.68 308.584 L1989.2 308.237 Q1985.24 307.404 1983.49 305.691 Q1981.73 303.955 1981.73 300.946 Q1981.73 297.288 1984.32 295.298 Q1986.91 293.307 1991.68 293.307 Q1994.04 293.307 1996.12 293.654 Q1998.21 294.001 1999.97 294.696 Z\" fill=\"#000000\" fill-rule=\"evenodd\" fill-opacity=\"1\" /><path clip-path=\"url(#clip470)\" d=\"M2024.67 294.696 L2024.67 298.723 Q2022.86 297.797 2020.92 297.335 Q2018.97 296.872 2016.89 296.872 Q2013.72 296.872 2012.12 297.844 Q2010.55 298.816 2010.55 300.76 Q2010.55 302.242 2011.68 303.098 Q2012.81 303.932 2016.24 304.696 L2017.7 305.02 Q2022.23 305.992 2024.13 307.774 Q2026.05 309.534 2026.05 312.705 Q2026.05 316.316 2023.18 318.422 Q2020.34 320.529 2015.34 320.529 Q2013.25 320.529 2010.98 320.112 Q2008.74 319.719 2006.24 318.908 L2006.24 314.51 Q2008.6 315.737 2010.89 316.362 Q2013.18 316.964 2015.43 316.964 Q2018.44 316.964 2020.06 315.946 Q2021.68 314.904 2021.68 313.029 Q2021.68 311.293 2020.5 310.367 Q2019.34 309.441 2015.38 308.584 L2013.9 308.237 Q2009.94 307.404 2008.18 305.691 Q2006.42 303.955 2006.42 300.946 Q2006.42 297.288 2009.02 295.298 Q2011.61 293.307 2016.38 293.307 Q2018.74 293.307 2020.82 293.654 Q2022.91 294.001 2024.67 294.696 Z\" fill=\"#000000\" fill-rule=\"evenodd\" fill-opacity=\"1\" /><path clip-path=\"url(#clip470)\" d=\"M2032.84 293.932 L2037.1 293.932 L2037.1 319.858 L2032.84 319.858 L2032.84 293.932 M2032.84 283.839 L2037.1 283.839 L2037.1 289.233 L2032.84 289.233 L2032.84 283.839 Z\" fill=\"#000000\" fill-rule=\"evenodd\" fill-opacity=\"1\" /><path clip-path=\"url(#clip470)\" d=\"M2056.05 296.918 Q2052.63 296.918 2050.64 299.603 Q2048.65 302.265 2048.65 306.918 Q2048.65 311.571 2050.61 314.256 Q2052.61 316.918 2056.05 316.918 Q2059.46 316.918 2061.45 314.233 Q2063.44 311.547 2063.44 306.918 Q2063.44 302.311 2061.45 299.626 Q2059.46 296.918 2056.05 296.918 M2056.05 293.307 Q2061.61 293.307 2064.78 296.918 Q2067.95 300.529 2067.95 306.918 Q2067.95 313.284 2064.78 316.918 Q2061.61 320.529 2056.05 320.529 Q2050.48 320.529 2047.3 316.918 Q2044.16 313.284 2044.16 306.918 Q2044.16 300.529 2047.3 296.918 Q2050.48 293.307 2056.05 293.307 Z\" fill=\"#000000\" fill-rule=\"evenodd\" fill-opacity=\"1\" /><path clip-path=\"url(#clip470)\" d=\"M2096.56 304.209 L2096.56 319.858 L2092.3 319.858 L2092.3 304.348 Q2092.3 300.668 2090.87 298.839 Q2089.43 297.01 2086.56 297.01 Q2083.11 297.01 2081.12 299.21 Q2079.13 301.409 2079.13 305.205 L2079.13 319.858 L2074.85 319.858 L2074.85 293.932 L2079.13 293.932 L2079.13 297.96 Q2080.66 295.622 2082.72 294.464 Q2084.8 293.307 2087.51 293.307 Q2091.98 293.307 2094.27 296.085 Q2096.56 298.839 2096.56 304.209 Z\" fill=\"#000000\" fill-rule=\"evenodd\" fill-opacity=\"1\" /><polyline clip-path=\"url(#clip470)\" style=\"stroke:#ac8d18; stroke-linecap:butt; stroke-linejoin:round; stroke-width:4; stroke-opacity:1; fill:none\" points=\"\n",
       "  1482,354.418 1626.43,354.418 \n",
       "  \"/>\n",
       "<path clip-path=\"url(#clip470)\" d=\"M1655.18 355.193 L1655.18 367.855 L1662.68 367.855 Q1666.45 367.855 1668.26 366.304 Q1670.08 364.73 1670.08 361.512 Q1670.08 358.272 1668.26 356.744 Q1666.45 355.193 1662.68 355.193 L1655.18 355.193 M1655.18 340.98 L1655.18 351.397 L1662.1 351.397 Q1665.52 351.397 1667.19 350.124 Q1668.88 348.827 1668.88 346.188 Q1668.88 343.573 1667.19 342.276 Q1665.52 340.98 1662.1 340.98 L1655.18 340.98 M1650.5 337.138 L1662.45 337.138 Q1667.79 337.138 1670.69 339.36 Q1673.58 341.582 1673.58 345.679 Q1673.58 348.85 1672.1 350.725 Q1670.62 352.6 1667.75 353.063 Q1671.2 353.804 1673.09 356.165 Q1675.01 358.503 1675.01 362.022 Q1675.01 366.651 1671.87 369.174 Q1668.72 371.698 1662.91 371.698 L1650.5 371.698 L1650.5 337.138 Z\" fill=\"#000000\" fill-rule=\"evenodd\" fill-opacity=\"1\" /><path clip-path=\"url(#clip470)\" d=\"M1694.62 358.665 Q1689.46 358.665 1687.47 359.846 Q1685.48 361.026 1685.48 363.874 Q1685.48 366.142 1686.96 367.485 Q1688.46 368.804 1691.03 368.804 Q1694.57 368.804 1696.7 366.304 Q1698.86 363.781 1698.86 359.614 L1698.86 358.665 L1694.62 358.665 M1703.12 356.906 L1703.12 371.698 L1698.86 371.698 L1698.86 367.762 Q1697.4 370.123 1695.22 371.258 Q1693.05 372.369 1689.9 372.369 Q1685.92 372.369 1683.56 370.147 Q1681.22 367.901 1681.22 364.151 Q1681.22 359.776 1684.13 357.554 Q1687.07 355.332 1692.88 355.332 L1698.86 355.332 L1698.86 354.915 Q1698.86 351.975 1696.91 350.378 Q1694.99 348.758 1691.5 348.758 Q1689.27 348.758 1687.17 349.29 Q1685.06 349.823 1683.12 350.887 L1683.12 346.952 Q1685.45 346.05 1687.65 345.61 Q1689.85 345.147 1691.94 345.147 Q1697.56 345.147 1700.34 348.063 Q1703.12 350.98 1703.12 356.906 Z\" fill=\"#000000\" fill-rule=\"evenodd\" fill-opacity=\"1\" /><path clip-path=\"url(#clip470)\" d=\"M1728.42 346.536 L1728.42 350.563 Q1726.61 349.637 1724.67 349.175 Q1722.72 348.712 1720.64 348.712 Q1717.47 348.712 1715.87 349.684 Q1714.3 350.656 1714.3 352.6 Q1714.3 354.082 1715.43 354.938 Q1716.57 355.772 1719.99 356.536 L1721.45 356.86 Q1725.99 357.832 1727.88 359.614 Q1729.81 361.374 1729.81 364.545 Q1729.81 368.156 1726.94 370.262 Q1724.09 372.369 1719.09 372.369 Q1717.01 372.369 1714.74 371.952 Q1712.49 371.559 1709.99 370.748 L1709.99 366.35 Q1712.35 367.577 1714.64 368.202 Q1716.94 368.804 1719.18 368.804 Q1722.19 368.804 1723.81 367.786 Q1725.43 366.744 1725.43 364.869 Q1725.43 363.133 1724.25 362.207 Q1723.09 361.281 1719.13 360.424 L1717.65 360.077 Q1713.69 359.244 1711.94 357.531 Q1710.18 355.795 1710.18 352.786 Q1710.18 349.128 1712.77 347.138 Q1715.36 345.147 1720.13 345.147 Q1722.49 345.147 1724.57 345.494 Q1726.66 345.841 1728.42 346.536 Z\" fill=\"#000000\" fill-rule=\"evenodd\" fill-opacity=\"1\" /><path clip-path=\"url(#clip470)\" d=\"M1758.76 357.67 L1758.76 359.753 L1739.18 359.753 Q1739.46 364.151 1741.82 366.466 Q1744.2 368.758 1748.44 368.758 Q1750.89 368.758 1753.19 368.156 Q1755.5 367.554 1757.77 366.35 L1757.77 370.378 Q1755.48 371.35 1753.07 371.86 Q1750.66 372.369 1748.19 372.369 Q1741.98 372.369 1738.35 368.758 Q1734.74 365.147 1734.74 358.989 Q1734.74 352.624 1738.16 348.897 Q1741.61 345.147 1747.44 345.147 Q1752.68 345.147 1755.71 348.526 Q1758.76 351.883 1758.76 357.67 M1754.5 356.42 Q1754.46 352.925 1752.54 350.841 Q1750.64 348.758 1747.49 348.758 Q1743.93 348.758 1741.77 350.772 Q1739.64 352.786 1739.32 356.443 L1754.5 356.42 Z\" fill=\"#000000\" fill-rule=\"evenodd\" fill-opacity=\"1\" /><path clip-path=\"url(#clip470)\" d=\"M1765.75 335.679 L1770.01 335.679 L1770.01 371.698 L1765.75 371.698 L1765.75 335.679 Z\" fill=\"#000000\" fill-rule=\"evenodd\" fill-opacity=\"1\" /><path clip-path=\"url(#clip470)\" d=\"M1778.93 345.772 L1783.19 345.772 L1783.19 371.698 L1778.93 371.698 L1778.93 345.772 M1778.93 335.679 L1783.19 335.679 L1783.19 341.073 L1778.93 341.073 L1778.93 335.679 Z\" fill=\"#000000\" fill-rule=\"evenodd\" fill-opacity=\"1\" /><path clip-path=\"url(#clip470)\" d=\"M1813.65 356.049 L1813.65 371.698 L1809.39 371.698 L1809.39 356.188 Q1809.39 352.508 1807.95 350.679 Q1806.52 348.85 1803.65 348.85 Q1800.2 348.85 1798.21 351.05 Q1796.22 353.249 1796.22 357.045 L1796.22 371.698 L1791.94 371.698 L1791.94 345.772 L1796.22 345.772 L1796.22 349.8 Q1797.75 347.462 1799.81 346.304 Q1801.89 345.147 1804.6 345.147 Q1809.06 345.147 1811.36 347.925 Q1813.65 350.679 1813.65 356.049 Z\" fill=\"#000000\" fill-rule=\"evenodd\" fill-opacity=\"1\" /><path clip-path=\"url(#clip470)\" d=\"M1844.32 357.67 L1844.32 359.753 L1824.74 359.753 Q1825.01 364.151 1827.37 366.466 Q1829.76 368.758 1834 368.758 Q1836.45 368.758 1838.74 368.156 Q1841.06 367.554 1843.32 366.35 L1843.32 370.378 Q1841.03 371.35 1838.62 371.86 Q1836.22 372.369 1833.74 372.369 Q1827.54 372.369 1823.9 368.758 Q1820.29 365.147 1820.29 358.989 Q1820.29 352.624 1823.72 348.897 Q1827.17 345.147 1833 345.147 Q1838.23 345.147 1841.26 348.526 Q1844.32 351.883 1844.32 357.67 M1840.06 356.42 Q1840.01 352.925 1838.09 350.841 Q1836.19 348.758 1833.05 348.758 Q1829.48 348.758 1827.33 350.772 Q1825.2 352.786 1824.87 356.443 L1840.06 356.42 Z\" fill=\"#000000\" fill-rule=\"evenodd\" fill-opacity=\"1\" /></svg>\n"
      ]
     },
     "execution_count": 26,
     "metadata": {},
     "output_type": "execute_result"
    }
   ],
   "source": [
    "# read tpr and fpr of other models\n",
    "roc_rf = DataFrame(CSV.File(\"./../ROC_RF.csv\"))\n",
    "roc_svc = DataFrame(CSV.File(\"./../roc_values_SVC.csv\"))\n",
    "roc_log_reg = DataFrame(CSV.File(\"./../ROC_Log Reg.csv\"))\n",
    "# draw ROC\n",
    "thresholds = 0:0.01:1\n",
    "# compute tprs and fprs for thresholds\n",
    "metrics = [confusion_matrix(predict(val_x, threshold), val_y, draw=false) for threshold in thresholds]\n",
    "tprs = [tp/(tp+fn) for (tp, fp, fn, tn) in metrics]\n",
    "fprs = [fp/(fp+tn) for (tp, fp, fn, tn) in metrics]\n",
    "# plot fpr vs tpr for neural network, random forest and svc\n",
    "plot(fprs, tprs, label=\"Neural Network\")\n",
    "plot!(roc_rf.FPR, roc_rf.TPR, label=\"Random Forest\")\n",
    "plot!(roc_svc.FPR, roc_svc.TPR, label=\"Support Vector Classifier\")\n",
    "plot!(roc_log_reg.FPR, roc_log_reg.TPR, label=\"Logistic Regression\")\n",
    "# plot baseline\n",
    "plot!([0,1],[0,1], label=\"Baseline\")"
   ]
  },
  {
   "cell_type": "markdown",
   "id": "48d79c6d-e492-4519-8280-7206cf6bce73",
   "metadata": {
    "tags": []
   },
   "source": [
    "# Prediction"
   ]
  },
  {
   "cell_type": "code",
   "execution_count": 23,
   "id": "f9e7bd6e-ba20-4fce-9fad-bc07510571d8",
   "metadata": {},
   "outputs": [],
   "source": [
    "# read train data\n",
    "test_raw = DataFrame(CSV.File(\"test.csv\"))\n",
    "# transform and join with empty copy of train_x to mimic feature order\n",
    "test = vcat(similar(train_x,0), pipeline(test_raw, SHIFT), cols=:union)\n",
    "# fill missing values\n",
    "replace!.(eachcol(test), missing=>0)\n",
    "nothing"
   ]
  },
  {
   "cell_type": "code",
   "execution_count": 24,
   "id": "f32f66c7-19db-4000-b421-a608a0ab361f",
   "metadata": {},
   "outputs": [
    {
     "data": {
      "text/plain": [
       "6319-element Vector{Float64}:\n",
       " -0.0\n",
       " -0.0\n",
       " -0.0\n",
       " -0.0\n",
       " -0.0\n",
       " -0.0\n",
       " -0.0\n",
       " -0.0\n",
       " -0.0\n",
       " -0.0\n",
       " -0.0\n",
       " -0.0\n",
       " -0.0\n",
       "  ⋮\n",
       "  1.0\n",
       "  1.0\n",
       "  1.0\n",
       "  1.0\n",
       "  1.0\n",
       "  1.0\n",
       "  1.0\n",
       "  1.0\n",
       "  1.0\n",
       "  1.0\n",
       "  1.0\n",
       "  1.0"
      ]
     },
     "execution_count": 24,
     "metadata": {},
     "output_type": "execute_result"
    }
   ],
   "source": [
    "test_raw[!, \"Anwesenheit\"] = predict(test, 0.6)"
   ]
  },
  {
   "cell_type": "code",
   "execution_count": null,
   "id": "b8eeed5c-44a5-4aae-977d-03dec3f1988b",
   "metadata": {},
   "outputs": [],
   "source": [
    "# write to disk\n",
    "CSV.write(\"nn_output.csv\", test_raw)"
   ]
  },
  {
   "cell_type": "code",
   "execution_count": 25,
   "id": "8410c5f6-c617-4c3f-bce7-8bec887bf6ab",
   "metadata": {},
   "outputs": [
    {
     "data": {
      "text/html": [
       "<div class=\"data-frame\"><p>24 rows × 2 columns</p><table class=\"data-frame\"><thead><tr><th></th><th>Stunde</th><th>Anwesenheit_sum</th></tr><tr><th></th><th title=\"Int64\">Int64</th><th title=\"Float64\">Float64</th></tr></thead><tbody><tr><th>1</th><td>0</td><td>10.0</td></tr><tr><th>2</th><td>1</td><td>24.0</td></tr><tr><th>3</th><td>2</td><td>12.0</td></tr><tr><th>4</th><td>3</td><td>6.0</td></tr><tr><th>5</th><td>4</td><td>31.0</td></tr><tr><th>6</th><td>5</td><td>53.0</td></tr><tr><th>7</th><td>6</td><td>33.0</td></tr><tr><th>8</th><td>7</td><td>64.0</td></tr><tr><th>9</th><td>8</td><td>115.0</td></tr><tr><th>10</th><td>9</td><td>140.0</td></tr><tr><th>11</th><td>10</td><td>120.0</td></tr><tr><th>12</th><td>11</td><td>111.0</td></tr><tr><th>13</th><td>12</td><td>120.0</td></tr><tr><th>14</th><td>13</td><td>54.0</td></tr><tr><th>15</th><td>14</td><td>120.0</td></tr><tr><th>16</th><td>15</td><td>113.0</td></tr><tr><th>17</th><td>16</td><td>120.0</td></tr><tr><th>18</th><td>17</td><td>110.0</td></tr><tr><th>19</th><td>18</td><td>34.0</td></tr><tr><th>20</th><td>19</td><td>24.0</td></tr><tr><th>21</th><td>20</td><td>20.0</td></tr><tr><th>22</th><td>21</td><td>49.0</td></tr><tr><th>23</th><td>22</td><td>10.0</td></tr><tr><th>24</th><td>23</td><td>0.0</td></tr></tbody></table></div>"
      ],
      "text/latex": [
       "\\begin{tabular}{r|cc}\n",
       "\t& Stunde & Anwesenheit\\_sum\\\\\n",
       "\t\\hline\n",
       "\t& Int64 & Float64\\\\\n",
       "\t\\hline\n",
       "\t1 & 0 & 10.0 \\\\\n",
       "\t2 & 1 & 24.0 \\\\\n",
       "\t3 & 2 & 12.0 \\\\\n",
       "\t4 & 3 & 6.0 \\\\\n",
       "\t5 & 4 & 31.0 \\\\\n",
       "\t6 & 5 & 53.0 \\\\\n",
       "\t7 & 6 & 33.0 \\\\\n",
       "\t8 & 7 & 64.0 \\\\\n",
       "\t9 & 8 & 115.0 \\\\\n",
       "\t10 & 9 & 140.0 \\\\\n",
       "\t11 & 10 & 120.0 \\\\\n",
       "\t12 & 11 & 111.0 \\\\\n",
       "\t13 & 12 & 120.0 \\\\\n",
       "\t14 & 13 & 54.0 \\\\\n",
       "\t15 & 14 & 120.0 \\\\\n",
       "\t16 & 15 & 113.0 \\\\\n",
       "\t17 & 16 & 120.0 \\\\\n",
       "\t18 & 17 & 110.0 \\\\\n",
       "\t19 & 18 & 34.0 \\\\\n",
       "\t20 & 19 & 24.0 \\\\\n",
       "\t21 & 20 & 20.0 \\\\\n",
       "\t22 & 21 & 49.0 \\\\\n",
       "\t23 & 22 & 10.0 \\\\\n",
       "\t24 & 23 & 0.0 \\\\\n",
       "\\end{tabular}\n"
      ],
      "text/plain": [
       "\u001b[1m24×2 DataFrame\u001b[0m\n",
       "\u001b[1m Row \u001b[0m│\u001b[1m Stunde \u001b[0m\u001b[1m Anwesenheit_sum \u001b[0m\n",
       "\u001b[1m     \u001b[0m│\u001b[90m Int64  \u001b[0m\u001b[90m Float64         \u001b[0m\n",
       "─────┼─────────────────────────\n",
       "   1 │      0             10.0\n",
       "   2 │      1             24.0\n",
       "   3 │      2             12.0\n",
       "   4 │      3              6.0\n",
       "   5 │      4             31.0\n",
       "   6 │      5             53.0\n",
       "   7 │      6             33.0\n",
       "   8 │      7             64.0\n",
       "   9 │      8            115.0\n",
       "  10 │      9            140.0\n",
       "  11 │     10            120.0\n",
       "  ⋮  │   ⋮            ⋮\n",
       "  15 │     14            120.0\n",
       "  16 │     15            113.0\n",
       "  17 │     16            120.0\n",
       "  18 │     17            110.0\n",
       "  19 │     18             34.0\n",
       "  20 │     19             24.0\n",
       "  21 │     20             20.0\n",
       "  22 │     21             49.0\n",
       "  23 │     22             10.0\n",
       "  24 │     23              0.0\n",
       "\u001b[36m                 3 rows omitted\u001b[0m"
      ]
     },
     "execution_count": 25,
     "metadata": {},
     "output_type": "execute_result"
    }
   ],
   "source": [
    "# split date\n",
    "select!(test_raw, :Datum => ByRow(x->round(DateTime(x, \"yyyy-mm-dd HH:MM:SS\"), Dates.Minute)) => :Datum, :)\n",
    "select!(test_raw, :Datum => ByRow(x -> split_dt(x)) => [:Wochentag, :Stunde, :Minute] , Not(:Datum))\n",
    "# display grouped by weekday\n",
    "gdf = groupby(test_raw, [:Stunde])\n",
    "combine(gdf, :Anwesenheit => sum)[:, :]"
   ]
  },
  {
   "cell_type": "code",
   "execution_count": null,
   "id": "74b154e5-aa2a-4726-9075-acf6ab877bb8",
   "metadata": {},
   "outputs": [],
   "source": []
  }
 ],
 "metadata": {
  "kernelspec": {
   "display_name": "Julia 1.6.3",
   "language": "julia",
   "name": "julia-1.6"
  },
  "language_info": {
   "file_extension": ".jl",
   "mimetype": "application/julia",
   "name": "julia",
   "version": "1.6.3"
  }
 },
 "nbformat": 4,
 "nbformat_minor": 5
}
