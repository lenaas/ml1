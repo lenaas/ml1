{
 "cells": [
  {
   "cell_type": "markdown",
   "metadata": {},
   "source": [
    "# Klassifizierung von Wetterdaten"
   ]
  },
  {
   "cell_type": "code",
   "execution_count": 140,
   "metadata": {},
   "outputs": [],
   "source": [
    "import numpy as np\n",
    "import pandas as pd\n",
    "import seaborn as sns\n",
    "import datetime as dt\n",
    "from matplotlib import pyplot as plt\n",
    "\n",
    "from sklearn.impute import SimpleImputer\n",
    "from sklearn.preprocessing import OneHotEncoder\n",
    "from sklearn import datasets, linear_model, metrics\n",
    "from sklearn.linear_model import LogisticRegressionCV\n",
    "from sklearn.model_selection import train_test_split\n",
    "from sklearn.metrics import confusion_matrix, roc_curve\n",
    "\n",
    "raw = pd.read_csv('train.csv')\n",
    "test = pd.read_csv('test.csv')"
   ]
  },
  {
   "cell_type": "markdown",
   "metadata": {},
   "source": [
    "## 1) Data preperation\n",
    "### Verschaffen Sie sich einen Überblick (Wertebereich einzelner Features, mögliche Korrelationen, Ausreißer, fehlende Werte)"
   ]
  },
  {
   "cell_type": "code",
   "execution_count": 124,
   "metadata": {},
   "outputs": [
    {
     "data": {
      "text/html": [
       "<div>\n",
       "<style scoped>\n",
       "    .dataframe tbody tr th:only-of-type {\n",
       "        vertical-align: middle;\n",
       "    }\n",
       "\n",
       "    .dataframe tbody tr th {\n",
       "        vertical-align: top;\n",
       "    }\n",
       "\n",
       "    .dataframe thead th {\n",
       "        text-align: right;\n",
       "    }\n",
       "</style>\n",
       "<table border=\"1\" class=\"dataframe\">\n",
       "  <thead>\n",
       "    <tr style=\"text-align: right;\">\n",
       "      <th></th>\n",
       "      <th>index</th>\n",
       "      <th>Datum</th>\n",
       "      <th>Temperatur</th>\n",
       "      <th>Luftfeuchtigkeit</th>\n",
       "      <th>CO2</th>\n",
       "      <th>Wassergehalt</th>\n",
       "      <th>Anwesenheit</th>\n",
       "    </tr>\n",
       "  </thead>\n",
       "  <tbody>\n",
       "    <tr>\n",
       "      <th>0</th>\n",
       "      <td>1</td>\n",
       "      <td>2017-01-25 17:51:00</td>\n",
       "      <td>23.18</td>\n",
       "      <td>27.2720</td>\n",
       "      <td>721.25</td>\n",
       "      <td>0.004793</td>\n",
       "      <td>1</td>\n",
       "    </tr>\n",
       "    <tr>\n",
       "      <th>1</th>\n",
       "      <td>2</td>\n",
       "      <td>2017-01-25 17:51:59</td>\n",
       "      <td>23.15</td>\n",
       "      <td>27.2675</td>\n",
       "      <td>714.00</td>\n",
       "      <td>0.004783</td>\n",
       "      <td>1</td>\n",
       "    </tr>\n",
       "    <tr>\n",
       "      <th>2</th>\n",
       "      <td>3</td>\n",
       "      <td>2017-01-25 17:53:00</td>\n",
       "      <td>23.15</td>\n",
       "      <td>27.2450</td>\n",
       "      <td>713.50</td>\n",
       "      <td>0.004779</td>\n",
       "      <td>1</td>\n",
       "    </tr>\n",
       "  </tbody>\n",
       "</table>\n",
       "</div>"
      ],
      "text/plain": [
       "   index                Datum  Temperatur  Luftfeuchtigkeit     CO2  \\\n",
       "0      1  2017-01-25 17:51:00       23.18           27.2720  721.25   \n",
       "1      2  2017-01-25 17:51:59       23.15           27.2675  714.00   \n",
       "2      3  2017-01-25 17:53:00       23.15           27.2450  713.50   \n",
       "\n",
       "   Wassergehalt  Anwesenheit  \n",
       "0      0.004793            1  \n",
       "1      0.004783            1  \n",
       "2      0.004779            1  "
      ]
     },
     "execution_count": 124,
     "metadata": {},
     "output_type": "execute_result"
    }
   ],
   "source": [
    "raw.head(3)"
   ]
  },
  {
   "cell_type": "code",
   "execution_count": 125,
   "metadata": {},
   "outputs": [
    {
     "data": {
      "text/html": [
       "<div>\n",
       "<style scoped>\n",
       "    .dataframe tbody tr th:only-of-type {\n",
       "        vertical-align: middle;\n",
       "    }\n",
       "\n",
       "    .dataframe tbody tr th {\n",
       "        vertical-align: top;\n",
       "    }\n",
       "\n",
       "    .dataframe thead th {\n",
       "        text-align: right;\n",
       "    }\n",
       "</style>\n",
       "<table border=\"1\" class=\"dataframe\">\n",
       "  <thead>\n",
       "    <tr style=\"text-align: right;\">\n",
       "      <th></th>\n",
       "      <th>index</th>\n",
       "      <th>Temperatur</th>\n",
       "      <th>Luftfeuchtigkeit</th>\n",
       "      <th>CO2</th>\n",
       "      <th>Wassergehalt</th>\n",
       "      <th>Anwesenheit</th>\n",
       "    </tr>\n",
       "  </thead>\n",
       "  <tbody>\n",
       "    <tr>\n",
       "      <th>count</th>\n",
       "      <td>14241.000000</td>\n",
       "      <td>14236.000000</td>\n",
       "      <td>14234.000000</td>\n",
       "      <td>14237.000000</td>\n",
       "      <td>14241.000000</td>\n",
       "      <td>14241.000000</td>\n",
       "    </tr>\n",
       "    <tr>\n",
       "      <th>mean</th>\n",
       "      <td>3017.740117</td>\n",
       "      <td>21.005526</td>\n",
       "      <td>25.941076</td>\n",
       "      <td>628.058885</td>\n",
       "      <td>0.003995</td>\n",
       "      <td>0.256513</td>\n",
       "    </tr>\n",
       "    <tr>\n",
       "      <th>std</th>\n",
       "      <td>2235.616814</td>\n",
       "      <td>1.148923</td>\n",
       "      <td>4.581677</td>\n",
       "      <td>279.339892</td>\n",
       "      <td>0.000754</td>\n",
       "      <td>0.436724</td>\n",
       "    </tr>\n",
       "    <tr>\n",
       "      <th>min</th>\n",
       "      <td>1.000000</td>\n",
       "      <td>19.000000</td>\n",
       "      <td>16.745000</td>\n",
       "      <td>412.750000</td>\n",
       "      <td>0.002674</td>\n",
       "      <td>0.000000</td>\n",
       "    </tr>\n",
       "    <tr>\n",
       "      <th>25%</th>\n",
       "      <td>1234.000000</td>\n",
       "      <td>20.290000</td>\n",
       "      <td>22.675000</td>\n",
       "      <td>446.000000</td>\n",
       "      <td>0.003441</td>\n",
       "      <td>0.000000</td>\n",
       "    </tr>\n",
       "    <tr>\n",
       "      <th>50%</th>\n",
       "      <td>2420.000000</td>\n",
       "      <td>20.835000</td>\n",
       "      <td>25.726250</td>\n",
       "      <td>512.000000</td>\n",
       "      <td>0.003918</td>\n",
       "      <td>0.000000</td>\n",
       "    </tr>\n",
       "    <tr>\n",
       "      <th>75%</th>\n",
       "      <td>4583.000000</td>\n",
       "      <td>21.700000</td>\n",
       "      <td>28.650000</td>\n",
       "      <td>694.750000</td>\n",
       "      <td>0.004524</td>\n",
       "      <td>1.000000</td>\n",
       "    </tr>\n",
       "    <tr>\n",
       "      <th>max</th>\n",
       "      <td>8143.000000</td>\n",
       "      <td>24.408333</td>\n",
       "      <td>39.117500</td>\n",
       "      <td>2028.500000</td>\n",
       "      <td>0.006476</td>\n",
       "      <td>1.000000</td>\n",
       "    </tr>\n",
       "  </tbody>\n",
       "</table>\n",
       "</div>"
      ],
      "text/plain": [
       "              index    Temperatur  Luftfeuchtigkeit           CO2  \\\n",
       "count  14241.000000  14236.000000      14234.000000  14237.000000   \n",
       "mean    3017.740117     21.005526         25.941076    628.058885   \n",
       "std     2235.616814      1.148923          4.581677    279.339892   \n",
       "min        1.000000     19.000000         16.745000    412.750000   \n",
       "25%     1234.000000     20.290000         22.675000    446.000000   \n",
       "50%     2420.000000     20.835000         25.726250    512.000000   \n",
       "75%     4583.000000     21.700000         28.650000    694.750000   \n",
       "max     8143.000000     24.408333         39.117500   2028.500000   \n",
       "\n",
       "       Wassergehalt   Anwesenheit  \n",
       "count  14241.000000  14241.000000  \n",
       "mean       0.003995      0.256513  \n",
       "std        0.000754      0.436724  \n",
       "min        0.002674      0.000000  \n",
       "25%        0.003441      0.000000  \n",
       "50%        0.003918      0.000000  \n",
       "75%        0.004524      1.000000  \n",
       "max        0.006476      1.000000  "
      ]
     },
     "execution_count": 125,
     "metadata": {},
     "output_type": "execute_result"
    }
   ],
   "source": [
    "raw.describe()"
   ]
  },
  {
   "cell_type": "code",
   "execution_count": 126,
   "metadata": {},
   "outputs": [
    {
     "data": {
      "text/plain": [
       "index               0\n",
       "Datum               0\n",
       "Temperatur          5\n",
       "Luftfeuchtigkeit    7\n",
       "CO2                 4\n",
       "Wassergehalt        0\n",
       "Anwesenheit         0\n",
       "dtype: int64"
      ]
     },
     "execution_count": 126,
     "metadata": {},
     "output_type": "execute_result"
    }
   ],
   "source": [
    "raw.isna().sum()"
   ]
  },
  {
   "cell_type": "code",
   "execution_count": 127,
   "metadata": {},
   "outputs": [
    {
     "data": {
      "text/html": [
       "<div>\n",
       "<style scoped>\n",
       "    .dataframe tbody tr th:only-of-type {\n",
       "        vertical-align: middle;\n",
       "    }\n",
       "\n",
       "    .dataframe tbody tr th {\n",
       "        vertical-align: top;\n",
       "    }\n",
       "\n",
       "    .dataframe thead th {\n",
       "        text-align: right;\n",
       "    }\n",
       "</style>\n",
       "<table border=\"1\" class=\"dataframe\">\n",
       "  <thead>\n",
       "    <tr style=\"text-align: right;\">\n",
       "      <th></th>\n",
       "      <th>Datum</th>\n",
       "      <th>Temperatur</th>\n",
       "      <th>Luftfeuchtigkeit</th>\n",
       "      <th>CO2</th>\n",
       "      <th>Wassergehalt</th>\n",
       "      <th>Anwesenheit</th>\n",
       "    </tr>\n",
       "  </thead>\n",
       "  <tbody>\n",
       "    <tr>\n",
       "      <th>0</th>\n",
       "      <td>2017-01-25 17:51:00</td>\n",
       "      <td>23.18</td>\n",
       "      <td>27.2720</td>\n",
       "      <td>721.25</td>\n",
       "      <td>0.004793</td>\n",
       "      <td>1.0</td>\n",
       "    </tr>\n",
       "    <tr>\n",
       "      <th>1</th>\n",
       "      <td>2017-01-25 17:51:59</td>\n",
       "      <td>23.15</td>\n",
       "      <td>27.2675</td>\n",
       "      <td>714.00</td>\n",
       "      <td>0.004783</td>\n",
       "      <td>1.0</td>\n",
       "    </tr>\n",
       "    <tr>\n",
       "      <th>2</th>\n",
       "      <td>2017-01-25 17:53:00</td>\n",
       "      <td>23.15</td>\n",
       "      <td>27.2450</td>\n",
       "      <td>713.50</td>\n",
       "      <td>0.004779</td>\n",
       "      <td>1.0</td>\n",
       "    </tr>\n",
       "    <tr>\n",
       "      <th>3</th>\n",
       "      <td>2017-01-25 17:54:00</td>\n",
       "      <td>23.15</td>\n",
       "      <td>27.2000</td>\n",
       "      <td>708.25</td>\n",
       "      <td>0.004772</td>\n",
       "      <td>1.0</td>\n",
       "    </tr>\n",
       "    <tr>\n",
       "      <th>4</th>\n",
       "      <td>2017-01-25 17:55:00</td>\n",
       "      <td>23.10</td>\n",
       "      <td>27.2000</td>\n",
       "      <td>704.50</td>\n",
       "      <td>0.004757</td>\n",
       "      <td>1.0</td>\n",
       "    </tr>\n",
       "    <tr>\n",
       "      <th>...</th>\n",
       "      <td>...</td>\n",
       "      <td>...</td>\n",
       "      <td>...</td>\n",
       "      <td>...</td>\n",
       "      <td>...</td>\n",
       "      <td>...</td>\n",
       "    </tr>\n",
       "    <tr>\n",
       "      <th>14236</th>\n",
       "      <td>2017-02-03 23:55:59</td>\n",
       "      <td>20.10</td>\n",
       "      <td>33.5900</td>\n",
       "      <td>505.00</td>\n",
       "      <td>0.004890</td>\n",
       "      <td>0.0</td>\n",
       "    </tr>\n",
       "    <tr>\n",
       "      <th>14237</th>\n",
       "      <td>2017-02-03 23:57:00</td>\n",
       "      <td>20.00</td>\n",
       "      <td>33.5000</td>\n",
       "      <td>504.50</td>\n",
       "      <td>0.004847</td>\n",
       "      <td>0.0</td>\n",
       "    </tr>\n",
       "    <tr>\n",
       "      <th>14238</th>\n",
       "      <td>2017-02-03 23:57:59</td>\n",
       "      <td>20.00</td>\n",
       "      <td>33.5000</td>\n",
       "      <td>500.50</td>\n",
       "      <td>0.004847</td>\n",
       "      <td>0.0</td>\n",
       "    </tr>\n",
       "    <tr>\n",
       "      <th>14239</th>\n",
       "      <td>2017-02-03 23:58:59</td>\n",
       "      <td>20.00</td>\n",
       "      <td>33.5000</td>\n",
       "      <td>502.00</td>\n",
       "      <td>0.004847</td>\n",
       "      <td>0.0</td>\n",
       "    </tr>\n",
       "    <tr>\n",
       "      <th>14240</th>\n",
       "      <td>2017-02-04 00:00:00</td>\n",
       "      <td>20.10</td>\n",
       "      <td>33.5900</td>\n",
       "      <td>505.50</td>\n",
       "      <td>0.004890</td>\n",
       "      <td>0.0</td>\n",
       "    </tr>\n",
       "  </tbody>\n",
       "</table>\n",
       "<p>14241 rows × 6 columns</p>\n",
       "</div>"
      ],
      "text/plain": [
       "                     Datum  Temperatur  Luftfeuchtigkeit     CO2  \\\n",
       "0      2017-01-25 17:51:00       23.18           27.2720  721.25   \n",
       "1      2017-01-25 17:51:59       23.15           27.2675  714.00   \n",
       "2      2017-01-25 17:53:00       23.15           27.2450  713.50   \n",
       "3      2017-01-25 17:54:00       23.15           27.2000  708.25   \n",
       "4      2017-01-25 17:55:00       23.10           27.2000  704.50   \n",
       "...                    ...         ...               ...     ...   \n",
       "14236  2017-02-03 23:55:59       20.10           33.5900  505.00   \n",
       "14237  2017-02-03 23:57:00       20.00           33.5000  504.50   \n",
       "14238  2017-02-03 23:57:59       20.00           33.5000  500.50   \n",
       "14239  2017-02-03 23:58:59       20.00           33.5000  502.00   \n",
       "14240  2017-02-04 00:00:00       20.10           33.5900  505.50   \n",
       "\n",
       "       Wassergehalt  Anwesenheit  \n",
       "0          0.004793          1.0  \n",
       "1          0.004783          1.0  \n",
       "2          0.004779          1.0  \n",
       "3          0.004772          1.0  \n",
       "4          0.004757          1.0  \n",
       "...             ...          ...  \n",
       "14236      0.004890          0.0  \n",
       "14237      0.004847          0.0  \n",
       "14238      0.004847          0.0  \n",
       "14239      0.004847          0.0  \n",
       "14240      0.004890          0.0  \n",
       "\n",
       "[14241 rows x 6 columns]"
      ]
     },
     "execution_count": 127,
     "metadata": {},
     "output_type": "execute_result"
    }
   ],
   "source": [
    "# Von Torben übernommeses Cleaning der fehlenden Werte\n",
    "lead = raw.loc[:,:'Datum']\n",
    "tail = raw.loc[:,'Temperatur':]\n",
    "imp = SimpleImputer(missing_values=np.nan, strategy='mean')\n",
    "imp.fit(tail)\n",
    "SimpleImputer()\n",
    "tail = pd.DataFrame(imp.transform(tail), columns = tail.columns)\n",
    "tail = tail.iloc[:14241,:]\n",
    "raw = pd.concat([lead, tail],axis=1)\n",
    "raw.drop(['index'], inplace=True, axis=1)\n",
    "raw"
   ]
  },
  {
   "cell_type": "code",
   "execution_count": 128,
   "metadata": {},
   "outputs": [
    {
     "data": {
      "text/html": [
       "<style type=\"text/css\">\n",
       "#T_37e41_row0_col0, #T_37e41_row1_col1, #T_37e41_row2_col2, #T_37e41_row3_col3, #T_37e41_row4_col4 {\n",
       "  background-color: #b40426;\n",
       "  color: #f1f1f1;\n",
       "}\n",
       "#T_37e41_row0_col1, #T_37e41_row0_col3, #T_37e41_row1_col0, #T_37e41_row1_col2, #T_37e41_row1_col4 {\n",
       "  background-color: #3b4cc0;\n",
       "  color: #f1f1f1;\n",
       "}\n",
       "#T_37e41_row0_col2 {\n",
       "  background-color: #85a8fc;\n",
       "  color: #f1f1f1;\n",
       "}\n",
       "#T_37e41_row0_col4 {\n",
       "  background-color: #d1dae9;\n",
       "  color: #000000;\n",
       "}\n",
       "#T_37e41_row1_col3 {\n",
       "  background-color: #dc5d4a;\n",
       "  color: #f1f1f1;\n",
       "}\n",
       "#T_37e41_row2_col0 {\n",
       "  background-color: #ecd3c5;\n",
       "  color: #000000;\n",
       "}\n",
       "#T_37e41_row2_col1 {\n",
       "  background-color: #cbd8ee;\n",
       "  color: #000000;\n",
       "}\n",
       "#T_37e41_row2_col3 {\n",
       "  background-color: #c4d5f3;\n",
       "  color: #000000;\n",
       "}\n",
       "#T_37e41_row2_col4 {\n",
       "  background-color: #f0cdbb;\n",
       "  color: #000000;\n",
       "}\n",
       "#T_37e41_row3_col0 {\n",
       "  background-color: #b7cff9;\n",
       "  color: #000000;\n",
       "}\n",
       "#T_37e41_row3_col1 {\n",
       "  background-color: #cf453c;\n",
       "  color: #f1f1f1;\n",
       "}\n",
       "#T_37e41_row3_col2 {\n",
       "  background-color: #aec9fc;\n",
       "  color: #000000;\n",
       "}\n",
       "#T_37e41_row3_col4 {\n",
       "  background-color: #8fb1fe;\n",
       "  color: #000000;\n",
       "}\n",
       "#T_37e41_row4_col0 {\n",
       "  background-color: #edd2c3;\n",
       "  color: #000000;\n",
       "}\n",
       "#T_37e41_row4_col1 {\n",
       "  background-color: #7da0f9;\n",
       "  color: #f1f1f1;\n",
       "}\n",
       "#T_37e41_row4_col2 {\n",
       "  background-color: #c7d7f0;\n",
       "  color: #000000;\n",
       "}\n",
       "#T_37e41_row4_col3 {\n",
       "  background-color: #4c66d6;\n",
       "  color: #f1f1f1;\n",
       "}\n",
       "</style>\n",
       "<table id=\"T_37e41_\">\n",
       "  <thead>\n",
       "    <tr>\n",
       "      <th class=\"blank level0\" >&nbsp;</th>\n",
       "      <th class=\"col_heading level0 col0\" >Temperatur</th>\n",
       "      <th class=\"col_heading level0 col1\" >Luftfeuchtigkeit</th>\n",
       "      <th class=\"col_heading level0 col2\" >CO2</th>\n",
       "      <th class=\"col_heading level0 col3\" >Wassergehalt</th>\n",
       "      <th class=\"col_heading level0 col4\" >Anwesenheit</th>\n",
       "    </tr>\n",
       "  </thead>\n",
       "  <tbody>\n",
       "    <tr>\n",
       "      <th id=\"T_37e41_level0_row0\" class=\"row_heading level0 row0\" >Temperatur</th>\n",
       "      <td id=\"T_37e41_row0_col0\" class=\"data row0 col0\" >1.000000</td>\n",
       "      <td id=\"T_37e41_row0_col1\" class=\"data row0 col1\" >-0.042913</td>\n",
       "      <td id=\"T_37e41_row0_col2\" class=\"data row0 col2\" >0.545736</td>\n",
       "      <td id=\"T_37e41_row0_col3\" class=\"data row0 col3\" >0.345093</td>\n",
       "      <td id=\"T_37e41_row0_col4\" class=\"data row0 col4\" >0.548405</td>\n",
       "    </tr>\n",
       "    <tr>\n",
       "      <th id=\"T_37e41_level0_row1\" class=\"row_heading level0 row1\" >Luftfeuchtigkeit</th>\n",
       "      <td id=\"T_37e41_row1_col0\" class=\"data row1 col0\" >-0.042913</td>\n",
       "      <td id=\"T_37e41_row1_col1\" class=\"data row1 col1\" >1.000000</td>\n",
       "      <td id=\"T_37e41_row1_col2\" class=\"data row1 col2\" >0.410889</td>\n",
       "      <td id=\"T_37e41_row1_col3\" class=\"data row1 col3\" >0.920885</td>\n",
       "      <td id=\"T_37e41_row1_col4\" class=\"data row1 col4\" >0.172835</td>\n",
       "    </tr>\n",
       "    <tr>\n",
       "      <th id=\"T_37e41_level0_row2\" class=\"row_heading level0 row2\" >CO2</th>\n",
       "      <td id=\"T_37e41_row2_col0\" class=\"data row2 col0\" >0.545736</td>\n",
       "      <td id=\"T_37e41_row2_col1\" class=\"data row2 col1\" >0.410889</td>\n",
       "      <td id=\"T_37e41_row2_col2\" class=\"data row2 col2\" >1.000000</td>\n",
       "      <td id=\"T_37e41_row2_col3\" class=\"data row2 col3\" >0.614993</td>\n",
       "      <td id=\"T_37e41_row2_col4\" class=\"data row2 col4\" >0.660436</td>\n",
       "    </tr>\n",
       "    <tr>\n",
       "      <th id=\"T_37e41_level0_row3\" class=\"row_heading level0 row3\" >Wassergehalt</th>\n",
       "      <td id=\"T_37e41_row3_col0\" class=\"data row3 col0\" >0.345093</td>\n",
       "      <td id=\"T_37e41_row3_col1\" class=\"data row3 col1\" >0.920885</td>\n",
       "      <td id=\"T_37e41_row3_col2\" class=\"data row3 col2\" >0.614993</td>\n",
       "      <td id=\"T_37e41_row3_col3\" class=\"data row3 col3\" >1.000000</td>\n",
       "      <td id=\"T_37e41_row3_col4\" class=\"data row3 col4\" >0.384524</td>\n",
       "    </tr>\n",
       "    <tr>\n",
       "      <th id=\"T_37e41_level0_row4\" class=\"row_heading level0 row4\" >Anwesenheit</th>\n",
       "      <td id=\"T_37e41_row4_col0\" class=\"data row4 col0\" >0.548405</td>\n",
       "      <td id=\"T_37e41_row4_col1\" class=\"data row4 col1\" >0.172835</td>\n",
       "      <td id=\"T_37e41_row4_col2\" class=\"data row4 col2\" >0.660436</td>\n",
       "      <td id=\"T_37e41_row4_col3\" class=\"data row4 col3\" >0.384524</td>\n",
       "      <td id=\"T_37e41_row4_col4\" class=\"data row4 col4\" >1.000000</td>\n",
       "    </tr>\n",
       "  </tbody>\n",
       "</table>\n"
      ],
      "text/plain": [
       "<pandas.io.formats.style.Styler at 0x2450d37f160>"
      ]
     },
     "execution_count": 128,
     "metadata": {},
     "output_type": "execute_result"
    }
   ],
   "source": [
    "corr = raw.corr()\n",
    "corr.style.background_gradient(cmap='coolwarm')\n",
    "# Interessante Korrelation zwischen CO2 & Anwesenheit, Temperatur & Anwesenheit, Temperatur & CO2"
   ]
  },
  {
   "cell_type": "code",
   "execution_count": 129,
   "metadata": {},
   "outputs": [
    {
     "data": {
      "text/plain": [
       "<AxesSubplot:xlabel='Wassergehalt', ylabel='Anwesenheit'>"
      ]
     },
     "execution_count": 129,
     "metadata": {},
     "output_type": "execute_result"
    },
    {
     "data": {
      "image/png": "[encoded data removed]",
      "text/plain": [
       "<Figure size 432x288 with 4 Axes>"
      ]
     },
     "metadata": {
      "needs_background": "light"
     },
     "output_type": "display_data"
    }
   ],
   "source": [
    "fig, axes = plt.subplots(2, 2)\n",
    "fig.suptitle('Grafischer Überblick über die Datenlage:')\n",
    "sns.scatterplot(data=raw, x='Temperatur', y='Anwesenheit', ax=axes[0,0])\n",
    "sns.scatterplot(data=raw, x='Luftfeuchtigkeit', y='Anwesenheit', ax=axes[0,1])\n",
    "sns.scatterplot(data=raw, x='CO2', y='Anwesenheit', ax=axes[1,0])\n",
    "sns.scatterplot(data=raw, x='Wassergehalt', y='Anwesenheit', ax=axes[1,1])"
   ]
  },
  {
   "cell_type": "code",
   "execution_count": 130,
   "metadata": {},
   "outputs": [
    {
     "data": {
      "text/plain": [
       "Datum                object\n",
       "Temperatur          float64\n",
       "Luftfeuchtigkeit    float64\n",
       "CO2                 float64\n",
       "Wassergehalt        float64\n",
       "Anwesenheit         float64\n",
       "dtype: object"
      ]
     },
     "execution_count": 130,
     "metadata": {},
     "output_type": "execute_result"
    }
   ],
   "source": [
    "raw.dtypes"
   ]
  },
  {
   "cell_type": "code",
   "execution_count": 131,
   "metadata": {},
   "outputs": [],
   "source": [
    "# Problem für spätere logistische Regression: datetime oder object erzeugt \" TypeError: float() argument must be a string or a number, not 'Timestamp' \"\n",
    "# Lösung: https://stackoverflow.com/questions/16453644/regression-with-date-variable-using-scikit-learn\n",
    "raw['Datum'] = raw.Datum.astype('datetime64[ns]')\n",
    "\n",
    "raw['Jahr'] = raw['Datum'].dt.year\n",
    "raw['Monat'] = raw['Datum'].dt.month\n",
    "raw['Tag'] = raw['Datum'].dt.day\n",
    "raw['Stunde'] = raw['Datum'].dt.hour\n",
    "raw['Minute'] = raw['Datum'].dt.minute\n",
    "raw['Sekunde'] = raw['Datum'].dt.second\n",
    "raw['Wochentag'] = raw['Datum'].dt.strftime(\"%A\")\n",
    "\n",
    "raw.drop(['Datum'], inplace=True, axis=1)\n",
    "\n",
    "# One Hot Encoding, um kein Object type in den Daten zu haben\n",
    "Wochentag = pd.get_dummies(raw[['Wochentag']], columns=['Wochentag'])\n",
    "raw = pd.concat([raw, Wochentag], axis=1) \n",
    "raw.drop(['Wochentag'], inplace=True, axis=1)\n",
    "\n",
    "df = raw"
   ]
  },
  {
   "cell_type": "markdown",
   "metadata": {},
   "source": [
    "## 2) Logical Regression"
   ]
  },
  {
   "cell_type": "code",
   "execution_count": 134,
   "metadata": {},
   "outputs": [
    {
     "data": {
      "text/plain": [
       "((11392, 17), (2849, 17), (11392,), (2849,))"
      ]
     },
     "execution_count": 134,
     "metadata": {},
     "output_type": "execute_result"
    }
   ],
   "source": [
    "X = df.drop(\"Anwesenheit\",axis=1).values\n",
    "y = df[\"Anwesenheit\"].values\n",
    "\n",
    "X_train, X_test, y_train, y_test = train_test_split(X, y, test_size = 0.2, random_state=42)\n",
    "\n",
    "X_train.shape, X_test.shape, y_train.shape, y_test.shape"
   ]
  },
  {
   "cell_type": "code",
   "execution_count": 135,
   "metadata": {},
   "outputs": [],
   "source": [
    "logreg = LogisticRegressionCV(cv=10, random_state=42, max_iter=4000).fit(X, y) # Kreuzvalidierung\n",
    "\n",
    "y_pred = logreg.predict(X_test)\n",
    "y_proba = logreg.predict_log_proba(X_test)"
   ]
  },
  {
   "cell_type": "code",
   "execution_count": 136,
   "metadata": {},
   "outputs": [
    {
     "data": {
      "text/plain": [
       "array([[2010,  106],\n",
       "       [ 195,  538]], dtype=int64)"
      ]
     },
     "execution_count": 136,
     "metadata": {},
     "output_type": "execute_result"
    }
   ],
   "source": [
    "confusion_matrix(y_test, y_pred)"
   ]
  },
  {
   "cell_type": "code",
   "execution_count": 137,
   "metadata": {},
   "outputs": [
    {
     "data": {
      "text/html": [
       "<div>\n",
       "<style scoped>\n",
       "    .dataframe tbody tr th:only-of-type {\n",
       "        vertical-align: middle;\n",
       "    }\n",
       "\n",
       "    .dataframe tbody tr th {\n",
       "        vertical-align: top;\n",
       "    }\n",
       "\n",
       "    .dataframe thead th {\n",
       "        text-align: right;\n",
       "    }\n",
       "</style>\n",
       "<table border=\"1\" class=\"dataframe\">\n",
       "  <thead>\n",
       "    <tr style=\"text-align: right;\">\n",
       "      <th>actual</th>\n",
       "      <th>1.0</th>\n",
       "      <th>0.0</th>\n",
       "    </tr>\n",
       "    <tr>\n",
       "      <th>predicted</th>\n",
       "      <th></th>\n",
       "      <th></th>\n",
       "    </tr>\n",
       "  </thead>\n",
       "  <tbody>\n",
       "    <tr>\n",
       "      <th>1.0</th>\n",
       "      <td>538</td>\n",
       "      <td>106</td>\n",
       "    </tr>\n",
       "    <tr>\n",
       "      <th>0.0</th>\n",
       "      <td>195</td>\n",
       "      <td>2010</td>\n",
       "    </tr>\n",
       "  </tbody>\n",
       "</table>\n",
       "</div>"
      ],
      "text/plain": [
       "actual     1.0   0.0\n",
       "predicted           \n",
       "1.0        538   106\n",
       "0.0        195  2010"
      ]
     },
     "execution_count": 137,
     "metadata": {},
     "output_type": "execute_result"
    }
   ],
   "source": [
    "kreuztabelle = pd.crosstab(index=y_pred, columns=y_test, rownames=[\"predicted\"], colnames=[\"actual\"])\n",
    "TP = kreuztabelle.values[1,1]\n",
    "FP = kreuztabelle.values[1,0]\n",
    "FN = kreuztabelle.values[0,1]\n",
    "TN = kreuztabelle.values[0,0]\n",
    "kreuztabelle.sort_index(axis=0, ascending=False).sort_index(axis=1, ascending=False)"
   ]
  },
  {
   "cell_type": "code",
   "execution_count": 138,
   "metadata": {},
   "outputs": [
    {
     "name": "stdout",
     "output_type": "stream",
     "text": [
      "Precision: 0.8354037267080745\n",
      "Accuracy Score: 0.5360824742268041\n",
      "F1: 0.7814088598402325\n",
      "Recall (TPR): 0.7339699863574352\n",
      "FPR: 0.0500945179584121\n"
     ]
    }
   ],
   "source": [
    "precision = TP/(TP+FP)\n",
    "TPR = TP/(TP+FN) # Recall\n",
    "accuracy = (TP+TN)/(TP+TN+FN+TN)\n",
    "F1 = 2*(precision*TPR/(precision+TPR))\n",
    "FPR = FP/(FP+TN)\n",
    "\n",
    "# Precision: Welcher Anteil der als 1 klassifizierten Daten ist auch mit 1 gelabelt?\n",
    "print(f\"Precision: {precision}\")\n",
    "# Accuracy: Anteil der korrekten (0 oder 1 Vorhersagen) an allen Vorhersagen\n",
    "print(f\"Accuracy Score: {accuracy}\")\n",
    "# F1:was macht ein gutes Modell aus? Sowohl eine hohe Trefferquote haben als auch präzise\n",
    "print(f\"F1: {F1}\")\n",
    "# Recall: Welchen Anteil der mit 1 gelabelten Daten findet der Klassifikator?\n",
    "print(f\"Recall (TPR): {TPR}\")\n",
    "\n",
    "print(f\"FPR: {FPR}\")"
   ]
  },
  {
   "cell_type": "code",
   "execution_count": 142,
   "metadata": {},
   "outputs": [
    {
     "data": {
      "image/png": "[encoded data removed]",
      "text/plain": [
       "<Figure size 432x288 with 1 Axes>"
      ]
     },
     "metadata": {
      "needs_background": "light"
     },
     "output_type": "display_data"
    }
   ],
   "source": [
    "yhat = y_proba[:, 1]\n",
    "# ROC Kurve berechnen\n",
    "fpr, tpr, thresholds = roc_curve(y_test, yhat)\n",
    "# plot the roc curve for the model\n",
    "plt.plot([0,1], [0,1], linestyle='--', label='No Skill')\n",
    "plt.plot(fpr, tpr, marker='.', label='Logistic')\n",
    "\n",
    "plt.xlabel('False Positive Rate')\n",
    "plt.ylabel('True Positive Rate')\n",
    "plt.legend()\n",
    "\n",
    "plt.show()"
   ]
  }
 ],
 "metadata": {
  "interpreter": {
   "hash": "674d3a19116d6a59a44fdbef2037854973edc1d887f682cb56f7e111f198e9e0"
  },
  "kernelspec": {
   "display_name": "Python 3.8.12 64-bit ('ml': conda)",
   "language": "python",
   "name": "python3"
  },
  "language_info": {
   "codemirror_mode": {
    "name": "ipython",
    "version": 3
   },
   "file_extension": ".py",
   "mimetype": "text/x-python",
   "name": "python",
   "nbconvert_exporter": "python",
   "pygments_lexer": "ipython3",
   "version": "3.8.12"
  },
  "orig_nbformat": 4
 },
 "nbformat": 4,
 "nbformat_minor": 2
}
